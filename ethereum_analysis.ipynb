{
 "cells": [
  {
   "cell_type": "markdown",
   "id": "4d97b5b7-08cb-4ff5-b307-c5da6a0026e5",
   "metadata": {},
   "source": [
    "#### **1. Import all neccessery libraries.**"
   ]
  },
  {
   "cell_type": "code",
   "execution_count": 1,
   "id": "6341ccc2-c404-45a0-a833-4ae8cd827a87",
   "metadata": {
    "execution": {
     "iopub.execute_input": "2025-01-04T12:44:39.488967Z",
     "iopub.status.busy": "2025-01-04T12:44:39.488585Z",
     "iopub.status.idle": "2025-01-04T12:44:46.821325Z",
     "shell.execute_reply": "2025-01-04T12:44:46.820338Z",
     "shell.execute_reply.started": "2025-01-04T12:44:39.488932Z"
    }
   },
   "outputs": [],
   "source": [
    "from google.cloud import bigquery\n",
    "import pandas as pd\n",
    "import os\n",
    "import seaborn as sns\n",
    "import matplotlib.pyplot as plt\n",
    "import time\n",
    "import requests\n",
    "import json\n",
    "import calendar"
   ]
  },
  {
   "cell_type": "markdown",
   "id": "ea4745ca-c805-4ac3-9dbe-b99a41e78855",
   "metadata": {},
   "source": [
    "#### **2. Get data.**\n",
    "\n",
    "    From GoogleCloud and create a Data Frame 'df'.\n",
    "    This Data Set consists of first new wallets's outgoing transactions in 2023.\n",
    "    There is a sample which was chosen like 20000 fist raws from 1% sample of table `all_new_wallets_2023`\n",
    "\n",
    "NOTE:\n",
    "\n",
    "    'first_transactions_sample_with_input' was previously created with SQL-queries on BigQuery.\n",
    "    All queries are saved in query_ethereum_project.txt"
   ]
  },
  {
   "cell_type": "code",
   "execution_count": 2,
   "id": "3193b232-9d6e-40c8-b2aa-c0416053265c",
   "metadata": {
    "execution": {
     "iopub.execute_input": "2025-01-04T12:44:48.255330Z",
     "iopub.status.busy": "2025-01-04T12:44:48.254178Z",
     "iopub.status.idle": "2025-01-04T12:44:48.260313Z",
     "shell.execute_reply": "2025-01-04T12:44:48.259254Z",
     "shell.execute_reply.started": "2025-01-04T12:44:48.255282Z"
    }
   },
   "outputs": [],
   "source": [
    "os.environ['GOOGLE_APPLICATION_CREDENTIALS'] = 'my-project-444222-1be5aecf7dbb.json'"
   ]
  },
  {
   "cell_type": "code",
   "execution_count": 3,
   "id": "ce58c1b4-2133-4e83-87b5-6ed016eb75d6",
   "metadata": {
    "execution": {
     "iopub.execute_input": "2025-01-04T12:44:48.774625Z",
     "iopub.status.busy": "2025-01-04T12:44:48.774192Z",
     "iopub.status.idle": "2025-01-04T12:44:52.028964Z",
     "shell.execute_reply": "2025-01-04T12:44:52.028335Z",
     "shell.execute_reply.started": "2025-01-04T12:44:48.774591Z"
    }
   },
   "outputs": [],
   "source": [
    "client = bigquery.Client()\n",
    "\n",
    "query = \"\"\"\n",
    "SELECT *\n",
    "FROM `my-project-444222.wallets_2023.first_transactions_sample_with_input`\n",
    "\"\"\"\n",
    "df = client.query(query).to_dataframe()"
   ]
  },
  {
   "cell_type": "markdown",
   "id": "39c23abb-db32-435c-9fea-d0496f9ffde7",
   "metadata": {},
   "source": [
    "#### **3. Check DataFrame.**"
   ]
  },
  {
   "cell_type": "code",
   "execution_count": 4,
   "id": "e03d38d9-ad31-4d58-adca-c829a33cb77d",
   "metadata": {
    "execution": {
     "iopub.execute_input": "2025-01-04T12:44:53.388955Z",
     "iopub.status.busy": "2025-01-04T12:44:53.388441Z",
     "iopub.status.idle": "2025-01-04T12:44:53.410257Z",
     "shell.execute_reply": "2025-01-04T12:44:53.409415Z",
     "shell.execute_reply.started": "2025-01-04T12:44:53.388919Z"
    }
   },
   "outputs": [
    {
     "data": {
      "text/html": [
       "<div>\n",
       "<style scoped>\n",
       "    .dataframe tbody tr th:only-of-type {\n",
       "        vertical-align: middle;\n",
       "    }\n",
       "\n",
       "    .dataframe tbody tr th {\n",
       "        vertical-align: top;\n",
       "    }\n",
       "\n",
       "    .dataframe thead th {\n",
       "        text-align: right;\n",
       "    }\n",
       "</style>\n",
       "<table border=\"1\" class=\"dataframe\">\n",
       "  <thead>\n",
       "    <tr style=\"text-align: right;\">\n",
       "      <th></th>\n",
       "      <th>from_address</th>\n",
       "      <th>first_transaction_time</th>\n",
       "      <th>to_address</th>\n",
       "      <th>value</th>\n",
       "      <th>input</th>\n",
       "      <th>gas</th>\n",
       "      <th>gas_price</th>\n",
       "      <th>transaction_type</th>\n",
       "      <th>receipt_gas_used</th>\n",
       "    </tr>\n",
       "  </thead>\n",
       "  <tbody>\n",
       "    <tr>\n",
       "      <th>0</th>\n",
       "      <td>0x6475e88ef19683a1345866398f45ab2549dbd621</td>\n",
       "      <td>2023-01-20 23:53:23+00:00</td>\n",
       "      <td>0xa0b86991c6218b36c1d19d4a2e9eb0ce3606eb48</td>\n",
       "      <td>0E-9</td>\n",
       "      <td>0xa9059cbb000000000000000000000000bb3fd383d1c5...</td>\n",
       "      <td>63429</td>\n",
       "      <td>25123969051</td>\n",
       "      <td>0</td>\n",
       "      <td>43725</td>\n",
       "    </tr>\n",
       "    <tr>\n",
       "      <th>1</th>\n",
       "      <td>0x49a64a902c99bf44e159d17a8b334d0c054dc612</td>\n",
       "      <td>2023-11-04 02:29:35+00:00</td>\n",
       "      <td>0xdef1c0ded9bec7f1a1670819833240f027b25eff</td>\n",
       "      <td>2718019107674500.000000000</td>\n",
       "      <td>0x3598d8ab000000000000000000000000000000000000...</td>\n",
       "      <td>171677</td>\n",
       "      <td>13626377233</td>\n",
       "      <td>2</td>\n",
       "      <td>140381</td>\n",
       "    </tr>\n",
       "    <tr>\n",
       "      <th>2</th>\n",
       "      <td>0xa6481f04f959be573f85bafa962dd5716c75036f</td>\n",
       "      <td>2023-02-13 07:51:59+00:00</td>\n",
       "      <td>0x7fc66500c84a76ad7e9c93437bfc5ac33e2ddae9</td>\n",
       "      <td>0E-9</td>\n",
       "      <td>0xa9059cbb000000000000000000000000c610ff51929c...</td>\n",
       "      <td>316657</td>\n",
       "      <td>14899917470</td>\n",
       "      <td>2</td>\n",
       "      <td>226075</td>\n",
       "    </tr>\n",
       "    <tr>\n",
       "      <th>3</th>\n",
       "      <td>0x8f0ab55f38f530345d271600eb3c0d08c1df19df</td>\n",
       "      <td>2023-06-12 12:18:11+00:00</td>\n",
       "      <td>0x8e16bf47065fe843a82f4399baf5abac4e0822b7</td>\n",
       "      <td>0E-9</td>\n",
       "      <td>0xa9059cbb000000000000000000000000c30badb28e20...</td>\n",
       "      <td>62243</td>\n",
       "      <td>15750000000</td>\n",
       "      <td>0</td>\n",
       "      <td>56963</td>\n",
       "    </tr>\n",
       "    <tr>\n",
       "      <th>4</th>\n",
       "      <td>0x92508951402cf163ace0e23424b1d888e13c093b</td>\n",
       "      <td>2023-09-14 13:06:59+00:00</td>\n",
       "      <td>0xa0b86991c6218b36c1d19d4a2e9eb0ce3606eb48</td>\n",
       "      <td>0E-9</td>\n",
       "      <td>0xa9059cbb0000000000000000000000001689a089aa12...</td>\n",
       "      <td>170000</td>\n",
       "      <td>33000000000</td>\n",
       "      <td>0</td>\n",
       "      <td>43701</td>\n",
       "    </tr>\n",
       "  </tbody>\n",
       "</table>\n",
       "</div>"
      ],
      "text/plain": [
       "                                 from_address    first_transaction_time  \\\n",
       "0  0x6475e88ef19683a1345866398f45ab2549dbd621 2023-01-20 23:53:23+00:00   \n",
       "1  0x49a64a902c99bf44e159d17a8b334d0c054dc612 2023-11-04 02:29:35+00:00   \n",
       "2  0xa6481f04f959be573f85bafa962dd5716c75036f 2023-02-13 07:51:59+00:00   \n",
       "3  0x8f0ab55f38f530345d271600eb3c0d08c1df19df 2023-06-12 12:18:11+00:00   \n",
       "4  0x92508951402cf163ace0e23424b1d888e13c093b 2023-09-14 13:06:59+00:00   \n",
       "\n",
       "                                   to_address                       value  \\\n",
       "0  0xa0b86991c6218b36c1d19d4a2e9eb0ce3606eb48                        0E-9   \n",
       "1  0xdef1c0ded9bec7f1a1670819833240f027b25eff  2718019107674500.000000000   \n",
       "2  0x7fc66500c84a76ad7e9c93437bfc5ac33e2ddae9                        0E-9   \n",
       "3  0x8e16bf47065fe843a82f4399baf5abac4e0822b7                        0E-9   \n",
       "4  0xa0b86991c6218b36c1d19d4a2e9eb0ce3606eb48                        0E-9   \n",
       "\n",
       "                                               input     gas    gas_price  \\\n",
       "0  0xa9059cbb000000000000000000000000bb3fd383d1c5...   63429  25123969051   \n",
       "1  0x3598d8ab000000000000000000000000000000000000...  171677  13626377233   \n",
       "2  0xa9059cbb000000000000000000000000c610ff51929c...  316657  14899917470   \n",
       "3  0xa9059cbb000000000000000000000000c30badb28e20...   62243  15750000000   \n",
       "4  0xa9059cbb0000000000000000000000001689a089aa12...  170000  33000000000   \n",
       "\n",
       "   transaction_type  receipt_gas_used  \n",
       "0                 0             43725  \n",
       "1                 2            140381  \n",
       "2                 2            226075  \n",
       "3                 0             56963  \n",
       "4                 0             43701  "
      ]
     },
     "execution_count": 4,
     "metadata": {},
     "output_type": "execute_result"
    }
   ],
   "source": [
    "df.head(5)"
   ]
  },
  {
   "cell_type": "code",
   "execution_count": 5,
   "id": "73a3b4a7-946a-4f2f-a3ff-f42e5fab3f53",
   "metadata": {
    "execution": {
     "iopub.execute_input": "2025-01-04T12:44:54.345043Z",
     "iopub.status.busy": "2025-01-04T12:44:54.344617Z",
     "iopub.status.idle": "2025-01-04T12:44:54.365577Z",
     "shell.execute_reply": "2025-01-04T12:44:54.364779Z",
     "shell.execute_reply.started": "2025-01-04T12:44:54.345009Z"
    }
   },
   "outputs": [
    {
     "name": "stdout",
     "output_type": "stream",
     "text": [
      "<class 'pandas.core.frame.DataFrame'>\n",
      "RangeIndex: 20000 entries, 0 to 19999\n",
      "Data columns (total 9 columns):\n",
      " #   Column                  Non-Null Count  Dtype              \n",
      "---  ------                  --------------  -----              \n",
      " 0   from_address            20000 non-null  object             \n",
      " 1   first_transaction_time  20000 non-null  datetime64[us, UTC]\n",
      " 2   to_address              19867 non-null  object             \n",
      " 3   value                   20000 non-null  object             \n",
      " 4   input                   20000 non-null  object             \n",
      " 5   gas                     20000 non-null  Int64              \n",
      " 6   gas_price               20000 non-null  Int64              \n",
      " 7   transaction_type        20000 non-null  Int64              \n",
      " 8   receipt_gas_used        20000 non-null  Int64              \n",
      "dtypes: Int64(4), datetime64[us, UTC](1), object(4)\n",
      "memory usage: 1.4+ MB\n"
     ]
    },
    {
     "data": {
      "text/plain": [
       "(None, (20000, 9))"
      ]
     },
     "execution_count": 5,
     "metadata": {},
     "output_type": "execute_result"
    }
   ],
   "source": [
    "df.info(), df.shape"
   ]
  },
  {
   "cell_type": "markdown",
   "id": "c0701f86-41cc-4d5b-ae64-7cf11d6bad1d",
   "metadata": {},
   "source": [
    "**\"to_address - STRING - NULLABLE - Address of the receiver. null when its a contract creation transaction\"** - here is description from origin table `bigquery-public-data.crypto_ethereum.transactions`  \n",
    "It means all addresses ('from_address') with NULL in the column 'to_address' belong to Contracts.  \n",
    "\n",
    "Replace NULL with 'Contract':"
   ]
  },
  {
   "cell_type": "code",
   "execution_count": 6,
   "id": "2f399579-122a-4914-9cd1-ed5164b0f629",
   "metadata": {
    "execution": {
     "iopub.execute_input": "2025-01-04T12:44:56.175092Z",
     "iopub.status.busy": "2025-01-04T12:44:56.174432Z",
     "iopub.status.idle": "2025-01-04T12:44:56.193088Z",
     "shell.execute_reply": "2025-01-04T12:44:56.192301Z",
     "shell.execute_reply.started": "2025-01-04T12:44:56.175053Z"
    }
   },
   "outputs": [],
   "source": [
    "df = df.fillna('Contract')"
   ]
  },
  {
   "cell_type": "markdown",
   "id": "ee869a51-2746-4371-87f0-0dee50524b58",
   "metadata": {},
   "source": [
    "#### **4. Extract Bytes Signatures from Input and Decode Them.**"
   ]
  },
  {
   "cell_type": "markdown",
   "id": "5c3e12ea-568f-41eb-8bfb-906a59b8e2e7",
   "metadata": {},
   "source": [
    "* Bytes Signature  - first 10 symbols of an input. It can be decoded into readable Text Signature with fuction's name\n",
    "* Function - action, wich Smart Contract executes\n",
    "* Smart Contract -\n",
    "* If Signature is 0x it means tranaction doesn’t relate to Smart Contract and it defines as Transfer (between two wallets)"
   ]
  },
  {
   "cell_type": "code",
   "execution_count": 7,
   "id": "e909c03a-998e-441a-84e2-fb31f347b7dc",
   "metadata": {
    "execution": {
     "iopub.execute_input": "2025-01-04T12:45:02.911415Z",
     "iopub.status.busy": "2025-01-04T12:45:02.910787Z",
     "iopub.status.idle": "2025-01-04T12:45:02.926233Z",
     "shell.execute_reply": "2025-01-04T12:45:02.925257Z",
     "shell.execute_reply.started": "2025-01-04T12:45:02.911381Z"
    }
   },
   "outputs": [],
   "source": [
    "df['signature'] = df['input'].str[:10]"
   ]
  },
  {
   "cell_type": "code",
   "execution_count": 9,
   "id": "90e4afe0-1be1-47a0-8613-5c42d55aa453",
   "metadata": {
    "execution": {
     "iopub.execute_input": "2025-01-04T12:45:35.943235Z",
     "iopub.status.busy": "2025-01-04T12:45:35.942774Z",
     "iopub.status.idle": "2025-01-04T12:45:35.954424Z",
     "shell.execute_reply": "2025-01-04T12:45:35.953590Z",
     "shell.execute_reply.started": "2025-01-04T12:45:35.943197Z"
    }
   },
   "outputs": [
    {
     "data": {
      "text/plain": [
       "signature\n",
       "0x            8770\n",
       "0xa9059cbb    5087\n",
       "0x095ea7b3     974\n",
       "0xeb672419     859\n",
       "0x3593564c     401\n",
       "Name: count, dtype: int64"
      ]
     },
     "execution_count": 9,
     "metadata": {},
     "output_type": "execute_result"
    }
   ],
   "source": [
    "unique_signatures = df['signature'].unique()\n",
    "df['signature'].value_counts().head(5)"
   ]
  },
  {
   "cell_type": "code",
   "execution_count": 10,
   "id": "b2a61f3c-2653-494a-b096-5b35ff48970e",
   "metadata": {
    "execution": {
     "iopub.execute_input": "2025-01-04T12:45:39.405400Z",
     "iopub.status.busy": "2025-01-04T12:45:39.404927Z",
     "iopub.status.idle": "2025-01-04T12:45:39.413588Z",
     "shell.execute_reply": "2025-01-04T12:45:39.412105Z",
     "shell.execute_reply.started": "2025-01-04T12:45:39.405360Z"
    }
   },
   "outputs": [],
   "source": [
    "def get_function(signature_list):\n",
    "    \"\"\"\n",
    "    Decodes a list of Ethereum function signatures using the 4byte.directory API.\n",
    "\n",
    "    Args:\n",
    "        signature_list (list): List of hexadecimal function signatures (e.g., ['0x095ea7b3']).\n",
    "\n",
    "    Returns:\n",
    "        dict: A dictionary mapping each signature to its decoded function name or 'Unknown'.\n",
    "    \"\"\"\n",
    "    decoded = {}\n",
    "    for signature in signature_list:\n",
    "        if signature == '0x':\n",
    "            decoded[signature] = 'Transfer'\n",
    "            continue \n",
    "        url = f\"https://www.4byte.directory/api/v1/signatures/?hex_signature={signature}\"\n",
    "        response = requests.get(url)\n",
    "        if response.status_code == 200:\n",
    "            results = response.json().get('results', [])\n",
    "            decoded[signature] = results[0]['text_signature'] if results else \"Unknown\"\n",
    "        else:\n",
    "            decoded[signature] = \"API error\"\n",
    "    return decoded\n"
   ]
  },
  {
   "cell_type": "code",
   "execution_count": 11,
   "id": "b996d311-714f-42ea-ac6c-66b10c737dae",
   "metadata": {
    "execution": {
     "iopub.execute_input": "2025-01-04T12:45:40.905932Z",
     "iopub.status.busy": "2025-01-04T12:45:40.905458Z",
     "iopub.status.idle": "2025-01-04T12:47:29.194840Z",
     "shell.execute_reply": "2025-01-04T12:47:29.193274Z",
     "shell.execute_reply.started": "2025-01-04T12:45:40.905892Z"
    }
   },
   "outputs": [],
   "source": [
    "decoded_results = get_function(unique_signatures)"
   ]
  },
  {
   "cell_type": "code",
   "execution_count": 12,
   "id": "ac0b71ca-9edf-4af7-935c-8f95225a0087",
   "metadata": {
    "execution": {
     "iopub.execute_input": "2025-01-04T12:47:42.583921Z",
     "iopub.status.busy": "2025-01-04T12:47:42.583451Z",
     "iopub.status.idle": "2025-01-04T12:47:42.592752Z",
     "shell.execute_reply": "2025-01-04T12:47:42.591478Z",
     "shell.execute_reply.started": "2025-01-04T12:47:42.583884Z"
    }
   },
   "outputs": [],
   "source": [
    "df['function'] = df['signature'].map(decoded_results)"
   ]
  },
  {
   "cell_type": "code",
   "execution_count": 13,
   "id": "216c7a45-bb7d-48f3-ac83-3d996402afec",
   "metadata": {
    "execution": {
     "iopub.execute_input": "2025-01-04T12:47:45.242224Z",
     "iopub.status.busy": "2025-01-04T12:47:45.241743Z",
     "iopub.status.idle": "2025-01-04T12:47:45.252186Z",
     "shell.execute_reply": "2025-01-04T12:47:45.251514Z",
     "shell.execute_reply.started": "2025-01-04T12:47:45.242191Z"
    }
   },
   "outputs": [
    {
     "data": {
      "text/plain": [
       "function\n",
       "Transfer                                                                       8770\n",
       "workMyDirefulOwner(uint256,uint256)                                            5087\n",
       "_SIMONdotBLACK_(int8[],int224[],int256,int64,uint248[])                         974\n",
       "requestL2Transaction(address,uint256,bytes,uint256,uint256,bytes[],address)     859\n",
       "Unknown                                                                         793\n",
       "Name: count, dtype: int64"
      ]
     },
     "execution_count": 13,
     "metadata": {},
     "output_type": "execute_result"
    }
   ],
   "source": [
    "df.function.value_counts().head(5)"
   ]
  },
  {
   "cell_type": "markdown",
   "id": "d484b58d-6da6-4f8e-9de9-08ed48e68748",
   "metadata": {},
   "source": [
    "**Some the names of funtions don't look as expected, because of collision in Bytes Code (when different texts have the same Bytes Code)**\n",
    "\n",
    "**Signatures was checked on https://www.4byte.directory/ and Function's name was changed**"
   ]
  },
  {
   "cell_type": "code",
   "execution_count": 14,
   "id": "22b3ad44-cfaf-462d-aeff-0c907aa1e145",
   "metadata": {
    "execution": {
     "iopub.execute_input": "2025-01-04T12:47:49.064143Z",
     "iopub.status.busy": "2025-01-04T12:47:49.063605Z",
     "iopub.status.idle": "2025-01-04T12:47:49.076394Z",
     "shell.execute_reply": "2025-01-04T12:47:49.074968Z",
     "shell.execute_reply.started": "2025-01-04T12:47:49.064102Z"
    }
   },
   "outputs": [],
   "source": [
    "def fixed_func_names(func_name):\n",
    "    if func_name == 'workMyDirefulOwner(uint256,uint256)':\n",
    "        return 'transfer(address,uint256)'\n",
    "    elif func_name == '_SIMONdotBLACK_(int8[],int224[],int256,int64,uint248[])':\n",
    "        return 'approve(address,uint256)'\n",
    "    elif func_name == 'join_tg_invmru_haha_9f4805a(bool,uint256)':\n",
    "        return 'swapExactETHForTokensSupportingFeeOnTransferTokens(uint256,address[],address,uint256)'\n",
    "    return func_name\n",
    "\n",
    "df['function'] = df['function'].apply(fixed_func_names)"
   ]
  },
  {
   "cell_type": "code",
   "execution_count": 15,
   "id": "563235e8-afb4-469d-b729-adfc06dc3542",
   "metadata": {
    "execution": {
     "iopub.execute_input": "2025-01-04T12:47:50.399746Z",
     "iopub.status.busy": "2025-01-04T12:47:50.399273Z",
     "iopub.status.idle": "2025-01-04T12:47:50.410218Z",
     "shell.execute_reply": "2025-01-04T12:47:50.409337Z",
     "shell.execute_reply.started": "2025-01-04T12:47:50.399707Z"
    }
   },
   "outputs": [
    {
     "data": {
      "text/plain": [
       "function\n",
       "Transfer                                                                       8770\n",
       "transfer(address,uint256)                                                      5087\n",
       "approve(address,uint256)                                                        974\n",
       "requestL2Transaction(address,uint256,bytes,uint256,uint256,bytes[],address)     859\n",
       "Unknown                                                                         793\n",
       "execute(bytes,bytes[],uint256)                                                  401\n",
       "Name: count, dtype: int64"
      ]
     },
     "execution_count": 15,
     "metadata": {},
     "output_type": "execute_result"
    }
   ],
   "source": [
    "df.function.value_counts().head(6)"
   ]
  },
  {
   "cell_type": "markdown",
   "id": "1c8763fc-19bb-45f4-bbfd-2596873f491d",
   "metadata": {},
   "source": [
    "It can be suggested that excluding 87770 Transfers are between wallets, other transactions belong Smart Contracts or inner blockchain processes."
   ]
  },
  {
   "cell_type": "markdown",
   "id": "403b36d2-ed2e-400c-9a90-4032bed4c2de",
   "metadata": {},
   "source": [
    "#### **5. Analisis of the User's First Outgoing Transactions Destination**"
   ]
  },
  {
   "cell_type": "markdown",
   "id": "aa5ed429-ef31-4308-9a95-42e1df37392c",
   "metadata": {},
   "source": [
    "Exclude Contract's adresses:"
   ]
  },
  {
   "cell_type": "code",
   "execution_count": 16,
   "id": "e20fb4cb-1916-4dfc-8370-9aab8985f88d",
   "metadata": {
    "execution": {
     "iopub.execute_input": "2025-01-04T12:48:00.670595Z",
     "iopub.status.busy": "2025-01-04T12:48:00.670091Z",
     "iopub.status.idle": "2025-01-04T12:48:00.676660Z",
     "shell.execute_reply": "2025-01-04T12:48:00.675399Z",
     "shell.execute_reply.started": "2025-01-04T12:48:00.670554Z"
    }
   },
   "outputs": [],
   "source": [
    "def transfer_or_other(func_name):\n",
    "    if func_name == 'Transfer':\n",
    "        return 'User-to-User Transfers'\n",
    "    return 'Other Transactions'"
   ]
  },
  {
   "cell_type": "code",
   "execution_count": 17,
   "id": "37044fab-d3ec-4528-944b-042dc7fd6d56",
   "metadata": {
    "execution": {
     "iopub.execute_input": "2025-01-04T12:48:02.507491Z",
     "iopub.status.busy": "2025-01-04T12:48:02.507017Z",
     "iopub.status.idle": "2025-01-04T12:48:02.518092Z",
     "shell.execute_reply": "2025-01-04T12:48:02.517009Z",
     "shell.execute_reply.started": "2025-01-04T12:48:02.507451Z"
    }
   },
   "outputs": [],
   "source": [
    "df['transactions_purpose'] = df['function'].apply(transfer_or_other)"
   ]
  },
  {
   "cell_type": "code",
   "execution_count": 18,
   "id": "796a33b6-5f7d-4548-9793-e8dc610fca0a",
   "metadata": {
    "execution": {
     "iopub.execute_input": "2025-01-04T12:48:40.736949Z",
     "iopub.status.busy": "2025-01-04T12:48:40.734706Z",
     "iopub.status.idle": "2025-01-04T12:48:41.127058Z",
     "shell.execute_reply": "2025-01-04T12:48:41.126007Z",
     "shell.execute_reply.started": "2025-01-04T12:48:40.736879Z"
    }
   },
   "outputs": [
    {
     "data": {
      "image/png": "[encoded data removed]",
      "text/plain": [
       "<Figure size 600x600 with 1 Axes>"
      ]
     },
     "metadata": {},
     "output_type": "display_data"
    }
   ],
   "source": [
    "transactions_destination_percenrtage = df['transactions_purpose'].value_counts(normalize=True) * 100\n",
    "\n",
    "plt.figure(figsize=(6, 6))\n",
    "transactions_destination_percenrtage.plot(kind=\"pie\", autopct=\"%.2f%%\", startangle=90)\n",
    "plt.title(\"User's Transaction Purpose\")\n",
    "plt.ylabel(\"\")\n",
    "plt.show()"
   ]
  },
  {
   "cell_type": "markdown",
   "id": "9cc9d035-9981-4e99-80cf-c94d99c907b9",
   "metadata": {},
   "source": [
    "#### **6. What is Mediana Sum of User's Transfers?**"
   ]
  },
  {
   "cell_type": "code",
   "execution_count": 19,
   "id": "680ef644-e53d-478a-8334-59cc45a5fa23",
   "metadata": {
    "execution": {
     "iopub.execute_input": "2025-01-04T12:48:51.133202Z",
     "iopub.status.busy": "2025-01-04T12:48:51.132689Z",
     "iopub.status.idle": "2025-01-04T12:48:51.227797Z",
     "shell.execute_reply": "2025-01-04T12:48:51.227115Z",
     "shell.execute_reply.started": "2025-01-04T12:48:51.133167Z"
    }
   },
   "outputs": [],
   "source": [
    "df['value'] = pd.to_numeric(df['value'], errors='coerce')\n",
    "median_value = df[df['transactions_purpose'] == 'User-to-User Transfers'].value.median() "
   ]
  },
  {
   "cell_type": "markdown",
   "id": "b8c19612-a1a1-4230-a96a-c1c946303530",
   "metadata": {},
   "source": [
    "**For value in ETH divide median_value by 10^18**"
   ]
  },
  {
   "cell_type": "code",
   "execution_count": 20,
   "id": "1cb8964e-f367-401d-b42f-7532bb7dba99",
   "metadata": {
    "execution": {
     "iopub.execute_input": "2025-01-04T12:48:53.954405Z",
     "iopub.status.busy": "2025-01-04T12:48:53.953938Z",
     "iopub.status.idle": "2025-01-04T12:48:53.962657Z",
     "shell.execute_reply": "2025-01-04T12:48:53.961597Z",
     "shell.execute_reply.started": "2025-01-04T12:48:53.954369Z"
    }
   },
   "outputs": [
    {
     "data": {
      "text/plain": [
       "np.float64(0.0636)"
      ]
     },
     "execution_count": 20,
     "metadata": {},
     "output_type": "execute_result"
    }
   ],
   "source": [
    "median_value_ETH = round((median_value / 10**18), 4)\n",
    "median_value_ETH"
   ]
  },
  {
   "cell_type": "markdown",
   "id": "90d8444e-e813-4660-8a4b-9937289e20e7",
   "metadata": {},
   "source": [
    "#### **Medina Value is 0.636 ETH**"
   ]
  },
  {
   "cell_type": "markdown",
   "id": "0e894af1-7b31-4279-935c-2004def24d40",
   "metadata": {},
   "source": [
    "#### **7. What is Mean Sum of User's Transfers?**"
   ]
  },
  {
   "cell_type": "code",
   "execution_count": 21,
   "id": "1025f3e3-e79c-4787-94c8-24f7609749ac",
   "metadata": {
    "execution": {
     "iopub.execute_input": "2025-01-04T12:49:02.008357Z",
     "iopub.status.busy": "2025-01-04T12:49:02.007852Z",
     "iopub.status.idle": "2025-01-04T12:49:02.020665Z",
     "shell.execute_reply": "2025-01-04T12:49:02.019872Z",
     "shell.execute_reply.started": "2025-01-04T12:49:02.008317Z"
    }
   },
   "outputs": [
    {
     "data": {
      "text/plain": [
       "np.float64(9.822688454817714)"
      ]
     },
     "execution_count": 21,
     "metadata": {},
     "output_type": "execute_result"
    }
   ],
   "source": [
    "mean_value_ETH = df[df['transactions_purpose'] == 'User-to-User Transfers'].value.mean()  / 10**18\n",
    "mean_value_ETH"
   ]
  },
  {
   "cell_type": "markdown",
   "id": "23150b1e-24d4-4319-8414-f1bd30a2d97a",
   "metadata": {},
   "source": [
    "This is a huge difference between Mediana and Mean value. Probably, there are a lot of outliners.  \n",
    "Look closer:"
   ]
  },
  {
   "cell_type": "code",
   "execution_count": 22,
   "id": "c004a232-cb7d-40f8-8787-c587f3d3c78c",
   "metadata": {
    "execution": {
     "iopub.execute_input": "2025-01-04T12:49:10.954797Z",
     "iopub.status.busy": "2025-01-04T12:49:10.954377Z",
     "iopub.status.idle": "2025-01-04T12:49:10.977529Z",
     "shell.execute_reply": "2025-01-04T12:49:10.976776Z",
     "shell.execute_reply.started": "2025-01-04T12:49:10.954763Z"
    }
   },
   "outputs": [
    {
     "data": {
      "text/html": [
       "<div>\n",
       "<style scoped>\n",
       "    .dataframe tbody tr th:only-of-type {\n",
       "        vertical-align: middle;\n",
       "    }\n",
       "\n",
       "    .dataframe tbody tr th {\n",
       "        vertical-align: top;\n",
       "    }\n",
       "\n",
       "    .dataframe thead th {\n",
       "        text-align: right;\n",
       "    }\n",
       "</style>\n",
       "<table border=\"1\" class=\"dataframe\">\n",
       "  <thead>\n",
       "    <tr style=\"text-align: right;\">\n",
       "      <th></th>\n",
       "      <th>value</th>\n",
       "    </tr>\n",
       "  </thead>\n",
       "  <tbody>\n",
       "    <tr>\n",
       "      <th>count</th>\n",
       "      <td>8.770000e-15</td>\n",
       "    </tr>\n",
       "    <tr>\n",
       "      <th>mean</th>\n",
       "      <td>9.822688e+00</td>\n",
       "    </tr>\n",
       "    <tr>\n",
       "      <th>std</th>\n",
       "      <td>4.918961e+02</td>\n",
       "    </tr>\n",
       "    <tr>\n",
       "      <th>min</th>\n",
       "      <td>0.000000e+00</td>\n",
       "    </tr>\n",
       "    <tr>\n",
       "      <th>25%</th>\n",
       "      <td>2.074420e-02</td>\n",
       "    </tr>\n",
       "    <tr>\n",
       "      <th>50%</th>\n",
       "      <td>6.364410e-02</td>\n",
       "    </tr>\n",
       "    <tr>\n",
       "      <th>75%</th>\n",
       "      <td>2.356489e-01</td>\n",
       "    </tr>\n",
       "    <tr>\n",
       "      <th>max</th>\n",
       "      <td>3.131060e+04</td>\n",
       "    </tr>\n",
       "  </tbody>\n",
       "</table>\n",
       "</div>"
      ],
      "text/plain": [
       "              value\n",
       "count  8.770000e-15\n",
       "mean   9.822688e+00\n",
       "std    4.918961e+02\n",
       "min    0.000000e+00\n",
       "25%    2.074420e-02\n",
       "50%    6.364410e-02\n",
       "75%    2.356489e-01\n",
       "max    3.131060e+04"
      ]
     },
     "execution_count": 22,
     "metadata": {},
     "output_type": "execute_result"
    }
   ],
   "source": [
    "df[df['transactions_purpose'] == 'User-to-User Transfers'][['value']].describe()/ 10**18"
   ]
  },
  {
   "cell_type": "markdown",
   "id": "111ac126-cff1-4d6d-bd1b-b7b0e4278b44",
   "metadata": {},
   "source": [
    "The values are very неоднорідні. And  \n",
    "***what is the reason in transfering 0 (zero) ETH?***"
   ]
  },
  {
   "cell_type": "markdown",
   "id": "95455de9-bdcb-4954-97ec-319fbdb0d213",
   "metadata": {},
   "source": [
    "#### **7.1 How Many Zero Transactions in User-to-User Dectination?**"
   ]
  },
  {
   "cell_type": "code",
   "execution_count": 23,
   "id": "13d88664-3b7c-4ba4-ae40-a55709138781",
   "metadata": {
    "execution": {
     "iopub.execute_input": "2025-01-04T12:49:21.769430Z",
     "iopub.status.busy": "2025-01-04T12:49:21.768990Z",
     "iopub.status.idle": "2025-01-04T12:49:21.794988Z",
     "shell.execute_reply": "2025-01-04T12:49:21.794244Z",
     "shell.execute_reply.started": "2025-01-04T12:49:21.769395Z"
    }
   },
   "outputs": [
    {
     "data": {
      "text/html": [
       "<div>\n",
       "<style scoped>\n",
       "    .dataframe tbody tr th:only-of-type {\n",
       "        vertical-align: middle;\n",
       "    }\n",
       "\n",
       "    .dataframe tbody tr th {\n",
       "        vertical-align: top;\n",
       "    }\n",
       "\n",
       "    .dataframe thead th {\n",
       "        text-align: right;\n",
       "    }\n",
       "</style>\n",
       "<table border=\"1\" class=\"dataframe\">\n",
       "  <thead>\n",
       "    <tr style=\"text-align: right;\">\n",
       "      <th></th>\n",
       "      <th>from_address</th>\n",
       "      <th>first_transaction_time</th>\n",
       "      <th>to_address</th>\n",
       "      <th>value</th>\n",
       "      <th>input</th>\n",
       "      <th>gas</th>\n",
       "      <th>gas_price</th>\n",
       "      <th>transaction_type</th>\n",
       "      <th>receipt_gas_used</th>\n",
       "      <th>signature</th>\n",
       "      <th>function</th>\n",
       "      <th>transactions_purpose</th>\n",
       "    </tr>\n",
       "  </thead>\n",
       "  <tbody>\n",
       "    <tr>\n",
       "      <th>181</th>\n",
       "      <td>0x99684cc2d7f6e7592ffe35a0906249bc334cb2fd</td>\n",
       "      <td>2023-05-21 09:31:47+00:00</td>\n",
       "      <td>0x2b82c78ae3c973c1ce39d63b5d63c6cb8db199ea</td>\n",
       "      <td>0.0</td>\n",
       "      <td>0x</td>\n",
       "      <td>31500</td>\n",
       "      <td>28793526918</td>\n",
       "      <td>2</td>\n",
       "      <td>21000</td>\n",
       "      <td>0x</td>\n",
       "      <td>Transfer</td>\n",
       "      <td>User-to-User Transfers</td>\n",
       "    </tr>\n",
       "    <tr>\n",
       "      <th>2642</th>\n",
       "      <td>0x80341e12ae82dbae74e955e7a85800b337820fab</td>\n",
       "      <td>2023-06-03 06:54:35+00:00</td>\n",
       "      <td>0xb6b039afc0ce83ddf613d6b742eba3b96943df0e</td>\n",
       "      <td>0.0</td>\n",
       "      <td>0x</td>\n",
       "      <td>30000</td>\n",
       "      <td>20095414391</td>\n",
       "      <td>2</td>\n",
       "      <td>21000</td>\n",
       "      <td>0x</td>\n",
       "      <td>Transfer</td>\n",
       "      <td>User-to-User Transfers</td>\n",
       "    </tr>\n",
       "    <tr>\n",
       "      <th>2680</th>\n",
       "      <td>0xa08ca3760a778076b7c2920e2ac74e838cb07f02</td>\n",
       "      <td>2023-09-05 18:24:23+00:00</td>\n",
       "      <td>0x34806cbba5698f9ca9f4aa4700348e56fe3ceb34</td>\n",
       "      <td>0.0</td>\n",
       "      <td>0x</td>\n",
       "      <td>27300</td>\n",
       "      <td>22722764197</td>\n",
       "      <td>2</td>\n",
       "      <td>21000</td>\n",
       "      <td>0x</td>\n",
       "      <td>Transfer</td>\n",
       "      <td>User-to-User Transfers</td>\n",
       "    </tr>\n",
       "    <tr>\n",
       "      <th>2867</th>\n",
       "      <td>0x2ef212074f43e62095222bafbfe5e691301a2a6c</td>\n",
       "      <td>2023-06-02 09:02:23+00:00</td>\n",
       "      <td>0x6265b90aaebd5e472760651639687c6cff8942e3</td>\n",
       "      <td>0.0</td>\n",
       "      <td>0x</td>\n",
       "      <td>21055</td>\n",
       "      <td>33600000000</td>\n",
       "      <td>0</td>\n",
       "      <td>21055</td>\n",
       "      <td>0x</td>\n",
       "      <td>Transfer</td>\n",
       "      <td>User-to-User Transfers</td>\n",
       "    </tr>\n",
       "    <tr>\n",
       "      <th>3288</th>\n",
       "      <td>0xcf7e209604aeb08d1f45b70cefde5f3b5194fdba</td>\n",
       "      <td>2023-06-02 10:29:35+00:00</td>\n",
       "      <td>0xb6b039afc0ce83ddf613d6b742eba3b96943df0e</td>\n",
       "      <td>0.0</td>\n",
       "      <td>0x</td>\n",
       "      <td>23000</td>\n",
       "      <td>24665763491</td>\n",
       "      <td>2</td>\n",
       "      <td>21000</td>\n",
       "      <td>0x</td>\n",
       "      <td>Transfer</td>\n",
       "      <td>User-to-User Transfers</td>\n",
       "    </tr>\n",
       "    <tr>\n",
       "      <th>...</th>\n",
       "      <td>...</td>\n",
       "      <td>...</td>\n",
       "      <td>...</td>\n",
       "      <td>...</td>\n",
       "      <td>...</td>\n",
       "      <td>...</td>\n",
       "      <td>...</td>\n",
       "      <td>...</td>\n",
       "      <td>...</td>\n",
       "      <td>...</td>\n",
       "      <td>...</td>\n",
       "      <td>...</td>\n",
       "    </tr>\n",
       "    <tr>\n",
       "      <th>16402</th>\n",
       "      <td>0x1e62bec1aca21e70288e195c4ffa9aeae88aeaca</td>\n",
       "      <td>2023-10-16 02:56:23+00:00</td>\n",
       "      <td>0x1e62bec1aca21e70288e195c4ffa9aeae88aeaca</td>\n",
       "      <td>0.0</td>\n",
       "      <td>0x</td>\n",
       "      <td>149293</td>\n",
       "      <td>6192828370</td>\n",
       "      <td>2</td>\n",
       "      <td>21000</td>\n",
       "      <td>0x</td>\n",
       "      <td>Transfer</td>\n",
       "      <td>User-to-User Transfers</td>\n",
       "    </tr>\n",
       "    <tr>\n",
       "      <th>17317</th>\n",
       "      <td>0xda2e1999319be0a159474d316710dfd1b4ac840e</td>\n",
       "      <td>2023-04-24 13:44:11+00:00</td>\n",
       "      <td>0xbbc7f7a6aadac103769c66cbc69ab720f7f9eae3</td>\n",
       "      <td>0.0</td>\n",
       "      <td>0x</td>\n",
       "      <td>80000</td>\n",
       "      <td>47834432462</td>\n",
       "      <td>2</td>\n",
       "      <td>21070</td>\n",
       "      <td>0x</td>\n",
       "      <td>Transfer</td>\n",
       "      <td>User-to-User Transfers</td>\n",
       "    </tr>\n",
       "    <tr>\n",
       "      <th>18712</th>\n",
       "      <td>0xd57e835b2fc5a3d03225e756b752890b1d18eef3</td>\n",
       "      <td>2023-06-06 04:01:47+00:00</td>\n",
       "      <td>0xec595717db71d29c5f3272c2b42d05d3cac1f5a4</td>\n",
       "      <td>0.0</td>\n",
       "      <td>0x</td>\n",
       "      <td>100000</td>\n",
       "      <td>22000000000</td>\n",
       "      <td>0</td>\n",
       "      <td>90578</td>\n",
       "      <td>0x</td>\n",
       "      <td>Transfer</td>\n",
       "      <td>User-to-User Transfers</td>\n",
       "    </tr>\n",
       "    <tr>\n",
       "      <th>18940</th>\n",
       "      <td>0x4572f7757d9a9d72f821e5980f501910ebcbe276</td>\n",
       "      <td>2023-06-06 12:45:11+00:00</td>\n",
       "      <td>0xec595717db71d29c5f3272c2b42d05d3cac1f5a4</td>\n",
       "      <td>0.0</td>\n",
       "      <td>0x</td>\n",
       "      <td>100000</td>\n",
       "      <td>32000000000</td>\n",
       "      <td>2</td>\n",
       "      <td>90578</td>\n",
       "      <td>0x</td>\n",
       "      <td>Transfer</td>\n",
       "      <td>User-to-User Transfers</td>\n",
       "    </tr>\n",
       "    <tr>\n",
       "      <th>19349</th>\n",
       "      <td>0x6f87f324b5c935a643e06b7ef8766d375df5f067</td>\n",
       "      <td>2023-06-04 08:38:11+00:00</td>\n",
       "      <td>0x6f87f324b5c935a643e06b7ef8766d375df5f067</td>\n",
       "      <td>0.0</td>\n",
       "      <td>0x</td>\n",
       "      <td>149210</td>\n",
       "      <td>21768968600</td>\n",
       "      <td>2</td>\n",
       "      <td>21000</td>\n",
       "      <td>0x</td>\n",
       "      <td>Transfer</td>\n",
       "      <td>User-to-User Transfers</td>\n",
       "    </tr>\n",
       "  </tbody>\n",
       "</table>\n",
       "<p>92 rows × 12 columns</p>\n",
       "</div>"
      ],
      "text/plain": [
       "                                     from_address    first_transaction_time  \\\n",
       "181    0x99684cc2d7f6e7592ffe35a0906249bc334cb2fd 2023-05-21 09:31:47+00:00   \n",
       "2642   0x80341e12ae82dbae74e955e7a85800b337820fab 2023-06-03 06:54:35+00:00   \n",
       "2680   0xa08ca3760a778076b7c2920e2ac74e838cb07f02 2023-09-05 18:24:23+00:00   \n",
       "2867   0x2ef212074f43e62095222bafbfe5e691301a2a6c 2023-06-02 09:02:23+00:00   \n",
       "3288   0xcf7e209604aeb08d1f45b70cefde5f3b5194fdba 2023-06-02 10:29:35+00:00   \n",
       "...                                           ...                       ...   \n",
       "16402  0x1e62bec1aca21e70288e195c4ffa9aeae88aeaca 2023-10-16 02:56:23+00:00   \n",
       "17317  0xda2e1999319be0a159474d316710dfd1b4ac840e 2023-04-24 13:44:11+00:00   \n",
       "18712  0xd57e835b2fc5a3d03225e756b752890b1d18eef3 2023-06-06 04:01:47+00:00   \n",
       "18940  0x4572f7757d9a9d72f821e5980f501910ebcbe276 2023-06-06 12:45:11+00:00   \n",
       "19349  0x6f87f324b5c935a643e06b7ef8766d375df5f067 2023-06-04 08:38:11+00:00   \n",
       "\n",
       "                                       to_address  value input     gas  \\\n",
       "181    0x2b82c78ae3c973c1ce39d63b5d63c6cb8db199ea    0.0    0x   31500   \n",
       "2642   0xb6b039afc0ce83ddf613d6b742eba3b96943df0e    0.0    0x   30000   \n",
       "2680   0x34806cbba5698f9ca9f4aa4700348e56fe3ceb34    0.0    0x   27300   \n",
       "2867   0x6265b90aaebd5e472760651639687c6cff8942e3    0.0    0x   21055   \n",
       "3288   0xb6b039afc0ce83ddf613d6b742eba3b96943df0e    0.0    0x   23000   \n",
       "...                                           ...    ...   ...     ...   \n",
       "16402  0x1e62bec1aca21e70288e195c4ffa9aeae88aeaca    0.0    0x  149293   \n",
       "17317  0xbbc7f7a6aadac103769c66cbc69ab720f7f9eae3    0.0    0x   80000   \n",
       "18712  0xec595717db71d29c5f3272c2b42d05d3cac1f5a4    0.0    0x  100000   \n",
       "18940  0xec595717db71d29c5f3272c2b42d05d3cac1f5a4    0.0    0x  100000   \n",
       "19349  0x6f87f324b5c935a643e06b7ef8766d375df5f067    0.0    0x  149210   \n",
       "\n",
       "         gas_price  transaction_type  receipt_gas_used signature  function  \\\n",
       "181    28793526918                 2             21000        0x  Transfer   \n",
       "2642   20095414391                 2             21000        0x  Transfer   \n",
       "2680   22722764197                 2             21000        0x  Transfer   \n",
       "2867   33600000000                 0             21055        0x  Transfer   \n",
       "3288   24665763491                 2             21000        0x  Transfer   \n",
       "...            ...               ...               ...       ...       ...   \n",
       "16402   6192828370                 2             21000        0x  Transfer   \n",
       "17317  47834432462                 2             21070        0x  Transfer   \n",
       "18712  22000000000                 0             90578        0x  Transfer   \n",
       "18940  32000000000                 2             90578        0x  Transfer   \n",
       "19349  21768968600                 2             21000        0x  Transfer   \n",
       "\n",
       "         transactions_purpose  \n",
       "181    User-to-User Transfers  \n",
       "2642   User-to-User Transfers  \n",
       "2680   User-to-User Transfers  \n",
       "2867   User-to-User Transfers  \n",
       "3288   User-to-User Transfers  \n",
       "...                       ...  \n",
       "16402  User-to-User Transfers  \n",
       "17317  User-to-User Transfers  \n",
       "18712  User-to-User Transfers  \n",
       "18940  User-to-User Transfers  \n",
       "19349  User-to-User Transfers  \n",
       "\n",
       "[92 rows x 12 columns]"
      ]
     },
     "execution_count": 23,
     "metadata": {},
     "output_type": "execute_result"
    }
   ],
   "source": [
    "df[(df['transactions_purpose'] == 'User-to-User Transfers') & (df['value'] == 0.00)]"
   ]
  },
  {
   "cell_type": "code",
   "execution_count": null,
   "id": "2e5ebdd0-d09e-4180-beb8-c3f95b6955e0",
   "metadata": {},
   "outputs": [],
   "source": []
  },
  {
   "cell_type": "code",
   "execution_count": null,
   "id": "eb98a568-cd35-42e5-b530-ef0e552e07bd",
   "metadata": {},
   "outputs": [],
   "source": []
  },
  {
   "cell_type": "code",
   "execution_count": null,
   "id": "d988ebb6-2934-4e76-bbb9-dfd328c85edf",
   "metadata": {},
   "outputs": [],
   "source": []
  },
  {
   "cell_type": "code",
   "execution_count": null,
   "id": "8c4e5831-7298-4d53-8d7c-20a871c6e67f",
   "metadata": {},
   "outputs": [],
   "source": []
  },
  {
   "cell_type": "code",
   "execution_count": null,
   "id": "90c602ab-6695-4d3f-b47f-53674a8e3d73",
   "metadata": {},
   "outputs": [],
   "source": []
  },
  {
   "cell_type": "markdown",
   "id": "f6293645-0b05-4fe2-8f04-df7861ddbaa6",
   "metadata": {},
   "source": [
    "#### **6. What is TOP-25 addresses exactly are?**"
   ]
  },
  {
   "cell_type": "code",
   "execution_count": 171,
   "id": "b67a5065-dd0b-4627-9aab-d03aeaf47ae3",
   "metadata": {
    "execution": {
     "iopub.execute_input": "2025-01-04T00:20:17.076997Z",
     "iopub.status.busy": "2025-01-04T00:20:17.076541Z",
     "iopub.status.idle": "2025-01-04T00:20:17.142126Z",
     "shell.execute_reply": "2025-01-04T00:20:17.141073Z",
     "shell.execute_reply.started": "2025-01-04T00:20:17.076964Z"
    }
   },
   "outputs": [],
   "source": [
    "top25_addresses = df[df['function'] != 'Transfer'].to_address.value_counts().head(25).reset_index()"
   ]
  },
  {
   "cell_type": "code",
   "execution_count": 172,
   "id": "f334a94e-fba7-4ec4-9946-cd2cbf6655a4",
   "metadata": {
    "execution": {
     "iopub.execute_input": "2025-01-04T00:20:18.007221Z",
     "iopub.status.busy": "2025-01-04T00:20:18.006821Z",
     "iopub.status.idle": "2025-01-04T00:20:18.018721Z",
     "shell.execute_reply": "2025-01-04T00:20:18.017935Z",
     "shell.execute_reply.started": "2025-01-04T00:20:18.007191Z"
    },
    "scrolled": true
   },
   "outputs": [
    {
     "data": {
      "text/html": [
       "<div>\n",
       "<style scoped>\n",
       "    .dataframe tbody tr th:only-of-type {\n",
       "        vertical-align: middle;\n",
       "    }\n",
       "\n",
       "    .dataframe tbody tr th {\n",
       "        vertical-align: top;\n",
       "    }\n",
       "\n",
       "    .dataframe thead th {\n",
       "        text-align: right;\n",
       "    }\n",
       "</style>\n",
       "<table border=\"1\" class=\"dataframe\">\n",
       "  <thead>\n",
       "    <tr style=\"text-align: right;\">\n",
       "      <th></th>\n",
       "      <th>to_address</th>\n",
       "      <th>count</th>\n",
       "    </tr>\n",
       "  </thead>\n",
       "  <tbody>\n",
       "    <tr>\n",
       "      <th>0</th>\n",
       "      <td>0xdac17f958d2ee523a2206206994597c13d831ec7</td>\n",
       "      <td>3128</td>\n",
       "    </tr>\n",
       "    <tr>\n",
       "      <th>1</th>\n",
       "      <td>0x32400084c286cf3e17e7b677ea9583e60a000324</td>\n",
       "      <td>859</td>\n",
       "    </tr>\n",
       "    <tr>\n",
       "      <th>2</th>\n",
       "      <td>0xa0b86991c6218b36c1d19d4a2e9eb0ce3606eb48</td>\n",
       "      <td>735</td>\n",
       "    </tr>\n",
       "  </tbody>\n",
       "</table>\n",
       "</div>"
      ],
      "text/plain": [
       "                                   to_address  count\n",
       "0  0xdac17f958d2ee523a2206206994597c13d831ec7   3128\n",
       "1  0x32400084c286cf3e17e7b677ea9583e60a000324    859\n",
       "2  0xa0b86991c6218b36c1d19d4a2e9eb0ce3606eb48    735"
      ]
     },
     "execution_count": 172,
     "metadata": {},
     "output_type": "execute_result"
    }
   ],
   "source": [
    "top25_addresses.head(3)"
   ]
  },
  {
   "cell_type": "markdown",
   "id": "976b9b4b-4f9c-4ab6-96c9-a476892c0b5d",
   "metadata": {},
   "source": [
    "***Api does not have information about address's owners. It was collected address by address with Etherscan interface and ChatGPT help.***"
   ]
  },
  {
   "cell_type": "code",
   "execution_count": 173,
   "id": "72c5a654-d6d4-4dd0-b234-b8d7ae1834b4",
   "metadata": {
    "execution": {
     "iopub.execute_input": "2025-01-04T00:20:24.343330Z",
     "iopub.status.busy": "2025-01-04T00:20:24.342793Z",
     "iopub.status.idle": "2025-01-04T00:20:24.352713Z",
     "shell.execute_reply": "2025-01-04T00:20:24.351211Z",
     "shell.execute_reply.started": "2025-01-04T00:20:24.343287Z"
    }
   },
   "outputs": [],
   "source": [
    "address_dict = {\n",
    "    '0xdac17f958d2ee523a2206206994597c13d831ec7': 'USDT (Tether) coin',\n",
    "    '0x32400084c286cf3e17e7b677ea9583e60a000324': 'zkSync: Layer 2 Bridge',\n",
    "    '0xa0b86991c6218b36c1d19d4a2e9eb0ce3606eb48': 'USDC (USD Coin)',\n",
    "    '0x881d4032abe4188e2237efcd27ab435e81fc6bb1': 'MetaMask Swap Router',\n",
    "    '0xae0ee0a63a2ce6baeeffe56e7714fb4efe48d419': 'StarkGate ETH Bridge',\n",
    "    '0x3fc91a3afd70395cd496c647d5a6cc9d4b2b7fad': 'Uniswap: Universal Router',\n",
    "    '0x95ad61b0a150d79219dcf64e1e6cc01f0b64c4ce': 'Shiba Inu (SHIB) token',\n",
    "    '0xabea9132b05a70803a4e85094fd0e1800777fbef': 'zkSync: Layer 2 Bridge',\n",
    "    '0x7a250d5630b4cf539739df2c5dacb4c659f2488d': 'Uniswap V2: Router 2',\n",
    "    '0xef1c6e67703c7bd7107eed8303fbe6ec2554bf6b': 'Uniswap: Universal Router 2',\n",
    "    '0x06450dee7fd2fb8e39061434babcfc05599a6fb8': 'XEN Crypto (XEN) token',\n",
    "    '0x7d1afa7b718fb893db30a3abc0cfc608aacfebb0': 'Matic Token (MATIC) token',\n",
    "    '0x881d40237659c251811cec9c364ef91dc08d300c': 'MetaMask: Swap Router',\n",
    "    '0x514910771af9ca656af840dff83e8264ecf986ca': 'ChainLink Token (LINK)',\n",
    "    '0xdef1c0ded9bec7f1a1670819833240f027b25eff': '0x Protocol: Exchange Proxy',\n",
    "    '0x00000000219ab540356cbb839cbe05303d7705fa': 'Beacon Deposit Contract',\n",
    "    '0xc02aaa39b223fe8d0a0e5c4f27ead9083c756cc2': 'Wrapped Ether (WETH) token',\n",
    "    '0xe66b31678d6c16e9ebf358268a790b763c133750': '0x: Coinbase Wallet Proxy',\n",
    "    '0x1a0ad011913a150f69f6a19df447a0cfd9551054': 'Zora: Bridge',\n",
    "    '0xd4307e0acd12cf46fd6cf93bc264f5d5d1598792': 'Base, Introduced token',\n",
    "    '0x6b175474e89094c44da98b954eedeac495271d0f': 'Dai Stablecoin (DAI)',\n",
    "    '0x0000000000664ceffed39244a8312bd895470803': 'ENS: ETH Registrar Controller',\n",
    "    '0x3506424f91fd33084466f402d5d97f05f8e3b4af': 'Chiliz (CHZ) token',\n",
    "    '0xd19d4b5d358258f05d7b411e21a1460d11b0876f': 'Linea: L1 Message Service',\n",
    "    '0x4d224452801aced8b2f0aebe155379bb5d594381': 'ApeCoin (APE) token'\n",
    "}\n"
   ]
  },
  {
   "cell_type": "code",
   "execution_count": 174,
   "id": "c1197f38-9eba-422d-a522-69626e06b267",
   "metadata": {
    "execution": {
     "iopub.execute_input": "2025-01-04T00:20:25.357655Z",
     "iopub.status.busy": "2025-01-04T00:20:25.357155Z",
     "iopub.status.idle": "2025-01-04T00:20:25.368414Z",
     "shell.execute_reply": "2025-01-04T00:20:25.367056Z",
     "shell.execute_reply.started": "2025-01-04T00:20:25.357617Z"
    }
   },
   "outputs": [],
   "source": [
    "top25_addresses['decoded_address'] = top25_addresses['to_address'].map(address_dict)"
   ]
  },
  {
   "cell_type": "code",
   "execution_count": 175,
   "id": "4600e8b2-77cb-48ef-9a36-0b85b07cb4d1",
   "metadata": {
    "execution": {
     "iopub.execute_input": "2025-01-04T00:20:26.864750Z",
     "iopub.status.busy": "2025-01-04T00:20:26.864283Z",
     "iopub.status.idle": "2025-01-04T00:20:26.873208Z",
     "shell.execute_reply": "2025-01-04T00:20:26.871849Z",
     "shell.execute_reply.started": "2025-01-04T00:20:26.864712Z"
    }
   },
   "outputs": [],
   "source": [
    "#  зробити словник!!!!!!!! як в попередньому варіанті\n",
    "\n",
    "\n",
    "\n",
    "def categorize(decoded_address):\n",
    "    if 'tether' in decoded_address.lower() or 'usd coin' in decoded_address.lower() or 'dai' in decoded_address.lower():\n",
    "        return 'Stablecoin'\n",
    "    elif 'uniswap' in decoded_address.lower() or 'metamask' in decoded_address.lower():\n",
    "        return 'Router'\n",
    "    elif 'bridge' in decoded_address.lower():\n",
    "        return 'Bridge'\n",
    "    elif 'token' in decoded_address.lower():\n",
    "        return 'Token (NFT)'\n",
    "    elif 'ens' in decoded_address.lower() or 'proxy' in decoded_address.lower() or 'beacon' in decoded_address.lower():\n",
    "        return 'Infrastructure'\n",
    "    else:\n",
    "        return 'Other'"
   ]
  },
  {
   "cell_type": "code",
   "execution_count": 176,
   "id": "8756619a-56c0-4c64-93d3-13ec407916f0",
   "metadata": {
    "execution": {
     "iopub.execute_input": "2025-01-04T00:20:32.625646Z",
     "iopub.status.busy": "2025-01-04T00:20:32.625163Z",
     "iopub.status.idle": "2025-01-04T00:20:32.632835Z",
     "shell.execute_reply": "2025-01-04T00:20:32.631844Z",
     "shell.execute_reply.started": "2025-01-04T00:20:32.625607Z"
    }
   },
   "outputs": [],
   "source": [
    "top25_addresses['category'] = top25_addresses['decoded_address'].apply(categorize)"
   ]
  },
  {
   "cell_type": "code",
   "execution_count": 177,
   "id": "d73d137a-457d-480c-9799-a1fa97582660",
   "metadata": {
    "execution": {
     "iopub.execute_input": "2025-01-04T00:20:34.031538Z",
     "iopub.status.busy": "2025-01-04T00:20:34.031020Z",
     "iopub.status.idle": "2025-01-04T00:20:34.046916Z",
     "shell.execute_reply": "2025-01-04T00:20:34.046152Z",
     "shell.execute_reply.started": "2025-01-04T00:20:34.031500Z"
    }
   },
   "outputs": [
    {
     "data": {
      "text/html": [
       "<div>\n",
       "<style scoped>\n",
       "    .dataframe tbody tr th:only-of-type {\n",
       "        vertical-align: middle;\n",
       "    }\n",
       "\n",
       "    .dataframe tbody tr th {\n",
       "        vertical-align: top;\n",
       "    }\n",
       "\n",
       "    .dataframe thead th {\n",
       "        text-align: right;\n",
       "    }\n",
       "</style>\n",
       "<table border=\"1\" class=\"dataframe\">\n",
       "  <thead>\n",
       "    <tr style=\"text-align: right;\">\n",
       "      <th></th>\n",
       "      <th>to_address</th>\n",
       "      <th>count</th>\n",
       "      <th>decoded_address</th>\n",
       "      <th>category</th>\n",
       "    </tr>\n",
       "  </thead>\n",
       "  <tbody>\n",
       "    <tr>\n",
       "      <th>0</th>\n",
       "      <td>0xdac17f958d2ee523a2206206994597c13d831ec7</td>\n",
       "      <td>3128</td>\n",
       "      <td>USDT (Tether) coin</td>\n",
       "      <td>Stablecoin</td>\n",
       "    </tr>\n",
       "    <tr>\n",
       "      <th>1</th>\n",
       "      <td>0x32400084c286cf3e17e7b677ea9583e60a000324</td>\n",
       "      <td>859</td>\n",
       "      <td>zkSync: Layer 2 Bridge</td>\n",
       "      <td>Bridge</td>\n",
       "    </tr>\n",
       "    <tr>\n",
       "      <th>2</th>\n",
       "      <td>0xa0b86991c6218b36c1d19d4a2e9eb0ce3606eb48</td>\n",
       "      <td>735</td>\n",
       "      <td>USDC (USD Coin)</td>\n",
       "      <td>Stablecoin</td>\n",
       "    </tr>\n",
       "    <tr>\n",
       "      <th>3</th>\n",
       "      <td>0x881d4032abe4188e2237efcd27ab435e81fc6bb1</td>\n",
       "      <td>570</td>\n",
       "      <td>MetaMask Swap Router</td>\n",
       "      <td>Router</td>\n",
       "    </tr>\n",
       "    <tr>\n",
       "      <th>4</th>\n",
       "      <td>0xae0ee0a63a2ce6baeeffe56e7714fb4efe48d419</td>\n",
       "      <td>310</td>\n",
       "      <td>StarkGate ETH Bridge</td>\n",
       "      <td>Bridge</td>\n",
       "    </tr>\n",
       "    <tr>\n",
       "      <th>5</th>\n",
       "      <td>0x3fc91a3afd70395cd496c647d5a6cc9d4b2b7fad</td>\n",
       "      <td>255</td>\n",
       "      <td>Uniswap: Universal Router</td>\n",
       "      <td>Router</td>\n",
       "    </tr>\n",
       "    <tr>\n",
       "      <th>6</th>\n",
       "      <td>0x95ad61b0a150d79219dcf64e1e6cc01f0b64c4ce</td>\n",
       "      <td>230</td>\n",
       "      <td>Shiba Inu (SHIB) token</td>\n",
       "      <td>Token (NFT)</td>\n",
       "    </tr>\n",
       "    <tr>\n",
       "      <th>7</th>\n",
       "      <td>0xabea9132b05a70803a4e85094fd0e1800777fbef</td>\n",
       "      <td>228</td>\n",
       "      <td>zkSync: Layer 2 Bridge</td>\n",
       "      <td>Bridge</td>\n",
       "    </tr>\n",
       "    <tr>\n",
       "      <th>8</th>\n",
       "      <td>0x7a250d5630b4cf539739df2c5dacb4c659f2488d</td>\n",
       "      <td>198</td>\n",
       "      <td>Uniswap V2: Router 2</td>\n",
       "      <td>Router</td>\n",
       "    </tr>\n",
       "    <tr>\n",
       "      <th>9</th>\n",
       "      <td>0xef1c6e67703c7bd7107eed8303fbe6ec2554bf6b</td>\n",
       "      <td>167</td>\n",
       "      <td>Uniswap: Universal Router 2</td>\n",
       "      <td>Router</td>\n",
       "    </tr>\n",
       "    <tr>\n",
       "      <th>10</th>\n",
       "      <td>0x06450dee7fd2fb8e39061434babcfc05599a6fb8</td>\n",
       "      <td>97</td>\n",
       "      <td>XEN Crypto (XEN) token</td>\n",
       "      <td>Token (NFT)</td>\n",
       "    </tr>\n",
       "    <tr>\n",
       "      <th>11</th>\n",
       "      <td>0x7d1afa7b718fb893db30a3abc0cfc608aacfebb0</td>\n",
       "      <td>95</td>\n",
       "      <td>Matic Token (MATIC) token</td>\n",
       "      <td>Token (NFT)</td>\n",
       "    </tr>\n",
       "    <tr>\n",
       "      <th>12</th>\n",
       "      <td>0x881d40237659c251811cec9c364ef91dc08d300c</td>\n",
       "      <td>94</td>\n",
       "      <td>MetaMask: Swap Router</td>\n",
       "      <td>Router</td>\n",
       "    </tr>\n",
       "    <tr>\n",
       "      <th>13</th>\n",
       "      <td>0x514910771af9ca656af840dff83e8264ecf986ca</td>\n",
       "      <td>79</td>\n",
       "      <td>ChainLink Token (LINK)</td>\n",
       "      <td>Token (NFT)</td>\n",
       "    </tr>\n",
       "    <tr>\n",
       "      <th>14</th>\n",
       "      <td>0xdef1c0ded9bec7f1a1670819833240f027b25eff</td>\n",
       "      <td>74</td>\n",
       "      <td>0x Protocol: Exchange Proxy</td>\n",
       "      <td>Infrastructure</td>\n",
       "    </tr>\n",
       "    <tr>\n",
       "      <th>15</th>\n",
       "      <td>0x00000000219ab540356cbb839cbe05303d7705fa</td>\n",
       "      <td>73</td>\n",
       "      <td>Beacon Deposit Contract</td>\n",
       "      <td>Infrastructure</td>\n",
       "    </tr>\n",
       "    <tr>\n",
       "      <th>16</th>\n",
       "      <td>0xc02aaa39b223fe8d0a0e5c4f27ead9083c756cc2</td>\n",
       "      <td>69</td>\n",
       "      <td>Wrapped Ether (WETH) token</td>\n",
       "      <td>Token (NFT)</td>\n",
       "    </tr>\n",
       "    <tr>\n",
       "      <th>17</th>\n",
       "      <td>0xe66b31678d6c16e9ebf358268a790b763c133750</td>\n",
       "      <td>68</td>\n",
       "      <td>0x: Coinbase Wallet Proxy</td>\n",
       "      <td>Infrastructure</td>\n",
       "    </tr>\n",
       "    <tr>\n",
       "      <th>18</th>\n",
       "      <td>0x1a0ad011913a150f69f6a19df447a0cfd9551054</td>\n",
       "      <td>67</td>\n",
       "      <td>Zora: Bridge</td>\n",
       "      <td>Bridge</td>\n",
       "    </tr>\n",
       "    <tr>\n",
       "      <th>19</th>\n",
       "      <td>0xd4307e0acd12cf46fd6cf93bc264f5d5d1598792</td>\n",
       "      <td>66</td>\n",
       "      <td>Base, Introduced token</td>\n",
       "      <td>Token (NFT)</td>\n",
       "    </tr>\n",
       "    <tr>\n",
       "      <th>20</th>\n",
       "      <td>0x6b175474e89094c44da98b954eedeac495271d0f</td>\n",
       "      <td>59</td>\n",
       "      <td>Dai Stablecoin (DAI)</td>\n",
       "      <td>Stablecoin</td>\n",
       "    </tr>\n",
       "    <tr>\n",
       "      <th>21</th>\n",
       "      <td>0x0000000000664ceffed39244a8312bd895470803</td>\n",
       "      <td>54</td>\n",
       "      <td>ENS: ETH Registrar Controller</td>\n",
       "      <td>Infrastructure</td>\n",
       "    </tr>\n",
       "    <tr>\n",
       "      <th>22</th>\n",
       "      <td>0x3506424f91fd33084466f402d5d97f05f8e3b4af</td>\n",
       "      <td>51</td>\n",
       "      <td>Chiliz (CHZ) token</td>\n",
       "      <td>Token (NFT)</td>\n",
       "    </tr>\n",
       "    <tr>\n",
       "      <th>23</th>\n",
       "      <td>0xd19d4b5d358258f05d7b411e21a1460d11b0876f</td>\n",
       "      <td>40</td>\n",
       "      <td>Linea: L1 Message Service</td>\n",
       "      <td>Other</td>\n",
       "    </tr>\n",
       "    <tr>\n",
       "      <th>24</th>\n",
       "      <td>0x4d224452801aced8b2f0aebe155379bb5d594381</td>\n",
       "      <td>37</td>\n",
       "      <td>ApeCoin (APE) token</td>\n",
       "      <td>Token (NFT)</td>\n",
       "    </tr>\n",
       "  </tbody>\n",
       "</table>\n",
       "</div>"
      ],
      "text/plain": [
       "                                    to_address  count  \\\n",
       "0   0xdac17f958d2ee523a2206206994597c13d831ec7   3128   \n",
       "1   0x32400084c286cf3e17e7b677ea9583e60a000324    859   \n",
       "2   0xa0b86991c6218b36c1d19d4a2e9eb0ce3606eb48    735   \n",
       "3   0x881d4032abe4188e2237efcd27ab435e81fc6bb1    570   \n",
       "4   0xae0ee0a63a2ce6baeeffe56e7714fb4efe48d419    310   \n",
       "5   0x3fc91a3afd70395cd496c647d5a6cc9d4b2b7fad    255   \n",
       "6   0x95ad61b0a150d79219dcf64e1e6cc01f0b64c4ce    230   \n",
       "7   0xabea9132b05a70803a4e85094fd0e1800777fbef    228   \n",
       "8   0x7a250d5630b4cf539739df2c5dacb4c659f2488d    198   \n",
       "9   0xef1c6e67703c7bd7107eed8303fbe6ec2554bf6b    167   \n",
       "10  0x06450dee7fd2fb8e39061434babcfc05599a6fb8     97   \n",
       "11  0x7d1afa7b718fb893db30a3abc0cfc608aacfebb0     95   \n",
       "12  0x881d40237659c251811cec9c364ef91dc08d300c     94   \n",
       "13  0x514910771af9ca656af840dff83e8264ecf986ca     79   \n",
       "14  0xdef1c0ded9bec7f1a1670819833240f027b25eff     74   \n",
       "15  0x00000000219ab540356cbb839cbe05303d7705fa     73   \n",
       "16  0xc02aaa39b223fe8d0a0e5c4f27ead9083c756cc2     69   \n",
       "17  0xe66b31678d6c16e9ebf358268a790b763c133750     68   \n",
       "18  0x1a0ad011913a150f69f6a19df447a0cfd9551054     67   \n",
       "19  0xd4307e0acd12cf46fd6cf93bc264f5d5d1598792     66   \n",
       "20  0x6b175474e89094c44da98b954eedeac495271d0f     59   \n",
       "21  0x0000000000664ceffed39244a8312bd895470803     54   \n",
       "22  0x3506424f91fd33084466f402d5d97f05f8e3b4af     51   \n",
       "23  0xd19d4b5d358258f05d7b411e21a1460d11b0876f     40   \n",
       "24  0x4d224452801aced8b2f0aebe155379bb5d594381     37   \n",
       "\n",
       "                  decoded_address        category  \n",
       "0              USDT (Tether) coin      Stablecoin  \n",
       "1          zkSync: Layer 2 Bridge          Bridge  \n",
       "2                 USDC (USD Coin)      Stablecoin  \n",
       "3            MetaMask Swap Router          Router  \n",
       "4            StarkGate ETH Bridge          Bridge  \n",
       "5       Uniswap: Universal Router          Router  \n",
       "6          Shiba Inu (SHIB) token     Token (NFT)  \n",
       "7          zkSync: Layer 2 Bridge          Bridge  \n",
       "8            Uniswap V2: Router 2          Router  \n",
       "9     Uniswap: Universal Router 2          Router  \n",
       "10         XEN Crypto (XEN) token     Token (NFT)  \n",
       "11      Matic Token (MATIC) token     Token (NFT)  \n",
       "12          MetaMask: Swap Router          Router  \n",
       "13         ChainLink Token (LINK)     Token (NFT)  \n",
       "14    0x Protocol: Exchange Proxy  Infrastructure  \n",
       "15        Beacon Deposit Contract  Infrastructure  \n",
       "16     Wrapped Ether (WETH) token     Token (NFT)  \n",
       "17      0x: Coinbase Wallet Proxy  Infrastructure  \n",
       "18                   Zora: Bridge          Bridge  \n",
       "19         Base, Introduced token     Token (NFT)  \n",
       "20           Dai Stablecoin (DAI)      Stablecoin  \n",
       "21  ENS: ETH Registrar Controller  Infrastructure  \n",
       "22             Chiliz (CHZ) token     Token (NFT)  \n",
       "23      Linea: L1 Message Service           Other  \n",
       "24            ApeCoin (APE) token     Token (NFT)  "
      ]
     },
     "execution_count": 177,
     "metadata": {},
     "output_type": "execute_result"
    }
   ],
   "source": [
    "top25_addresses"
   ]
  },
  {
   "cell_type": "code",
   "execution_count": 178,
   "id": "f87ac60b-4e25-414b-ac41-36a8a7eb8c22",
   "metadata": {
    "execution": {
     "iopub.execute_input": "2025-01-04T00:20:36.001281Z",
     "iopub.status.busy": "2025-01-04T00:20:36.000810Z",
     "iopub.status.idle": "2025-01-04T00:20:36.346834Z",
     "shell.execute_reply": "2025-01-04T00:20:36.346145Z",
     "shell.execute_reply.started": "2025-01-04T00:20:36.001242Z"
    }
   },
   "outputs": [
    {
     "data": {
      "image/png": "[encoded data removed]",
      "text/plain": [
       "<Figure size 1000x600 with 1 Axes>"
      ]
     },
     "metadata": {},
     "output_type": "display_data"
    }
   ],
   "source": [
    "category_percentage = top25_addresses.groupby('category')['count'].sum() / top25_addresses['count'].sum() * 100\n",
    "\n",
    "plt.figure(figsize=(10, 6))\n",
    "category_percentage.sort_values().plot(kind='barh', color='skyblue')\n",
    "\n",
    "plt.title('TOP-25 Recipients by Category, %', fontsize=14) ########## ЗМІНИТИ Назву\n",
    "# plt.xlabel('Percentage (%)', fontsize=12)\n",
    "plt.ylabel('  ', fontsize=12)\n",
    "plt.xticks(fontsize=10)\n",
    "plt.yticks(fontsize=10)\n",
    "plt.grid(axis='x', linestyle='--', alpha=0.7)\n",
    "\n",
    "plt.tight_layout()\n",
    "plt.show()\n"
   ]
  },
  {
   "cell_type": "markdown",
   "id": "956ee218-e16f-45ec-8388-d8e57a245f2c",
   "metadata": {},
   "source": [
    "#### CONCLUSION"
   ]
  },
  {
   "cell_type": "code",
   "execution_count": null,
   "id": "8b59707c-b4a8-4b80-8168-11ad38fe4ad8",
   "metadata": {},
   "outputs": [],
   "source": []
  }
 ],
 "metadata": {
  "kernelspec": {
   "display_name": "Python (myenv)",
   "language": "python",
   "name": "myenv"
  },
  "language_info": {
   "codemirror_mode": {
    "name": "ipython",
    "version": 3
   },
   "file_extension": ".py",
   "mimetype": "text/x-python",
   "name": "python",
   "nbconvert_exporter": "python",
   "pygments_lexer": "ipython3",
   "version": "3.11.1"
  }
 },
 "nbformat": 4,
 "nbformat_minor": 5
}
