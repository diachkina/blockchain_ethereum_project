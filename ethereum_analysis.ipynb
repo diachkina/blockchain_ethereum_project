{
 "cells": [
  {
   "cell_type": "markdown",
   "id": "a61322d3-ef83-4006-a674-5ce6a6422609",
   "metadata": {},
   "source": [
    "### Introduction\n",
    "\n",
    "This project aims to analyze the first transactions of new wallets in the Ethereum network. For simplicity, the term \"new wallets\" refers to all addresses, including a small proportion (1%) of smart contracts. The study investigates various aspects of these transactions to provide insights into their nature, gas usage, and associated contract functionality.\n",
    "\n",
    "***\n",
    "\n",
    "### Data Collection**\n",
    "\n",
    "The dataset for this project was retrieved from **Google Cloud** and loaded into a DataFrame (`df`).\n",
    "\n",
    "#### Description:\n",
    "- The **population** of new wallets' first outgoing transactions in **2023** contained over **25 million rows**.\n",
    "- Even a **1% random sample** of the population was substantial in size.\n",
    "- To make the analysis more manageable, a subset of **20,000 rows** was selected from the 1% sample.\n",
    "\n",
    "#### Validation of the Sample:\n",
    "- The sample was validated for representativeness:\n",
    "  - The percentage of **contract addresses** and **zero-value transactions** in the sample matched the percentages in the full population.\n",
    "- This confirmed that the sample was statistically reliable for analysis.\n",
    "\n",
    "#### Note:\n",
    "- The table `first_transactions_sample_with_input` was previously created using **SQL queries** in **BigQuery**.\n",
    "- All SQL queries used for this project are saved in the file `BigQueryQueries.md`.\n",
    "\n",
    "***\n",
    "\n",
    "### Terminology\n",
    "\n",
    "#### **Wallet**\n",
    "   A wallet refers to a unique Ethereum address used by individuals to send, receive, and store cryptocurrency. Wallets can be of two types:\n",
    "   - **Externally Owned Accounts (EOA)**: Controlled by private keys, used by regular users.\n",
    "   - **Contract Accounts**: Smart contracts deployed on the Ethereum blockchain with their own address.\n",
    "#### **Transaction**\n",
    "   A transaction is a recorded action on the Ethereum blockchain, such as transferring cryptocurrency or interacting with a smart contract. \n",
    "#### **Transaction Types in Ethereum**\n",
    "Ethereum supports three main transaction types, each with its own characteristics and improvements:\n",
    "1. **Type 0 (Legacy Transactions)** - offers simplicity but lacks efficiency in dynamic fee adjustments.\n",
    "2. **Type 1 (EIP-2930 Access List Transactions)** - useful for smart contract interactions with predefined storage.\n",
    "3. **Type 2 (EIP-1559 Transactions)** - enhances user experience with more predictable fees and improved scalability.\n",
    "#### **Gas**\n",
    "   Gas is a unit of measurement representing the computational effort required to execute operations on the Ethereum network. Key terms include:\n",
    "   - **Estimated Gas**: The pre-calculated amount of gas required to execute a transaction.\n",
    "   - **Used Gas**: The actual amount of gas consumed during transaction execution.\n",
    "   - **Gas Price**: The amount a user is willing to pay per unit of gas, typically measured in Gwei.\n",
    "#### **Smart Contract**\n",
    "   A smart contract is a self-executing program stored on the Ethereum blockchain. It automates actions like fund transfers, token issuance, or decentralized application logic.\n",
    "#### **Stablecoin**\n",
    "   A type of cryptocurrency pegged to the value of a stable asset, such as the US dollar. Examples include USDT (Tether) and USDC (USD Coin).\n",
    "#### **Token (NFT)**\n",
    "   Tokens are assets created on top of the Ethereum blockchain. Non-Fungible Tokens (NFTs) represent unique digital items, such as artwork or collectibles.\n",
    "#### **Top Contract Addresses**\n",
    "   Frequently used contract addresses that often serve as destinations for transactions. They can represent various functionalities like stablecoins, decentralized exchanges (DEX), or NFT platforms.\n",
    "#### **Wei**:\n",
    "   - The smallest unit of Ether.\n",
    "   - 1 Ether = **10¹⁸ Wei**.\n",
    "   - Values in the dataset, such as `value`, are typically stored in Wei for precision.\n",
    "#### **Ether (ETH)**:\n",
    "   - The primary currency used on the Ethereum blockchain.\n",
    "   - Used for transactions, gas fees, and smart contract interactions.\n",
    "   - To convert Wei to Ether: divide by **10¹⁸** (e.g., `1 ETH = 1,000,000,000,000,000,000 Wei`).\n",
    "\n",
    "***\n",
    "\n",
    "#### Key Steps:\n",
    "1. **Data Collection**:\n",
    "   - Identified the first transactions from all newly created wallets (25,270,041 transactions in total).\n",
    "   - Selected a random sample of 20,000 transactions for detailed analysis.\n",
    "2. **Transaction Classification**:\n",
    "   - Categorized transactions by their direction:\n",
    "     - **Wallet-to-Wallet**: Transfers between regular wallets (users).\n",
    "     - **Wallet-to-Contract**: Transfers from wallets to smart contracts.\n",
    "     - **Contract**: Transfers from contracts.\n",
    "3. **Transaction Size Analysis**:\n",
    "   - Explored the size and volume of these transactions, focusing on gas usage and its distribution.\n",
    "4. **Gas Usage Analysis**:\n",
    "   - Compared **estimated gas** (pre-transaction calculation) with **actual gas used** to evaluate efficiency across transaction types.\n",
    "5. **Transaction Types**:\n",
    "    - Determined the transaction types (Type 0, Type 1, Type 2) used for sending these transfers.\n",
    "7. **Top-25 Contract Addresses**:\n",
    "   - Identified the top 25 most frequently targeted contract addresses.\n",
    "   - Classified these contracts based on their functionality, including stablecoins, NFTs, DeFi, and others.\n",
    "8. **Statistical Analysis**:\n",
    "   - Conducted a statistical test that revealed systematic overestimation of gas by stablecoin contracts compared to other contract categories.\n",
    "\n",
    "This project provides a detailed understanding of Ethereum's transaction dynamics, focusing on gas usage patterns and the functional behavior of smart contracts.\n"
   ]
  },
  {
   "cell_type": "markdown",
   "id": "8bd7ccd0-06c3-4709-9c44-a578b6d37c0f",
   "metadata": {},
   "source": [
    "### Column Descriptions\n",
    "\n",
    "Below is an explanation of the columns used in this project:\n",
    "\n",
    "### Column Descriptions\n",
    "\n",
    "Below is an explanation of the columns used in the dataset:\n",
    "\n",
    "1. **`from_address`**:\n",
    "   - The Ethereum address initiating the transaction.\n",
    "   - Represents either a wallet (EOA) or a smart contract.\n",
    "2. **`first_transaction_time`**:\n",
    "   - The timestamp of the first transaction sent by the address.\n",
    "3. **`to_address`**:\n",
    "   - The recipient Ethereum address.\n",
    "   - Can be another wallet or a smart contract.\n",
    "4. **`value`, wei**:\n",
    "   - The amount of Ether transferred in the transaction, measured in Wei.\n",
    "   - A value of `0` often indicates interactions with contracts without transferring funds.\n",
    "5. **`input`**:\n",
    "   - The data payload sent with the transaction, typically used for contract interactions.\n",
    "   - For example, it may contain encoded parameters for a contract function.\n",
    "6. **`gas`**:\n",
    "   - The maximum amount of gas the sender is willing to pay for the transaction.\n",
    "   - Represents the estimated computational cost.\n",
    "7. **`gas_price`**:\n",
    "   - The price per unit of gas, measured in Gwei.\n",
    "   - Determines the total transaction fee along with the gas used.\n",
    "8. **`transaction_type`**:\n",
    "   - The type of transaction (0, 1 or 2)\n",
    "9. **`receipt_gas_used`**:\n",
    "   - The actual amount of gas consumed during the transaction.\n",
    "   - Provides insight into the efficiency of the transaction compared to the estimated gas.\n"
   ]
  },
  {
   "cell_type": "markdown",
   "id": "4d97b5b7-08cb-4ff5-b307-c5da6a0026e5",
   "metadata": {},
   "source": [
    "### **1. Import all neccessery libraries.**"
   ]
  },
  {
   "cell_type": "code",
   "execution_count": 1,
   "id": "6341ccc2-c404-45a0-a833-4ae8cd827a87",
   "metadata": {
    "execution": {
     "iopub.execute_input": "2025-01-17T15:49:34.384173Z",
     "iopub.status.busy": "2025-01-17T15:49:34.383587Z",
     "iopub.status.idle": "2025-01-17T15:49:37.444868Z",
     "shell.execute_reply": "2025-01-17T15:49:37.443880Z",
     "shell.execute_reply.started": "2025-01-17T15:49:34.384045Z"
    }
   },
   "outputs": [],
   "source": [
    "import calendar\n",
    "import json\n",
    "import os\n",
    "import time\n",
    "\n",
    "import matplotlib.pyplot as plt\n",
    "import numpy as np\n",
    "import pandas as pd\n",
    "import requests\n",
    "import seaborn as sns\n",
    "from google.cloud import bigquery\n",
    "from matplotlib.colors import to_rgba\n",
    "from scipy.stats import mannwhitneyu, norm\n"
   ]
  },
  {
   "cell_type": "markdown",
   "id": "ea4745ca-c805-4ac3-9dbe-b99a41e78855",
   "metadata": {},
   "source": [
    "### **2. Data Collection**\n",
    "\n",
    "#### Note:\n",
    "- The table `first_transactions_sample_with_input` was previously created using **SQL queries** in **BigQuery**.\n",
    "- All SQL queries used for this project are stored in the file `query_ethereum_project.txt`.\n"
   ]
  },
  {
   "cell_type": "code",
   "execution_count": 2,
   "id": "3193b232-9d6e-40c8-b2aa-c0416053265c",
   "metadata": {
    "execution": {
     "iopub.execute_input": "2025-01-17T15:49:41.383523Z",
     "iopub.status.busy": "2025-01-17T15:49:41.382710Z",
     "iopub.status.idle": "2025-01-17T15:49:41.389388Z",
     "shell.execute_reply": "2025-01-17T15:49:41.388074Z",
     "shell.execute_reply.started": "2025-01-17T15:49:41.383477Z"
    }
   },
   "outputs": [],
   "source": [
    "os.environ['GOOGLE_APPLICATION_CREDENTIALS'] = 'my-project-444222-1be5aecf7dbb.json'"
   ]
  },
  {
   "cell_type": "code",
   "execution_count": 3,
   "id": "ce58c1b4-2133-4e83-87b5-6ed016eb75d6",
   "metadata": {
    "execution": {
     "iopub.execute_input": "2025-01-17T15:49:43.471154Z",
     "iopub.status.busy": "2025-01-17T15:49:43.470612Z",
     "iopub.status.idle": "2025-01-17T15:49:46.193736Z",
     "shell.execute_reply": "2025-01-17T15:49:46.193076Z",
     "shell.execute_reply.started": "2025-01-17T15:49:43.471113Z"
    }
   },
   "outputs": [],
   "source": [
    "client = bigquery.Client()\n",
    "\n",
    "query = \"\"\"\n",
    "SELECT *\n",
    "FROM `my-project-444222.wallets_2023.first_transactions_sample_with_input`\n",
    "\"\"\"\n",
    "df = client.query(query).to_dataframe()"
   ]
  },
  {
   "cell_type": "markdown",
   "id": "39c23abb-db32-435c-9fea-d0496f9ffde7",
   "metadata": {},
   "source": [
    "### **3. DataFrame Inspection**\n",
    "\n",
    "The dataset was loaded into a DataFrame with the following structure:\n"
   ]
  },
  {
   "cell_type": "code",
   "execution_count": 4,
   "id": "e03d38d9-ad31-4d58-adca-c829a33cb77d",
   "metadata": {
    "execution": {
     "iopub.execute_input": "2025-01-17T15:49:47.228136Z",
     "iopub.status.busy": "2025-01-17T15:49:47.227660Z",
     "iopub.status.idle": "2025-01-17T15:49:47.250395Z",
     "shell.execute_reply": "2025-01-17T15:49:47.249675Z",
     "shell.execute_reply.started": "2025-01-17T15:49:47.228095Z"
    }
   },
   "outputs": [
    {
     "data": {
      "text/html": [
       "<div>\n",
       "<style scoped>\n",
       "    .dataframe tbody tr th:only-of-type {\n",
       "        vertical-align: middle;\n",
       "    }\n",
       "\n",
       "    .dataframe tbody tr th {\n",
       "        vertical-align: top;\n",
       "    }\n",
       "\n",
       "    .dataframe thead th {\n",
       "        text-align: right;\n",
       "    }\n",
       "</style>\n",
       "<table border=\"1\" class=\"dataframe\">\n",
       "  <thead>\n",
       "    <tr style=\"text-align: right;\">\n",
       "      <th></th>\n",
       "      <th>from_address</th>\n",
       "      <th>first_transaction_time</th>\n",
       "      <th>to_address</th>\n",
       "      <th>value</th>\n",
       "      <th>input</th>\n",
       "      <th>gas</th>\n",
       "      <th>gas_price</th>\n",
       "      <th>transaction_type</th>\n",
       "      <th>receipt_gas_used</th>\n",
       "    </tr>\n",
       "  </thead>\n",
       "  <tbody>\n",
       "    <tr>\n",
       "      <th>0</th>\n",
       "      <td>0x6475e88ef19683a1345866398f45ab2549dbd621</td>\n",
       "      <td>2023-01-20 23:53:23+00:00</td>\n",
       "      <td>0xa0b86991c6218b36c1d19d4a2e9eb0ce3606eb48</td>\n",
       "      <td>0E-9</td>\n",
       "      <td>0xa9059cbb000000000000000000000000bb3fd383d1c5...</td>\n",
       "      <td>63429</td>\n",
       "      <td>25123969051</td>\n",
       "      <td>0</td>\n",
       "      <td>43725</td>\n",
       "    </tr>\n",
       "    <tr>\n",
       "      <th>1</th>\n",
       "      <td>0x49a64a902c99bf44e159d17a8b334d0c054dc612</td>\n",
       "      <td>2023-11-04 02:29:35+00:00</td>\n",
       "      <td>0xdef1c0ded9bec7f1a1670819833240f027b25eff</td>\n",
       "      <td>2718019107674500.000000000</td>\n",
       "      <td>0x3598d8ab000000000000000000000000000000000000...</td>\n",
       "      <td>171677</td>\n",
       "      <td>13626377233</td>\n",
       "      <td>2</td>\n",
       "      <td>140381</td>\n",
       "    </tr>\n",
       "    <tr>\n",
       "      <th>2</th>\n",
       "      <td>0xa6481f04f959be573f85bafa962dd5716c75036f</td>\n",
       "      <td>2023-02-13 07:51:59+00:00</td>\n",
       "      <td>0x7fc66500c84a76ad7e9c93437bfc5ac33e2ddae9</td>\n",
       "      <td>0E-9</td>\n",
       "      <td>0xa9059cbb000000000000000000000000c610ff51929c...</td>\n",
       "      <td>316657</td>\n",
       "      <td>14899917470</td>\n",
       "      <td>2</td>\n",
       "      <td>226075</td>\n",
       "    </tr>\n",
       "    <tr>\n",
       "      <th>3</th>\n",
       "      <td>0x8f0ab55f38f530345d271600eb3c0d08c1df19df</td>\n",
       "      <td>2023-06-12 12:18:11+00:00</td>\n",
       "      <td>0x8e16bf47065fe843a82f4399baf5abac4e0822b7</td>\n",
       "      <td>0E-9</td>\n",
       "      <td>0xa9059cbb000000000000000000000000c30badb28e20...</td>\n",
       "      <td>62243</td>\n",
       "      <td>15750000000</td>\n",
       "      <td>0</td>\n",
       "      <td>56963</td>\n",
       "    </tr>\n",
       "    <tr>\n",
       "      <th>4</th>\n",
       "      <td>0x92508951402cf163ace0e23424b1d888e13c093b</td>\n",
       "      <td>2023-09-14 13:06:59+00:00</td>\n",
       "      <td>0xa0b86991c6218b36c1d19d4a2e9eb0ce3606eb48</td>\n",
       "      <td>0E-9</td>\n",
       "      <td>0xa9059cbb0000000000000000000000001689a089aa12...</td>\n",
       "      <td>170000</td>\n",
       "      <td>33000000000</td>\n",
       "      <td>0</td>\n",
       "      <td>43701</td>\n",
       "    </tr>\n",
       "  </tbody>\n",
       "</table>\n",
       "</div>"
      ],
      "text/plain": [
       "                                 from_address    first_transaction_time  \\\n",
       "0  0x6475e88ef19683a1345866398f45ab2549dbd621 2023-01-20 23:53:23+00:00   \n",
       "1  0x49a64a902c99bf44e159d17a8b334d0c054dc612 2023-11-04 02:29:35+00:00   \n",
       "2  0xa6481f04f959be573f85bafa962dd5716c75036f 2023-02-13 07:51:59+00:00   \n",
       "3  0x8f0ab55f38f530345d271600eb3c0d08c1df19df 2023-06-12 12:18:11+00:00   \n",
       "4  0x92508951402cf163ace0e23424b1d888e13c093b 2023-09-14 13:06:59+00:00   \n",
       "\n",
       "                                   to_address                       value  \\\n",
       "0  0xa0b86991c6218b36c1d19d4a2e9eb0ce3606eb48                        0E-9   \n",
       "1  0xdef1c0ded9bec7f1a1670819833240f027b25eff  2718019107674500.000000000   \n",
       "2  0x7fc66500c84a76ad7e9c93437bfc5ac33e2ddae9                        0E-9   \n",
       "3  0x8e16bf47065fe843a82f4399baf5abac4e0822b7                        0E-9   \n",
       "4  0xa0b86991c6218b36c1d19d4a2e9eb0ce3606eb48                        0E-9   \n",
       "\n",
       "                                               input     gas    gas_price  \\\n",
       "0  0xa9059cbb000000000000000000000000bb3fd383d1c5...   63429  25123969051   \n",
       "1  0x3598d8ab000000000000000000000000000000000000...  171677  13626377233   \n",
       "2  0xa9059cbb000000000000000000000000c610ff51929c...  316657  14899917470   \n",
       "3  0xa9059cbb000000000000000000000000c30badb28e20...   62243  15750000000   \n",
       "4  0xa9059cbb0000000000000000000000001689a089aa12...  170000  33000000000   \n",
       "\n",
       "   transaction_type  receipt_gas_used  \n",
       "0                 0             43725  \n",
       "1                 2            140381  \n",
       "2                 2            226075  \n",
       "3                 0             56963  \n",
       "4                 0             43701  "
      ]
     },
     "execution_count": 4,
     "metadata": {},
     "output_type": "execute_result"
    }
   ],
   "source": [
    "df.head(5)"
   ]
  },
  {
   "cell_type": "code",
   "execution_count": 5,
   "id": "73a3b4a7-946a-4f2f-a3ff-f42e5fab3f53",
   "metadata": {
    "execution": {
     "iopub.execute_input": "2025-01-17T15:49:49.101653Z",
     "iopub.status.busy": "2025-01-17T15:49:49.101178Z",
     "iopub.status.idle": "2025-01-17T15:49:49.124464Z",
     "shell.execute_reply": "2025-01-17T15:49:49.123730Z",
     "shell.execute_reply.started": "2025-01-17T15:49:49.101616Z"
    }
   },
   "outputs": [
    {
     "name": "stdout",
     "output_type": "stream",
     "text": [
      "<class 'pandas.core.frame.DataFrame'>\n",
      "RangeIndex: 20000 entries, 0 to 19999\n",
      "Data columns (total 9 columns):\n",
      " #   Column                  Non-Null Count  Dtype              \n",
      "---  ------                  --------------  -----              \n",
      " 0   from_address            20000 non-null  object             \n",
      " 1   first_transaction_time  20000 non-null  datetime64[us, UTC]\n",
      " 2   to_address              19867 non-null  object             \n",
      " 3   value                   20000 non-null  object             \n",
      " 4   input                   20000 non-null  object             \n",
      " 5   gas                     20000 non-null  Int64              \n",
      " 6   gas_price               20000 non-null  Int64              \n",
      " 7   transaction_type        20000 non-null  Int64              \n",
      " 8   receipt_gas_used        20000 non-null  Int64              \n",
      "dtypes: Int64(4), datetime64[us, UTC](1), object(4)\n",
      "memory usage: 1.4+ MB\n"
     ]
    },
    {
     "data": {
      "text/plain": [
       "(None, (20000, 9))"
      ]
     },
     "execution_count": 5,
     "metadata": {},
     "output_type": "execute_result"
    }
   ],
   "source": [
    "df.info(), df.shape"
   ]
  },
  {
   "cell_type": "markdown",
   "id": "c0701f86-41cc-4d5b-ae64-7cf11d6bad1d",
   "metadata": {},
   "source": [
    "### Column Adjustments\n",
    "\n",
    "#### `to_address`:\n",
    "- **Description from the original BigQuery table**:\n",
    "  > \"STRING - NULLABLE - Address of the receiver. NULL when it’s a contract creation transaction.\"\n",
    "- **Interpretation**:\n",
    "  - Rows with a `NULL` value in the `to_address` column indicate a **contract creation transaction**.\n",
    "- **Action Taken**:\n",
    "  - Replaced all `NULL` values in the `to_address` column with the string `'Contract'` for clarity.\n",
    "\n",
    "#### `value`:\n",
    "- **Initial State**:\n",
    "  - Stored as an **object**.\n",
    "- **Action Taken**:\n",
    "  - Converted the `value` column to a **numeric type** to enable further analysis of transaction amounts.\n",
    " \n",
    "#### `transaction_type`:\n",
    "- **Initial State**:\n",
    "  - Stored as an **integer**.\n",
    "- **Action Taken**:\n",
    "  - Converted the `transaction_type` column to a **string** type, as it represents a categorical variable (e.g., Type 0, Type 1, Type 2).\n",
    "    "
   ]
  },
  {
   "cell_type": "code",
   "execution_count": 6,
   "id": "2f399579-122a-4914-9cd1-ed5164b0f629",
   "metadata": {
    "execution": {
     "iopub.execute_input": "2025-01-17T15:49:51.552120Z",
     "iopub.status.busy": "2025-01-17T15:49:51.551606Z",
     "iopub.status.idle": "2025-01-17T15:49:51.645870Z",
     "shell.execute_reply": "2025-01-17T15:49:51.643716Z",
     "shell.execute_reply.started": "2025-01-17T15:49:51.552081Z"
    }
   },
   "outputs": [],
   "source": [
    "df = df.fillna('Contract')\n",
    "df['value'] = pd.to_numeric(df['value'], errors='coerce')\n",
    "df['transaction_type'] = df['transaction_type'].astype('str')"
   ]
  },
  {
   "cell_type": "markdown",
   "id": "ee869a51-2746-4371-87f0-0dee50524b58",
   "metadata": {},
   "source": [
    "### **4. Extract Bytes Signatures from Input and Decode Them**\n",
    "\n",
    "#### Key Concepts:\n",
    "- **Bytes Signature**:\n",
    "  - The **first 10 symbols** of the `input` column in a transaction.\n",
    "  - Represents a unique identifier of the function being called in a smart contract.\n",
    "  - Can be decoded into a **readable text signature**, which provides the name of the function being executed.\n",
    "- **Function**:\n",
    "  - The specific action that a smart contract executes when called.\n",
    "  - Examples: `transfer(address,uint256)`, `approve(address,uint256)`.\n",
    "- **Smart Contract**:\n",
    "  - A self-executing program on the Ethereum blockchain that automates predefined actions based on the transaction input.\n",
    "    \n",
    "#### Special Case:\n",
    "- If the **Bytes Signature** is `0x`:\n",
    "  - This indicates that the transaction does not involve a smart contract.\n",
    "  - Such transactions are classified as **Transfers** (direct transfers between two wallets).\n",
    "\n",
    "#### Actions Taken:\n",
    "1. Extracted the first 10 symbols from the `input` column and saved them as **Bytes Signatures**.\n",
    "2. Decoded these signatures into their corresponding **Function Names** using a decoding library or API (e.g., [4byte.directory](https://www.4byte.directory/)).\n",
    "3. Classified transactions:\n",
    "   - **Transfers** (if signature is `0x`).\n",
    "   - **Smart Contract Interactions** (if a valid signature is present).\n",
    "\n",
    "This step allows us to distinguish simple wallet-to-wallet transactions from more complex interactions involving smart contracts.\n"
   ]
  },
  {
   "cell_type": "markdown",
   "id": "19af186c-5b70-4bc0-9517-25df71d21290",
   "metadata": {},
   "source": [
    "#### 4.1 **Extract Bytes Signatures**:\n",
    "   - Extracted the **first 10 symbols** from the `input` column to create a new column, `signature`:\n",
    "   - Identified unique byte signatures using:\n",
    "   - Analyzed the frequency of the top 5 most common signatures:"
   ]
  },
  {
   "cell_type": "code",
   "execution_count": 7,
   "id": "e909c03a-998e-441a-84e2-fb31f347b7dc",
   "metadata": {
    "execution": {
     "iopub.execute_input": "2025-01-17T15:50:00.723565Z",
     "iopub.status.busy": "2025-01-17T15:50:00.722978Z",
     "iopub.status.idle": "2025-01-17T15:50:00.743060Z",
     "shell.execute_reply": "2025-01-17T15:50:00.741802Z",
     "shell.execute_reply.started": "2025-01-17T15:50:00.723505Z"
    }
   },
   "outputs": [
    {
     "data": {
      "text/plain": [
       "signature\n",
       "0x            8770\n",
       "0xa9059cbb    5087\n",
       "0x095ea7b3     974\n",
       "0xeb672419     859\n",
       "0x3593564c     401\n",
       "Name: count, dtype: int64"
      ]
     },
     "execution_count": 7,
     "metadata": {},
     "output_type": "execute_result"
    }
   ],
   "source": [
    "df['signature'] = df['input'].str[:10]\n",
    "unique_signatures = df['signature'].unique()\n",
    "df['signature'].value_counts().head(5)"
   ]
  },
  {
   "cell_type": "markdown",
   "id": "ee01dc30-f7f0-40c3-ab6e-8015d1e4bae0",
   "metadata": {},
   "source": [
    "#### 4.2 **Decode Function Names**:"
   ]
  },
  {
   "cell_type": "code",
   "execution_count": 8,
   "id": "b2a61f3c-2653-494a-b096-5b35ff48970e",
   "metadata": {
    "execution": {
     "iopub.execute_input": "2025-01-17T15:50:04.036526Z",
     "iopub.status.busy": "2025-01-17T15:50:04.036032Z",
     "iopub.status.idle": "2025-01-17T15:50:04.046808Z",
     "shell.execute_reply": "2025-01-17T15:50:04.045457Z",
     "shell.execute_reply.started": "2025-01-17T15:50:04.036487Z"
    }
   },
   "outputs": [],
   "source": [
    "def get_function(signature_list):\n",
    "    \"\"\"\n",
    "    Decodes a list of Ethereum function signatures using the 4byte.directory API.\n",
    "\n",
    "    Args:\n",
    "        signature_list (list): List of hexadecimal function signatures (e.g., ['0x095ea7b3']).\n",
    "\n",
    "    Returns:\n",
    "        dict: A dictionary mapping each signature to its decoded function name or 'Unknown'.\n",
    "    \"\"\"\n",
    "    decoded = {}\n",
    "    for signature in signature_list:\n",
    "        if signature == '0x':\n",
    "            decoded[signature] = 'Transfer'\n",
    "            continue \n",
    "        url = f\"https://www.4byte.directory/api/v1/signatures/?hex_signature={signature}\"\n",
    "        response = requests.get(url)\n",
    "        if response.status_code == 200:\n",
    "            results = response.json().get('results', [])\n",
    "            decoded[signature] = results[0]['text_signature'] if results else \"Unknown\"\n",
    "        else:\n",
    "            decoded[signature] = \"API error\"\n",
    "    return decoded\n"
   ]
  },
  {
   "cell_type": "code",
   "execution_count": 9,
   "id": "b996d311-714f-42ea-ac6c-66b10c737dae",
   "metadata": {
    "execution": {
     "iopub.execute_input": "2025-01-17T15:50:07.345997Z",
     "iopub.status.busy": "2025-01-17T15:50:07.345518Z",
     "iopub.status.idle": "2025-01-17T15:51:03.610638Z",
     "shell.execute_reply": "2025-01-17T15:51:03.609423Z",
     "shell.execute_reply.started": "2025-01-17T15:50:07.345959Z"
    },
    "scrolled": true
   },
   "outputs": [
    {
     "data": {
      "text/plain": [
       "function\n",
       "Transfer                                                                       8770\n",
       "workMyDirefulOwner(uint256,uint256)                                            5087\n",
       "_SIMONdotBLACK_(int8[],int224[],int256,int64,uint248[])                         974\n",
       "requestL2Transaction(address,uint256,bytes,uint256,uint256,bytes[],address)     859\n",
       "Unknown                                                                         838\n",
       "Name: count, dtype: int64"
      ]
     },
     "execution_count": 9,
     "metadata": {},
     "output_type": "execute_result"
    }
   ],
   "source": [
    "decoded_results = get_function(unique_signatures)\n",
    "df['function'] = df['signature'].map(decoded_results)\n",
    "df.function.value_counts().head(5)"
   ]
  },
  {
   "cell_type": "markdown",
   "id": "d484b58d-6da6-4f8e-9de9-08ed48e68748",
   "metadata": {},
   "source": [
    "#### 4.3 **Collision in Bytes Code**:\n",
    "   - Observed unexpected function names due to **collision in Bytes Code** (when different functions produce the same byte signature).\n",
    "   - Verified the signatures manually using [4byte.directory](https://www.4byte.directory/).\n",
    "   - Updated incorrect function names using a custom function:"
   ]
  },
  {
   "cell_type": "code",
   "execution_count": 10,
   "id": "22b3ad44-cfaf-462d-aeff-0c907aa1e145",
   "metadata": {
    "execution": {
     "iopub.execute_input": "2025-01-17T15:51:30.399065Z",
     "iopub.status.busy": "2025-01-17T15:51:30.398571Z",
     "iopub.status.idle": "2025-01-17T15:51:30.411636Z",
     "shell.execute_reply": "2025-01-17T15:51:30.410595Z",
     "shell.execute_reply.started": "2025-01-17T15:51:30.399026Z"
    }
   },
   "outputs": [],
   "source": [
    "def fixed_func_names(func_name):\n",
    "    \"\"\"\n",
    "    Corrects specific function names caused by signature collisions or decoding issues.\n",
    "    \n",
    "    Args:\n",
    "        func_name (str): The original function name from decoding.\n",
    "\n",
    "    Returns:\n",
    "        str: The corrected function name if a match is found; otherwise, the original name.\n",
    "    \"\"\"\n",
    "    if func_name == 'workMyDirefulOwner(uint256,uint256)':\n",
    "        return 'transfer(address,uint256)'\n",
    "    elif func_name == '_SIMONdotBLACK_(int8[],int224[],int256,int64,uint248[])':\n",
    "        return 'approve(address,uint256)'\n",
    "    elif func_name == 'join_tg_invmru_haha_9f4805a(bool,uint256)':\n",
    "        return 'swapExactETHForTokensSupportingFeeOnTransferTokens(uint256,address[],address,uint256)'\n",
    "    return func_name\n",
    "\n",
    "df['function'] = df['function'].apply(fixed_func_names)"
   ]
  },
  {
   "cell_type": "markdown",
   "id": "86e83749-6516-447b-b68e-aec8bebaf494",
   "metadata": {},
   "source": [
    "#### Final Adjustments:\n",
    "- Replaced incorrect function names to ensure accuracy in the dataset.\n",
    "- This step ensures that the **function column** contains meaningful and correct function names for further analysis."
   ]
  },
  {
   "cell_type": "code",
   "execution_count": 11,
   "id": "563235e8-afb4-469d-b729-adfc06dc3542",
   "metadata": {
    "execution": {
     "iopub.execute_input": "2025-01-17T15:51:32.451909Z",
     "iopub.status.busy": "2025-01-17T15:51:32.451422Z",
     "iopub.status.idle": "2025-01-17T15:51:32.462754Z",
     "shell.execute_reply": "2025-01-17T15:51:32.461531Z",
     "shell.execute_reply.started": "2025-01-17T15:51:32.451870Z"
    }
   },
   "outputs": [
    {
     "data": {
      "text/plain": [
       "function\n",
       "Transfer                                                                       8770\n",
       "transfer(address,uint256)                                                      5087\n",
       "approve(address,uint256)                                                        974\n",
       "requestL2Transaction(address,uint256,bytes,uint256,uint256,bytes[],address)     859\n",
       "Unknown                                                                         838\n",
       "Name: count, dtype: int64"
      ]
     },
     "execution_count": 11,
     "metadata": {},
     "output_type": "execute_result"
    }
   ],
   "source": [
    "df.function.value_counts().head(5)"
   ]
  },
  {
   "cell_type": "markdown",
   "id": "3808d734-113d-417a-9e13-db6628e12b23",
   "metadata": {},
   "source": [
    "### Function Analysis\n",
    "\n",
    "#### Summary of Most Common Functions:\n",
    "The top functions decoded from the dataset are as follows:\n",
    "\n",
    "#### Interpretation:\n",
    "- The **Transfer** function (8,770 occurrences) represents transactions between **Externally Owned Accounts (EOA)** . These are simple Ether transfers without interaction with smart contracts.\n",
    "- Other functions, such as `transfer(address,uint256)` and `approve(address,uint256)`, are associated with **smart contracts** or **inner blockchain processes**, indicating more complex interactions.\n",
    "\n",
    "#### Conclusion:\n",
    "- Excluding **8,770 Transfers**, all other transactions in the dataset involve interactions with **smart contracts** or **internal blockchain mechanisms**.\n",
    "- This suggests a significant portion of Ethereum activity is driven by contract interactions rather than simple wallet transfers.\n"
   ]
  },
  {
   "cell_type": "markdown",
   "id": "0d1be90f-6b7f-4dc0-a435-754e03477a13",
   "metadata": {},
   "source": [
    "### **5. Analysis of the First Transactions Purposes**\n",
    "\n",
    "#### Excluding Contract Addresses:\n",
    "After filtering out transactions involving contract addresses, the dataset was analyzed for  transfers. Below is the summary of the key metrics:"
   ]
  },
  {
   "cell_type": "code",
   "execution_count": 12,
   "id": "83c7fa17-88ab-4a78-be61-010e361d13e3",
   "metadata": {
    "execution": {
     "iopub.execute_input": "2025-01-17T15:51:36.385263Z",
     "iopub.status.busy": "2025-01-17T15:51:36.384937Z",
     "iopub.status.idle": "2025-01-17T15:51:36.422124Z",
     "shell.execute_reply": "2025-01-17T15:51:36.421145Z",
     "shell.execute_reply.started": "2025-01-17T15:51:36.385241Z"
    }
   },
   "outputs": [
    {
     "data": {
      "text/html": [
       "<div>\n",
       "<style scoped>\n",
       "    .dataframe tbody tr th:only-of-type {\n",
       "        vertical-align: middle;\n",
       "    }\n",
       "\n",
       "    .dataframe tbody tr th {\n",
       "        vertical-align: top;\n",
       "    }\n",
       "\n",
       "    .dataframe thead th {\n",
       "        text-align: right;\n",
       "    }\n",
       "</style>\n",
       "<table border=\"1\" class=\"dataframe\">\n",
       "  <thead>\n",
       "    <tr style=\"text-align: right;\">\n",
       "      <th></th>\n",
       "      <th>value</th>\n",
       "      <th>gas</th>\n",
       "      <th>gas_price</th>\n",
       "      <th>receipt_gas_used</th>\n",
       "    </tr>\n",
       "  </thead>\n",
       "  <tbody>\n",
       "    <tr>\n",
       "      <th>count</th>\n",
       "      <td>8.770000e+03</td>\n",
       "      <td>8770.0</td>\n",
       "      <td>8770.0</td>\n",
       "      <td>8770.0</td>\n",
       "    </tr>\n",
       "    <tr>\n",
       "      <th>mean</th>\n",
       "      <td>9.822688e+18</td>\n",
       "      <td>27576.715165</td>\n",
       "      <td>32202855570.149033</td>\n",
       "      <td>21320.169555</td>\n",
       "    </tr>\n",
       "    <tr>\n",
       "      <th>std</th>\n",
       "      <td>4.918961e+20</td>\n",
       "      <td>30545.965764</td>\n",
       "      <td>29711920906.699932</td>\n",
       "      <td>5236.021528</td>\n",
       "    </tr>\n",
       "    <tr>\n",
       "      <th>min</th>\n",
       "      <td>0.000000e+00</td>\n",
       "      <td>21000.0</td>\n",
       "      <td>4740000000.0</td>\n",
       "      <td>21000.0</td>\n",
       "    </tr>\n",
       "    <tr>\n",
       "      <th>25%</th>\n",
       "      <td>2.074420e+16</td>\n",
       "      <td>21000.0</td>\n",
       "      <td>17000000000.0</td>\n",
       "      <td>21000.0</td>\n",
       "    </tr>\n",
       "    <tr>\n",
       "      <th>50%</th>\n",
       "      <td>6.364410e+16</td>\n",
       "      <td>21000.0</td>\n",
       "      <td>25001539939.5</td>\n",
       "      <td>21000.0</td>\n",
       "    </tr>\n",
       "    <tr>\n",
       "      <th>75%</th>\n",
       "      <td>2.356489e+17</td>\n",
       "      <td>21000.0</td>\n",
       "      <td>38000000000.0</td>\n",
       "      <td>21000.0</td>\n",
       "    </tr>\n",
       "    <tr>\n",
       "      <th>max</th>\n",
       "      <td>3.131060e+22</td>\n",
       "      <td>978136.0</td>\n",
       "      <td>1176000000000.0</td>\n",
       "      <td>270353.0</td>\n",
       "    </tr>\n",
       "  </tbody>\n",
       "</table>\n",
       "</div>"
      ],
      "text/plain": [
       "              value           gas           gas_price  receipt_gas_used\n",
       "count  8.770000e+03        8770.0              8770.0            8770.0\n",
       "mean   9.822688e+18  27576.715165  32202855570.149033      21320.169555\n",
       "std    4.918961e+20  30545.965764  29711920906.699932       5236.021528\n",
       "min    0.000000e+00       21000.0        4740000000.0           21000.0\n",
       "25%    2.074420e+16       21000.0       17000000000.0           21000.0\n",
       "50%    6.364410e+16       21000.0       25001539939.5           21000.0\n",
       "75%    2.356489e+17       21000.0       38000000000.0           21000.0\n",
       "max    3.131060e+22      978136.0     1176000000000.0          270353.0"
      ]
     },
     "execution_count": 12,
     "metadata": {},
     "output_type": "execute_result"
    }
   ],
   "source": [
    "df[df['function'] == 'Transfer'].describe()"
   ]
  },
  {
   "cell_type": "markdown",
   "id": "135c14c3-df29-4f8e-8216-b0722d04b756",
   "metadata": {},
   "source": [
    "The dataset contains heterogeneous data, including transactions with a **value of 0.00 ETH**. This raised the question:  \n",
    "**Why would someone send 0 ETH if it is NOT a contract-related transaction?**\n",
    "\n",
    "#### 5.1. How Many Zero Transactions Among User Transfers?"
   ]
  },
  {
   "cell_type": "code",
   "execution_count": 13,
   "id": "aaaa0bf7-336a-453e-a9e5-5860a0d7886d",
   "metadata": {
    "execution": {
     "iopub.execute_input": "2025-01-17T15:51:38.206189Z",
     "iopub.status.busy": "2025-01-17T15:51:38.205656Z",
     "iopub.status.idle": "2025-01-17T15:51:38.218551Z",
     "shell.execute_reply": "2025-01-17T15:51:38.217497Z",
     "shell.execute_reply.started": "2025-01-17T15:51:38.206151Z"
    }
   },
   "outputs": [
    {
     "data": {
      "text/plain": [
       "92"
      ]
     },
     "execution_count": 13,
     "metadata": {},
     "output_type": "execute_result"
    }
   ],
   "source": [
    "df[(df['function'] == 'Transfer') & (df['value'] == 0.00)].shape[0]"
   ]
  },
  {
   "cell_type": "markdown",
   "id": "4b319cca-4c95-423e-bb5e-00caac3e08fc",
   "metadata": {},
   "source": [
    "**92 transactions** in the dataset had a `value` of 0 ETH, classified as Transfers, mean they belong **Externally Owned Accounts (EOA)**: Controlled by private keys, used by regular users. "
   ]
  },
  {
   "cell_type": "markdown",
   "id": "5c95b862-df76-40f9-8de9-3cc5d0dac53d",
   "metadata": {},
   "source": [
    "#### 5.2. Detailed Analysis of Transfers with 0 ETH:\n",
    "Transfers are typically categorized as Externally Owned Accounts (EOA) transactions (due to a zero `input`). However, further investigation revealed that some zero-value transactions might still involve contracts. "
   ]
  },
  {
   "cell_type": "code",
   "execution_count": 14,
   "id": "3fb1a52e-0733-4eaa-a22d-cf58ff9d9a36",
   "metadata": {
    "execution": {
     "iopub.execute_input": "2025-01-17T15:51:41.006618Z",
     "iopub.status.busy": "2025-01-17T15:51:41.005727Z",
     "iopub.status.idle": "2025-01-17T15:51:41.019352Z",
     "shell.execute_reply": "2025-01-17T15:51:41.018487Z",
     "shell.execute_reply.started": "2025-01-17T15:51:41.006577Z"
    }
   },
   "outputs": [
    {
     "data": {
      "text/plain": [
       "to_address\n",
       "0xb6b039afc0ce83ddf613d6b742eba3b96943df0e    30\n",
       "0x2b82c78ae3c973c1ce39d63b5d63c6cb8db199ea    18\n",
       "0x34806cbba5698f9ca9f4aa4700348e56fe3ceb34     8\n",
       "Name: count, dtype: int64"
      ]
     },
     "execution_count": 14,
     "metadata": {},
     "output_type": "execute_result"
    }
   ],
   "source": [
    "df[(df['function'] == 'Transfer') & (df['value'] == 0.00)].to_address.value_counts().head(3)"
   ]
  },
  {
   "cell_type": "markdown",
   "id": "69d3bf28-6220-4ca4-aa1d-e6960b7df02e",
   "metadata": {},
   "source": [
    "##### Findings:\n",
    "1. **Recipient Address Check**:\n",
    "   - The two most frequent recipient addresses of zero-value transfers were manually checked on **Etherscan**:\n",
    "     - [1st address (30 transactions)](https://etherscan.io/address/0xb6b039afc0ce83ddf613d6b742eba3b96943df0e)\n",
    "     - [2nd address (18 transactions)](https://etherscan.io/address/0x2b82c78ae3c973c1ce39d63b5d63c6cb8db199ea)\n",
    "   - Results: Both addresses were identified as belonging to **contracts**. Despite the zero `input` and zero `value`, these transactions interacted with the blockchain.\n",
    "\n",
    "2. **Additional Analysis**:\n",
    "   - A detailed review of **48 transactions** with a `value` of 0 ETH confirmed that **all of them were directed to contracts**.\n",
    "   - Therefore, it is reasonable to assume that the remaining transactions in this group (92 total) are also contract-related.\n",
    "\n",
    "---\n",
    "\n",
    "#### Conclusion:\n",
    "- While a **zero input** is often used to classify transactions as transactions between **Externally Owned Accounts (EOA)**, this criterion is not always accurate.\n",
    "- Some transactions with zero `input` and zero `value` still interact with contracts, performing specific functions that may not involve Ether transfer.\n",
    "- To improve classification accuracy:\n",
    "  - Perform additional checks on recipient addresses.\n",
    "  - Identify typical patterns in contract-related transactions.\n",
    "\n",
    "This approach helps avoid misclassification and provides a clearer understanding of blockchain interactions."
   ]
  },
  {
   "cell_type": "markdown",
   "id": "d064fab0-3495-40e5-807b-386e636ee146",
   "metadata": {},
   "source": [
    "#### 5.3 Categorizing Transactions by Purpose\n",
    "\n",
    "#### Purpose Classification:\n",
    "To better understand the nature of transactions, they were categorized based on their destination and function:\n",
    "\n",
    "1. **Categories**:\n",
    "   - **Contract**: Transactions initiated by contracts themselves, where the contract acts as the `from_address`.\n",
    "   - **Wallet-to-Wallet**: Direct transfers between wallets, excluding contract involvement.\n",
    "   - **Wallet-to-Contract**: Transactions interacting with contracts but not classified as direct transfers."
   ]
  },
  {
   "cell_type": "code",
   "execution_count": 15,
   "id": "48a446dc-979e-495e-8ded-8f4b32836a95",
   "metadata": {
    "execution": {
     "iopub.execute_input": "2025-01-17T15:51:43.898963Z",
     "iopub.status.busy": "2025-01-17T15:51:43.898485Z",
     "iopub.status.idle": "2025-01-17T15:51:43.906998Z",
     "shell.execute_reply": "2025-01-17T15:51:43.905045Z",
     "shell.execute_reply.started": "2025-01-17T15:51:43.898927Z"
    }
   },
   "outputs": [],
   "source": [
    "def transfer_or_contract(row):\n",
    "    \"\"\"\n",
    "    Categorizes a transaction by its purpose based on recipient and function.\n",
    "\n",
    "    Args:\n",
    "        row (pd.Series): A single row of the DataFrame containing transaction details.\n",
    "\n",
    "    Returns:\n",
    "        str: The purpose of the transaction, categorized as:\n",
    "             - 'Contract' for transactions creating or interacting with contracts.\n",
    "             - 'Wallet-to-Wallet' for direct transfers between user wallets.\n",
    "             - 'Wallet-to-Contract' for interactions with contracts that are not classified as transfers.\n",
    "    \"\"\"\n",
    "    if row['to_address'] == 'Contract':\n",
    "        return 'Contract'\n",
    "    elif row['function'] == 'Transfer' and row['value'] != 0.00 and row['to_address'] != 'Contract':\n",
    "        return 'Wallet-to-Wallet'    \n",
    "    return 'Wallet-to-Contract'"
   ]
  },
  {
   "cell_type": "markdown",
   "id": "204359ec-57a5-42b8-9799-28c80a62d8b7",
   "metadata": {},
   "source": [
    "**Pie Chart:**  \n",
    "The pie chart below illustrates the percentage distribution of transaction purposes:"
   ]
  },
  {
   "cell_type": "code",
   "execution_count": 16,
   "id": "7b37e6fb-5c70-4dfa-86db-c9dcdffe84e3",
   "metadata": {
    "execution": {
     "iopub.execute_input": "2025-01-17T15:51:47.406902Z",
     "iopub.status.busy": "2025-01-17T15:51:47.406411Z",
     "iopub.status.idle": "2025-01-17T15:51:47.799798Z",
     "shell.execute_reply": "2025-01-17T15:51:47.799152Z",
     "shell.execute_reply.started": "2025-01-17T15:51:47.406863Z"
    }
   },
   "outputs": [
    {
     "data": {
      "image/png": "[encoded data removed]",
      "text/plain": [
       "<Figure size 300x300 with 1 Axes>"
      ]
     },
     "metadata": {},
     "output_type": "display_data"
    }
   ],
   "source": [
    "df['transactions_purpose'] = df.apply(transfer_or_contract, axis=1)\n",
    "\n",
    "transactions_destination_percenrtage = df['transactions_purpose'].value_counts(normalize=True) * 100\n",
    "\n",
    "plt.figure(figsize=(3, 3))\n",
    "colors = [to_rgba(\"purple\", alpha=0.7), to_rgba(\"green\", alpha=0.7), to_rgba(\"grey\", alpha=0.7)]\n",
    "transactions_destination_percenrtage.plot(kind=\"pie\", colors=colors, autopct=\"%.2f%%\", startangle=90)\n",
    "plt.title(\"User's Transaction Purpose\")\n",
    "plt.ylabel(\"\")\n",
    "plt.show()"
   ]
  },
  {
   "cell_type": "markdown",
   "id": "cdc7e681-328a-441a-afcf-85d1977fcbef",
   "metadata": {},
   "source": [
    "#### Results:\n",
    "The distribution of transaction purposes is as follows:\n",
    "\n",
    "- **Wallet-to-Contract**: 55.94% of the transactions fall into this category, where users send funds to contract addresses.\n",
    "- **Wallet-to-Wallet**: 43.39% of the transactions involve direct transfers between users.\n",
    "- **Contract**: Only 0.67% of the transactions are initiated by contract addresses.\n",
    "\n",
    "#### Key Insights:\n",
    "- **Wallet-to-Contract interactions dominate** the dataset, indicating that most new accounts are created to interact with smart contracts.\n",
    "- A **significant portion** of transactions (43.39%) represent simple wallet-to-wallet transfers, highlighting the role of new accounts in facilitating direct user interactions.\n",
    "- **Contract-initiated transactions** are relatively rare, comprising only 0.67% of the total, suggesting that new contracts are less likely to initiate transactions immediately after creation.\n",
    "\n",
    "#### Conclusion:\n",
    "These findings represent the **first outgoing transactions** of newly created accounts, showing a clear trend:\n",
    "- **Majority** of new accounts are used to interact with contract addresses.\n",
    "- **User-to-user transfers** still make up a substantial share.\n",
    "- Contract-initiated activity remains an outlier among new accounts."
   ]
  },
  {
   "cell_type": "markdown",
   "id": "9cc9d035-9981-4e99-80cf-c94d99c907b9",
   "metadata": {},
   "source": [
    "### **6. What is the Median Value for Transactions?**\n",
    "\n",
    "#### **6.1 Wallet-to-Wallet Transactions**"
   ]
  },
  {
   "cell_type": "code",
   "execution_count": 17,
   "id": "680ef644-e53d-478a-8334-59cc45a5fa23",
   "metadata": {
    "execution": {
     "iopub.execute_input": "2025-01-17T15:51:55.054120Z",
     "iopub.status.busy": "2025-01-17T15:51:55.053651Z",
     "iopub.status.idle": "2025-01-17T15:51:55.067810Z",
     "shell.execute_reply": "2025-01-17T15:51:55.067023Z",
     "shell.execute_reply.started": "2025-01-17T15:51:55.054082Z"
    }
   },
   "outputs": [],
   "source": [
    "wallet_to_wallet_median_value = df[df['transactions_purpose'] == 'Wallet-to-Wallet'].value.median() "
   ]
  },
  {
   "cell_type": "markdown",
   "id": "b8c19612-a1a1-4230-a96a-c1c946303530",
   "metadata": {},
   "source": [
    "**For value in ETH divide user_to_user_median_value by 10^18**"
   ]
  },
  {
   "cell_type": "code",
   "execution_count": 18,
   "id": "1cb8964e-f367-401d-b42f-7532bb7dba99",
   "metadata": {
    "execution": {
     "iopub.execute_input": "2025-01-17T15:51:57.199849Z",
     "iopub.status.busy": "2025-01-17T15:51:57.199384Z",
     "iopub.status.idle": "2025-01-17T15:51:57.208446Z",
     "shell.execute_reply": "2025-01-17T15:51:57.207088Z",
     "shell.execute_reply.started": "2025-01-17T15:51:57.199811Z"
    }
   },
   "outputs": [
    {
     "data": {
      "text/plain": [
       "np.float64(0.0653)"
      ]
     },
     "execution_count": 18,
     "metadata": {},
     "output_type": "execute_result"
    }
   ],
   "source": [
    "wallet_to_wallet_median_value_ETH = round((wallet_to_wallet_median_value / 10**18), 4)\n",
    "wallet_to_wallet_median_value_ETH"
   ]
  },
  {
   "cell_type": "markdown",
   "id": "90d8444e-e813-4660-8a4b-9937289e20e7",
   "metadata": {},
   "source": [
    "#### **Median Value for Wallet-to-Wallet Transactions: 0.653 ETH**"
   ]
  },
  {
   "cell_type": "markdown",
   "id": "7b0d72d5-1c69-4e0f-b175-5c661ac53b1b",
   "metadata": {},
   "source": [
    "#### **6.2 Contract Transactions.**"
   ]
  },
  {
   "cell_type": "code",
   "execution_count": 19,
   "id": "df448825-a5f0-45e2-99f2-094f35e0cf6a",
   "metadata": {
    "execution": {
     "iopub.execute_input": "2025-01-17T15:51:59.873186Z",
     "iopub.status.busy": "2025-01-17T15:51:59.872718Z",
     "iopub.status.idle": "2025-01-17T15:51:59.888515Z",
     "shell.execute_reply": "2025-01-17T15:51:59.887669Z",
     "shell.execute_reply.started": "2025-01-17T15:51:59.873147Z"
    }
   },
   "outputs": [
    {
     "data": {
      "text/plain": [
       "np.float64(0.0)"
      ]
     },
     "execution_count": 19,
     "metadata": {},
     "output_type": "execute_result"
    }
   ],
   "source": [
    "contract_median_value_ETH = round((df[df['transactions_purpose'] == 'Wallet-to-Contract'].value.median() / 10**18), 4)\n",
    "contract_median_value_ETH"
   ]
  },
  {
   "cell_type": "markdown",
   "id": "7d9bfe63-a7e8-4e29-85a7-420477a3a1dd",
   "metadata": {},
   "source": [
    "##### **Medina Value for Wallet-to-Contract Transactions is 0.0 ETH**  \n",
    "#### **Insights:**\n",
    "- A significant portion of transactions to contracts does not involve Ether transfers. These are typically instructional transactions, where users send commands or invoke functions on smart contracts.\n",
    "- Examples include:\n",
    "    - Token operations (e.g., approvals, minting, or burning).\n",
    "    - Interacting with DeFi platforms (e.g., staking or exchanging tokens).\n",
    "    - NFT operations (e.g., metadata updates or minting).\n",
    "\n",
    "This highlights the multi-functional role of smart contracts in the Ethereum network, where transactions are often not financial but operational in nature."
   ]
  },
  {
   "cell_type": "markdown",
   "id": "5ee01265-c911-4628-91c6-d7e577fccd65",
   "metadata": {},
   "source": [
    "### **7. Monthly Trends in New Account Activity**\n",
    "\n",
    "#### Objective:\n",
    "Analyze the monthly trends in the first transactions of newly created wallets, distinguishing between wallet-to-wallet and wallet-to-contract transactions.\n",
    "\n",
    "#### Methodology:\n",
    "1. Grouped transactions by:\n",
    "   - **Month**.\n",
    "   - **Transaction Purpose** (Wallet-to-Wallet or Wallet-to-Contract).\n",
    "2. Calculated the total number of first transactions per month for each category.\n",
    "3. Added a **Total** column to represent the sum of all transactions across categories for each month.\n",
    "\n",
    "#### Visualization:\n",
    "A line chart was generated to display:\n",
    "- **Wallet-to-Contract Transactions**: Represented by the purple line.\n",
    "- **Wallet-to-Wallet Transactions**: Represented by the green line.\n",
    "- **All Transactions Combined**: Represented by the orange line."
   ]
  },
  {
   "cell_type": "code",
   "execution_count": 20,
   "id": "8a6c2a84-9a5d-4697-9d68-70bca1054ecf",
   "metadata": {
    "execution": {
     "iopub.execute_input": "2025-01-17T15:52:06.178626Z",
     "iopub.status.busy": "2025-01-17T15:52:06.178123Z",
     "iopub.status.idle": "2025-01-17T15:52:06.212745Z",
     "shell.execute_reply": "2025-01-17T15:52:06.212001Z",
     "shell.execute_reply.started": "2025-01-17T15:52:06.178591Z"
    }
   },
   "outputs": [],
   "source": [
    "df['first_transaction_time'] = pd.to_datetime(df['first_transaction_time'])\n",
    "\n",
    "transactions_per_month = (\n",
    "    df[['first_transaction_time', 'from_address', 'transactions_purpose']]\n",
    "    .groupby([df['first_transaction_time'].dt.month, 'transactions_purpose'])['from_address']\n",
    "    .count()\n",
    "    .reset_index()\n",
    ")\n",
    "\n",
    "transactions_per_month = transactions_per_month.sort_values(by='first_transaction_time')\n",
    "\n",
    "transactions_per_month['first_transaction_time'] = (\n",
    "    transactions_per_month['first_transaction_time']\n",
    "    .apply(lambda x: calendar\n",
    "    .month_abbr[x])\n",
    ")\n",
    "transactions_per_month['total'] = transactions_per_month.groupby('first_transaction_time')['from_address'].transform('sum')"
   ]
  },
  {
   "cell_type": "code",
   "execution_count": 21,
   "id": "c99bad4a-7f7e-4423-baca-cd1859d39056",
   "metadata": {
    "execution": {
     "iopub.execute_input": "2025-01-17T15:52:08.292453Z",
     "iopub.status.busy": "2025-01-17T15:52:08.291875Z",
     "iopub.status.idle": "2025-01-17T15:52:08.564276Z",
     "shell.execute_reply": "2025-01-17T15:52:08.563630Z",
     "shell.execute_reply.started": "2025-01-17T15:52:08.292416Z"
    }
   },
   "outputs": [
    {
     "data": {
      "image/png": "[encoded data removed]",
      "text/plain": [
       "<Figure size 1200x400 with 1 Axes>"
      ]
     },
     "metadata": {},
     "output_type": "display_data"
    }
   ],
   "source": [
    "plt.figure(figsize=(12, 4))\n",
    "\n",
    "wallet_to_contract = transactions_per_month[transactions_per_month['transactions_purpose'] == 'Wallet-to-Contract']\n",
    "wallet_to_wallet = transactions_per_month[transactions_per_month['transactions_purpose'] == 'Wallet-to-Wallet']\n",
    "\n",
    "plt.plot(wallet_to_contract['first_transaction_time'], wallet_to_contract['from_address'],\n",
    "         label='Wallet-to-Contract', color='purple', alpha=0.7)\n",
    "plt.plot(wallet_to_wallet['first_transaction_time'], wallet_to_wallet['from_address'],\n",
    "         label='Wallet-to-Wallet', color='green', alpha=0.7)\n",
    "plt.plot(transactions_per_month['first_transaction_time'], transactions_per_month['total'],\n",
    "         label='Total', color='orange')\n",
    "\n",
    "plt.title('Monthly New Account Activity')\n",
    "plt.ylabel('Number of Transactions')\n",
    "plt.legend()\n",
    "plt.show();"
   ]
  },
  {
   "cell_type": "markdown",
   "id": "0f3d52cf-f0ba-448e-a496-5410d79c08e8",
   "metadata": {},
   "source": [
    "#### **The x-axis shows the **months**, and the y-axis represents the number of transactions.**"
   ]
  },
  {
   "cell_type": "markdown",
   "id": "9098d822-4bf3-4b44-a222-d0d9493ebc84",
   "metadata": {},
   "source": [
    "#### Insights from the Graph:\n",
    "The graph illustrates the monthly creation of new wallets across three categories: **Wallet-to-Contract**, **Wallet-to-Wallet**, and **Total Transactions**.\n",
    "\n",
    "- **Wallets-to-Contract**. The creation of contract wallets **strongly influences the overall trend**.\n",
    "Fluctuations in this category are relatively consistent throughout the year.\n",
    "\n",
    "- **Wallet-to-Wallet** transactions exhibit **sharper variations** compared to Wallets-to-Contract.\n",
    "Peaks in user-to-user activity (e.g., in **September**) significantly contribute to the total trend.\n",
    "\n",
    "- **Total Wallet Creation**:\n",
    "   - The overall trend **closely mirrors Wallets-to-Contract creation**, highlighting its dominant role.\n",
    "   - However, **spikes in user-to-user wallet activity** during high-activity months (e.g., September) visibly impact the total.\n",
    "\n",
    "#### Conclusion:\n",
    "Wallets-to-Contract creation is the **primary driver** of the total trend, reflecting consistent growth across the year. At the same time, Wallet-to-Wallet make **notable contributions** during specific months of heightened activity, emphasizing their role in shaping short-term variations in overall wallet creation."
   ]
  },
  {
   "cell_type": "markdown",
   "id": "46dd6955-e398-4938-bf4d-9baae57757c8",
   "metadata": {},
   "source": [
    "### **8. What is the Values Distribution of Transactions by Category?**\n",
    "\n",
    "#### Categories:\n",
    "Transactions were grouped into the following categories based on their Ether (ETH) value:\n",
    "- **Zero**: Transactions with 0 ETH (e.g., `value = 0.0` ETH).\n",
    "- **Micro**: Transactions with very small amounts (e.g., `< 0.001 ETH`).\n",
    "- **Small**: Transactions with small amounts (e.g., `0.001 to 0.1 ETH`).\n",
    "- **Medium**: Transactions with medium amounts (e.g., `0.1 to 1 ETH`).\n",
    "- **Large**: Transactions with large amounts (e.g., `1 to 10 ETH`).\n",
    "- **Whale**: Transactions with very large amounts (e.g., `> 10 ETH`).\n",
    "\n",
    "#### Methodology:\n",
    "1. **Converted Wei to Ether**:\n",
    "   - A new column `eth_value` is created by converting `value` from Wei to ETH.\n",
    "2. **Categorized Transactions**:\n",
    "   - Used **bins** to assign transactions to the above categories based on `eth_value`.\n",
    "3. **Normalized for Percentages**:\n",
    "   - Calculated the percentage distribution of each category by transaction type (e.g., Wallet-to-Wallet, Wallet-to-Contract).\n",
    "4. **Plotted the Data**:\n",
    "   - Created a **bar chart** to visualize the value distribution by category for:\n",
    "     - All Transactions.\n",
    "     - Wallet-to-Contract Transactions.\n",
    "     - Wallet-to-Wallet Transactions.\n"
   ]
  },
  {
   "cell_type": "code",
   "execution_count": 22,
   "id": "198ac93c-5b48-45e3-8c56-75a6fbd03acc",
   "metadata": {
    "execution": {
     "iopub.execute_input": "2025-01-17T15:52:16.788261Z",
     "iopub.status.busy": "2025-01-17T15:52:16.787776Z",
     "iopub.status.idle": "2025-01-17T15:52:16.802877Z",
     "shell.execute_reply": "2025-01-17T15:52:16.802027Z",
     "shell.execute_reply.started": "2025-01-17T15:52:16.788223Z"
    }
   },
   "outputs": [],
   "source": [
    "df['eth_value'] = df['value'] /1e18\n",
    "\n",
    "df['value_category'] = 'Zero'\n",
    "\n",
    "bins = [0, 0.001, 0.01, 0.1, 1, 10, float('inf')]\n",
    "labels = ['Micro', 'Small', 'Medium', 'Large', 'Whale', 'Mega Whale']\n",
    "\n",
    "df.loc[df['eth_value'] > 0, 'value_category'] = pd.cut(\n",
    "    df['eth_value'], bins=bins, labels=labels\n",
    ")"
   ]
  },
  {
   "cell_type": "code",
   "execution_count": 23,
   "id": "ffe789ce-5829-4ebd-8e52-ad7f14a2b009",
   "metadata": {
    "execution": {
     "iopub.execute_input": "2025-01-17T15:52:17.420624Z",
     "iopub.status.busy": "2025-01-17T15:52:17.420152Z",
     "iopub.status.idle": "2025-01-17T15:52:17.444073Z",
     "shell.execute_reply": "2025-01-17T15:52:17.443232Z",
     "shell.execute_reply.started": "2025-01-17T15:52:17.420587Z"
    },
    "scrolled": true
   },
   "outputs": [],
   "source": [
    "general_value_category_perc = df['value_category'].value_counts(normalize=True) * 100\n",
    "\n",
    "wallet_to_wallet_value_category_perc = (\n",
    "    df[df['transactions_purpose'] == 'Wallet-to-Wallet']['value_category']\n",
    "    .value_counts(normalize=True) * 100\n",
    ")\n",
    "\n",
    "wallet_to_contract_value_category_perc = (\n",
    "    df[df['transactions_purpose'] == 'Wallet-to-Contract']['value_category']\n",
    "    .value_counts(normalize=True) * 100\n",
    ")"
   ]
  },
  {
   "cell_type": "code",
   "execution_count": 24,
   "id": "1524477c-f568-411d-a07d-b49a967dafb7",
   "metadata": {
    "execution": {
     "iopub.execute_input": "2025-01-17T15:52:19.375531Z",
     "iopub.status.busy": "2025-01-17T15:52:19.375048Z",
     "iopub.status.idle": "2025-01-17T15:52:19.619777Z",
     "shell.execute_reply": "2025-01-17T15:52:19.619074Z",
     "shell.execute_reply.started": "2025-01-17T15:52:19.375495Z"
    }
   },
   "outputs": [
    {
     "data": {
      "image/png": "[encoded data removed]",
      "text/plain": [
       "<Figure size 700x400 with 1 Axes>"
      ]
     },
     "metadata": {},
     "output_type": "display_data"
    }
   ],
   "source": [
    "categories = ['Zero', 'Micro', 'Small', 'Medium', 'Large', 'Whale', 'Mega Whale']\n",
    "\n",
    "index = np.arange(len(categories))\n",
    "bar_width = 0.25  \n",
    "\n",
    "wallet_to_wallet_value_category_perc = (\n",
    "    wallet_to_wallet_value_category_perc\n",
    "    .reindex(categories, fill_value=0)\n",
    ")\n",
    "\n",
    "plt.figure(figsize=(7, 4))\n",
    "\n",
    "plt.bar(index - bar_width, general_value_category_perc, bar_width,\n",
    "        label='All', color='orange', alpha=0.7)\n",
    "plt.bar(index, wallet_to_contract_value_category_perc, bar_width,\n",
    "        label='Contract-to-User Transctions', color='purple', alpha=0.7)\n",
    "plt.bar(index + bar_width, wallet_to_wallet_value_category_perc, bar_width,\n",
    "        label='Wallet-to-Wallet Transactions', color='green', alpha=0.7)\n",
    "\n",
    "\n",
    "plt.xticks(index, categories)\n",
    "plt.title('Values Distribution of Transaction by Category, %')\n",
    "plt.legend()\n",
    "\n",
    "plt.tight_layout()\n",
    "plt.show()"
   ]
  },
  {
   "cell_type": "markdown",
   "id": "94403e07-b74a-405f-8fd6-c663cce5a551",
   "metadata": {},
   "source": [
    "#### Insights:\n",
    "- **Zero Transactions** dominate Wallet-to-Contract interactions, representing non-financial operations (e.g., function calls or token operations).\n",
    "- **Micro and Small Transactions** are more frequent in the \"All Transactions\" category, indicating regular small-value transfers.\n",
    "- **Large and Whale Transactions** are predominantly found in Wallet-to-Wallet transfers, showing that users often transfer significant amounts directly to one another.\n",
    "\n",
    "#### Conclusion:\n",
    "This analysis highlights the differing purposes of transactions based on value:\n",
    "- **Wallet-to-Contract Transactions** often involve zero-value instructions rather than monetary tran\n"
   ]
  },
  {
   "cell_type": "markdown",
   "id": "a3ac2313-a669-4309-9de1-5a97dc049677",
   "metadata": {},
   "source": [
    "### **9. Gas Usage Analysis**"
   ]
  },
  {
   "cell_type": "markdown",
   "id": "92709993-5adc-409d-9fc4-8b0e4c97a823",
   "metadata": {},
   "source": [
    "#### **9.1 Estimated Gas**\n",
    "The median gas limit set for each transaction category:\n"
   ]
  },
  {
   "cell_type": "code",
   "execution_count": 25,
   "id": "01bd6496-ea52-4b4e-b495-afa9a4f13aaa",
   "metadata": {
    "execution": {
     "iopub.execute_input": "2025-01-17T15:52:23.833414Z",
     "iopub.status.busy": "2025-01-17T15:52:23.832937Z",
     "iopub.status.idle": "2025-01-17T15:52:23.855830Z",
     "shell.execute_reply": "2025-01-17T15:52:23.855001Z",
     "shell.execute_reply.started": "2025-01-17T15:52:23.833377Z"
    }
   },
   "outputs": [
    {
     "name": "stdout",
     "output_type": "stream",
     "text": [
      "Gas Median for Wallet-to-Wallet Transaction is 21000.0\n",
      "Gas Median for Wallet-to-Contract Transaction is 92218.0\n",
      "Gas Median for Contract Transaction is 2131637.0\n"
     ]
    }
   ],
   "source": [
    "gas_median_wallet_to_wallet = df[df['transactions_purpose'] == 'Wallet-to-Wallet'].gas.median()\n",
    "print(f'Gas Median for Wallet-to-Wallet Transaction is {gas_median_wallet_to_wallet}')\n",
    "\n",
    "gas_median_wallet_to_contract = df[df['transactions_purpose'] == 'Wallet-to-Contract'].gas.median()\n",
    "print(f'Gas Median for Wallet-to-Contract Transaction is {gas_median_wallet_to_contract}')\n",
    "\n",
    "gas_median_contract = df[df['transactions_purpose'] == 'Contract'].gas.median()\n",
    "print(f'Gas Median for Contract Transaction is {gas_median_contract}')"
   ]
  },
  {
   "cell_type": "markdown",
   "id": "d967462a-484a-4ffa-9015-7b379129c71e",
   "metadata": {},
   "source": [
    "1. **Wallet-to-Wallet Transactions**:\n",
    "   - **Estimated Gas**: 21,000\n",
    "   - These transactions represent the most basic Ethereum operations, typically involving simple ETH transfers between users. The gas usage is fixed and predictable due to the absence of complex computations.\n",
    "\n",
    "2. **Wallet-to-Contract Transactions**:\n",
    "   - **Estimated Gas**: 92,218\n",
    "   - These transactions involve interactions with smart contracts. The higher estimated gas reflects the potential complexity of contract functions, such as branching, loops, or computations.\n",
    "\n",
    "3. **Contract Transactions**:\n",
    "   - **Estimated Gas**: 2,131,637\n",
    "   - These transactions are initiated by smart contracts themselves and involve complex operations, such as interacting with other contracts or executing multiple steps. The high gas estimate ensures sufficient resources for execution."
   ]
  },
  {
   "cell_type": "markdown",
   "id": "4c190e8a-7471-401b-b30a-7e3fd25c1f0e",
   "metadata": {},
   "source": [
    "#### **9.2 Used Gas**\n",
    "The median actual gas used for each transaction category:"
   ]
  },
  {
   "cell_type": "code",
   "execution_count": 26,
   "id": "18f0942c-13df-4ffd-a7ff-1822945f5ef7",
   "metadata": {
    "execution": {
     "iopub.execute_input": "2025-01-17T15:52:27.502777Z",
     "iopub.status.busy": "2025-01-17T15:52:27.502312Z",
     "iopub.status.idle": "2025-01-17T15:52:27.524385Z",
     "shell.execute_reply": "2025-01-17T15:52:27.523456Z",
     "shell.execute_reply.started": "2025-01-17T15:52:27.502741Z"
    }
   },
   "outputs": [
    {
     "name": "stdout",
     "output_type": "stream",
     "text": [
      "Used Gas Median for Wallet-to-Wallet Transaction is 21000.0\n",
      "Used Gas Median for Wallet-to-Contract Transaction is 48897.0\n",
      "Used Gas Median for Contract Transaction is 1984655.0\n"
     ]
    }
   ],
   "source": [
    "used_gas_median_wallet_to_wallet = df[df['transactions_purpose'] == 'Wallet-to-Wallet'].receipt_gas_used.median()\n",
    "print(f'Used Gas Median for Wallet-to-Wallet Transaction is {used_gas_median_wallet_to_wallet}')\n",
    "\n",
    "used_gas_median_wallet_to_contract = df[df['transactions_purpose'] == 'Wallet-to-Contract'].receipt_gas_used.median()\n",
    "print(f'Used Gas Median for Wallet-to-Contract Transaction is {used_gas_median_wallet_to_contract}')\n",
    "\n",
    "used_gas_median_contract = df[df['transactions_purpose'] == 'Contract'].receipt_gas_used.median()\n",
    "print(f'Used Gas Median for Contract Transaction is {used_gas_median_contract}')"
   ]
  },
  {
   "cell_type": "markdown",
   "id": "d4345a83-7b6c-441e-86c2-0a35ba381bda",
   "metadata": {},
   "source": [
    "1. **Wallet-to-Wallet Transactions**:\n",
    "   - **Used Gas**: 21,000\n",
    "   - The gas usage matches the estimated value, reflecting the simplicity and predictability of these transactions.\n",
    "\n",
    "2. **Wallet-to-Contract Transactions**:\n",
    "   - **Used Gas**: 48,897\n",
    "   - While the estimated gas is higher, the actual gas used is significantly lower. This discrepancy highlights that most interactions involve straightforward function calls, such as token transfers, which require less computation than initially estimated.\n",
    "\n",
    "3. **Contract Transactions**:\n",
    "   - **Used Gas**: 1,984,655\n",
    "   - These transactions remain highly resource-intensive due to the multitasking nature of contracts, including interacting with other contracts, executing loops, and managing datasets. However, the used gas is slightly lower than the estimate, indicating optimized execution.\n",
    "\n",
    "#### **Difference Between Estimated and Used Gas**\n",
    "- **Why the Difference?**:\n",
    "  - Estimated gas is calculated for the **worst-case scenario**, ensuring the transaction has enough gas to succeed.\n",
    "  - Used gas reflects the **actual operations** performed, which are often simpler than the estimated logic, leading to lower consumption.\n",
    "  - This approach ensures reliability, avoiding transaction failures due to underestimation.\n",
    "\n",
    "#### **Conclusion**:\n",
    "Gas usage increases with transaction complexity:\n",
    "- **Wallet-to-Wallet Transfers**: Predictable and fixed gas usage.\n",
    "- **Wallet-to-Contract Calls**: Moderate gas usage for contract interactions.\n",
    "- **Contract Transactions**: The highest gas usage due to the complex, multitasking nature of contract execution."
   ]
  },
  {
   "cell_type": "markdown",
   "id": "511c511f-8f97-4cfe-a3ff-88a0f2a0dc25",
   "metadata": {},
   "source": [
    "### **10. Gas Usage Difference**\n",
    "\n",
    "#### Methodology:\n",
    "1. Calculated the **Gas Difference** as the difference between `gas` (estimated gas) and `receipt_gas_used` (used gas):\n",
    "2. Binned the gas difference values into defined ranges:\n",
    "   Ranges: 0, 0-10k, 10k-50k, 50k-100k, 100k-500k, 500k+.\n",
    "4. Normalized the data to represent percentages of transactions in each range per transaction purpose.\n",
    "5. Created a stacked bar chart to visualize the distribution of gas differences by transaction purpose.\n"
   ]
  },
  {
   "cell_type": "code",
   "execution_count": 27,
   "id": "4cad0d19-5632-4e3f-85a4-99e67ad423c3",
   "metadata": {
    "execution": {
     "iopub.execute_input": "2025-01-17T15:52:31.830475Z",
     "iopub.status.busy": "2025-01-17T15:52:31.830001Z",
     "iopub.status.idle": "2025-01-17T15:52:31.837599Z",
     "shell.execute_reply": "2025-01-17T15:52:31.836227Z",
     "shell.execute_reply.started": "2025-01-17T15:52:31.830439Z"
    }
   },
   "outputs": [],
   "source": [
    "df['gas_difference'] = df['gas'] - df['receipt_gas_used']"
   ]
  },
  {
   "cell_type": "code",
   "execution_count": 28,
   "id": "c7c73078-aa38-49c4-b6bc-a85576c61815",
   "metadata": {
    "execution": {
     "iopub.execute_input": "2025-01-17T15:52:33.284474Z",
     "iopub.status.busy": "2025-01-17T15:52:33.284003Z",
     "iopub.status.idle": "2025-01-17T15:52:33.774849Z",
     "shell.execute_reply": "2025-01-17T15:52:33.774188Z",
     "shell.execute_reply.started": "2025-01-17T15:52:33.284438Z"
    }
   },
   "outputs": [
    {
     "data": {
      "image/png": "[encoded data removed]",
      "text/plain": [
       "<Figure size 1000x400 with 1 Axes>"
      ]
     },
     "metadata": {},
     "output_type": "display_data"
    }
   ],
   "source": [
    "bins = [-1, 0, 10_000, 50_000, 100_000, 500_000, df['gas_difference'].max()]\n",
    "labels = ['0', '0-10k', '10k-50k', '50k-100k', '100k-500k', '500k+']\n",
    "df['gas_diff_bins'] = pd.cut(df['gas_difference'], bins=bins, labels=labels)\n",
    "\n",
    "percentage_data = df.groupby(['transactions_purpose', 'gas_diff_bins'],observed=False).size().unstack(fill_value=0)\n",
    "percentage_data = percentage_data.div(percentage_data.sum(axis=1), axis=0) * 100\n",
    "\n",
    "percentage_data.plot(kind='bar', stacked=True, figsize=(10, 4), colormap=\"viridis\")\n",
    "plt.title('Distribution of Gas Difference by Transaction Purpose, %')\n",
    "plt.xlabel(' ')\n",
    "plt.xticks(rotation=0)\n",
    "plt.legend(title='Gas Difference Range')\n",
    "plt.tight_layout()\n",
    "plt.show()"
   ]
  },
  {
   "cell_type": "markdown",
   "id": "e935478d-6e33-4195-b709-ebdc515bf094",
   "metadata": {},
   "source": [
    "#### Results:\n",
    "- **Contract Transactions:**\n",
    "Nearly all transactions have no gas difference (0).\n",
    "This indicates that estimated and used gas are closely aligned, reflecting the high predictability of contract-initiated tasks.\n",
    "\n",
    "- **Wallet-to-Contract Transactions:**\n",
    "Show significant variability in gas differences:\n",
    "    - Large portions fall within the ranges 10k-50k and 50k-100k.\n",
    "    - Only a small percentage have no gas difference, highlighting the complexity of contract executions.\n",
    "\n",
    "- **Wallet-to-Wallet Transactions:**\n",
    "    - The majority of transactions have no gas difference, consistent with the simplicity of these operations.\n",
    "    - Small differences (0-10k) occasionally occur due to minor adjustments in execution.\n",
    "\n",
    "#### Key Insight:\n",
    "**Gas Differences Increase with Transaction Complexity:**\n",
    "- Wallet-to-Contract Transactions exhibit the highest variability, reflecting the dynamic and unpredictable nature of smart contract logic.\n",
    "- Contract-Initiated Transactions are the most predictable, with almost no gas difference.\n",
    "- Wallet-to-Wallet Transactions are simple and predictable, showing minimal differences."
   ]
  },
  {
   "cell_type": "markdown",
   "id": "153cde1a-6c7e-4e85-b60d-250278f450ab",
   "metadata": {},
   "source": [
    "#### **Transaction Types in Ethereum**\n",
    "Ethereum supports three main transaction types, each with distinct characteristics:\n",
    "1. **Type 0 (Legacy Transactions)**:\n",
    "   - Simplicity but lacks efficiency in dynamic fee adjustments.\n",
    "2. **Type 1 (EIP-2930 Access List Transactions)**:\n",
    "   - Useful for smart contract interactions with predefined storage.\n",
    "3. **Type 2 (EIP-1559 Transactions)**:\n",
    "   - Enhances user experience with more predictable fees and improved scalability.\n",
    "\n",
    "#### **Distribution of Transaction Types**\n",
    "- **Overall Distribution**:\n",
    "  - **Type 2**: 72.57% of transactions.\n",
    "  - **Type 0**: 27.35% of transactions.\n",
    "  - **Type 1**: 0.08% of transactions (minimal usage)."
   ]
  },
  {
   "cell_type": "code",
   "execution_count": 29,
   "id": "960fcf70-f222-4136-a185-01dfd2729577",
   "metadata": {
    "execution": {
     "iopub.execute_input": "2025-01-17T15:52:37.025420Z",
     "iopub.status.busy": "2025-01-17T15:52:37.024937Z",
     "iopub.status.idle": "2025-01-17T15:52:37.036677Z",
     "shell.execute_reply": "2025-01-17T15:52:37.035990Z",
     "shell.execute_reply.started": "2025-01-17T15:52:37.025384Z"
    }
   },
   "outputs": [
    {
     "data": {
      "text/plain": [
       "transaction_type\n",
       "2    0.72565\n",
       "0    0.27355\n",
       "1    0.00080\n",
       "Name: proportion, dtype: float64"
      ]
     },
     "execution_count": 29,
     "metadata": {},
     "output_type": "execute_result"
    }
   ],
   "source": [
    "df['transaction_type'].value_counts(normalize=True)"
   ]
  },
  {
   "cell_type": "code",
   "execution_count": 30,
   "id": "5df656a1-a666-4f5c-b526-d2324d7219b9",
   "metadata": {
    "execution": {
     "iopub.execute_input": "2025-01-17T15:52:38.592733Z",
     "iopub.status.busy": "2025-01-17T15:52:38.592155Z",
     "iopub.status.idle": "2025-01-17T15:52:38.607063Z",
     "shell.execute_reply": "2025-01-17T15:52:38.605893Z",
     "shell.execute_reply.started": "2025-01-17T15:52:38.592709Z"
    }
   },
   "outputs": [],
   "source": [
    "transactions_type_percentage = (\n",
    "    df[['transactions_purpose', 'transaction_type']]\n",
    "    .groupby(['transactions_purpose', 'transaction_type'])['transaction_type']\n",
    "    .count()\n",
    "    .reset_index(name='transaction_count')\n",
    ")\n",
    "\n",
    "transactions_type_percentage['percentage'] = (\n",
    "    transactions_type_percentage['transaction_count'] /\n",
    "    transactions_type_percentage.groupby('transactions_purpose')['transaction_count'].transform('sum') * 100\n",
    ")"
   ]
  },
  {
   "cell_type": "code",
   "execution_count": 42,
   "id": "35657e1b-c2f7-46ab-bdcc-0c6fdbf041e8",
   "metadata": {
    "execution": {
     "iopub.execute_input": "2025-01-17T15:47:38.656104Z",
     "iopub.status.busy": "2025-01-17T15:47:38.655581Z",
     "iopub.status.idle": "2025-01-17T15:47:38.868653Z",
     "shell.execute_reply": "2025-01-17T15:47:38.867757Z",
     "shell.execute_reply.started": "2025-01-17T15:47:38.656064Z"
    }
   },
   "outputs": [
    {
     "data": {
      "image/png": "[encoded data removed]",
      "text/plain": [
       "<Figure size 800x300 with 1 Axes>"
      ]
     },
     "metadata": {},
     "output_type": "display_data"
    }
   ],
   "source": [
    "pivot_data = transactions_type_percentage.pivot(\n",
    "    index='transactions_purpose', \n",
    "    columns='transaction_type', \n",
    "    values='percentage'\n",
    ").fillna(0)\n",
    "\n",
    "bar_height = 0.4\n",
    "categories = pivot_data.index\n",
    "types = pivot_data.columns\n",
    "values = [pivot_data[t] for t in types]\n",
    "\n",
    "plt.figure(figsize=(8, 3))\n",
    "bars = plt.barh(categories, values[0], color='green', alpha=0.5, height=bar_height, label='Type 0')\n",
    "bars = plt.barh(categories, values[1], left=values[0], color='red', alpha=0.5, height=bar_height, label='Type 1')\n",
    "bars = plt.barh(categories, values[2], left=values[0] + values[1], color='blue', alpha=0.5, height=bar_height, label='Type 2')\n",
    "\n",
    "plt.title('Transaction Type Distribution by Purpose, %')\n",
    "plt.legend(title='Transaction Type', loc='lower right')\n",
    "plt.tight_layout()\n",
    "\n",
    "plt.show()"
   ]
  },
  {
   "cell_type": "markdown",
   "id": "302ad9c5-5895-45b3-9ce7-3956521dc766",
   "metadata": {},
   "source": [
    "#### **Insights**\n",
    "- **Contract Transactions**:\n",
    "  - Dominated by Type 2 transactions, showing reliance on advanced functionality for contract-specific operations.\n",
    "- **Wallet-to-Contract Transactions**:\n",
    "  - Significant presence of Type 2 transactions reflects the dynamic nature of contract interactions.\n",
    "- **Wallet-to-Wallet Transactions**:\n",
    "  - While Type 2 is prevalent, a notable proportion of Type 0 transactions indicates the continued use of legacy transfers for simpler interactions."
   ]
  },
  {
   "cell_type": "markdown",
   "id": "f6293645-0b05-4fe2-8f04-df7861ddbaa6",
   "metadata": {},
   "source": [
    "### **12. What are the TOP-25 Contract Addresses?**\n",
    "\n",
    "#### Objective:\n",
    "Identify and categorize the top 25 contract addresses based on transaction counts and analyze their functionality.\n",
    "\n",
    "#### Steps:\n",
    "1. **Filter Transactions**:\n",
    "   - Excluded simple transfers (`function != 'Transfer'`) and ensured valid contract interactions (`to_address != 'Contract'`).\n",
    "\n",
    "2. **Identify Top 25 Contracts**:\n",
    "   - Used `.value_counts()` to rank contract addresses by transaction count.\n",
    "   - Collected the top 25 contracts with the highest transaction activity.\n",
    "\n",
    "3. **Decode Contract Names**:\n",
    "   - Created a dictionary `contract_dict` using **Etherscan** and **ChatGPT** to map addresses to their known owners or functionality (Api does not have information        about address's owners)\n",
    "\n",
    "4. **Categorize Functionality**:\n",
    "   - Defined the function `get_contract_functionality` to classify contracts into categories such as:\n",
    "     - Stablecoin\n",
    "     - Router\n",
    "     - Bridge\n",
    "     - Token (NFT)\n",
    "     - Infrastructure\n",
    "     - Other\n",
    "\n",
    "5. **Visualization**:\n",
    "   - Generated a horizontal bar chart to show the percentage distribution of the top 25 contracts by functionality."
   ]
  },
  {
   "cell_type": "code",
   "execution_count": 43,
   "id": "b67a5065-dd0b-4627-9aab-d03aeaf47ae3",
   "metadata": {
    "execution": {
     "iopub.execute_input": "2025-01-17T15:47:42.280333Z",
     "iopub.status.busy": "2025-01-17T15:47:42.279852Z",
     "iopub.status.idle": "2025-01-17T15:47:42.298846Z",
     "shell.execute_reply": "2025-01-17T15:47:42.297946Z",
     "shell.execute_reply.started": "2025-01-17T15:47:42.280295Z"
    }
   },
   "outputs": [],
   "source": [
    "top25_contracts = (\n",
    "    df[(df['function'] != 'Transfer') & (df['to_address'] != 'Contract')]\n",
    "    .to_address.value_counts()\n",
    "    .head(25)\n",
    "    .reset_index()\n",
    ")\n",
    "\n",
    "top25_contracts.columns = ['to_address', 'transaction_count']"
   ]
  },
  {
   "cell_type": "code",
   "execution_count": 44,
   "id": "f334a94e-fba7-4ec4-9946-cd2cbf6655a4",
   "metadata": {
    "execution": {
     "iopub.execute_input": "2025-01-17T15:47:43.203252Z",
     "iopub.status.busy": "2025-01-17T15:47:43.202776Z",
     "iopub.status.idle": "2025-01-17T15:47:43.214632Z",
     "shell.execute_reply": "2025-01-17T15:47:43.213843Z",
     "shell.execute_reply.started": "2025-01-17T15:47:43.203215Z"
    },
    "scrolled": true
   },
   "outputs": [
    {
     "data": {
      "text/html": [
       "<div>\n",
       "<style scoped>\n",
       "    .dataframe tbody tr th:only-of-type {\n",
       "        vertical-align: middle;\n",
       "    }\n",
       "\n",
       "    .dataframe tbody tr th {\n",
       "        vertical-align: top;\n",
       "    }\n",
       "\n",
       "    .dataframe thead th {\n",
       "        text-align: right;\n",
       "    }\n",
       "</style>\n",
       "<table border=\"1\" class=\"dataframe\">\n",
       "  <thead>\n",
       "    <tr style=\"text-align: right;\">\n",
       "      <th></th>\n",
       "      <th>to_address</th>\n",
       "      <th>transaction_count</th>\n",
       "    </tr>\n",
       "  </thead>\n",
       "  <tbody>\n",
       "    <tr>\n",
       "      <th>0</th>\n",
       "      <td>0xdac17f958d2ee523a2206206994597c13d831ec7</td>\n",
       "      <td>3128</td>\n",
       "    </tr>\n",
       "    <tr>\n",
       "      <th>1</th>\n",
       "      <td>0x32400084c286cf3e17e7b677ea9583e60a000324</td>\n",
       "      <td>859</td>\n",
       "    </tr>\n",
       "    <tr>\n",
       "      <th>2</th>\n",
       "      <td>0xa0b86991c6218b36c1d19d4a2e9eb0ce3606eb48</td>\n",
       "      <td>735</td>\n",
       "    </tr>\n",
       "  </tbody>\n",
       "</table>\n",
       "</div>"
      ],
      "text/plain": [
       "                                   to_address  transaction_count\n",
       "0  0xdac17f958d2ee523a2206206994597c13d831ec7               3128\n",
       "1  0x32400084c286cf3e17e7b677ea9583e60a000324                859\n",
       "2  0xa0b86991c6218b36c1d19d4a2e9eb0ce3606eb48                735"
      ]
     },
     "execution_count": 44,
     "metadata": {},
     "output_type": "execute_result"
    }
   ],
   "source": [
    "top25_contracts.head(3)"
   ]
  },
  {
   "cell_type": "code",
   "execution_count": 45,
   "id": "72c5a654-d6d4-4dd0-b234-b8d7ae1834b4",
   "metadata": {
    "execution": {
     "iopub.execute_input": "2025-01-17T15:47:44.691691Z",
     "iopub.status.busy": "2025-01-17T15:47:44.691213Z",
     "iopub.status.idle": "2025-01-17T15:47:44.700347Z",
     "shell.execute_reply": "2025-01-17T15:47:44.699148Z",
     "shell.execute_reply.started": "2025-01-17T15:47:44.691651Z"
    }
   },
   "outputs": [],
   "source": [
    "contract_dict = {\n",
    "    '0xdac17f958d2ee523a2206206994597c13d831ec7': 'USDT (Tether) coin',\n",
    "    '0x32400084c286cf3e17e7b677ea9583e60a000324': 'zkSync: Layer 2 Bridge',\n",
    "    '0xa0b86991c6218b36c1d19d4a2e9eb0ce3606eb48': 'USDC (USD Coin)',\n",
    "    '0x881d4032abe4188e2237efcd27ab435e81fc6bb1': 'MetaMask Swap Router',\n",
    "    '0xae0ee0a63a2ce6baeeffe56e7714fb4efe48d419': 'StarkGate ETH Bridge',\n",
    "    '0x3fc91a3afd70395cd496c647d5a6cc9d4b2b7fad': 'Uniswap: Universal Router',\n",
    "    '0x95ad61b0a150d79219dcf64e1e6cc01f0b64c4ce': 'Shiba Inu (SHIB) token',\n",
    "    '0xabea9132b05a70803a4e85094fd0e1800777fbef': 'zkSync: Layer 2 Bridge',\n",
    "    '0x7a250d5630b4cf539739df2c5dacb4c659f2488d': 'Uniswap V2: Router 2',\n",
    "    '0xef1c6e67703c7bd7107eed8303fbe6ec2554bf6b': 'Uniswap: Universal Router 2',\n",
    "    '0x06450dee7fd2fb8e39061434babcfc05599a6fb8': 'XEN Crypto (XEN) token',\n",
    "    '0x7d1afa7b718fb893db30a3abc0cfc608aacfebb0': 'Matic Token (MATIC) token',\n",
    "    '0x881d40237659c251811cec9c364ef91dc08d300c': 'MetaMask: Swap Router',\n",
    "    '0x514910771af9ca656af840dff83e8264ecf986ca': 'ChainLink Token (LINK)',\n",
    "    '0xdef1c0ded9bec7f1a1670819833240f027b25eff': '0x Protocol: Exchange Proxy',\n",
    "    '0x00000000219ab540356cbb839cbe05303d7705fa': 'Beacon Deposit Contract',\n",
    "    '0xc02aaa39b223fe8d0a0e5c4f27ead9083c756cc2': 'Wrapped Ether (WETH) token',\n",
    "    '0xe66b31678d6c16e9ebf358268a790b763c133750': '0x: Coinbase Wallet Proxy',\n",
    "    '0x1a0ad011913a150f69f6a19df447a0cfd9551054': 'Zora: Bridge',\n",
    "    '0xd4307e0acd12cf46fd6cf93bc264f5d5d1598792': 'Base, Introduced token',\n",
    "    '0x6b175474e89094c44da98b954eedeac495271d0f': 'Dai Stablecoin (DAI)',\n",
    "    '0x0000000000664ceffed39244a8312bd895470803': 'ENS: ETH Registrar Controller',\n",
    "    '0x3506424f91fd33084466f402d5d97f05f8e3b4af': 'Chiliz (CHZ) token',\n",
    "    '0xd19d4b5d358258f05d7b411e21a1460d11b0876f': 'Linea: L1 Message Service',\n",
    "    '0x4d224452801aced8b2f0aebe155379bb5d594381': 'ApeCoin (APE) token'\n",
    "}\n"
   ]
  },
  {
   "cell_type": "code",
   "execution_count": 46,
   "id": "c1197f38-9eba-422d-a522-69626e06b267",
   "metadata": {
    "execution": {
     "iopub.execute_input": "2025-01-17T15:47:45.658073Z",
     "iopub.status.busy": "2025-01-17T15:47:45.657669Z",
     "iopub.status.idle": "2025-01-17T15:47:45.664607Z",
     "shell.execute_reply": "2025-01-17T15:47:45.662939Z",
     "shell.execute_reply.started": "2025-01-17T15:47:45.658041Z"
    }
   },
   "outputs": [],
   "source": [
    "top25_contracts['decoded_contracts'] = top25_contracts['to_address'].map(contract_dict)"
   ]
  },
  {
   "cell_type": "code",
   "execution_count": 47,
   "id": "4600e8b2-77cb-48ef-9a36-0b85b07cb4d1",
   "metadata": {
    "execution": {
     "iopub.execute_input": "2025-01-17T15:47:46.786492Z",
     "iopub.status.busy": "2025-01-17T15:47:46.786025Z",
     "iopub.status.idle": "2025-01-17T15:47:46.794991Z",
     "shell.execute_reply": "2025-01-17T15:47:46.793745Z",
     "shell.execute_reply.started": "2025-01-17T15:47:46.786455Z"
    }
   },
   "outputs": [],
   "source": [
    "def get_contract_functionality(decoded_contracts):\n",
    "    \"\"\"\n",
    "    Categorizes a contract's functionality based on its decoded name.\n",
    "\n",
    "    Args:\n",
    "        decoded_contracts (str): The decoded name of the contract.\n",
    "\n",
    "    Returns:\n",
    "        str: The category of the contract's functionality, such as:\n",
    "             - 'Stablecoin' for tokens like USDT or DAI.\n",
    "             - 'Router' for Uniswap or similar protocols.\n",
    "             - 'Bridge' for cross-chain bridge services.\n",
    "             - 'Token (NFT)' for NFT-related smart contracts.\n",
    "             - 'Infrastructure' for foundational blockchain services (e.g., ENS).\n",
    "             - 'Other' for unclassified or less common functionalities.\n",
    "    \"\"\"\n",
    "    if isinstance(decoded_contracts, str):\n",
    "        decoded_contracts = decoded_contracts.lower()\n",
    "        if 'tether' in decoded_contracts or 'usd coin' in decoded_contracts or 'dai' in decoded_contracts:\n",
    "            return 'Stablecoin'\n",
    "        elif 'uniswap' in decoded_contracts or 'metamask' in decoded_contracts:\n",
    "            return 'Router'\n",
    "        elif 'bridge' in decoded_contracts:\n",
    "            return 'Bridge'\n",
    "        elif 'token' in decoded_contracts:\n",
    "            return 'Token (NFT)'\n",
    "        elif 'ens' in decoded_contracts or 'proxy' in decoded_contracts or 'beacon' in decoded_contracts:\n",
    "            return 'Infrastructure'\n",
    "        else:\n",
    "            return 'Other'\n",
    "    return 'Other'\n"
   ]
  },
  {
   "cell_type": "code",
   "execution_count": 48,
   "id": "8756619a-56c0-4c64-93d3-13ec407916f0",
   "metadata": {
    "execution": {
     "iopub.execute_input": "2025-01-17T15:47:48.215749Z",
     "iopub.status.busy": "2025-01-17T15:47:48.215274Z",
     "iopub.status.idle": "2025-01-17T15:47:48.222599Z",
     "shell.execute_reply": "2025-01-17T15:47:48.221251Z",
     "shell.execute_reply.started": "2025-01-17T15:47:48.215712Z"
    }
   },
   "outputs": [],
   "source": [
    "top25_contracts['contract_functionality'] = top25_contracts['decoded_contracts'].apply(get_contract_functionality)"
   ]
  },
  {
   "cell_type": "code",
   "execution_count": 49,
   "id": "d73d137a-457d-480c-9799-a1fa97582660",
   "metadata": {
    "execution": {
     "iopub.execute_input": "2025-01-17T15:47:51.141135Z",
     "iopub.status.busy": "2025-01-17T15:47:51.140751Z",
     "iopub.status.idle": "2025-01-17T15:47:51.150626Z",
     "shell.execute_reply": "2025-01-17T15:47:51.149704Z",
     "shell.execute_reply.started": "2025-01-17T15:47:51.141107Z"
    }
   },
   "outputs": [
    {
     "data": {
      "text/html": [
       "<div>\n",
       "<style scoped>\n",
       "    .dataframe tbody tr th:only-of-type {\n",
       "        vertical-align: middle;\n",
       "    }\n",
       "\n",
       "    .dataframe tbody tr th {\n",
       "        vertical-align: top;\n",
       "    }\n",
       "\n",
       "    .dataframe thead th {\n",
       "        text-align: right;\n",
       "    }\n",
       "</style>\n",
       "<table border=\"1\" class=\"dataframe\">\n",
       "  <thead>\n",
       "    <tr style=\"text-align: right;\">\n",
       "      <th></th>\n",
       "      <th>to_address</th>\n",
       "      <th>transaction_count</th>\n",
       "      <th>decoded_contracts</th>\n",
       "      <th>contract_functionality</th>\n",
       "    </tr>\n",
       "  </thead>\n",
       "  <tbody>\n",
       "    <tr>\n",
       "      <th>0</th>\n",
       "      <td>0xdac17f958d2ee523a2206206994597c13d831ec7</td>\n",
       "      <td>3128</td>\n",
       "      <td>USDT (Tether) coin</td>\n",
       "      <td>Stablecoin</td>\n",
       "    </tr>\n",
       "    <tr>\n",
       "      <th>1</th>\n",
       "      <td>0x32400084c286cf3e17e7b677ea9583e60a000324</td>\n",
       "      <td>859</td>\n",
       "      <td>zkSync: Layer 2 Bridge</td>\n",
       "      <td>Bridge</td>\n",
       "    </tr>\n",
       "    <tr>\n",
       "      <th>2</th>\n",
       "      <td>0xa0b86991c6218b36c1d19d4a2e9eb0ce3606eb48</td>\n",
       "      <td>735</td>\n",
       "      <td>USDC (USD Coin)</td>\n",
       "      <td>Stablecoin</td>\n",
       "    </tr>\n",
       "  </tbody>\n",
       "</table>\n",
       "</div>"
      ],
      "text/plain": [
       "                                   to_address  transaction_count  \\\n",
       "0  0xdac17f958d2ee523a2206206994597c13d831ec7               3128   \n",
       "1  0x32400084c286cf3e17e7b677ea9583e60a000324                859   \n",
       "2  0xa0b86991c6218b36c1d19d4a2e9eb0ce3606eb48                735   \n",
       "\n",
       "        decoded_contracts contract_functionality  \n",
       "0      USDT (Tether) coin             Stablecoin  \n",
       "1  zkSync: Layer 2 Bridge                 Bridge  \n",
       "2         USDC (USD Coin)             Stablecoin  "
      ]
     },
     "execution_count": 49,
     "metadata": {},
     "output_type": "execute_result"
    }
   ],
   "source": [
    "top25_contracts.head(3)"
   ]
  },
  {
   "cell_type": "code",
   "execution_count": 50,
   "id": "f87ac60b-4e25-414b-ac41-36a8a7eb8c22",
   "metadata": {
    "execution": {
     "iopub.execute_input": "2025-01-17T15:47:58.139900Z",
     "iopub.status.busy": "2025-01-17T15:47:58.139516Z",
     "iopub.status.idle": "2025-01-17T15:47:58.371546Z",
     "shell.execute_reply": "2025-01-17T15:47:58.370137Z",
     "shell.execute_reply.started": "2025-01-17T15:47:58.139869Z"
    }
   },
   "outputs": [
    {
     "data": {
      "image/png": "[encoded data removed]",
      "text/plain": [
       "<Figure size 800x300 with 1 Axes>"
      ]
     },
     "metadata": {},
     "output_type": "display_data"
    }
   ],
   "source": [
    "category_percentage = top25_contracts.groupby('contract_functionality')['transaction_count'].sum() / top25_contracts['transaction_count'].sum() * 100\n",
    "\n",
    "plt.figure(figsize=(8, 3))\n",
    "category_percentage.sort_values().plot(kind='barh', color='purple', alpha=0.7)\n",
    "\n",
    "plt.title('TOP-25 Contracts by Functionality, %', fontsize=14)\n",
    "plt.ylabel('  ', fontsize=12)\n",
    "plt.xticks(fontsize=10)\n",
    "plt.yticks(fontsize=10)\n",
    "plt.grid(axis='x', linestyle='--', alpha=0.7)\n",
    "\n",
    "plt.tight_layout()\n",
    "plt.show()\n"
   ]
  },
  {
   "cell_type": "markdown",
   "id": "956ee218-e16f-45ec-8388-d8e57a245f2c",
   "metadata": {},
   "source": [
    "#### Results:\n",
    "- **Stablecoins** dominate with ~50% of transactions.\n",
    "- **Bridges** and **Routers** account for significant portions, reflecting the role of cross-chain interactions.\n",
    "- Other categories, including **Tokens (NFTs)** and **Infrastructure**, represent smaller shares.\n",
    "\n",
    "#### Conclusion:\n",
    "The analysis reveals that most activity among the top 25 contracts involves stablecoins and infrastructure supporting cross-chain operations. This emphasizes the importance of these functionalities in Ethereum's ecosystem.\n"
   ]
  },
  {
   "cell_type": "markdown",
   "id": "224be320-4980-489b-91ce-fbfcd6ffc1e5",
   "metadata": {},
   "source": [
    "### **13. Statistical Analysis of Gas Difference Between Stablecoin and Token Contracts**\n",
    "\n",
    "#### **Objective**:\n",
    "Determine whether there is a statistically significant difference in the gas difference between stablecoin and token (NFT) contracts.\n",
    "\n",
    "#### **13.1 Data Preparation**\n",
    "1. **Filtered Data**:\n",
    "   - Selected `Wallet-to-Contract` transactions with necessary columns: `to_address` and `gas_difference`.\n",
    "   - Mapped `to_address` to their decoded names and classified functionality using the `get_contract_functionality` function.\n"
   ]
  },
  {
   "cell_type": "code",
   "execution_count": 51,
   "id": "2d9208f0-07fc-47dd-8fab-f34ad50c8241",
   "metadata": {
    "execution": {
     "iopub.execute_input": "2025-01-17T15:48:05.643826Z",
     "iopub.status.busy": "2025-01-17T15:48:05.643383Z",
     "iopub.status.idle": "2025-01-17T15:48:05.656423Z",
     "shell.execute_reply": "2025-01-17T15:48:05.655668Z",
     "shell.execute_reply.started": "2025-01-17T15:48:05.643793Z"
    },
    "scrolled": true
   },
   "outputs": [],
   "source": [
    "user_to_contract_gas_diff = df[df['transactions_purpose'] == 'Wallet-to-Contract'][['to_address', 'gas_difference']]"
   ]
  },
  {
   "cell_type": "markdown",
   "id": "53baac9f-7199-4962-a2f2-84f1f1a08c25",
   "metadata": {},
   "source": [
    "2. **Separated Distributions**:\n",
    "   - Extracted gas difference values for:\n",
    "     - **Stablecoin Contracts**\n",
    "     - **Token (NFT) Contracts**\n",
    "\n",
    "**NOTE:**\n",
    "For building a distribution each value in column 'gas_difference' is needed.  \n",
    "As a contract_dict has only 25 identified addresses, unidentified addresses return NaN.  \n",
    "It has no impact on the next research, so there is no need to handle it."
   ]
  },
  {
   "cell_type": "code",
   "execution_count": 52,
   "id": "5c71363f-cabc-49e0-b307-af27c6294840",
   "metadata": {
    "execution": {
     "iopub.execute_input": "2025-01-17T15:48:09.354015Z",
     "iopub.status.busy": "2025-01-17T15:48:09.353543Z",
     "iopub.status.idle": "2025-01-17T15:48:09.373900Z",
     "shell.execute_reply": "2025-01-17T15:48:09.372805Z",
     "shell.execute_reply.started": "2025-01-17T15:48:09.353977Z"
    }
   },
   "outputs": [
    {
     "data": {
      "text/html": [
       "<div>\n",
       "<style scoped>\n",
       "    .dataframe tbody tr th:only-of-type {\n",
       "        vertical-align: middle;\n",
       "    }\n",
       "\n",
       "    .dataframe tbody tr th {\n",
       "        vertical-align: top;\n",
       "    }\n",
       "\n",
       "    .dataframe thead th {\n",
       "        text-align: right;\n",
       "    }\n",
       "</style>\n",
       "<table border=\"1\" class=\"dataframe\">\n",
       "  <thead>\n",
       "    <tr style=\"text-align: right;\">\n",
       "      <th></th>\n",
       "      <th>to_address</th>\n",
       "      <th>gas_difference</th>\n",
       "      <th>decoded_contracts</th>\n",
       "      <th>contract_functionality</th>\n",
       "    </tr>\n",
       "  </thead>\n",
       "  <tbody>\n",
       "    <tr>\n",
       "      <th>0</th>\n",
       "      <td>0xa0b86991c6218b36c1d19d4a2e9eb0ce3606eb48</td>\n",
       "      <td>19704</td>\n",
       "      <td>USDC (USD Coin)</td>\n",
       "      <td>Stablecoin</td>\n",
       "    </tr>\n",
       "    <tr>\n",
       "      <th>1</th>\n",
       "      <td>0xdef1c0ded9bec7f1a1670819833240f027b25eff</td>\n",
       "      <td>31296</td>\n",
       "      <td>0x Protocol: Exchange Proxy</td>\n",
       "      <td>Infrastructure</td>\n",
       "    </tr>\n",
       "    <tr>\n",
       "      <th>2</th>\n",
       "      <td>0x7fc66500c84a76ad7e9c93437bfc5ac33e2ddae9</td>\n",
       "      <td>90582</td>\n",
       "      <td>NaN</td>\n",
       "      <td>Other</td>\n",
       "    </tr>\n",
       "  </tbody>\n",
       "</table>\n",
       "</div>"
      ],
      "text/plain": [
       "                                   to_address  gas_difference  \\\n",
       "0  0xa0b86991c6218b36c1d19d4a2e9eb0ce3606eb48           19704   \n",
       "1  0xdef1c0ded9bec7f1a1670819833240f027b25eff           31296   \n",
       "2  0x7fc66500c84a76ad7e9c93437bfc5ac33e2ddae9           90582   \n",
       "\n",
       "             decoded_contracts contract_functionality  \n",
       "0              USDC (USD Coin)             Stablecoin  \n",
       "1  0x Protocol: Exchange Proxy         Infrastructure  \n",
       "2                          NaN                  Other  "
      ]
     },
     "execution_count": 52,
     "metadata": {},
     "output_type": "execute_result"
    }
   ],
   "source": [
    "user_to_contract_gas_diff['decoded_contracts'] = user_to_contract_gas_diff['to_address'].map(contract_dict)\n",
    "user_to_contract_gas_diff['contract_functionality'] = user_to_contract_gas_diff['decoded_contracts'].apply(get_contract_functionality)\n",
    "user_to_contract_gas_diff.head(3)"
   ]
  },
  {
   "cell_type": "markdown",
   "id": "b62653ac-fa5f-4031-b2af-4c78cd07db3e",
   "metadata": {},
   "source": [
    "Distinguishing gas difference distribution for stablecoin functionality contracts and token (NFT) functionality contracts:"
   ]
  },
  {
   "cell_type": "code",
   "execution_count": 53,
   "id": "9c208ed4-a560-4fd2-8393-02cbe1e07f9a",
   "metadata": {
    "execution": {
     "iopub.execute_input": "2025-01-17T15:48:12.831935Z",
     "iopub.status.busy": "2025-01-17T15:48:12.831419Z",
     "iopub.status.idle": "2025-01-17T15:48:12.846603Z",
     "shell.execute_reply": "2025-01-17T15:48:12.845564Z",
     "shell.execute_reply.started": "2025-01-17T15:48:12.831891Z"
    }
   },
   "outputs": [],
   "source": [
    "stablecoin_distribution = (\n",
    "    user_to_contract_gas_diff[(user_to_contract_gas_diff['contract_functionality'] == 'Stablecoin') \n",
    "    & (user_to_contract_gas_diff['gas_difference'] != 0)]\n",
    "    .gas_difference\n",
    ")\n",
    "\n",
    "token_distribution = (\n",
    "    user_to_contract_gas_diff[(user_to_contract_gas_diff['contract_functionality'] == 'Token (NFT)')\n",
    "    & (user_to_contract_gas_diff['gas_difference'] != 0)]\n",
    "    .gas_difference\n",
    ")"
   ]
  },
  {
   "cell_type": "markdown",
   "id": "9616ea25-d8be-4b73-bd8f-7cd2c2cfc5b0",
   "metadata": {},
   "source": [
    "#### **13.2 Visualizing Gas Difference Distributions**"
   ]
  },
  {
   "cell_type": "code",
   "execution_count": 54,
   "id": "36034d3f-25dc-4952-811d-10a40c246779",
   "metadata": {
    "execution": {
     "iopub.execute_input": "2025-01-17T15:48:16.320022Z",
     "iopub.status.busy": "2025-01-17T15:48:16.319509Z",
     "iopub.status.idle": "2025-01-17T15:48:16.674688Z",
     "shell.execute_reply": "2025-01-17T15:48:16.673976Z",
     "shell.execute_reply.started": "2025-01-17T15:48:16.319954Z"
    }
   },
   "outputs": [
    {
     "data": {
      "image/png": "[encoded data removed]",
      "text/plain": [
       "<Figure size 1200x300 with 2 Axes>"
      ]
     },
     "metadata": {},
     "output_type": "display_data"
    }
   ],
   "source": [
    "x_max = max(stablecoin_distribution.max(), token_distribution.max())\n",
    "\n",
    "fig, axes = plt.subplots(1, 2, figsize=(12, 3), sharey=True)\n",
    "\n",
    "axes[0].hist(stablecoin_distribution, bins=10, density=True, alpha=0.5, color='blue', label='Stablecoin')\n",
    "sns.kdeplot(stablecoin_distribution, ax=axes[0], color='blue')\n",
    "axes[0].set_title('Stablecoin')\n",
    "axes[0].set_xlabel('Gas Difference')\n",
    "axes[0].set_ylabel('Density')\n",
    "axes[0].set_xlim(-100000, x_max)\n",
    "\n",
    "axes[1].hist(token_distribution, bins=10, density=True, alpha=0.5, color='orange', label='Token (NFT)')\n",
    "sns.kdeplot(token_distribution, ax=axes[1], color='orange')\n",
    "axes[1].set_title('Token (NFT)')\n",
    "axes[1].set_xlabel('Gas Difference')\n",
    "axes[1].set_xlim(-100000, x_max)\n",
    "\n",
    "plt.tight_layout()\n",
    "plt.show()\n"
   ]
  },
  {
   "cell_type": "markdown",
   "id": "dcc1063e-1a9a-4162-ae8a-e5b1ac6e6b19",
   "metadata": {},
   "source": [
    "#### **Kernel Dencity Estimation (KDE) Plot of Gas Difference**"
   ]
  },
  {
   "cell_type": "code",
   "execution_count": 55,
   "id": "c3ed2f8c-5ee5-471c-b40d-74701e07effe",
   "metadata": {
    "execution": {
     "iopub.execute_input": "2025-01-17T15:48:20.679445Z",
     "iopub.status.busy": "2025-01-17T15:48:20.678971Z",
     "iopub.status.idle": "2025-01-17T15:48:20.950452Z",
     "shell.execute_reply": "2025-01-17T15:48:20.949671Z",
     "shell.execute_reply.started": "2025-01-17T15:48:20.679406Z"
    }
   },
   "outputs": [
    {
     "data": {
      "image/png": "[encoded data removed]",
      "text/plain": [
       "<Figure size 1000x300 with 1 Axes>"
      ]
     },
     "metadata": {},
     "output_type": "display_data"
    }
   ],
   "source": [
    "plt.figure(figsize=(10, 3))\n",
    "sns.kdeplot(stablecoin_distribution, label='Stablecoin', fill=True, alpha=0.6, color='blue')\n",
    "sns.kdeplot(token_distribution, label='Token (NFT)', fill=True, alpha=0.6, color='orange')\n",
    "\n",
    "plt.title(\"KDE Plot of Gas Difference by Contract Functionality\", fontsize=14)\n",
    "plt.xlabel(\"Gas Difference\", fontsize=12)\n",
    "plt.ylabel(\"Density\", fontsize=12)\n",
    "plt.legend(title=\"Contract Functionality\", fontsize=10)\n",
    "plt.grid(True, alpha=0.3)\n",
    "\n",
    "plt.show()"
   ]
  },
  {
   "cell_type": "markdown",
   "id": "4993341a-908e-48a4-ac45-445c388f9266",
   "metadata": {},
   "source": [
    "**Despite the visual similarity of the KDE Plot of Gas Difference, a statistical test is required to confirm or refute the hypothesis.**  \n",
    "**Distributions are not normall, so let's try to normalize them.**"
   ]
  },
  {
   "cell_type": "markdown",
   "id": "88d28adc-0bef-431a-aa1e-4bc09f548002",
   "metadata": {},
   "source": [
    "#### **13.3 Handling Outliers**\n",
    "\n",
    "1. **IQR Method**:\n",
    "   - Applied the Interquartile Range (IQR) method to remove outliers, as it is less sensitive compared to the 3*STD method.\n",
    "\n",
    "2. **Log Transformation**:\n",
    "   - Performed log transformation on both distributions to stabilize variance."
   ]
  },
  {
   "cell_type": "markdown",
   "id": "680a218b-ba77-4b9d-911b-644676dfa180",
   "metadata": {},
   "source": [
    "**Stablecoin Distribution**"
   ]
  },
  {
   "cell_type": "code",
   "execution_count": 56,
   "id": "52ce2e11-2bc8-46f2-9b63-16d7ed10acda",
   "metadata": {
    "execution": {
     "iopub.execute_input": "2025-01-17T15:48:25.006456Z",
     "iopub.status.busy": "2025-01-17T15:48:25.005911Z",
     "iopub.status.idle": "2025-01-17T15:48:25.016770Z",
     "shell.execute_reply": "2025-01-17T15:48:25.015818Z",
     "shell.execute_reply.started": "2025-01-17T15:48:25.006423Z"
    }
   },
   "outputs": [],
   "source": [
    "Q1 = stablecoin_distribution.quantile(0.25)\n",
    "Q3 = stablecoin_distribution.quantile(0.75)\n",
    "IQR = Q3 - Q1\n",
    "\n",
    "lower_bound = Q1 - 1.5 * IQR\n",
    "upper_bound = Q3 + 1.5 * IQR\n",
    "\n",
    "stablecoin_distribution = stablecoin_distribution[(stablecoin_distribution >= lower_bound) & (stablecoin_distribution <= upper_bound)]"
   ]
  },
  {
   "cell_type": "markdown",
   "id": "ea6a43b0-0570-40fa-abaf-467dc4070de6",
   "metadata": {},
   "source": [
    "**Token (NFT) Distribution**"
   ]
  },
  {
   "cell_type": "code",
   "execution_count": 57,
   "id": "cc92bb06-c897-42ae-a90b-d1aa9a4a373f",
   "metadata": {
    "execution": {
     "iopub.execute_input": "2025-01-17T15:48:26.601278Z",
     "iopub.status.busy": "2025-01-17T15:48:26.600729Z",
     "iopub.status.idle": "2025-01-17T15:48:26.610999Z",
     "shell.execute_reply": "2025-01-17T15:48:26.610236Z",
     "shell.execute_reply.started": "2025-01-17T15:48:26.601238Z"
    }
   },
   "outputs": [],
   "source": [
    "Q1 = token_distribution.quantile(0.25)\n",
    "Q3 = token_distribution.quantile(0.75)\n",
    "IQR = Q3 - Q1\n",
    "\n",
    "lower_bound = Q1 - 1.5 * IQR\n",
    "upper_bound = Q3 + 1.5 * IQR\n",
    "\n",
    "token_distribution = token_distribution[(token_distribution >= lower_bound) & (token_distribution <= upper_bound)]"
   ]
  },
  {
   "cell_type": "markdown",
   "id": "3c2f1352-dc6a-44a3-a8a7-adba786472ed",
   "metadata": {},
   "source": [
    "**Normalizing the Stablecoin and Token (NFT) Gas Difference Distributions**"
   ]
  },
  {
   "cell_type": "code",
   "execution_count": 58,
   "id": "5ddd400f-c8b8-4f5d-a0ba-9f6b0a38b048",
   "metadata": {
    "execution": {
     "iopub.execute_input": "2025-01-17T15:48:28.380658Z",
     "iopub.status.busy": "2025-01-17T15:48:28.380152Z",
     "iopub.status.idle": "2025-01-17T15:48:28.387544Z",
     "shell.execute_reply": "2025-01-17T15:48:28.386170Z",
     "shell.execute_reply.started": "2025-01-17T15:48:28.380616Z"
    }
   },
   "outputs": [],
   "source": [
    "stablecoin_distribution_log = np.log1p(stablecoin_distribution)\n",
    "token_distribution_log = np.log1p(token_distribution)"
   ]
  },
  {
   "cell_type": "code",
   "execution_count": 59,
   "id": "cf32e96e-e068-416e-b496-6994be724ec7",
   "metadata": {
    "execution": {
     "iopub.execute_input": "2025-01-17T15:48:29.929459Z",
     "iopub.status.busy": "2025-01-17T15:48:29.928988Z",
     "iopub.status.idle": "2025-01-17T15:48:30.279241Z",
     "shell.execute_reply": "2025-01-17T15:48:30.278525Z",
     "shell.execute_reply.started": "2025-01-17T15:48:29.929420Z"
    }
   },
   "outputs": [
    {
     "data": {
      "image/png": "[encoded data removed]",
      "text/plain": [
       "<Figure size 1200x300 with 2 Axes>"
      ]
     },
     "metadata": {},
     "output_type": "display_data"
    }
   ],
   "source": [
    "x_max = max(stablecoin_distribution_log.max(), token_distribution_log.max())\n",
    "\n",
    "fig, axes = plt.subplots(1, 2, figsize=(12, 3), sharey=True)\n",
    "\n",
    "axes[0].hist(stablecoin_distribution_log, bins=10, density=True, alpha=0.5, color='blue', label='Stablecoin')\n",
    "sns.kdeplot(stablecoin_distribution_log, ax=axes[0], color='blue')\n",
    "axes[0].set_title('Stablecoin')\n",
    "axes[0].set_xlabel('Gas Difference')\n",
    "axes[0].set_ylabel('Density')\n",
    "axes[0].set_xlim(0, x_max)\n",
    "\n",
    "axes[1].hist(token_distribution_log, bins=10, density=True, alpha=0.5, color='orange', label='Token (NFT)')\n",
    "sns.kdeplot(token_distribution_log, ax=axes[1], color='orange')\n",
    "axes[1].set_title('Token (NFT)')\n",
    "axes[1].set_xlabel('Gas Difference')\n",
    "axes[1].set_xlim(0, x_max)\n",
    "\n",
    "plt.tight_layout()\n",
    "plt.show()\n"
   ]
  },
  {
   "cell_type": "markdown",
   "id": "d55e65ab-9064-4b4f-b9e1-6d6cd072aae1",
   "metadata": {},
   "source": [
    "**Results**:\n",
    "   - Despite the transformation, the distributions remained non-normal.\n",
    "\n",
    "Since the log-transformed distributions did not become normal, use the **Mann-Whitney test** for the statistical analysis."
   ]
  },
  {
   "cell_type": "markdown",
   "id": "04821bd2-834c-44ba-8e6b-b84414f1300f",
   "metadata": {},
   "source": [
    "#### **13.4 Statistical Hypotheses**\n",
    "- **Null Hypothesis (H₀)**:\n",
    "  - Gas differences for stablecoin and token contracts are the same.\n",
    "  - No statistically significant difference exists between the two groups.\n",
    "- **Alternative Hypothesis (H₁)**:\n",
    "  - Gas differences for stablecoin and token contracts are different.\n",
    "  - One type systematically overestimates or underestimates gas usage compared to the other."
   ]
  },
  {
   "cell_type": "markdown",
   "id": "9386d862-2549-45e1-815e-7489a9cf17a5",
   "metadata": {},
   "source": [
    "#### **13.5 Statistical Test**\n",
    "- Used the **Mann-Whitney U Test** (a non-parametric test) due to the non-normality of distributions."
   ]
  },
  {
   "cell_type": "code",
   "execution_count": 60,
   "id": "117a1fd4-b6c2-4693-9b5a-f6ebcd58ddd6",
   "metadata": {
    "execution": {
     "iopub.execute_input": "2025-01-17T15:48:40.487866Z",
     "iopub.status.busy": "2025-01-17T15:48:40.487310Z",
     "iopub.status.idle": "2025-01-17T15:48:40.505715Z",
     "shell.execute_reply": "2025-01-17T15:48:40.504028Z",
     "shell.execute_reply.started": "2025-01-17T15:48:40.487794Z"
    }
   },
   "outputs": [
    {
     "name": "stdout",
     "output_type": "stream",
     "text": [
      "U-Statistic: 1032795.0\n",
      "P-Value: 5.574554723823791e-10\n",
      "Reject H₀: There is a statistically significant difference between the groups.\n"
     ]
    }
   ],
   "source": [
    "stat, p_value = mannwhitneyu(stablecoin_distribution, token_distribution, alternative='two-sided')\n",
    "\n",
    "print(f\"U-Statistic: {stat}\")\n",
    "print(f\"P-Value: {p_value}\")\n",
    "\n",
    "alpha = 0.05\n",
    "if p_value < alpha:\n",
    "    print(\"Reject H₀: There is a statistically significant difference between the groups.\")\n",
    "else:\n",
    "    print(\"fFail to reject H₀: There is no statistically significant difference between the groups.\")"
   ]
  },
  {
   "cell_type": "markdown",
   "id": "59517403-dab9-4b72-9981-9f0558d5c9b2",
   "metadata": {},
   "source": [
    "#### **13.6 Mean and Median Analysis**\n"
   ]
  },
  {
   "cell_type": "code",
   "execution_count": 61,
   "id": "31b1684c-1c28-4fe6-88e5-86860f94bc76",
   "metadata": {
    "execution": {
     "iopub.execute_input": "2025-01-17T15:48:55.575617Z",
     "iopub.status.busy": "2025-01-17T15:48:55.575128Z",
     "iopub.status.idle": "2025-01-17T15:48:55.584548Z",
     "shell.execute_reply": "2025-01-17T15:48:55.583449Z",
     "shell.execute_reply.started": "2025-01-17T15:48:55.575579Z"
    }
   },
   "outputs": [
    {
     "data": {
      "text/plain": [
       "(np.float64(24897.804392994953), np.float64(21012.0))"
      ]
     },
     "execution_count": 61,
     "metadata": {},
     "output_type": "execute_result"
    }
   ],
   "source": [
    "stablecoin_distribution.mean(), stablecoin_distribution.median()"
   ]
  },
  {
   "cell_type": "code",
   "execution_count": 62,
   "id": "bb5860a5-e4a3-4f6b-9ac9-6846ad07f7c1",
   "metadata": {
    "execution": {
     "iopub.execute_input": "2025-01-17T15:48:57.630219Z",
     "iopub.status.busy": "2025-01-17T15:48:57.629726Z",
     "iopub.status.idle": "2025-01-17T15:48:57.638427Z",
     "shell.execute_reply": "2025-01-17T15:48:57.637220Z",
     "shell.execute_reply.started": "2025-01-17T15:48:57.630181Z"
    },
    "scrolled": true
   },
   "outputs": [
    {
     "data": {
      "text/plain": [
       "(np.float64(20757.908571428572), np.float64(11759.0))"
      ]
     },
     "execution_count": 62,
     "metadata": {},
     "output_type": "execute_result"
    }
   ],
   "source": [
    "token_distribution.mean(), token_distribution.median()"
   ]
  },
  {
   "cell_type": "markdown",
   "id": "2437fc2a-f5d7-4eef-93f0-db5a82156808",
   "metadata": {},
   "source": [
    "- **Stablecoin Contracts**:\n",
    "  - Mean: 24,632\n",
    "  - Median: 21,012\n",
    "- **Token Contracts**:\n",
    "  - Mean: 20,757\n",
    "  - Median: 11,759"
   ]
  },
  {
   "cell_type": "markdown",
   "id": "c3f29314-d89e-4fe0-bc4f-4f4bcdfd281f",
   "metadata": {},
   "source": [
    "**Conclusion**:\n",
    "- Stablecoin contracts tend to overestimate gas requirements compared to token contracts, as indicated by higher mean and median gas differences.\n",
    "- Token contracts provide more accurate gas estimations, with smaller discrepancies between estimated and actual gas usage."
   ]
  },
  {
   "cell_type": "markdown",
   "id": "9b67db67-17c1-492f-abe2-65a30bc921b2",
   "metadata": {},
   "source": [
    "### **Conclusion**\n",
    "\n",
    "This analysis provides an in-depth exploration of Ethereum's transactional behavior, with a focus on newly created wallets, gas usage, and interactions with smart contracts. The key findings are:\n",
    "\n",
    "1. **New Wallet Behavior**:\n",
    "   - The majority of first transactions from new wallets involve **interactions with contracts** (Wallet-to-Contract transactions), while a significant portion represents direct Wallet-to-Wallet transfers. Contract-initiated transactions remain rare among new accounts.\n",
    "\n",
    "2. **Transaction Value Distribution**:\n",
    "   - Wallet-to-Wallet transactions exhibit a broader range of values, from micro-transfers to large-scale transfers, reflecting diverse use cases. In contrast, Wallet-to-Contract transactions often involve zero or minimal value, emphasizing their non-monetary, instructional nature.\n",
    "\n",
    "3. **Gas Usage Insights**:\n",
    "   - **Wallet-to-Wallet transactions** show predictable gas usage with minimal variability, reflecting their simplicity.\n",
    "   - **Wallet-to-Contract transactions** exhibit greater variability, indicating the complexity of contract interactions.\n",
    "   - **Contract transactions** consume the highest gas, reflecting their multitasking nature.\n",
    "\n",
    "4. **Contract Analysis**:\n",
    "   - Among the top 25 contract addresses, **stablecoins** dominate, followed by **bridges** and **routers**, highlighting the importance of DeFi and cross-chain functionality within Ethereum's ecosystem.\n",
    "\n",
    "5. **Statistical Analysis of Gas Difference**:\n",
    "   - Stablecoin contracts tend to overestimate gas requirements compared to token contracts, as revealed by statistically significant differences in gas discrepancies. Token contracts demonstrate more consistent and accurate gas estimation.\n",
    "\n",
    "### **Overall Implications**:\n",
    "- The Ethereum ecosystem's diversity is evident in the range of transaction types, values, and gas usage patterns.\n",
    "- Smart contract interactions dominate new wallet activity, with cross-chain applications driving most activity.\n",
    "- Stablecoin contracts, despite their importance, may require further optimization in gas estimation to reduce overestimation and enhance efficiency."
   ]
  },
  {
   "cell_type": "code",
   "execution_count": null,
   "id": "7a71296d-c722-4df7-ad71-00ddc110d205",
   "metadata": {},
   "outputs": [],
   "source": []
  }
 ],
 "metadata": {
  "kernelspec": {
   "display_name": "Python (myenv)",
   "language": "python",
   "name": "myenv"
  },
  "language_info": {
   "codemirror_mode": {
    "name": "ipython",
    "version": 3
   },
   "file_extension": ".py",
   "mimetype": "text/x-python",
   "name": "python",
   "nbconvert_exporter": "python",
   "pygments_lexer": "ipython3",
   "version": "3.11.1"
  }
 },
 "nbformat": 4,
 "nbformat_minor": 5
}
