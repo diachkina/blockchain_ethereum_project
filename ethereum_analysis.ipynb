{
 "cells": [
  {
   "cell_type": "markdown",
   "id": "4d97b5b7-08cb-4ff5-b307-c5da6a0026e5",
   "metadata": {},
   "source": [
    "### **1. Import all neccessery libraries.**"
   ]
  },
  {
   "cell_type": "code",
   "execution_count": 1,
   "id": "6341ccc2-c404-45a0-a833-4ae8cd827a87",
   "metadata": {
    "execution": {
     "iopub.execute_input": "2025-01-04T23:05:20.031703Z",
     "iopub.status.busy": "2025-01-04T23:05:20.031172Z",
     "iopub.status.idle": "2025-01-04T23:05:25.379530Z",
     "shell.execute_reply": "2025-01-04T23:05:25.378777Z",
     "shell.execute_reply.started": "2025-01-04T23:05:20.031659Z"
    }
   },
   "outputs": [],
   "source": [
    "from google.cloud import bigquery\n",
    "import pandas as pd\n",
    "import os\n",
    "import seaborn as sns\n",
    "import matplotlib.pyplot as plt\n",
    "import time\n",
    "import requests\n",
    "import json\n",
    "import calendar\n",
    "from matplotlib.colors import to_rgba\n",
    "import numpy as np\n",
    "from scipy.stats import norm\n",
    "from scipy.stats import mannwhitneyu"
   ]
  },
  {
   "cell_type": "markdown",
   "id": "ea4745ca-c805-4ac3-9dbe-b99a41e78855",
   "metadata": {},
   "source": [
    "### **2. Get data.**\n",
    "\n",
    "    From GoogleCloud and create a Data Frame 'df'.\n",
    "    This Data Set consists of first new wallets's outgoing transactions in 2023.\n",
    "    There is a sample which was chosen like 20000 fist raws from 1% sample of table `all_new_wallets_2023`\n",
    "\n",
    "NOTE:\n",
    "\n",
    "    'first_transactions_sample_with_input' was previously created with SQL-queries on BigQuery.\n",
    "    All queries are saved in query_ethereum_project.txt"
   ]
  },
  {
   "cell_type": "code",
   "execution_count": 2,
   "id": "3193b232-9d6e-40c8-b2aa-c0416053265c",
   "metadata": {
    "execution": {
     "iopub.execute_input": "2025-01-04T23:05:28.392808Z",
     "iopub.status.busy": "2025-01-04T23:05:28.391852Z",
     "iopub.status.idle": "2025-01-04T23:05:28.396702Z",
     "shell.execute_reply": "2025-01-04T23:05:28.395914Z",
     "shell.execute_reply.started": "2025-01-04T23:05:28.392780Z"
    }
   },
   "outputs": [],
   "source": [
    "os.environ['GOOGLE_APPLICATION_CREDENTIALS'] = 'my-project-444222-1be5aecf7dbb.json'"
   ]
  },
  {
   "cell_type": "code",
   "execution_count": 69,
   "id": "ce58c1b4-2133-4e83-87b5-6ed016eb75d6",
   "metadata": {
    "execution": {
     "iopub.execute_input": "2025-01-05T22:47:39.882782Z",
     "iopub.status.busy": "2025-01-05T22:47:39.881080Z",
     "iopub.status.idle": "2025-01-05T22:47:43.544891Z",
     "shell.execute_reply": "2025-01-05T22:47:43.543102Z",
     "shell.execute_reply.started": "2025-01-05T22:47:39.882732Z"
    }
   },
   "outputs": [],
   "source": [
    "client = bigquery.Client()\n",
    "\n",
    "query = \"\"\"\n",
    "SELECT *\n",
    "FROM `my-project-444222.wallets_2023.first_transactions_sample_with_input`\n",
    "\"\"\"\n",
    "df = client.query(query).to_dataframe()"
   ]
  },
  {
   "cell_type": "markdown",
   "id": "39c23abb-db32-435c-9fea-d0496f9ffde7",
   "metadata": {},
   "source": [
    "### **3. Check DataFrame.**"
   ]
  },
  {
   "cell_type": "code",
   "execution_count": 4,
   "id": "e03d38d9-ad31-4d58-adca-c829a33cb77d",
   "metadata": {
    "execution": {
     "iopub.execute_input": "2025-01-04T23:05:36.446324Z",
     "iopub.status.busy": "2025-01-04T23:05:36.445823Z",
     "iopub.status.idle": "2025-01-04T23:05:36.476323Z",
     "shell.execute_reply": "2025-01-04T23:05:36.475453Z",
     "shell.execute_reply.started": "2025-01-04T23:05:36.446287Z"
    }
   },
   "outputs": [
    {
     "data": {
      "text/html": [
       "<div>\n",
       "<style scoped>\n",
       "    .dataframe tbody tr th:only-of-type {\n",
       "        vertical-align: middle;\n",
       "    }\n",
       "\n",
       "    .dataframe tbody tr th {\n",
       "        vertical-align: top;\n",
       "    }\n",
       "\n",
       "    .dataframe thead th {\n",
       "        text-align: right;\n",
       "    }\n",
       "</style>\n",
       "<table border=\"1\" class=\"dataframe\">\n",
       "  <thead>\n",
       "    <tr style=\"text-align: right;\">\n",
       "      <th></th>\n",
       "      <th>from_address</th>\n",
       "      <th>first_transaction_time</th>\n",
       "      <th>to_address</th>\n",
       "      <th>value</th>\n",
       "      <th>input</th>\n",
       "      <th>gas</th>\n",
       "      <th>gas_price</th>\n",
       "      <th>transaction_type</th>\n",
       "      <th>receipt_gas_used</th>\n",
       "    </tr>\n",
       "  </thead>\n",
       "  <tbody>\n",
       "    <tr>\n",
       "      <th>0</th>\n",
       "      <td>0x6475e88ef19683a1345866398f45ab2549dbd621</td>\n",
       "      <td>2023-01-20 23:53:23+00:00</td>\n",
       "      <td>0xa0b86991c6218b36c1d19d4a2e9eb0ce3606eb48</td>\n",
       "      <td>0E-9</td>\n",
       "      <td>0xa9059cbb000000000000000000000000bb3fd383d1c5...</td>\n",
       "      <td>63429</td>\n",
       "      <td>25123969051</td>\n",
       "      <td>0</td>\n",
       "      <td>43725</td>\n",
       "    </tr>\n",
       "    <tr>\n",
       "      <th>1</th>\n",
       "      <td>0x49a64a902c99bf44e159d17a8b334d0c054dc612</td>\n",
       "      <td>2023-11-04 02:29:35+00:00</td>\n",
       "      <td>0xdef1c0ded9bec7f1a1670819833240f027b25eff</td>\n",
       "      <td>2718019107674500.000000000</td>\n",
       "      <td>0x3598d8ab000000000000000000000000000000000000...</td>\n",
       "      <td>171677</td>\n",
       "      <td>13626377233</td>\n",
       "      <td>2</td>\n",
       "      <td>140381</td>\n",
       "    </tr>\n",
       "    <tr>\n",
       "      <th>2</th>\n",
       "      <td>0xa6481f04f959be573f85bafa962dd5716c75036f</td>\n",
       "      <td>2023-02-13 07:51:59+00:00</td>\n",
       "      <td>0x7fc66500c84a76ad7e9c93437bfc5ac33e2ddae9</td>\n",
       "      <td>0E-9</td>\n",
       "      <td>0xa9059cbb000000000000000000000000c610ff51929c...</td>\n",
       "      <td>316657</td>\n",
       "      <td>14899917470</td>\n",
       "      <td>2</td>\n",
       "      <td>226075</td>\n",
       "    </tr>\n",
       "    <tr>\n",
       "      <th>3</th>\n",
       "      <td>0x8f0ab55f38f530345d271600eb3c0d08c1df19df</td>\n",
       "      <td>2023-06-12 12:18:11+00:00</td>\n",
       "      <td>0x8e16bf47065fe843a82f4399baf5abac4e0822b7</td>\n",
       "      <td>0E-9</td>\n",
       "      <td>0xa9059cbb000000000000000000000000c30badb28e20...</td>\n",
       "      <td>62243</td>\n",
       "      <td>15750000000</td>\n",
       "      <td>0</td>\n",
       "      <td>56963</td>\n",
       "    </tr>\n",
       "    <tr>\n",
       "      <th>4</th>\n",
       "      <td>0x92508951402cf163ace0e23424b1d888e13c093b</td>\n",
       "      <td>2023-09-14 13:06:59+00:00</td>\n",
       "      <td>0xa0b86991c6218b36c1d19d4a2e9eb0ce3606eb48</td>\n",
       "      <td>0E-9</td>\n",
       "      <td>0xa9059cbb0000000000000000000000001689a089aa12...</td>\n",
       "      <td>170000</td>\n",
       "      <td>33000000000</td>\n",
       "      <td>0</td>\n",
       "      <td>43701</td>\n",
       "    </tr>\n",
       "  </tbody>\n",
       "</table>\n",
       "</div>"
      ],
      "text/plain": [
       "                                 from_address    first_transaction_time  \\\n",
       "0  0x6475e88ef19683a1345866398f45ab2549dbd621 2023-01-20 23:53:23+00:00   \n",
       "1  0x49a64a902c99bf44e159d17a8b334d0c054dc612 2023-11-04 02:29:35+00:00   \n",
       "2  0xa6481f04f959be573f85bafa962dd5716c75036f 2023-02-13 07:51:59+00:00   \n",
       "3  0x8f0ab55f38f530345d271600eb3c0d08c1df19df 2023-06-12 12:18:11+00:00   \n",
       "4  0x92508951402cf163ace0e23424b1d888e13c093b 2023-09-14 13:06:59+00:00   \n",
       "\n",
       "                                   to_address                       value  \\\n",
       "0  0xa0b86991c6218b36c1d19d4a2e9eb0ce3606eb48                        0E-9   \n",
       "1  0xdef1c0ded9bec7f1a1670819833240f027b25eff  2718019107674500.000000000   \n",
       "2  0x7fc66500c84a76ad7e9c93437bfc5ac33e2ddae9                        0E-9   \n",
       "3  0x8e16bf47065fe843a82f4399baf5abac4e0822b7                        0E-9   \n",
       "4  0xa0b86991c6218b36c1d19d4a2e9eb0ce3606eb48                        0E-9   \n",
       "\n",
       "                                               input     gas    gas_price  \\\n",
       "0  0xa9059cbb000000000000000000000000bb3fd383d1c5...   63429  25123969051   \n",
       "1  0x3598d8ab000000000000000000000000000000000000...  171677  13626377233   \n",
       "2  0xa9059cbb000000000000000000000000c610ff51929c...  316657  14899917470   \n",
       "3  0xa9059cbb000000000000000000000000c30badb28e20...   62243  15750000000   \n",
       "4  0xa9059cbb0000000000000000000000001689a089aa12...  170000  33000000000   \n",
       "\n",
       "   transaction_type  receipt_gas_used  \n",
       "0                 0             43725  \n",
       "1                 2            140381  \n",
       "2                 2            226075  \n",
       "3                 0             56963  \n",
       "4                 0             43701  "
      ]
     },
     "execution_count": 4,
     "metadata": {},
     "output_type": "execute_result"
    }
   ],
   "source": [
    "df.head(5)"
   ]
  },
  {
   "cell_type": "code",
   "execution_count": 5,
   "id": "73a3b4a7-946a-4f2f-a3ff-f42e5fab3f53",
   "metadata": {
    "execution": {
     "iopub.execute_input": "2025-01-04T23:05:39.431542Z",
     "iopub.status.busy": "2025-01-04T23:05:39.430935Z",
     "iopub.status.idle": "2025-01-04T23:05:39.461036Z",
     "shell.execute_reply": "2025-01-04T23:05:39.460347Z",
     "shell.execute_reply.started": "2025-01-04T23:05:39.431497Z"
    }
   },
   "outputs": [
    {
     "name": "stdout",
     "output_type": "stream",
     "text": [
      "<class 'pandas.core.frame.DataFrame'>\n",
      "RangeIndex: 20000 entries, 0 to 19999\n",
      "Data columns (total 9 columns):\n",
      " #   Column                  Non-Null Count  Dtype              \n",
      "---  ------                  --------------  -----              \n",
      " 0   from_address            20000 non-null  object             \n",
      " 1   first_transaction_time  20000 non-null  datetime64[us, UTC]\n",
      " 2   to_address              19867 non-null  object             \n",
      " 3   value                   20000 non-null  object             \n",
      " 4   input                   20000 non-null  object             \n",
      " 5   gas                     20000 non-null  Int64              \n",
      " 6   gas_price               20000 non-null  Int64              \n",
      " 7   transaction_type        20000 non-null  Int64              \n",
      " 8   receipt_gas_used        20000 non-null  Int64              \n",
      "dtypes: Int64(4), datetime64[us, UTC](1), object(4)\n",
      "memory usage: 1.4+ MB\n"
     ]
    },
    {
     "data": {
      "text/plain": [
       "(None, (20000, 9))"
      ]
     },
     "execution_count": 5,
     "metadata": {},
     "output_type": "execute_result"
    }
   ],
   "source": [
    "df.info(), df.shape"
   ]
  },
  {
   "cell_type": "markdown",
   "id": "c0701f86-41cc-4d5b-ae64-7cf11d6bad1d",
   "metadata": {},
   "source": [
    "**\"to_address - STRING - NULLABLE - Address of the receiver. null when its a contract creation transaction\"** - here is description from origin table `bigquery-public-data.crypto_ethereum.transactions`  \n",
    "It means all addresses ('from_address') with NULL in the column 'to_address' belong to Contracts.  \n",
    "\n",
    "Replace NULL with 'Contract':"
   ]
  },
  {
   "cell_type": "code",
   "execution_count": 70,
   "id": "2f399579-122a-4914-9cd1-ed5164b0f629",
   "metadata": {
    "execution": {
     "iopub.execute_input": "2025-01-05T22:47:51.713251Z",
     "iopub.status.busy": "2025-01-05T22:47:51.712766Z",
     "iopub.status.idle": "2025-01-05T22:47:51.744422Z",
     "shell.execute_reply": "2025-01-05T22:47:51.743113Z",
     "shell.execute_reply.started": "2025-01-05T22:47:51.713212Z"
    }
   },
   "outputs": [],
   "source": [
    "df = df.fillna('Contract')"
   ]
  },
  {
   "cell_type": "markdown",
   "id": "bca6c5b9-aa7f-41eb-958e-4744064367d4",
   "metadata": {},
   "source": [
    "Change 'value' data type:"
   ]
  },
  {
   "cell_type": "code",
   "execution_count": 71,
   "id": "c13e07b1-bfa4-4821-a014-f8346902d88d",
   "metadata": {
    "execution": {
     "iopub.execute_input": "2025-01-05T22:47:54.577378Z",
     "iopub.status.busy": "2025-01-05T22:47:54.576822Z",
     "iopub.status.idle": "2025-01-05T22:47:54.654523Z",
     "shell.execute_reply": "2025-01-05T22:47:54.653027Z",
     "shell.execute_reply.started": "2025-01-05T22:47:54.577339Z"
    }
   },
   "outputs": [],
   "source": [
    "df['value'] = pd.to_numeric(df['value'], errors='coerce')"
   ]
  },
  {
   "cell_type": "markdown",
   "id": "ee869a51-2746-4371-87f0-0dee50524b58",
   "metadata": {},
   "source": [
    "### **4. Extract Bytes Signatures from Input and Decode Them.**"
   ]
  },
  {
   "cell_type": "markdown",
   "id": "5c3e12ea-568f-41eb-8bfb-906a59b8e2e7",
   "metadata": {},
   "source": [
    "* Bytes Signature  - first 10 symbols of an input. It can be decoded into readable Text Signature with fuction's name\n",
    "* Function - action, wich Smart Contract executes\n",
    "* Smart Contract -\n",
    "* If Signature is 0x it means tranaction doesn’t relate to Smart Contract and it defines as Transfer (between two wallets)"
   ]
  },
  {
   "cell_type": "code",
   "execution_count": 72,
   "id": "e909c03a-998e-441a-84e2-fb31f347b7dc",
   "metadata": {
    "execution": {
     "iopub.execute_input": "2025-01-05T22:48:03.755738Z",
     "iopub.status.busy": "2025-01-05T22:48:03.755238Z",
     "iopub.status.idle": "2025-01-05T22:48:03.783905Z",
     "shell.execute_reply": "2025-01-05T22:48:03.781663Z",
     "shell.execute_reply.started": "2025-01-05T22:48:03.755701Z"
    }
   },
   "outputs": [],
   "source": [
    "df['signature'] = df['input'].str[:10]"
   ]
  },
  {
   "cell_type": "code",
   "execution_count": 73,
   "id": "90e4afe0-1be1-47a0-8613-5c42d55aa453",
   "metadata": {
    "execution": {
     "iopub.execute_input": "2025-01-05T22:48:05.654743Z",
     "iopub.status.busy": "2025-01-05T22:48:05.654442Z",
     "iopub.status.idle": "2025-01-05T22:48:05.697072Z",
     "shell.execute_reply": "2025-01-05T22:48:05.695474Z",
     "shell.execute_reply.started": "2025-01-05T22:48:05.654721Z"
    }
   },
   "outputs": [
    {
     "data": {
      "text/plain": [
       "signature\n",
       "0x            8770\n",
       "0xa9059cbb    5087\n",
       "0x095ea7b3     974\n",
       "0xeb672419     859\n",
       "0x3593564c     401\n",
       "Name: count, dtype: int64"
      ]
     },
     "execution_count": 73,
     "metadata": {},
     "output_type": "execute_result"
    }
   ],
   "source": [
    "unique_signatures = df['signature'].unique()\n",
    "df['signature'].value_counts().head(5)"
   ]
  },
  {
   "cell_type": "code",
   "execution_count": 74,
   "id": "b2a61f3c-2653-494a-b096-5b35ff48970e",
   "metadata": {
    "execution": {
     "iopub.execute_input": "2025-01-05T22:48:07.418557Z",
     "iopub.status.busy": "2025-01-05T22:48:07.418007Z",
     "iopub.status.idle": "2025-01-05T22:48:07.436261Z",
     "shell.execute_reply": "2025-01-05T22:48:07.434184Z",
     "shell.execute_reply.started": "2025-01-05T22:48:07.418515Z"
    }
   },
   "outputs": [],
   "source": [
    "def get_function(signature_list):\n",
    "    \"\"\"\n",
    "    Decodes a list of Ethereum function signatures using the 4byte.directory API.\n",
    "\n",
    "    Args:\n",
    "        signature_list (list): List of hexadecimal function signatures (e.g., ['0x095ea7b3']).\n",
    "\n",
    "    Returns:\n",
    "        dict: A dictionary mapping each signature to its decoded function name or 'Unknown'.\n",
    "    \"\"\"\n",
    "    decoded = {}\n",
    "    for signature in signature_list:\n",
    "        if signature == '0x':\n",
    "            decoded[signature] = 'Transfer'\n",
    "            continue \n",
    "        url = f\"https://www.4byte.directory/api/v1/signatures/?hex_signature={signature}\"\n",
    "        response = requests.get(url)\n",
    "        if response.status_code == 200:\n",
    "            results = response.json().get('results', [])\n",
    "            decoded[signature] = results[0]['text_signature'] if results else \"Unknown\"\n",
    "        else:\n",
    "            decoded[signature] = \"API error\"\n",
    "    return decoded\n"
   ]
  },
  {
   "cell_type": "code",
   "execution_count": 75,
   "id": "b996d311-714f-42ea-ac6c-66b10c737dae",
   "metadata": {
    "execution": {
     "iopub.execute_input": "2025-01-05T22:48:17.077219Z",
     "iopub.status.busy": "2025-01-05T22:48:17.075880Z",
     "iopub.status.idle": "2025-01-05T22:50:01.308915Z",
     "shell.execute_reply": "2025-01-05T22:50:01.305677Z",
     "shell.execute_reply.started": "2025-01-05T22:48:17.077177Z"
    }
   },
   "outputs": [],
   "source": [
    "decoded_results = get_function(unique_signatures)"
   ]
  },
  {
   "cell_type": "code",
   "execution_count": 76,
   "id": "ac0b71ca-9edf-4af7-935c-8f95225a0087",
   "metadata": {
    "execution": {
     "iopub.execute_input": "2025-01-05T22:50:03.890256Z",
     "iopub.status.busy": "2025-01-05T22:50:03.888237Z",
     "iopub.status.idle": "2025-01-05T22:50:03.949116Z",
     "shell.execute_reply": "2025-01-05T22:50:03.945141Z",
     "shell.execute_reply.started": "2025-01-05T22:50:03.890195Z"
    }
   },
   "outputs": [],
   "source": [
    "df['function'] = df['signature'].map(decoded_results)"
   ]
  },
  {
   "cell_type": "code",
   "execution_count": 77,
   "id": "216c7a45-bb7d-48f3-ac83-3d996402afec",
   "metadata": {
    "execution": {
     "iopub.execute_input": "2025-01-05T22:50:06.010583Z",
     "iopub.status.busy": "2025-01-05T22:50:06.010049Z",
     "iopub.status.idle": "2025-01-05T22:50:06.024733Z",
     "shell.execute_reply": "2025-01-05T22:50:06.023752Z",
     "shell.execute_reply.started": "2025-01-05T22:50:06.010543Z"
    }
   },
   "outputs": [
    {
     "data": {
      "text/plain": [
       "function\n",
       "Transfer                                                                       8770\n",
       "workMyDirefulOwner(uint256,uint256)                                            5087\n",
       "_SIMONdotBLACK_(int8[],int224[],int256,int64,uint248[])                         974\n",
       "requestL2Transaction(address,uint256,bytes,uint256,uint256,bytes[],address)     859\n",
       "Unknown                                                                         781\n",
       "Name: count, dtype: int64"
      ]
     },
     "execution_count": 77,
     "metadata": {},
     "output_type": "execute_result"
    }
   ],
   "source": [
    "df.function.value_counts().head(5)"
   ]
  },
  {
   "cell_type": "markdown",
   "id": "d484b58d-6da6-4f8e-9de9-08ed48e68748",
   "metadata": {},
   "source": [
    "**Some the names of funtions don't look as expected, because of collision in Bytes Code (when different texts have the same Bytes Code)**\n",
    "\n",
    "**Signatures was checked on https://www.4byte.directory/ and Function's name was changed**"
   ]
  },
  {
   "cell_type": "code",
   "execution_count": 78,
   "id": "22b3ad44-cfaf-462d-aeff-0c907aa1e145",
   "metadata": {
    "execution": {
     "iopub.execute_input": "2025-01-05T22:50:09.617355Z",
     "iopub.status.busy": "2025-01-05T22:50:09.616833Z",
     "iopub.status.idle": "2025-01-05T22:50:09.635013Z",
     "shell.execute_reply": "2025-01-05T22:50:09.634023Z",
     "shell.execute_reply.started": "2025-01-05T22:50:09.617317Z"
    }
   },
   "outputs": [],
   "source": [
    "def fixed_func_names(func_name):\n",
    "    if func_name == 'workMyDirefulOwner(uint256,uint256)':\n",
    "        return 'transfer(address,uint256)'\n",
    "    elif func_name == '_SIMONdotBLACK_(int8[],int224[],int256,int64,uint248[])':\n",
    "        return 'approve(address,uint256)'\n",
    "    elif func_name == 'join_tg_invmru_haha_9f4805a(bool,uint256)':\n",
    "        return 'swapExactETHForTokensSupportingFeeOnTransferTokens(uint256,address[],address,uint256)'\n",
    "    return func_name\n",
    "\n",
    "df['function'] = df['function'].apply(fixed_func_names)"
   ]
  },
  {
   "cell_type": "code",
   "execution_count": 79,
   "id": "563235e8-afb4-469d-b729-adfc06dc3542",
   "metadata": {
    "execution": {
     "iopub.execute_input": "2025-01-05T22:50:10.980640Z",
     "iopub.status.busy": "2025-01-05T22:50:10.980167Z",
     "iopub.status.idle": "2025-01-05T22:50:10.990354Z",
     "shell.execute_reply": "2025-01-05T22:50:10.989357Z",
     "shell.execute_reply.started": "2025-01-05T22:50:10.980572Z"
    }
   },
   "outputs": [
    {
     "data": {
      "text/plain": [
       "function\n",
       "Transfer                                                                       8770\n",
       "transfer(address,uint256)                                                      5087\n",
       "approve(address,uint256)                                                        974\n",
       "requestL2Transaction(address,uint256,bytes,uint256,uint256,bytes[],address)     859\n",
       "Unknown                                                                         781\n",
       "execute(bytes,bytes[],uint256)                                                  401\n",
       "Name: count, dtype: int64"
      ]
     },
     "execution_count": 79,
     "metadata": {},
     "output_type": "execute_result"
    }
   ],
   "source": [
    "df.function.value_counts().head(6)"
   ]
  },
  {
   "cell_type": "markdown",
   "id": "1c8763fc-19bb-45f4-bbfd-2596873f491d",
   "metadata": {},
   "source": [
    "It can be suggested that excluding 87770 Transfers are between wallets, other transactions belong Smart Contracts or inner blockchain processes."
   ]
  },
  {
   "cell_type": "markdown",
   "id": "403b36d2-ed2e-400c-9a90-4032bed4c2de",
   "metadata": {},
   "source": [
    "### **5. Analisis of the First Transactions Purposes**"
   ]
  },
  {
   "cell_type": "markdown",
   "id": "aa5ed429-ef31-4308-9a95-42e1df37392c",
   "metadata": {},
   "source": [
    "Exclude Contract's adresses:"
   ]
  },
  {
   "cell_type": "code",
   "execution_count": 80,
   "id": "cbf7433a-38c1-44be-8337-f4d239c57c46",
   "metadata": {
    "execution": {
     "iopub.execute_input": "2025-01-05T22:50:17.618781Z",
     "iopub.status.busy": "2025-01-05T22:50:17.618350Z",
     "iopub.status.idle": "2025-01-05T22:50:17.766562Z",
     "shell.execute_reply": "2025-01-05T22:50:17.765499Z",
     "shell.execute_reply.started": "2025-01-05T22:50:17.618749Z"
    }
   },
   "outputs": [
    {
     "data": {
      "text/html": [
       "<div>\n",
       "<style scoped>\n",
       "    .dataframe tbody tr th:only-of-type {\n",
       "        vertical-align: middle;\n",
       "    }\n",
       "\n",
       "    .dataframe tbody tr th {\n",
       "        vertical-align: top;\n",
       "    }\n",
       "\n",
       "    .dataframe thead th {\n",
       "        text-align: right;\n",
       "    }\n",
       "</style>\n",
       "<table border=\"1\" class=\"dataframe\">\n",
       "  <thead>\n",
       "    <tr style=\"text-align: right;\">\n",
       "      <th></th>\n",
       "      <th>value</th>\n",
       "      <th>gas</th>\n",
       "      <th>gas_price</th>\n",
       "      <th>transaction_type</th>\n",
       "      <th>receipt_gas_used</th>\n",
       "    </tr>\n",
       "  </thead>\n",
       "  <tbody>\n",
       "    <tr>\n",
       "      <th>count</th>\n",
       "      <td>8.770000e+03</td>\n",
       "      <td>8770.0</td>\n",
       "      <td>8770.0</td>\n",
       "      <td>8770.0</td>\n",
       "      <td>8770.0</td>\n",
       "    </tr>\n",
       "    <tr>\n",
       "      <th>mean</th>\n",
       "      <td>9.822688e+18</td>\n",
       "      <td>27576.715165</td>\n",
       "      <td>32202855570.149033</td>\n",
       "      <td>1.278107</td>\n",
       "      <td>21320.169555</td>\n",
       "    </tr>\n",
       "    <tr>\n",
       "      <th>std</th>\n",
       "      <td>4.918961e+20</td>\n",
       "      <td>30545.965764</td>\n",
       "      <td>29711920906.699932</td>\n",
       "      <td>0.96007</td>\n",
       "      <td>5236.021528</td>\n",
       "    </tr>\n",
       "    <tr>\n",
       "      <th>min</th>\n",
       "      <td>0.000000e+00</td>\n",
       "      <td>21000.0</td>\n",
       "      <td>4740000000.0</td>\n",
       "      <td>0.0</td>\n",
       "      <td>21000.0</td>\n",
       "    </tr>\n",
       "    <tr>\n",
       "      <th>25%</th>\n",
       "      <td>2.074420e+16</td>\n",
       "      <td>21000.0</td>\n",
       "      <td>17000000000.0</td>\n",
       "      <td>0.0</td>\n",
       "      <td>21000.0</td>\n",
       "    </tr>\n",
       "    <tr>\n",
       "      <th>50%</th>\n",
       "      <td>6.364410e+16</td>\n",
       "      <td>21000.0</td>\n",
       "      <td>25001539939.5</td>\n",
       "      <td>2.0</td>\n",
       "      <td>21000.0</td>\n",
       "    </tr>\n",
       "    <tr>\n",
       "      <th>75%</th>\n",
       "      <td>2.356489e+17</td>\n",
       "      <td>21000.0</td>\n",
       "      <td>38000000000.0</td>\n",
       "      <td>2.0</td>\n",
       "      <td>21000.0</td>\n",
       "    </tr>\n",
       "    <tr>\n",
       "      <th>max</th>\n",
       "      <td>3.131060e+22</td>\n",
       "      <td>978136.0</td>\n",
       "      <td>1176000000000.0</td>\n",
       "      <td>2.0</td>\n",
       "      <td>270353.0</td>\n",
       "    </tr>\n",
       "  </tbody>\n",
       "</table>\n",
       "</div>"
      ],
      "text/plain": [
       "              value           gas           gas_price  transaction_type  \\\n",
       "count  8.770000e+03        8770.0              8770.0            8770.0   \n",
       "mean   9.822688e+18  27576.715165  32202855570.149033          1.278107   \n",
       "std    4.918961e+20  30545.965764  29711920906.699932           0.96007   \n",
       "min    0.000000e+00       21000.0        4740000000.0               0.0   \n",
       "25%    2.074420e+16       21000.0       17000000000.0               0.0   \n",
       "50%    6.364410e+16       21000.0       25001539939.5               2.0   \n",
       "75%    2.356489e+17       21000.0       38000000000.0               2.0   \n",
       "max    3.131060e+22      978136.0     1176000000000.0               2.0   \n",
       "\n",
       "       receipt_gas_used  \n",
       "count            8770.0  \n",
       "mean       21320.169555  \n",
       "std         5236.021528  \n",
       "min             21000.0  \n",
       "25%             21000.0  \n",
       "50%             21000.0  \n",
       "75%             21000.0  \n",
       "max            270353.0  "
      ]
     },
     "execution_count": 80,
     "metadata": {},
     "output_type": "execute_result"
    }
   ],
   "source": [
    "df[df['function'] == 'Transfer'].describe()"
   ]
  },
  {
   "cell_type": "markdown",
   "id": "2475200f-a811-4367-ae87-ed03904f787a",
   "metadata": {},
   "source": [
    "The dataset contains heterogeneous data.  \n",
    "\n",
    "*min value is 0.00*\n",
    "\n",
    "***why somebody transfed 0 (zero) ETH if it is NOT a contract?***"
   ]
  },
  {
   "cell_type": "markdown",
   "id": "17f8fa8a-da68-4448-990c-aa373c443ca2",
   "metadata": {},
   "source": [
    "#### **5.1 How Many Zero Transactions among User Transfers?**"
   ]
  },
  {
   "cell_type": "code",
   "execution_count": 81,
   "id": "84b5f924-fb01-4418-8e22-309f6e8c73e3",
   "metadata": {
    "execution": {
     "iopub.execute_input": "2025-01-05T22:50:24.948128Z",
     "iopub.status.busy": "2025-01-05T22:50:24.947522Z",
     "iopub.status.idle": "2025-01-05T22:50:24.964770Z",
     "shell.execute_reply": "2025-01-05T22:50:24.963211Z",
     "shell.execute_reply.started": "2025-01-05T22:50:24.948087Z"
    }
   },
   "outputs": [
    {
     "data": {
      "text/plain": [
       "92"
      ]
     },
     "execution_count": 81,
     "metadata": {},
     "output_type": "execute_result"
    }
   ],
   "source": [
    "df[(df['function'] == 'Transfer') & (df['value'] == 0.00)].shape[0]"
   ]
  },
  {
   "cell_type": "markdown",
   "id": "a646ad78-9905-49a7-9b30-2ccaf89b06c0",
   "metadata": {},
   "source": [
    "#### **5.2 Detailed Analysis of User-to-User Transfers with 0 ETH values**"
   ]
  },
  {
   "cell_type": "code",
   "execution_count": 82,
   "id": "14256294-1939-4016-84bf-9178d92f2555",
   "metadata": {
    "execution": {
     "iopub.execute_input": "2025-01-05T22:50:26.524259Z",
     "iopub.status.busy": "2025-01-05T22:50:26.523763Z",
     "iopub.status.idle": "2025-01-05T22:50:26.539270Z",
     "shell.execute_reply": "2025-01-05T22:50:26.538381Z",
     "shell.execute_reply.started": "2025-01-05T22:50:26.524221Z"
    }
   },
   "outputs": [
    {
     "data": {
      "text/plain": [
       "to_address\n",
       "0xb6b039afc0ce83ddf613d6b742eba3b96943df0e    30\n",
       "0x2b82c78ae3c973c1ce39d63b5d63c6cb8db199ea    18\n",
       "0x34806cbba5698f9ca9f4aa4700348e56fe3ceb34     8\n",
       "Name: count, dtype: int64"
      ]
     },
     "execution_count": 82,
     "metadata": {},
     "output_type": "execute_result"
    }
   ],
   "source": [
    "df[(df['function'] == 'Transfer') & (df['value'] == 0.00)].to_address.value_counts().head(3)"
   ]
  },
  {
   "cell_type": "markdown",
   "id": "2c4b3428-51f5-41cc-b5a4-b1fd96450dda",
   "metadata": {},
   "source": [
    "A detailed analysis of transactions classified as User-to-User Transfers (due to a zero input) revealed that some of them have a zero value. This raised a question: **what is the purpose of sending 0 ETH between users?**\n",
    "\n",
    "To investigate further, the two most popular recipient addresses of such transactions were checked via the Etherscan interface: \n",
    "\n",
    "[1st address (30 transactions)](https://etherscan.io/address/0xb6b039afc0ce83ddf613d6b742eba3b96943df0e)  \n",
    "[2nd address (18 transactions)](https://etherscan.io/address/0x2b82c78ae3c973c1ce39d63b5d63c6cb8db199ea)\n",
    "\n",
    "The results showed that these addresses belong to contracts, even though the transactions have a zero input. This indicates that certain contracts may perform functions that do not involve direct ETH transfers and for some reasons don’t have typically function's patterns in an input but still interact with the blockchain.\n",
    "\n",
    "***Additional Analysis***  \n",
    "Based on this finding, 48 transactions with a zero value were examined, and all of them turned out to be transactions to contract addresses. Therefore, it is reasonable to assume that the remaining transactions in this group (92 in total) are also contract-related.\n",
    "\n",
    "***Conclusion***  \n",
    "While a zero input is typically used to classify transactions as User-to-User Transfers, a detailed analysis revealed that this criterion is not always sufficient. Some transactions with zero input and zero value are actually directed to contracts performing specific functions.\n",
    "\n",
    "To ensure accurate classification of such transactions, additional checks of recipient addresses or identifying typical contract patterns are necessary. This approach can help avoid misclassification and provide a better understanding of blockchain interactions."
   ]
  },
  {
   "cell_type": "code",
   "execution_count": 147,
   "id": "7a92adaf-1538-4f9b-8d6d-ad9119402351",
   "metadata": {
    "execution": {
     "iopub.execute_input": "2025-01-06T15:32:56.821166Z",
     "iopub.status.busy": "2025-01-06T15:32:56.817926Z",
     "iopub.status.idle": "2025-01-06T15:32:58.398038Z",
     "shell.execute_reply": "2025-01-06T15:32:58.396847Z",
     "shell.execute_reply.started": "2025-01-06T15:32:56.821101Z"
    }
   },
   "outputs": [
    {
     "data": {
      "image/png": "[encoded data removed]",
      "text/plain": [
       "<Figure size 300x300 with 1 Axes>"
      ]
     },
     "metadata": {},
     "output_type": "display_data"
    }
   ],
   "source": [
    "def transfer_or_contract(row):\n",
    "    if row['to_address'] == 'Contract':\n",
    "        return 'Contract'\n",
    "    elif row['function'] == 'Transfer' and row['value'] != 0.00 and row['to_address'] != 'Contract':\n",
    "        return 'User-to-User'    \n",
    "    return 'User-to-Contract'\n",
    "\n",
    "df['transactions_purpose'] = df.apply(transfer_or_contract, axis=1)\n",
    "\n",
    "\n",
    "transactions_destination_percenrtage = df['transactions_purpose'].value_counts(normalize=True) * 100\n",
    "\n",
    "plt.figure(figsize=(3, 3))\n",
    "colors = [to_rgba(\"purple\", alpha=0.7), to_rgba(\"green\", alpha=0.7), to_rgba(\"grey\", alpha=0.7)]\n",
    "transactions_destination_percenrtage.plot(kind=\"pie\", colors=colors, autopct=\"%.2f%%\", startangle=90)\n",
    "plt.title(\"User's Transaction Purpose\")\n",
    "plt.ylabel(\"\")\n",
    "plt.show()"
   ]
  },
  {
   "cell_type": "markdown",
   "id": "cdc7e681-328a-441a-afcf-85d1977fcbef",
   "metadata": {},
   "source": [
    "- User-to-Contract: 55.94% of the transactions fall into this category, where users send funds to contract addresses.\n",
    "- User-to-User: 43.39% of the transactions involve direct transfers between users.\n",
    "- Contract: Only 0.67% of the transactions are initiated by contract addresses.\n",
    "  \n",
    "**These graph represents the first outgoing transactions of newly created accounts, highlighting that the majority of new accounts primarily interact with contract addresses, while a significant portion is used for direct user-to-user transfers. Contract-initiated transactions remain rare among newly created accounts.**"
   ]
  },
  {
   "cell_type": "markdown",
   "id": "9cc9d035-9981-4e99-80cf-c94d99c907b9",
   "metadata": {},
   "source": [
    "### **6. What is Median Value for Transactions?**"
   ]
  },
  {
   "cell_type": "markdown",
   "id": "41876367-4972-4cbc-8d39-1ecf8964bb1e",
   "metadata": {},
   "source": [
    "#### **6.1 User-to-User Transactions**"
   ]
  },
  {
   "cell_type": "code",
   "execution_count": 84,
   "id": "680ef644-e53d-478a-8334-59cc45a5fa23",
   "metadata": {
    "execution": {
     "iopub.execute_input": "2025-01-05T22:50:51.305243Z",
     "iopub.status.busy": "2025-01-05T22:50:51.304772Z",
     "iopub.status.idle": "2025-01-05T22:50:51.319376Z",
     "shell.execute_reply": "2025-01-05T22:50:51.318629Z",
     "shell.execute_reply.started": "2025-01-05T22:50:51.305207Z"
    }
   },
   "outputs": [],
   "source": [
    "user_to_user_median_value = df[df['transactions_purpose'] == 'User-to-User'].value.median() "
   ]
  },
  {
   "cell_type": "markdown",
   "id": "b8c19612-a1a1-4230-a96a-c1c946303530",
   "metadata": {},
   "source": [
    "**For value in ETH divide user_to_user_median_value by 10^18**"
   ]
  },
  {
   "cell_type": "code",
   "execution_count": 90,
   "id": "1cb8964e-f367-401d-b42f-7532bb7dba99",
   "metadata": {
    "execution": {
     "iopub.execute_input": "2025-01-05T22:53:57.969356Z",
     "iopub.status.busy": "2025-01-05T22:53:57.968770Z",
     "iopub.status.idle": "2025-01-05T22:53:57.988059Z",
     "shell.execute_reply": "2025-01-05T22:53:57.986875Z",
     "shell.execute_reply.started": "2025-01-05T22:53:57.969316Z"
    }
   },
   "outputs": [
    {
     "data": {
      "text/plain": [
       "np.float64(0.0653)"
      ]
     },
     "execution_count": 90,
     "metadata": {},
     "output_type": "execute_result"
    }
   ],
   "source": [
    "user_to_user_median_value_ETH = round((user_to_user_median_value / 10**18), 4)\n",
    "user_to_user_median_value_ETH"
   ]
  },
  {
   "cell_type": "markdown",
   "id": "90d8444e-e813-4660-8a4b-9937289e20e7",
   "metadata": {},
   "source": [
    "##### **Medina Value for User-to-User Transactions is 0.653 ETH**"
   ]
  },
  {
   "cell_type": "markdown",
   "id": "7b0d72d5-1c69-4e0f-b175-5c661ac53b1b",
   "metadata": {},
   "source": [
    "#### **6.2 Contract Transactions.**"
   ]
  },
  {
   "cell_type": "code",
   "execution_count": 148,
   "id": "df448825-a5f0-45e2-99f2-094f35e0cf6a",
   "metadata": {
    "execution": {
     "iopub.execute_input": "2025-01-06T15:40:05.454610Z",
     "iopub.status.busy": "2025-01-06T15:40:05.449165Z",
     "iopub.status.idle": "2025-01-06T15:40:05.941695Z",
     "shell.execute_reply": "2025-01-06T15:40:05.938861Z",
     "shell.execute_reply.started": "2025-01-06T15:40:05.454435Z"
    }
   },
   "outputs": [
    {
     "data": {
      "text/plain": [
       "np.float64(0.0)"
      ]
     },
     "execution_count": 148,
     "metadata": {},
     "output_type": "execute_result"
    }
   ],
   "source": [
    "contract_median_value_ETH = round((df[df['transactions_purpose'] == 'User-to-Contract'].value.median() / 10**18), 4)\n",
    "contract_median_value_ETH"
   ]
  },
  {
   "cell_type": "markdown",
   "id": "7d9bfe63-a7e8-4e29-85a7-420477a3a1dd",
   "metadata": {},
   "source": [
    "##### **Medina Value for User-to-Contract Transactions is 0.0 ETH**  \n",
    "Many transactions to contracts with 0 ETH are not financial but instructional.  \n",
    "They transmit commands to the contract, such as function calls or operations with tokens,  \n",
    "which do not require direct Ether (ETH) transfers."
   ]
  },
  {
   "cell_type": "markdown",
   "id": "5ee01265-c911-4628-91c6-d7e577fccd65",
   "metadata": {},
   "source": [
    "### **7. Analysis of Monthly New Account Creation**"
   ]
  },
  {
   "cell_type": "code",
   "execution_count": 155,
   "id": "8a6c2a84-9a5d-4697-9d68-70bca1054ecf",
   "metadata": {
    "execution": {
     "iopub.execute_input": "2025-01-06T21:19:19.130093Z",
     "iopub.status.busy": "2025-01-06T21:19:19.123016Z",
     "iopub.status.idle": "2025-01-06T21:19:19.777355Z",
     "shell.execute_reply": "2025-01-06T21:19:19.774831Z",
     "shell.execute_reply.started": "2025-01-06T21:19:19.129371Z"
    }
   },
   "outputs": [],
   "source": [
    "df['first_transaction_time'] = pd.to_datetime(df['first_transaction_time'])\n",
    "\n",
    "transactions_per_month = (\n",
    "    df[['first_transaction_time', 'from_address', 'transactions_purpose']]\n",
    "    .groupby([df['first_transaction_time'].dt.month, 'transactions_purpose'])['from_address']\n",
    "    .count()\n",
    "    .reset_index()\n",
    ")\n",
    "\n",
    "transactions_per_month = transactions_per_month.sort_values(by='first_transaction_time')\n",
    "\n",
    "transactions_per_month['first_transaction_time'] = (\n",
    "    transactions_per_month['first_transaction_time']\n",
    "    .apply(lambda x: calendar\n",
    "    .month_abbr[x])\n",
    ")\n",
    "transactions_per_month['total'] = transactions_per_month.groupby('first_transaction_time')['from_address'].transform('sum')"
   ]
  },
  {
   "cell_type": "code",
   "execution_count": 463,
   "id": "c99bad4a-7f7e-4423-baca-cd1859d39056",
   "metadata": {
    "execution": {
     "iopub.execute_input": "2025-01-15T11:16:40.431844Z",
     "iopub.status.busy": "2025-01-15T11:16:40.431246Z",
     "iopub.status.idle": "2025-01-15T11:16:41.090658Z",
     "shell.execute_reply": "2025-01-15T11:16:41.089502Z",
     "shell.execute_reply.started": "2025-01-15T11:16:40.431803Z"
    }
   },
   "outputs": [
    {
     "data": {
      "image/png": "[encoded data removed]",
      "text/plain": [
       "<Figure size 1200x400 with 1 Axes>"
      ]
     },
     "metadata": {},
     "output_type": "display_data"
    },
    {
     "ename": "KeyError",
     "evalue": "\"['total'] not found in axis\"",
     "output_type": "error",
     "traceback": [
      "\u001b[0;31m---------------------------------------------------------------------------\u001b[0m",
      "\u001b[0;31mKeyError\u001b[0m                                  Traceback (most recent call last)",
      "Cell \u001b[0;32mIn[463], line 18\u001b[0m\n\u001b[1;32m     14\u001b[0m plt\u001b[38;5;241m.\u001b[39mlegend()\n\u001b[1;32m     15\u001b[0m plt\u001b[38;5;241m.\u001b[39mshow();\n\u001b[0;32m---> 18\u001b[0m \u001b[43mdf\u001b[49m\u001b[38;5;241;43m.\u001b[39;49m\u001b[43mdrop\u001b[49m\u001b[43m(\u001b[49m\u001b[43mcolumns\u001b[49m\u001b[38;5;241;43m=\u001b[39;49m\u001b[43m[\u001b[49m\u001b[38;5;124;43m'\u001b[39;49m\u001b[38;5;124;43mtotal\u001b[39;49m\u001b[38;5;124;43m'\u001b[39;49m\u001b[43m]\u001b[49m\u001b[43m,\u001b[49m\u001b[43m \u001b[49m\u001b[43maxis\u001b[49m\u001b[38;5;241;43m=\u001b[39;49m\u001b[38;5;241;43m1\u001b[39;49m\u001b[43m,\u001b[49m\u001b[43m \u001b[49m\u001b[43minplace\u001b[49m\u001b[38;5;241;43m=\u001b[39;49m\u001b[38;5;28;43;01mTrue\u001b[39;49;00m\u001b[43m)\u001b[49m\n",
      "File \u001b[0;32m~/environments/myenv/lib/python3.11/site-packages/pandas/core/frame.py:5581\u001b[0m, in \u001b[0;36mDataFrame.drop\u001b[0;34m(self, labels, axis, index, columns, level, inplace, errors)\u001b[0m\n\u001b[1;32m   5433\u001b[0m \u001b[38;5;28;01mdef\u001b[39;00m \u001b[38;5;21mdrop\u001b[39m(\n\u001b[1;32m   5434\u001b[0m     \u001b[38;5;28mself\u001b[39m,\n\u001b[1;32m   5435\u001b[0m     labels: IndexLabel \u001b[38;5;241m|\u001b[39m \u001b[38;5;28;01mNone\u001b[39;00m \u001b[38;5;241m=\u001b[39m \u001b[38;5;28;01mNone\u001b[39;00m,\n\u001b[0;32m   (...)\u001b[0m\n\u001b[1;32m   5442\u001b[0m     errors: IgnoreRaise \u001b[38;5;241m=\u001b[39m \u001b[38;5;124m\"\u001b[39m\u001b[38;5;124mraise\u001b[39m\u001b[38;5;124m\"\u001b[39m,\n\u001b[1;32m   5443\u001b[0m ) \u001b[38;5;241m-\u001b[39m\u001b[38;5;241m>\u001b[39m DataFrame \u001b[38;5;241m|\u001b[39m \u001b[38;5;28;01mNone\u001b[39;00m:\n\u001b[1;32m   5444\u001b[0m \u001b[38;5;250m    \u001b[39m\u001b[38;5;124;03m\"\"\"\u001b[39;00m\n\u001b[1;32m   5445\u001b[0m \u001b[38;5;124;03m    Drop specified labels from rows or columns.\u001b[39;00m\n\u001b[1;32m   5446\u001b[0m \n\u001b[0;32m   (...)\u001b[0m\n\u001b[1;32m   5579\u001b[0m \u001b[38;5;124;03m            weight  1.0     0.8\u001b[39;00m\n\u001b[1;32m   5580\u001b[0m \u001b[38;5;124;03m    \"\"\"\u001b[39;00m\n\u001b[0;32m-> 5581\u001b[0m     \u001b[38;5;28;01mreturn\u001b[39;00m \u001b[38;5;28;43msuper\u001b[39;49m\u001b[43m(\u001b[49m\u001b[43m)\u001b[49m\u001b[38;5;241;43m.\u001b[39;49m\u001b[43mdrop\u001b[49m\u001b[43m(\u001b[49m\n\u001b[1;32m   5582\u001b[0m \u001b[43m        \u001b[49m\u001b[43mlabels\u001b[49m\u001b[38;5;241;43m=\u001b[39;49m\u001b[43mlabels\u001b[49m\u001b[43m,\u001b[49m\n\u001b[1;32m   5583\u001b[0m \u001b[43m        \u001b[49m\u001b[43maxis\u001b[49m\u001b[38;5;241;43m=\u001b[39;49m\u001b[43maxis\u001b[49m\u001b[43m,\u001b[49m\n\u001b[1;32m   5584\u001b[0m \u001b[43m        \u001b[49m\u001b[43mindex\u001b[49m\u001b[38;5;241;43m=\u001b[39;49m\u001b[43mindex\u001b[49m\u001b[43m,\u001b[49m\n\u001b[1;32m   5585\u001b[0m \u001b[43m        \u001b[49m\u001b[43mcolumns\u001b[49m\u001b[38;5;241;43m=\u001b[39;49m\u001b[43mcolumns\u001b[49m\u001b[43m,\u001b[49m\n\u001b[1;32m   5586\u001b[0m \u001b[43m        \u001b[49m\u001b[43mlevel\u001b[49m\u001b[38;5;241;43m=\u001b[39;49m\u001b[43mlevel\u001b[49m\u001b[43m,\u001b[49m\n\u001b[1;32m   5587\u001b[0m \u001b[43m        \u001b[49m\u001b[43minplace\u001b[49m\u001b[38;5;241;43m=\u001b[39;49m\u001b[43minplace\u001b[49m\u001b[43m,\u001b[49m\n\u001b[1;32m   5588\u001b[0m \u001b[43m        \u001b[49m\u001b[43merrors\u001b[49m\u001b[38;5;241;43m=\u001b[39;49m\u001b[43merrors\u001b[49m\u001b[43m,\u001b[49m\n\u001b[1;32m   5589\u001b[0m \u001b[43m    \u001b[49m\u001b[43m)\u001b[49m\n",
      "File \u001b[0;32m~/environments/myenv/lib/python3.11/site-packages/pandas/core/generic.py:4788\u001b[0m, in \u001b[0;36mNDFrame.drop\u001b[0;34m(self, labels, axis, index, columns, level, inplace, errors)\u001b[0m\n\u001b[1;32m   4786\u001b[0m \u001b[38;5;28;01mfor\u001b[39;00m axis, labels \u001b[38;5;129;01min\u001b[39;00m axes\u001b[38;5;241m.\u001b[39mitems():\n\u001b[1;32m   4787\u001b[0m     \u001b[38;5;28;01mif\u001b[39;00m labels \u001b[38;5;129;01mis\u001b[39;00m \u001b[38;5;129;01mnot\u001b[39;00m \u001b[38;5;28;01mNone\u001b[39;00m:\n\u001b[0;32m-> 4788\u001b[0m         obj \u001b[38;5;241m=\u001b[39m \u001b[43mobj\u001b[49m\u001b[38;5;241;43m.\u001b[39;49m\u001b[43m_drop_axis\u001b[49m\u001b[43m(\u001b[49m\u001b[43mlabels\u001b[49m\u001b[43m,\u001b[49m\u001b[43m \u001b[49m\u001b[43maxis\u001b[49m\u001b[43m,\u001b[49m\u001b[43m \u001b[49m\u001b[43mlevel\u001b[49m\u001b[38;5;241;43m=\u001b[39;49m\u001b[43mlevel\u001b[49m\u001b[43m,\u001b[49m\u001b[43m \u001b[49m\u001b[43merrors\u001b[49m\u001b[38;5;241;43m=\u001b[39;49m\u001b[43merrors\u001b[49m\u001b[43m)\u001b[49m\n\u001b[1;32m   4790\u001b[0m \u001b[38;5;28;01mif\u001b[39;00m inplace:\n\u001b[1;32m   4791\u001b[0m     \u001b[38;5;28mself\u001b[39m\u001b[38;5;241m.\u001b[39m_update_inplace(obj)\n",
      "File \u001b[0;32m~/environments/myenv/lib/python3.11/site-packages/pandas/core/generic.py:4830\u001b[0m, in \u001b[0;36mNDFrame._drop_axis\u001b[0;34m(self, labels, axis, level, errors, only_slice)\u001b[0m\n\u001b[1;32m   4828\u001b[0m         new_axis \u001b[38;5;241m=\u001b[39m axis\u001b[38;5;241m.\u001b[39mdrop(labels, level\u001b[38;5;241m=\u001b[39mlevel, errors\u001b[38;5;241m=\u001b[39merrors)\n\u001b[1;32m   4829\u001b[0m     \u001b[38;5;28;01melse\u001b[39;00m:\n\u001b[0;32m-> 4830\u001b[0m         new_axis \u001b[38;5;241m=\u001b[39m \u001b[43maxis\u001b[49m\u001b[38;5;241;43m.\u001b[39;49m\u001b[43mdrop\u001b[49m\u001b[43m(\u001b[49m\u001b[43mlabels\u001b[49m\u001b[43m,\u001b[49m\u001b[43m \u001b[49m\u001b[43merrors\u001b[49m\u001b[38;5;241;43m=\u001b[39;49m\u001b[43merrors\u001b[49m\u001b[43m)\u001b[49m\n\u001b[1;32m   4831\u001b[0m     indexer \u001b[38;5;241m=\u001b[39m axis\u001b[38;5;241m.\u001b[39mget_indexer(new_axis)\n\u001b[1;32m   4833\u001b[0m \u001b[38;5;66;03m# Case for non-unique axis\u001b[39;00m\n\u001b[1;32m   4834\u001b[0m \u001b[38;5;28;01melse\u001b[39;00m:\n",
      "File \u001b[0;32m~/environments/myenv/lib/python3.11/site-packages/pandas/core/indexes/base.py:7070\u001b[0m, in \u001b[0;36mIndex.drop\u001b[0;34m(self, labels, errors)\u001b[0m\n\u001b[1;32m   7068\u001b[0m \u001b[38;5;28;01mif\u001b[39;00m mask\u001b[38;5;241m.\u001b[39many():\n\u001b[1;32m   7069\u001b[0m     \u001b[38;5;28;01mif\u001b[39;00m errors \u001b[38;5;241m!=\u001b[39m \u001b[38;5;124m\"\u001b[39m\u001b[38;5;124mignore\u001b[39m\u001b[38;5;124m\"\u001b[39m:\n\u001b[0;32m-> 7070\u001b[0m         \u001b[38;5;28;01mraise\u001b[39;00m \u001b[38;5;167;01mKeyError\u001b[39;00m(\u001b[38;5;124mf\u001b[39m\u001b[38;5;124m\"\u001b[39m\u001b[38;5;132;01m{\u001b[39;00mlabels[mask]\u001b[38;5;241m.\u001b[39mtolist()\u001b[38;5;132;01m}\u001b[39;00m\u001b[38;5;124m not found in axis\u001b[39m\u001b[38;5;124m\"\u001b[39m)\n\u001b[1;32m   7071\u001b[0m     indexer \u001b[38;5;241m=\u001b[39m indexer[\u001b[38;5;241m~\u001b[39mmask]\n\u001b[1;32m   7072\u001b[0m \u001b[38;5;28;01mreturn\u001b[39;00m \u001b[38;5;28mself\u001b[39m\u001b[38;5;241m.\u001b[39mdelete(indexer)\n",
      "\u001b[0;31mKeyError\u001b[0m: \"['total'] not found in axis\""
     ]
    }
   ],
   "source": [
    "plt.figure(figsize=(12, 4))\n",
    "\n",
    "user_to_contract = transactions_per_month[transactions_per_month['transactions_purpose'] == 'User-to-Contract']\n",
    "user_to_user = transactions_per_month[transactions_per_month['transactions_purpose'] == 'User-to-User']\n",
    "\n",
    "plt.plot(user_to_contract['first_transaction_time'], user_to_contract['from_address'],\n",
    "         label='User-to-Contract', color='purple', alpha=0.7)\n",
    "plt.plot(user_to_user['first_transaction_time'], user_to_user['from_address'],\n",
    "         label='User-to-User', color='green', alpha=0.7)\n",
    "plt.plot(transactions_per_month['first_transaction_time'], transactions_per_month['total'],\n",
    "         label='All', color='orange')\n",
    "\n",
    "plt.title('Monthly New Account Creation')\n",
    "plt.legend()\n",
    "plt.show();\n",
    "\n",
    "\n",
    "df.drop(columns=['total'], axis=1, inplace=True)"
   ]
  },
  {
   "cell_type": "markdown",
   "id": "9098d822-4bf3-4b44-a222-d0d9493ebc84",
   "metadata": {},
   "source": [
    "The graph demonstrates monthly new wallet creation across contract, user-to-user, and total categories:\n",
    "\n",
    "- Contract wallets strongly influence the total trend, with relatively consistent fluctuations.\n",
    "- User-to-user wallets show sharper variations, and their peaks (e.g., in September) significantly contribute to the total.\n",
    "- The total wallet creation generally mirrors contract trends but is visibly impacted by user-to-user spikes during high-activity months.\n",
    "\n",
    "**This indicates that contract wallet creation is the dominant factor in the total, with notable contributions from user-to-user growth during specific months.**"
   ]
  },
  {
   "cell_type": "markdown",
   "id": "46dd6955-e398-4938-bf4d-9baae57757c8",
   "metadata": {},
   "source": [
    "### **8. What is the Values Distribution of Transaction by Category?**"
   ]
  },
  {
   "cell_type": "markdown",
   "id": "ebea0233-0f97-4a82-93c4-6fa0c6a5b4a4",
   "metadata": {},
   "source": [
    "- \"Zero\": Transactions with 0 (e.g., = 0.0 ETH)\n",
    "- \"Micro\": Transactions with very small amounts (e.g., < 0.001 ETH).\n",
    "- \"Small\": Transactions with small amounts (e.g., 0.001 to 0.1 ETH).\n",
    "- \"Medium\": Transactions with medium amounts (e.g., 0.1 to 1 ETH).\n",
    "- \"Large\": Transactions with large amounts (e.g., 1 to 10 ETH).\n",
    "- \"Whale\": Transactions with very large amounts (e.g., > 10 ETH)."
   ]
  },
  {
   "cell_type": "code",
   "execution_count": 190,
   "id": "198ac93c-5b48-45e3-8c56-75a6fbd03acc",
   "metadata": {
    "execution": {
     "iopub.execute_input": "2025-01-06T21:56:04.100741Z",
     "iopub.status.busy": "2025-01-06T21:56:04.100278Z",
     "iopub.status.idle": "2025-01-06T21:56:04.130332Z",
     "shell.execute_reply": "2025-01-06T21:56:04.129553Z",
     "shell.execute_reply.started": "2025-01-06T21:56:04.100705Z"
    }
   },
   "outputs": [],
   "source": [
    "df['eth_value'] = df['value'] /1e18\n",
    "\n",
    "df['value_category'] = 'Zero'\n",
    "\n",
    "bins = [0, 0.001, 0.01, 0.1, 1, 10, float('inf')]\n",
    "labels = ['Micro', 'Small', 'Medium', 'Large', 'Whale', 'Mega Whale']\n",
    "\n",
    "df.loc[df['eth_value'] > 0, 'value_category'] = pd.cut(\n",
    "    df['eth_value'], bins=bins, labels=labels\n",
    ")"
   ]
  },
  {
   "cell_type": "code",
   "execution_count": 194,
   "id": "ffe789ce-5829-4ebd-8e52-ad7f14a2b009",
   "metadata": {
    "execution": {
     "iopub.execute_input": "2025-01-06T21:57:38.640645Z",
     "iopub.status.busy": "2025-01-06T21:57:38.640123Z",
     "iopub.status.idle": "2025-01-06T21:57:38.665955Z",
     "shell.execute_reply": "2025-01-06T21:57:38.664865Z",
     "shell.execute_reply.started": "2025-01-06T21:57:38.640604Z"
    },
    "scrolled": true
   },
   "outputs": [],
   "source": [
    "general_value_category_perc = df['value_category'].value_counts(normalize=True) * 100\n",
    "\n",
    "user_to_user_value_category_perc = (\n",
    "    df[df['transactions_purpose'] == 'User-to-User']['value_category']\n",
    "    .value_counts(normalize=True) * 100\n",
    ")\n",
    "\n",
    "contract_to_user_value_category_perc = (\n",
    "    df[df['transactions_purpose'] == 'User-to-Contract']['value_category']\n",
    "    .value_counts(normalize=True) * 100\n",
    ")"
   ]
  },
  {
   "cell_type": "code",
   "execution_count": 196,
   "id": "1524477c-f568-411d-a07d-b49a967dafb7",
   "metadata": {
    "execution": {
     "iopub.execute_input": "2025-01-06T21:57:46.746237Z",
     "iopub.status.busy": "2025-01-06T21:57:46.745733Z",
     "iopub.status.idle": "2025-01-06T21:57:46.995411Z",
     "shell.execute_reply": "2025-01-06T21:57:46.994750Z",
     "shell.execute_reply.started": "2025-01-06T21:57:46.746198Z"
    }
   },
   "outputs": [
    {
     "data": {
      "image/png": "[encoded data removed]",
      "text/plain": [
       "<Figure size 700x400 with 1 Axes>"
      ]
     },
     "metadata": {},
     "output_type": "display_data"
    }
   ],
   "source": [
    "categories = ['Zero', 'Micro', 'Small', 'Medium', 'Large', 'Whale', 'Mega Whale']\n",
    "\n",
    "index = np.arange(len(categories))\n",
    "bar_width = 0.25  \n",
    "\n",
    "user_to_user_value_category_perc = (\n",
    "    user_to_user_value_category_perc\n",
    "    .reindex(categories, fill_value=0)\n",
    ")\n",
    "\n",
    "plt.figure(figsize=(7, 4))\n",
    "\n",
    "plt.bar(index - bar_width, general_value_category_perc, bar_width,\n",
    "        label='All', color='orange', alpha=0.7)\n",
    "plt.bar(index, contract_to_user_value_category_perc, bar_width,\n",
    "        label='Contract-to-User Transctions', color='purple', alpha=0.7)\n",
    "plt.bar(index + bar_width, user_to_user_value_category_perc, bar_width,\n",
    "        label='User-to-User Transactions', color='green', alpha=0.7)\n",
    "\n",
    "\n",
    "plt.xticks(index, categories)\n",
    "plt.title('Values Distribution of Transaction by Category, %')\n",
    "plt.legend()\n",
    "\n",
    "plt.tight_layout()\n",
    "plt.show()"
   ]
  },
  {
   "cell_type": "markdown",
   "id": "a3ac2313-a669-4309-9de1-5a97dc049677",
   "metadata": {},
   "source": [
    "### **9. Gas Usage Analysis**"
   ]
  },
  {
   "cell_type": "markdown",
   "id": "92709993-5adc-409d-9fc4-8b0e4c97a823",
   "metadata": {},
   "source": [
    "#### **9.1 Estimated Gas.**"
   ]
  },
  {
   "cell_type": "code",
   "execution_count": 134,
   "id": "01bd6496-ea52-4b4e-b495-afa9a4f13aaa",
   "metadata": {
    "execution": {
     "iopub.execute_input": "2025-01-06T13:39:15.290131Z",
     "iopub.status.busy": "2025-01-06T13:39:15.289661Z",
     "iopub.status.idle": "2025-01-06T13:39:15.308407Z",
     "shell.execute_reply": "2025-01-06T13:39:15.307417Z",
     "shell.execute_reply.started": "2025-01-06T13:39:15.290095Z"
    }
   },
   "outputs": [
    {
     "data": {
      "text/plain": [
       "np.float64(21000.0)"
      ]
     },
     "execution_count": 134,
     "metadata": {},
     "output_type": "execute_result"
    }
   ],
   "source": [
    "gas_median_user_to_user = df[df['transactions_purpose'] == 'User-to-User'].gas.median()\n",
    "gas_median_user_to_user"
   ]
  },
  {
   "cell_type": "code",
   "execution_count": 198,
   "id": "cc4aea7c-bf68-44ad-909a-287b7aa14b97",
   "metadata": {
    "execution": {
     "iopub.execute_input": "2025-01-07T00:05:23.055940Z",
     "iopub.status.busy": "2025-01-07T00:05:23.054604Z",
     "iopub.status.idle": "2025-01-07T00:05:23.091030Z",
     "shell.execute_reply": "2025-01-07T00:05:23.089287Z",
     "shell.execute_reply.started": "2025-01-07T00:05:23.055896Z"
    }
   },
   "outputs": [
    {
     "data": {
      "text/plain": [
       "np.float64(92218.0)"
      ]
     },
     "execution_count": 198,
     "metadata": {},
     "output_type": "execute_result"
    }
   ],
   "source": [
    "gas_median_user_to_contract = df[df['transactions_purpose'] == 'User-to-Contract'].gas.median()\n",
    "gas_median_user_to_contract"
   ]
  },
  {
   "cell_type": "code",
   "execution_count": 199,
   "id": "8266576b-3b55-460e-a6ef-9722b76f8030",
   "metadata": {
    "execution": {
     "iopub.execute_input": "2025-01-07T00:05:32.091923Z",
     "iopub.status.busy": "2025-01-07T00:05:32.090915Z",
     "iopub.status.idle": "2025-01-07T00:05:32.123277Z",
     "shell.execute_reply": "2025-01-07T00:05:32.121667Z",
     "shell.execute_reply.started": "2025-01-07T00:05:32.091881Z"
    }
   },
   "outputs": [
    {
     "data": {
      "text/plain": [
       "np.float64(2131637.0)"
      ]
     },
     "execution_count": 199,
     "metadata": {},
     "output_type": "execute_result"
    }
   ],
   "source": [
    "gas_median_contract = df[df['transactions_purpose'] == 'Contract'].gas.median()\n",
    "gas_median_contract"
   ]
  },
  {
   "cell_type": "markdown",
   "id": "4c190e8a-7471-401b-b30a-7e3fd25c1f0e",
   "metadata": {},
   "source": [
    "#### **9.2 Used Gas.**"
   ]
  },
  {
   "cell_type": "code",
   "execution_count": 139,
   "id": "18f0942c-13df-4ffd-a7ff-1822945f5ef7",
   "metadata": {
    "execution": {
     "iopub.execute_input": "2025-01-06T15:09:59.925413Z",
     "iopub.status.busy": "2025-01-06T15:09:59.920056Z",
     "iopub.status.idle": "2025-01-06T15:10:00.106977Z",
     "shell.execute_reply": "2025-01-06T15:10:00.102816Z",
     "shell.execute_reply.started": "2025-01-06T15:09:59.925332Z"
    }
   },
   "outputs": [
    {
     "data": {
      "text/plain": [
       "np.float64(21000.0)"
      ]
     },
     "execution_count": 139,
     "metadata": {},
     "output_type": "execute_result"
    }
   ],
   "source": [
    "used_gas_median_user_to_user = df[df['transactions_purpose'] == 'User-to-User'].receipt_gas_used.median()\n",
    "used_gas_median_user_to_user"
   ]
  },
  {
   "cell_type": "code",
   "execution_count": 200,
   "id": "9301dd2a-eafd-4a11-b8d3-b1486d543608",
   "metadata": {
    "execution": {
     "iopub.execute_input": "2025-01-07T00:06:45.780827Z",
     "iopub.status.busy": "2025-01-07T00:06:45.780402Z",
     "iopub.status.idle": "2025-01-07T00:06:45.800542Z",
     "shell.execute_reply": "2025-01-07T00:06:45.798525Z",
     "shell.execute_reply.started": "2025-01-07T00:06:45.780791Z"
    }
   },
   "outputs": [
    {
     "data": {
      "text/plain": [
       "np.float64(48897.0)"
      ]
     },
     "execution_count": 200,
     "metadata": {},
     "output_type": "execute_result"
    }
   ],
   "source": [
    "used_gas_median_user_to_contract = df[df['transactions_purpose'] == 'User-to-Contract'].receipt_gas_used.median()\n",
    "used_gas_median_user_to_contract"
   ]
  },
  {
   "cell_type": "code",
   "execution_count": 201,
   "id": "2d384c27-d0d1-4566-ab4f-42c9c23005f8",
   "metadata": {
    "execution": {
     "iopub.execute_input": "2025-01-07T00:07:23.269369Z",
     "iopub.status.busy": "2025-01-07T00:07:23.268674Z",
     "iopub.status.idle": "2025-01-07T00:07:23.368653Z",
     "shell.execute_reply": "2025-01-07T00:07:23.367194Z",
     "shell.execute_reply.started": "2025-01-07T00:07:23.269326Z"
    }
   },
   "outputs": [
    {
     "data": {
      "text/plain": [
       "np.float64(1984655.0)"
      ]
     },
     "execution_count": 201,
     "metadata": {},
     "output_type": "execute_result"
    }
   ],
   "source": [
    "used_gas_median_contract = df[df['transactions_purpose'] == 'Contract'].receipt_gas_used.median()\n",
    "used_gas_median_contract"
   ]
  },
  {
   "cell_type": "markdown",
   "id": "eed3283b-20ec-4bcc-994d-b371f29a6c35",
   "metadata": {},
   "source": [
    "#### 1. User-to-User Transactions\n",
    "- Estimated Gas: 21,000\n",
    "- Used Gas: 21,000\n",
    "These transactions represent the most basic Ethereum operations, typically involving simple ETH transfers between users. The gas usage is fixed and predictable due to the absence of complex computations.\n",
    "#### 2. User-to-Contract Transactions\n",
    "- Estimated Gas: 92,218\n",
    "- Used Gas: 48,897\n",
    "These transactions are more complex as they involve calling smart contract functions. Estimated gas is higher to account for potential branching, loops, or other computations in the contract. However, the actual gas used reflects the simpler logic executed in most cases, such as straightforward function calls or token transfers.\n",
    "#### 3. Contract Transactions\n",
    "- Estimated Gas: 2,131,637\n",
    "- Used Gas: 1,984,655\n",
    "These transactions are initiated by smart contracts themselves and involve highly complex operations. Contracts often perform multiple tasks, such as interacting with other contracts, executing loops, or managing large datasets. The high gas usage reflects the intricate, multitasking nature of contract execution.  \n",
    "#### Difference Between Estimated and Used Gas\n",
    "Why the Difference?\n",
    "Estimated gas is calculated for the worst-case scenario to ensure the transaction has enough gas to succeed. Used gas reflects the actual operations performed, which are often simpler than the estimated logic, leading to lower consumption. This ensures transactions are reliable without risking failure due to underestimation.\n",
    "In summary, gas usage increases with transaction complexity: simple user-to-user transfers are predictable, user-to-contract calls involve additional computational costs, and contract-initiated transactions are the most resource-intensive due to their multitasking nature.\n",
    "\n",
    "\n",
    "\n",
    "\n",
    "\n",
    "\n"
   ]
  },
  {
   "cell_type": "markdown",
   "id": "511c511f-8f97-4cfe-a3ff-88a0f2a0dc25",
   "metadata": {},
   "source": [
    "### **10. Gas Usage Difference** "
   ]
  },
  {
   "cell_type": "code",
   "execution_count": 207,
   "id": "4cad0d19-5632-4e3f-85a4-99e67ad423c3",
   "metadata": {
    "execution": {
     "iopub.execute_input": "2025-01-07T10:11:38.931394Z",
     "iopub.status.busy": "2025-01-07T10:11:38.920327Z",
     "iopub.status.idle": "2025-01-07T10:11:39.175673Z",
     "shell.execute_reply": "2025-01-07T10:11:39.173041Z",
     "shell.execute_reply.started": "2025-01-07T10:11:38.931324Z"
    }
   },
   "outputs": [],
   "source": [
    "df['gas_difference'] = df['gas'] - df['receipt_gas_used']"
   ]
  },
  {
   "cell_type": "code",
   "execution_count": 462,
   "id": "c7c73078-aa38-49c4-b6bc-a85576c61815",
   "metadata": {
    "execution": {
     "iopub.execute_input": "2025-01-15T11:16:19.251372Z",
     "iopub.status.busy": "2025-01-15T11:16:19.250872Z",
     "iopub.status.idle": "2025-01-15T11:16:19.564779Z",
     "shell.execute_reply": "2025-01-15T11:16:19.564147Z",
     "shell.execute_reply.started": "2025-01-15T11:16:19.251333Z"
    }
   },
   "outputs": [
    {
     "data": {
      "image/png": "[encoded data removed]",
      "text/plain": [
       "<Figure size 1000x400 with 1 Axes>"
      ]
     },
     "metadata": {},
     "output_type": "display_data"
    }
   ],
   "source": [
    "bins = [-1, 0, 10_000, 50_000, 100_000, 500_000, df['gas_difference'].max()]\n",
    "labels = ['0', '0-10k', '10k-50k', '50k-100k', '100k-500k', '500k+']\n",
    "df['gas_diff_bins'] = pd.cut(df['gas_difference'], bins=bins, labels=labels)\n",
    "\n",
    "percentage_data = df.groupby(['transactions_purpose', 'gas_diff_bins'],observed=False).size().unstack(fill_value=0)\n",
    "percentage_data = percentage_data.div(percentage_data.sum(axis=1), axis=0) * 100\n",
    "\n",
    "percentage_data.plot(kind='bar', stacked=True, figsize=(10, 4), colormap=\"viridis\")\n",
    "plt.title('Distribution of Gas Difference by Transaction Purpose, %')\n",
    "plt.xlabel(' ')\n",
    "plt.xticks(rotation=0)\n",
    "plt.legend(title='Gas Difference Range')\n",
    "plt.tight_layout()\n",
    "plt.show()"
   ]
  },
  {
   "cell_type": "markdown",
   "id": "e935478d-6e33-4195-b709-ebdc515bf094",
   "metadata": {},
   "source": [
    "- Contracts: Nearly all transactions have no gas difference (0), indicating that estimated and used gas are closely aligned. This reflects the high predictability of contract-initiated tasks.\n",
    "\n",
    "- User-to-Contract: A significant portion of transactions show gas differences in the range of 10k-50k and 50k-100k, highlighting the complexity and variability of contract executions. Only a small percentage have no gas difference.\n",
    "\n",
    "- User-to-User: The majority of transactions have no gas difference, consistent with the simplicity of these operations. However, small differences (0-10k) appear occasionally due to minor adjustments.\n",
    "\n",
    "#### Gas differences increase with transaction complexity.  \n",
    "User-to-Contract transactions show the highest variability, reflecting the dynamic nature of contract logic execution compared to the predictability of User-to-User or Contract-initiated transactions.**"
   ]
  },
  {
   "cell_type": "markdown",
   "id": "153cde1a-6c7e-4e85-b60d-250278f450ab",
   "metadata": {},
   "source": [
    "### **11. Transactions Type Analysis**\n",
    "\n",
    "- Type 0: Simple, uses gasPrice.\n",
    "- Type 1: Adds access lists for gas optimization.\n",
    "- Type 2: Implements EIP-1559 fee structure for improved efficiency.\n"
   ]
  },
  {
   "cell_type": "code",
   "execution_count": 285,
   "id": "960fcf70-f222-4136-a185-01dfd2729577",
   "metadata": {
    "execution": {
     "iopub.execute_input": "2025-01-08T11:02:45.357233Z",
     "iopub.status.busy": "2025-01-08T11:02:45.356768Z",
     "iopub.status.idle": "2025-01-08T11:02:45.370204Z",
     "shell.execute_reply": "2025-01-08T11:02:45.368945Z",
     "shell.execute_reply.started": "2025-01-08T11:02:45.357202Z"
    }
   },
   "outputs": [
    {
     "data": {
      "text/plain": [
       "transaction_type\n",
       "2    0.72565\n",
       "0    0.27355\n",
       "1     0.0008\n",
       "Name: proportion, dtype: Float64"
      ]
     },
     "execution_count": 285,
     "metadata": {},
     "output_type": "execute_result"
    }
   ],
   "source": [
    "df['transaction_type'].value_counts(normalize=True)"
   ]
  },
  {
   "cell_type": "code",
   "execution_count": 304,
   "id": "5df656a1-a666-4f5c-b526-d2324d7219b9",
   "metadata": {
    "execution": {
     "iopub.execute_input": "2025-01-08T11:24:11.154148Z",
     "iopub.status.busy": "2025-01-08T11:24:11.153354Z",
     "iopub.status.idle": "2025-01-08T11:24:11.171508Z",
     "shell.execute_reply": "2025-01-08T11:24:11.170393Z",
     "shell.execute_reply.started": "2025-01-08T11:24:11.153951Z"
    }
   },
   "outputs": [],
   "source": [
    "transactions_type_percentage = (\n",
    "    df[['transactions_purpose', 'transaction_type']]\n",
    "    .groupby(['transactions_purpose', 'transaction_type'])['transaction_type']\n",
    "    .count()\n",
    "    .reset_index(name='transaction_count')\n",
    ")\n",
    "\n",
    "transactions_type_percentage['percentage'] = (\n",
    "    transactions_type_percentage['transaction_count'] /\n",
    "    transactions_type_percentage.groupby('transactions_purpose')['transaction_count'].transform('sum') * 100\n",
    ")"
   ]
  },
  {
   "cell_type": "code",
   "execution_count": 308,
   "id": "4ec44c12-c1ad-403f-8a9d-ace6fa5c7a93",
   "metadata": {
    "execution": {
     "iopub.execute_input": "2025-01-08T11:27:42.273198Z",
     "iopub.status.busy": "2025-01-08T11:27:42.272525Z",
     "iopub.status.idle": "2025-01-08T11:27:42.295756Z",
     "shell.execute_reply": "2025-01-08T11:27:42.294857Z",
     "shell.execute_reply.started": "2025-01-08T11:27:42.273153Z"
    }
   },
   "outputs": [
    {
     "data": {
      "text/html": [
       "<div>\n",
       "<style scoped>\n",
       "    .dataframe tbody tr th:only-of-type {\n",
       "        vertical-align: middle;\n",
       "    }\n",
       "\n",
       "    .dataframe tbody tr th {\n",
       "        vertical-align: top;\n",
       "    }\n",
       "\n",
       "    .dataframe thead th {\n",
       "        text-align: right;\n",
       "    }\n",
       "</style>\n",
       "<table border=\"1\" class=\"dataframe\">\n",
       "  <thead>\n",
       "    <tr style=\"text-align: right;\">\n",
       "      <th></th>\n",
       "      <th>transactions_purpose</th>\n",
       "      <th>transaction_type</th>\n",
       "      <th>transaction_count</th>\n",
       "      <th>percentage</th>\n",
       "    </tr>\n",
       "  </thead>\n",
       "  <tbody>\n",
       "    <tr>\n",
       "      <th>0</th>\n",
       "      <td>Contract</td>\n",
       "      <td>0</td>\n",
       "      <td>5</td>\n",
       "      <td>3.759398</td>\n",
       "    </tr>\n",
       "    <tr>\n",
       "      <th>1</th>\n",
       "      <td>Contract</td>\n",
       "      <td>2</td>\n",
       "      <td>128</td>\n",
       "      <td>96.240602</td>\n",
       "    </tr>\n",
       "    <tr>\n",
       "      <th>2</th>\n",
       "      <td>User-to-Contract</td>\n",
       "      <td>0</td>\n",
       "      <td>2319</td>\n",
       "      <td>20.725713</td>\n",
       "    </tr>\n",
       "    <tr>\n",
       "      <th>3</th>\n",
       "      <td>User-to-Contract</td>\n",
       "      <td>1</td>\n",
       "      <td>7</td>\n",
       "      <td>0.062561</td>\n",
       "    </tr>\n",
       "    <tr>\n",
       "      <th>4</th>\n",
       "      <td>User-to-Contract</td>\n",
       "      <td>2</td>\n",
       "      <td>8863</td>\n",
       "      <td>79.211726</td>\n",
       "    </tr>\n",
       "    <tr>\n",
       "      <th>5</th>\n",
       "      <td>User-to-User</td>\n",
       "      <td>0</td>\n",
       "      <td>3147</td>\n",
       "      <td>36.264116</td>\n",
       "    </tr>\n",
       "    <tr>\n",
       "      <th>6</th>\n",
       "      <td>User-to-User</td>\n",
       "      <td>1</td>\n",
       "      <td>9</td>\n",
       "      <td>0.103711</td>\n",
       "    </tr>\n",
       "    <tr>\n",
       "      <th>7</th>\n",
       "      <td>User-to-User</td>\n",
       "      <td>2</td>\n",
       "      <td>5522</td>\n",
       "      <td>63.632173</td>\n",
       "    </tr>\n",
       "  </tbody>\n",
       "</table>\n",
       "</div>"
      ],
      "text/plain": [
       "  transactions_purpose  transaction_type  transaction_count  percentage\n",
       "0             Contract                 0                  5    3.759398\n",
       "1             Contract                 2                128   96.240602\n",
       "2     User-to-Contract                 0               2319   20.725713\n",
       "3     User-to-Contract                 1                  7    0.062561\n",
       "4     User-to-Contract                 2               8863   79.211726\n",
       "5         User-to-User                 0               3147   36.264116\n",
       "6         User-to-User                 1                  9    0.103711\n",
       "7         User-to-User                 2               5522   63.632173"
      ]
     },
     "execution_count": 308,
     "metadata": {},
     "output_type": "execute_result"
    }
   ],
   "source": [
    "transactions_type_percentage"
   ]
  },
  {
   "cell_type": "code",
   "execution_count": 461,
   "id": "35657e1b-c2f7-46ab-bdcc-0c6fdbf041e8",
   "metadata": {
    "execution": {
     "iopub.execute_input": "2025-01-15T11:15:57.036647Z",
     "iopub.status.busy": "2025-01-15T11:15:57.036173Z",
     "iopub.status.idle": "2025-01-15T11:15:57.274840Z",
     "shell.execute_reply": "2025-01-15T11:15:57.274219Z",
     "shell.execute_reply.started": "2025-01-15T11:15:57.036626Z"
    }
   },
   "outputs": [
    {
     "data": {
      "image/png": "[encoded data removed]",
      "text/plain": [
       "<Figure size 800x300 with 1 Axes>"
      ]
     },
     "metadata": {},
     "output_type": "display_data"
    }
   ],
   "source": [
    "pivot_data = transactions_type_percentage.pivot(\n",
    "    index='transactions_purpose', \n",
    "    columns='transaction_type', \n",
    "    values='percentage'\n",
    ").fillna(0)\n",
    "\n",
    "bar_height = 0.4\n",
    "categories = pivot_data.index\n",
    "types = pivot_data.columns\n",
    "values = [pivot_data[t] for t in types]\n",
    "\n",
    "plt.figure(figsize=(8, 3))\n",
    "bars = plt.barh(categories, values[0], color='green', alpha=0.5, height=bar_height, label='Type 0')\n",
    "bars = plt.barh(categories, values[1], left=values[0], color='red', alpha=0.5, height=bar_height, label='Type 1')\n",
    "bars = plt.barh(categories, values[2], left=values[0] + values[1], color='blue', alpha=0.5, height=bar_height, label='Type 2')\n",
    "\n",
    "plt.title('Transaction Type Distribution by Purpose, %')\n",
    "plt.legend(title='Transaction Type', loc='lower right')\n",
    "plt.tight_layout()\n",
    "\n",
    "plt.show()"
   ]
  },
  {
   "cell_type": "markdown",
   "id": "302ad9c5-5895-45b3-9ce7-3956521dc766",
   "metadata": {},
   "source": [
    "The distribution of transaction types shows clear differences across categories:\n",
    "\n",
    "- Contract Transactions:\n",
    "\n",
    "Dominated by Type 2 (96.24%), indicating contract-specific operations.\n",
    "Minimal presence of Type 0 (3.76%), likely for simpler tasks.\n",
    "- User-to-Contract Transactions:\n",
    "\n",
    "Majority are Type 2 (79.21%), reflecting the complexity of interactions with contracts.\n",
    "Type 0 accounts for 20.73%, with almost no Type 1 (0.06%).\n",
    "- User-to-User Transactions:\n",
    "\n",
    "Predominantly Type 2 (63.63%), suggesting more advanced transfers.\n",
    "Significant Type 0 (36.26%) for straightforward transfers.\n",
    "Negligible Type 1 (0.10%).\n",
    "This highlights that Type 2 transactions dominate contract interactions, while user-to-user transactions have a higher proportion of simpler Type 0 transfers."
   ]
  },
  {
   "cell_type": "code",
   "execution_count": null,
   "id": "36ad9088-675b-495a-8df4-33744c2a2cfb",
   "metadata": {},
   "outputs": [],
   "source": []
  },
  {
   "cell_type": "markdown",
   "id": "f6293645-0b05-4fe2-8f04-df7861ddbaa6",
   "metadata": {},
   "source": [
    "### **12. What are TOP-25 Contract Addresses?**"
   ]
  },
  {
   "cell_type": "code",
   "execution_count": 330,
   "id": "b67a5065-dd0b-4627-9aab-d03aeaf47ae3",
   "metadata": {
    "execution": {
     "iopub.execute_input": "2025-01-13T22:18:13.647274Z",
     "iopub.status.busy": "2025-01-13T22:18:13.646848Z",
     "iopub.status.idle": "2025-01-13T22:18:13.664797Z",
     "shell.execute_reply": "2025-01-13T22:18:13.664047Z",
     "shell.execute_reply.started": "2025-01-13T22:18:13.647239Z"
    }
   },
   "outputs": [],
   "source": [
    "top25_contracts = (\n",
    "    df[(df['function'] != 'Transfer') & (df['to_address'] != 'Contract')]\n",
    "    .to_address.value_counts()\n",
    "    .head(25)\n",
    "    .reset_index()\n",
    ")\n",
    "\n",
    "top25_contracts.columns = ['to_address', 'transaction_count']"
   ]
  },
  {
   "cell_type": "code",
   "execution_count": 331,
   "id": "f334a94e-fba7-4ec4-9946-cd2cbf6655a4",
   "metadata": {
    "execution": {
     "iopub.execute_input": "2025-01-13T22:18:15.701962Z",
     "iopub.status.busy": "2025-01-13T22:18:15.701065Z",
     "iopub.status.idle": "2025-01-13T22:18:15.723122Z",
     "shell.execute_reply": "2025-01-13T22:18:15.722418Z",
     "shell.execute_reply.started": "2025-01-13T22:18:15.701926Z"
    },
    "scrolled": true
   },
   "outputs": [
    {
     "data": {
      "text/html": [
       "<div>\n",
       "<style scoped>\n",
       "    .dataframe tbody tr th:only-of-type {\n",
       "        vertical-align: middle;\n",
       "    }\n",
       "\n",
       "    .dataframe tbody tr th {\n",
       "        vertical-align: top;\n",
       "    }\n",
       "\n",
       "    .dataframe thead th {\n",
       "        text-align: right;\n",
       "    }\n",
       "</style>\n",
       "<table border=\"1\" class=\"dataframe\">\n",
       "  <thead>\n",
       "    <tr style=\"text-align: right;\">\n",
       "      <th></th>\n",
       "      <th>to_address</th>\n",
       "      <th>transaction_count</th>\n",
       "    </tr>\n",
       "  </thead>\n",
       "  <tbody>\n",
       "    <tr>\n",
       "      <th>0</th>\n",
       "      <td>0xdac17f958d2ee523a2206206994597c13d831ec7</td>\n",
       "      <td>3128</td>\n",
       "    </tr>\n",
       "    <tr>\n",
       "      <th>1</th>\n",
       "      <td>0x32400084c286cf3e17e7b677ea9583e60a000324</td>\n",
       "      <td>859</td>\n",
       "    </tr>\n",
       "    <tr>\n",
       "      <th>2</th>\n",
       "      <td>0xa0b86991c6218b36c1d19d4a2e9eb0ce3606eb48</td>\n",
       "      <td>735</td>\n",
       "    </tr>\n",
       "  </tbody>\n",
       "</table>\n",
       "</div>"
      ],
      "text/plain": [
       "                                   to_address  transaction_count\n",
       "0  0xdac17f958d2ee523a2206206994597c13d831ec7               3128\n",
       "1  0x32400084c286cf3e17e7b677ea9583e60a000324                859\n",
       "2  0xa0b86991c6218b36c1d19d4a2e9eb0ce3606eb48                735"
      ]
     },
     "execution_count": 331,
     "metadata": {},
     "output_type": "execute_result"
    }
   ],
   "source": [
    "top25_contracts.head(3)"
   ]
  },
  {
   "cell_type": "markdown",
   "id": "976b9b4b-4f9c-4ab6-96c9-a476892c0b5d",
   "metadata": {},
   "source": [
    "***Api does not have information about address's owners. It was collected address by address with Etherscan interface and ChatGPT help.***"
   ]
  },
  {
   "cell_type": "code",
   "execution_count": 333,
   "id": "72c5a654-d6d4-4dd0-b234-b8d7ae1834b4",
   "metadata": {
    "execution": {
     "iopub.execute_input": "2025-01-13T22:19:22.569520Z",
     "iopub.status.busy": "2025-01-13T22:19:22.568510Z",
     "iopub.status.idle": "2025-01-13T22:19:22.584965Z",
     "shell.execute_reply": "2025-01-13T22:19:22.583806Z",
     "shell.execute_reply.started": "2025-01-13T22:19:22.569472Z"
    }
   },
   "outputs": [],
   "source": [
    "contract_dict = {\n",
    "    '0xdac17f958d2ee523a2206206994597c13d831ec7': 'USDT (Tether) coin',\n",
    "    '0x32400084c286cf3e17e7b677ea9583e60a000324': 'zkSync: Layer 2 Bridge',\n",
    "    '0xa0b86991c6218b36c1d19d4a2e9eb0ce3606eb48': 'USDC (USD Coin)',\n",
    "    '0x881d4032abe4188e2237efcd27ab435e81fc6bb1': 'MetaMask Swap Router',\n",
    "    '0xae0ee0a63a2ce6baeeffe56e7714fb4efe48d419': 'StarkGate ETH Bridge',\n",
    "    '0x3fc91a3afd70395cd496c647d5a6cc9d4b2b7fad': 'Uniswap: Universal Router',\n",
    "    '0x95ad61b0a150d79219dcf64e1e6cc01f0b64c4ce': 'Shiba Inu (SHIB) token',\n",
    "    '0xabea9132b05a70803a4e85094fd0e1800777fbef': 'zkSync: Layer 2 Bridge',\n",
    "    '0x7a250d5630b4cf539739df2c5dacb4c659f2488d': 'Uniswap V2: Router 2',\n",
    "    '0xef1c6e67703c7bd7107eed8303fbe6ec2554bf6b': 'Uniswap: Universal Router 2',\n",
    "    '0x06450dee7fd2fb8e39061434babcfc05599a6fb8': 'XEN Crypto (XEN) token',\n",
    "    '0x7d1afa7b718fb893db30a3abc0cfc608aacfebb0': 'Matic Token (MATIC) token',\n",
    "    '0x881d40237659c251811cec9c364ef91dc08d300c': 'MetaMask: Swap Router',\n",
    "    '0x514910771af9ca656af840dff83e8264ecf986ca': 'ChainLink Token (LINK)',\n",
    "    '0xdef1c0ded9bec7f1a1670819833240f027b25eff': '0x Protocol: Exchange Proxy',\n",
    "    '0x00000000219ab540356cbb839cbe05303d7705fa': 'Beacon Deposit Contract',\n",
    "    '0xc02aaa39b223fe8d0a0e5c4f27ead9083c756cc2': 'Wrapped Ether (WETH) token',\n",
    "    '0xe66b31678d6c16e9ebf358268a790b763c133750': '0x: Coinbase Wallet Proxy',\n",
    "    '0x1a0ad011913a150f69f6a19df447a0cfd9551054': 'Zora: Bridge',\n",
    "    '0xd4307e0acd12cf46fd6cf93bc264f5d5d1598792': 'Base, Introduced token',\n",
    "    '0x6b175474e89094c44da98b954eedeac495271d0f': 'Dai Stablecoin (DAI)',\n",
    "    '0x0000000000664ceffed39244a8312bd895470803': 'ENS: ETH Registrar Controller',\n",
    "    '0x3506424f91fd33084466f402d5d97f05f8e3b4af': 'Chiliz (CHZ) token',\n",
    "    '0xd19d4b5d358258f05d7b411e21a1460d11b0876f': 'Linea: L1 Message Service',\n",
    "    '0x4d224452801aced8b2f0aebe155379bb5d594381': 'ApeCoin (APE) token'\n",
    "}\n"
   ]
  },
  {
   "cell_type": "code",
   "execution_count": 334,
   "id": "c1197f38-9eba-422d-a522-69626e06b267",
   "metadata": {
    "execution": {
     "iopub.execute_input": "2025-01-13T22:19:25.359729Z",
     "iopub.status.busy": "2025-01-13T22:19:25.359239Z",
     "iopub.status.idle": "2025-01-13T22:19:25.372160Z",
     "shell.execute_reply": "2025-01-13T22:19:25.370611Z",
     "shell.execute_reply.started": "2025-01-13T22:19:25.359691Z"
    }
   },
   "outputs": [],
   "source": [
    "top25_contracts['decoded_contracts'] = top25_contracts['to_address'].map(contract_dict)"
   ]
  },
  {
   "cell_type": "code",
   "execution_count": 358,
   "id": "4600e8b2-77cb-48ef-9a36-0b85b07cb4d1",
   "metadata": {
    "execution": {
     "iopub.execute_input": "2025-01-14T23:26:29.907357Z",
     "iopub.status.busy": "2025-01-14T23:26:29.894618Z",
     "iopub.status.idle": "2025-01-14T23:26:29.967237Z",
     "shell.execute_reply": "2025-01-14T23:26:29.965830Z",
     "shell.execute_reply.started": "2025-01-14T23:26:29.907278Z"
    }
   },
   "outputs": [],
   "source": [
    "def get_contract_functionality(decoded_contracts):\n",
    "    if isinstance(decoded_contracts, str):\n",
    "        decoded_contracts = decoded_contracts.lower()\n",
    "        if 'tether' in decoded_contracts or 'usd coin' in decoded_contracts or 'dai' in decoded_contracts:\n",
    "            return 'Stablecoin'\n",
    "        elif 'uniswap' in decoded_contracts or 'metamask' in decoded_contracts:\n",
    "            return 'Router'\n",
    "        elif 'bridge' in decoded_contracts:\n",
    "            return 'Bridge'\n",
    "        elif 'token' in decoded_contracts:\n",
    "            return 'Token (NFT)'\n",
    "        elif 'ens' in decoded_contracts or 'proxy' in decoded_contracts or 'beacon' in decoded_contracts:\n",
    "            return 'Infrastructure'\n",
    "        else:\n",
    "            return 'Other'\n",
    "    return 'Other'\n"
   ]
  },
  {
   "cell_type": "code",
   "execution_count": 336,
   "id": "8756619a-56c0-4c64-93d3-13ec407916f0",
   "metadata": {
    "execution": {
     "iopub.execute_input": "2025-01-13T22:19:26.944073Z",
     "iopub.status.busy": "2025-01-13T22:19:26.943470Z",
     "iopub.status.idle": "2025-01-13T22:19:26.952563Z",
     "shell.execute_reply": "2025-01-13T22:19:26.950540Z",
     "shell.execute_reply.started": "2025-01-13T22:19:26.944002Z"
    }
   },
   "outputs": [],
   "source": [
    "top25_contracts['contract_functionality'] = top25_contracts['decoded_contracts'].apply(get_contract_functionality)"
   ]
  },
  {
   "cell_type": "code",
   "execution_count": 419,
   "id": "d73d137a-457d-480c-9799-a1fa97582660",
   "metadata": {
    "execution": {
     "iopub.execute_input": "2025-01-15T10:14:54.087017Z",
     "iopub.status.busy": "2025-01-15T10:14:54.079029Z",
     "iopub.status.idle": "2025-01-15T10:14:54.438814Z",
     "shell.execute_reply": "2025-01-15T10:14:54.436030Z",
     "shell.execute_reply.started": "2025-01-15T10:14:54.086877Z"
    }
   },
   "outputs": [
    {
     "data": {
      "text/html": [
       "<div>\n",
       "<style scoped>\n",
       "    .dataframe tbody tr th:only-of-type {\n",
       "        vertical-align: middle;\n",
       "    }\n",
       "\n",
       "    .dataframe tbody tr th {\n",
       "        vertical-align: top;\n",
       "    }\n",
       "\n",
       "    .dataframe thead th {\n",
       "        text-align: right;\n",
       "    }\n",
       "</style>\n",
       "<table border=\"1\" class=\"dataframe\">\n",
       "  <thead>\n",
       "    <tr style=\"text-align: right;\">\n",
       "      <th></th>\n",
       "      <th>to_address</th>\n",
       "      <th>transaction_count</th>\n",
       "      <th>decoded_contracts</th>\n",
       "      <th>contract_functionality</th>\n",
       "    </tr>\n",
       "  </thead>\n",
       "  <tbody>\n",
       "    <tr>\n",
       "      <th>0</th>\n",
       "      <td>0xdac17f958d2ee523a2206206994597c13d831ec7</td>\n",
       "      <td>3128</td>\n",
       "      <td>USDT (Tether) coin</td>\n",
       "      <td>Stablecoin</td>\n",
       "    </tr>\n",
       "    <tr>\n",
       "      <th>1</th>\n",
       "      <td>0x32400084c286cf3e17e7b677ea9583e60a000324</td>\n",
       "      <td>859</td>\n",
       "      <td>zkSync: Layer 2 Bridge</td>\n",
       "      <td>Bridge</td>\n",
       "    </tr>\n",
       "    <tr>\n",
       "      <th>2</th>\n",
       "      <td>0xa0b86991c6218b36c1d19d4a2e9eb0ce3606eb48</td>\n",
       "      <td>735</td>\n",
       "      <td>USDC (USD Coin)</td>\n",
       "      <td>Stablecoin</td>\n",
       "    </tr>\n",
       "  </tbody>\n",
       "</table>\n",
       "</div>"
      ],
      "text/plain": [
       "                                   to_address  transaction_count  \\\n",
       "0  0xdac17f958d2ee523a2206206994597c13d831ec7               3128   \n",
       "1  0x32400084c286cf3e17e7b677ea9583e60a000324                859   \n",
       "2  0xa0b86991c6218b36c1d19d4a2e9eb0ce3606eb48                735   \n",
       "\n",
       "        decoded_contracts contract_functionality  \n",
       "0      USDT (Tether) coin             Stablecoin  \n",
       "1  zkSync: Layer 2 Bridge                 Bridge  \n",
       "2         USDC (USD Coin)             Stablecoin  "
      ]
     },
     "execution_count": 419,
     "metadata": {},
     "output_type": "execute_result"
    }
   ],
   "source": [
    "top25_contracts.head(3)"
   ]
  },
  {
   "cell_type": "code",
   "execution_count": 460,
   "id": "f87ac60b-4e25-414b-ac41-36a8a7eb8c22",
   "metadata": {
    "execution": {
     "iopub.execute_input": "2025-01-15T11:15:37.243161Z",
     "iopub.status.busy": "2025-01-15T11:15:37.242740Z",
     "iopub.status.idle": "2025-01-15T11:15:37.505341Z",
     "shell.execute_reply": "2025-01-15T11:15:37.504722Z",
     "shell.execute_reply.started": "2025-01-15T11:15:37.243128Z"
    }
   },
   "outputs": [
    {
     "data": {
      "image/png": "[encoded data removed]",
      "text/plain": [
       "<Figure size 800x300 with 1 Axes>"
      ]
     },
     "metadata": {},
     "output_type": "display_data"
    }
   ],
   "source": [
    "category_percentage = top25_contracts.groupby('contract_functionality')['transaction_count'].sum() / top25_contracts['transaction_count'].sum() * 100\n",
    "\n",
    "plt.figure(figsize=(8, 3))\n",
    "category_percentage.sort_values().plot(kind='barh', color='purple', alpha=0.7)\n",
    "\n",
    "plt.title('TOP-25 Contracts by Functionality, %', fontsize=14)\n",
    "plt.ylabel('  ', fontsize=12)\n",
    "plt.xticks(fontsize=10)\n",
    "plt.yticks(fontsize=10)\n",
    "plt.grid(axis='x', linestyle='--', alpha=0.7)\n",
    "\n",
    "plt.tight_layout()\n",
    "plt.show()\n"
   ]
  },
  {
   "cell_type": "markdown",
   "id": "956ee218-e16f-45ec-8388-d8e57a245f2c",
   "metadata": {},
   "source": [
    "#### CONCLUSION"
   ]
  },
  {
   "cell_type": "markdown",
   "id": "224be320-4980-489b-91ce-fbfcd6ffc1e5",
   "metadata": {},
   "source": [
    "### **13. Is There a Statistically Significant Difference in Gas Difference Between Stablecoin Contracts and Token Contracts??**"
   ]
  },
  {
   "cell_type": "markdown",
   "id": "c8743185-aae4-4a67-b1c7-cd6a58b52c94",
   "metadata": {},
   "source": [
    "**Choose data with User-to-Contract purpose and only necessary columns:**"
   ]
  },
  {
   "cell_type": "code",
   "execution_count": 437,
   "id": "2d9208f0-07fc-47dd-8fab-f34ad50c8241",
   "metadata": {
    "execution": {
     "iopub.execute_input": "2025-01-15T10:52:10.284251Z",
     "iopub.status.busy": "2025-01-15T10:52:10.283698Z",
     "iopub.status.idle": "2025-01-15T10:52:10.334632Z",
     "shell.execute_reply": "2025-01-15T10:52:10.331900Z",
     "shell.execute_reply.started": "2025-01-15T10:52:10.284213Z"
    }
   },
   "outputs": [
    {
     "data": {
      "text/html": [
       "<div>\n",
       "<style scoped>\n",
       "    .dataframe tbody tr th:only-of-type {\n",
       "        vertical-align: middle;\n",
       "    }\n",
       "\n",
       "    .dataframe tbody tr th {\n",
       "        vertical-align: top;\n",
       "    }\n",
       "\n",
       "    .dataframe thead th {\n",
       "        text-align: right;\n",
       "    }\n",
       "</style>\n",
       "<table border=\"1\" class=\"dataframe\">\n",
       "  <thead>\n",
       "    <tr style=\"text-align: right;\">\n",
       "      <th></th>\n",
       "      <th>to_address</th>\n",
       "      <th>gas_difference</th>\n",
       "    </tr>\n",
       "  </thead>\n",
       "  <tbody>\n",
       "    <tr>\n",
       "      <th>0</th>\n",
       "      <td>0xa0b86991c6218b36c1d19d4a2e9eb0ce3606eb48</td>\n",
       "      <td>19704</td>\n",
       "    </tr>\n",
       "    <tr>\n",
       "      <th>1</th>\n",
       "      <td>0xdef1c0ded9bec7f1a1670819833240f027b25eff</td>\n",
       "      <td>31296</td>\n",
       "    </tr>\n",
       "    <tr>\n",
       "      <th>2</th>\n",
       "      <td>0x7fc66500c84a76ad7e9c93437bfc5ac33e2ddae9</td>\n",
       "      <td>90582</td>\n",
       "    </tr>\n",
       "  </tbody>\n",
       "</table>\n",
       "</div>"
      ],
      "text/plain": [
       "                                   to_address  gas_difference\n",
       "0  0xa0b86991c6218b36c1d19d4a2e9eb0ce3606eb48           19704\n",
       "1  0xdef1c0ded9bec7f1a1670819833240f027b25eff           31296\n",
       "2  0x7fc66500c84a76ad7e9c93437bfc5ac33e2ddae9           90582"
      ]
     },
     "execution_count": 437,
     "metadata": {},
     "output_type": "execute_result"
    }
   ],
   "source": [
    "user_to_contract_gas_diff = df[df['transactions_purpose'] == 'User-to-Contract'][['to_address', 'gas_difference']]\n",
    "user_to_contract_gas_diff.head(3)"
   ]
  },
  {
   "cell_type": "markdown",
   "id": "53baac9f-7199-4962-a2f2-84f1f1a08c25",
   "metadata": {},
   "source": [
    "For building a distribution each value in column 'gas_difference' is needed.  \n",
    "As a contract_dict has only 25 identified addresses, unidentified addresses return NaN.  \n",
    "It has no impact on the next research, so there is no need to handle NaN."
   ]
  },
  {
   "cell_type": "code",
   "execution_count": 438,
   "id": "5c71363f-cabc-49e0-b307-af27c6294840",
   "metadata": {
    "execution": {
     "iopub.execute_input": "2025-01-15T10:52:14.744942Z",
     "iopub.status.busy": "2025-01-15T10:52:14.744419Z",
     "iopub.status.idle": "2025-01-15T10:52:14.770030Z",
     "shell.execute_reply": "2025-01-15T10:52:14.768373Z",
     "shell.execute_reply.started": "2025-01-15T10:52:14.744907Z"
    }
   },
   "outputs": [
    {
     "data": {
      "text/html": [
       "<div>\n",
       "<style scoped>\n",
       "    .dataframe tbody tr th:only-of-type {\n",
       "        vertical-align: middle;\n",
       "    }\n",
       "\n",
       "    .dataframe tbody tr th {\n",
       "        vertical-align: top;\n",
       "    }\n",
       "\n",
       "    .dataframe thead th {\n",
       "        text-align: right;\n",
       "    }\n",
       "</style>\n",
       "<table border=\"1\" class=\"dataframe\">\n",
       "  <thead>\n",
       "    <tr style=\"text-align: right;\">\n",
       "      <th></th>\n",
       "      <th>to_address</th>\n",
       "      <th>gas_difference</th>\n",
       "      <th>decoded_contracts</th>\n",
       "      <th>contract_functionality</th>\n",
       "    </tr>\n",
       "  </thead>\n",
       "  <tbody>\n",
       "    <tr>\n",
       "      <th>0</th>\n",
       "      <td>0xa0b86991c6218b36c1d19d4a2e9eb0ce3606eb48</td>\n",
       "      <td>19704</td>\n",
       "      <td>USDC (USD Coin)</td>\n",
       "      <td>Stablecoin</td>\n",
       "    </tr>\n",
       "    <tr>\n",
       "      <th>1</th>\n",
       "      <td>0xdef1c0ded9bec7f1a1670819833240f027b25eff</td>\n",
       "      <td>31296</td>\n",
       "      <td>0x Protocol: Exchange Proxy</td>\n",
       "      <td>Infrastructure</td>\n",
       "    </tr>\n",
       "    <tr>\n",
       "      <th>2</th>\n",
       "      <td>0x7fc66500c84a76ad7e9c93437bfc5ac33e2ddae9</td>\n",
       "      <td>90582</td>\n",
       "      <td>NaN</td>\n",
       "      <td>Other</td>\n",
       "    </tr>\n",
       "  </tbody>\n",
       "</table>\n",
       "</div>"
      ],
      "text/plain": [
       "                                   to_address  gas_difference  \\\n",
       "0  0xa0b86991c6218b36c1d19d4a2e9eb0ce3606eb48           19704   \n",
       "1  0xdef1c0ded9bec7f1a1670819833240f027b25eff           31296   \n",
       "2  0x7fc66500c84a76ad7e9c93437bfc5ac33e2ddae9           90582   \n",
       "\n",
       "             decoded_contracts contract_functionality  \n",
       "0              USDC (USD Coin)             Stablecoin  \n",
       "1  0x Protocol: Exchange Proxy         Infrastructure  \n",
       "2                          NaN                  Other  "
      ]
     },
     "execution_count": 438,
     "metadata": {},
     "output_type": "execute_result"
    }
   ],
   "source": [
    "user_to_contract_gas_diff['decoded_contracts'] = user_to_contract_gas_diff['to_address'].map(contract_dict)\n",
    "user_to_contract_gas_diff['contract_functionality'] = user_to_contract_gas_diff['decoded_contracts'].apply(get_contract_functionality)\n",
    "user_to_contract_gas_diff.head(3)"
   ]
  },
  {
   "cell_type": "markdown",
   "id": "b62653ac-fa5f-4031-b2af-4c78cd07db3e",
   "metadata": {},
   "source": [
    "Distinguish gas difference for stablecoin functionality contracts and token (NFT) functionality contracts:"
   ]
  },
  {
   "cell_type": "code",
   "execution_count": 510,
   "id": "9c208ed4-a560-4fd2-8393-02cbe1e07f9a",
   "metadata": {
    "execution": {
     "iopub.execute_input": "2025-01-15T14:01:54.252545Z",
     "iopub.status.busy": "2025-01-15T14:01:54.250031Z",
     "iopub.status.idle": "2025-01-15T14:01:54.287941Z",
     "shell.execute_reply": "2025-01-15T14:01:54.287125Z",
     "shell.execute_reply.started": "2025-01-15T14:01:54.252469Z"
    }
   },
   "outputs": [],
   "source": [
    "stablecoin_distribution = user_to_contract_gas_diff[(user_to_contract_gas_diff['contract_functionality'] == 'Stablecoin') & (user_to_contract_gas_diff['gas_difference'] != 0)].gas_difference\n",
    "token_distribution = user_to_contract_gas_diff[(user_to_contract_gas_diff['contract_functionality'] == 'Token (NFT)')  & (user_to_contract_gas_diff['gas_difference'] != 0)].gas_difference"
   ]
  },
  {
   "cell_type": "code",
   "execution_count": 468,
   "id": "36034d3f-25dc-4952-811d-10a40c246779",
   "metadata": {
    "execution": {
     "iopub.execute_input": "2025-01-15T13:15:29.973803Z",
     "iopub.status.busy": "2025-01-15T13:15:29.964787Z",
     "iopub.status.idle": "2025-01-15T13:15:30.695272Z",
     "shell.execute_reply": "2025-01-15T13:15:30.694282Z",
     "shell.execute_reply.started": "2025-01-15T13:15:29.973190Z"
    }
   },
   "outputs": [
    {
     "data": {
      "image/png": "[encoded data removed]",
      "text/plain": [
       "<Figure size 1200x300 with 2 Axes>"
      ]
     },
     "metadata": {},
     "output_type": "display_data"
    }
   ],
   "source": [
    "x_max = max(stablecoin_distribution.max(), token_distribution.max())\n",
    "\n",
    "fig, axes = plt.subplots(1, 2, figsize=(12, 3), sharey=True)\n",
    "\n",
    "axes[0].hist(stablecoin_distribution, bins=10, density=True, alpha=0.5, color='blue', label='Stablecoin')\n",
    "sns.kdeplot(stablecoin_distribution, ax=axes[0], color='blue')\n",
    "axes[0].set_title('Stablecoin')\n",
    "axes[0].set_xlabel('Gas Difference')\n",
    "axes[0].set_ylabel('Density')\n",
    "axes[0].set_xlim(-100000, x_max)\n",
    "\n",
    "axes[1].hist(token_distribution, bins=10, density=True, alpha=0.5, color='orange', label='Token (NFT)')\n",
    "sns.kdeplot(token_distribution, ax=axes[1], color='orange')\n",
    "axes[1].set_title('Token (NFT)')\n",
    "axes[1].set_xlabel('Gas Difference')\n",
    "axes[1].set_xlim(-100000, x_max)\n",
    "\n",
    "plt.tight_layout()\n",
    "plt.show()\n"
   ]
  },
  {
   "cell_type": "markdown",
   "id": "dcc1063e-1a9a-4162-ae8a-e5b1ac6e6b19",
   "metadata": {},
   "source": [
    "#### **13.1 Kernel Dencity Estimation (KDE) Plot of Gas Difference by Stablecoin and Token (NFT) Contracts**"
   ]
  },
  {
   "cell_type": "code",
   "execution_count": 465,
   "id": "c3ed2f8c-5ee5-471c-b40d-74701e07effe",
   "metadata": {
    "execution": {
     "iopub.execute_input": "2025-01-15T11:20:04.265782Z",
     "iopub.status.busy": "2025-01-15T11:20:04.265276Z",
     "iopub.status.idle": "2025-01-15T11:20:04.494948Z",
     "shell.execute_reply": "2025-01-15T11:20:04.494003Z",
     "shell.execute_reply.started": "2025-01-15T11:20:04.265743Z"
    }
   },
   "outputs": [
    {
     "data": {
      "image/png": "[encoded data removed]",
      "text/plain": [
       "<Figure size 1000x300 with 1 Axes>"
      ]
     },
     "metadata": {},
     "output_type": "display_data"
    }
   ],
   "source": [
    "plt.figure(figsize=(10, 3))\n",
    "sns.kdeplot(stablecoin_distribution, label='Stablecoin', fill=True, alpha=0.6, color='blue')\n",
    "sns.kdeplot(token_distribution, label='Token (NFT)', fill=True, alpha=0.6, color='orange')\n",
    "\n",
    "plt.title(\"KDE Plot of Gas Difference by Contract Functionality\", fontsize=14)\n",
    "plt.xlabel(\"Gas Difference\", fontsize=12)\n",
    "plt.ylabel(\"Density\", fontsize=12)\n",
    "plt.legend(title=\"Contract Functionality\", fontsize=10)\n",
    "plt.grid(True, alpha=0.3)\n",
    "\n",
    "plt.show()"
   ]
  },
  {
   "cell_type": "markdown",
   "id": "4993341a-908e-48a4-ac45-445c388f9266",
   "metadata": {},
   "source": [
    "Despite the visual similarity of the KDE Plot of Gas Difference, a statistical test is required to confirm or refute the hypothesis.  \n",
    "Distributions are not normall, so let's try to normalize them."
   ]
  },
  {
   "cell_type": "markdown",
   "id": "88d28adc-0bef-431a-aa1e-4bc09f548002",
   "metadata": {},
   "source": [
    "#### **13.2 Deleteing Outliers in the Stablecoin and Token (NFT) Gas Difference Distributions**"
   ]
  },
  {
   "cell_type": "markdown",
   "id": "64e5222e-e712-4a4a-80b7-2ae8506b1ec3",
   "metadata": {},
   "source": [
    "Choose IQR Method instead of 3*STD Method becuse it is less sensitive to outliers:"
   ]
  },
  {
   "cell_type": "markdown",
   "id": "680a218b-ba77-4b9d-911b-644676dfa180",
   "metadata": {},
   "source": [
    "**Stablecoin Distribution**"
   ]
  },
  {
   "cell_type": "code",
   "execution_count": 513,
   "id": "52ce2e11-2bc8-46f2-9b63-16d7ed10acda",
   "metadata": {
    "execution": {
     "iopub.execute_input": "2025-01-15T14:03:25.438962Z",
     "iopub.status.busy": "2025-01-15T14:03:25.438551Z",
     "iopub.status.idle": "2025-01-15T14:03:25.448980Z",
     "shell.execute_reply": "2025-01-15T14:03:25.447635Z",
     "shell.execute_reply.started": "2025-01-15T14:03:25.438929Z"
    }
   },
   "outputs": [],
   "source": [
    "Q1 = stablecoin_distribution.quantile(0.25)\n",
    "Q3 = stablecoin_distribution.quantile(0.75)\n",
    "IQR = Q3 - Q1\n",
    "\n",
    "lower_bound = Q1 - 1.5 * IQR\n",
    "upper_bound = Q3 + 1.5 * IQR\n",
    "\n",
    "stablecoin_distribution = stablecoin_distribution[(stablecoin_distribution >= lower_bound) & (stablecoin_distribution <= upper_bound)]"
   ]
  },
  {
   "cell_type": "markdown",
   "id": "ea6a43b0-0570-40fa-abaf-467dc4070de6",
   "metadata": {},
   "source": [
    "**Token (NFT) Distribution**"
   ]
  },
  {
   "cell_type": "code",
   "execution_count": 514,
   "id": "cc92bb06-c897-42ae-a90b-d1aa9a4a373f",
   "metadata": {
    "execution": {
     "iopub.execute_input": "2025-01-15T14:03:31.436574Z",
     "iopub.status.busy": "2025-01-15T14:03:31.436039Z",
     "iopub.status.idle": "2025-01-15T14:03:31.449155Z",
     "shell.execute_reply": "2025-01-15T14:03:31.448347Z",
     "shell.execute_reply.started": "2025-01-15T14:03:31.436535Z"
    }
   },
   "outputs": [],
   "source": [
    "Q1 = token_distribution.quantile(0.25)\n",
    "Q3 = token_distribution.quantile(0.75)\n",
    "IQR = Q3 - Q1\n",
    "\n",
    "lower_bound = Q1 - 1.5 * IQR\n",
    "upper_bound = Q3 + 1.5 * IQR\n",
    "\n",
    "token_distribution = token_distribution[(token_distribution >= lower_bound) & (token_distribution <= upper_bound)]"
   ]
  },
  {
   "cell_type": "markdown",
   "id": "3c2f1352-dc6a-44a3-a8a7-adba786472ed",
   "metadata": {},
   "source": [
    "#### **13.3 Normalizing the Stablecoin and Token (NFT) Gas Difference Distributions**"
   ]
  },
  {
   "cell_type": "code",
   "execution_count": 515,
   "id": "5ddd400f-c8b8-4f5d-a0ba-9f6b0a38b048",
   "metadata": {
    "execution": {
     "iopub.execute_input": "2025-01-15T14:03:40.269427Z",
     "iopub.status.busy": "2025-01-15T14:03:40.268945Z",
     "iopub.status.idle": "2025-01-15T14:03:40.289222Z",
     "shell.execute_reply": "2025-01-15T14:03:40.288533Z",
     "shell.execute_reply.started": "2025-01-15T14:03:40.269388Z"
    }
   },
   "outputs": [],
   "source": [
    "stablecoin_distribution_log = np.log1p(stablecoin_distribution)\n",
    "token_distribution_log = np.log1p(token_distribution)"
   ]
  },
  {
   "cell_type": "code",
   "execution_count": 516,
   "id": "cf32e96e-e068-416e-b496-6994be724ec7",
   "metadata": {
    "execution": {
     "iopub.execute_input": "2025-01-15T14:03:44.181239Z",
     "iopub.status.busy": "2025-01-15T14:03:44.180736Z",
     "iopub.status.idle": "2025-01-15T14:03:44.671392Z",
     "shell.execute_reply": "2025-01-15T14:03:44.670669Z",
     "shell.execute_reply.started": "2025-01-15T14:03:44.181200Z"
    }
   },
   "outputs": [
    {
     "data": {
      "image/png": "[encoded data removed]",
      "text/plain": [
       "<Figure size 1200x300 with 2 Axes>"
      ]
     },
     "metadata": {},
     "output_type": "display_data"
    }
   ],
   "source": [
    "x_max = max(stablecoin_distribution_log.max(), token_distribution_log.max())\n",
    "\n",
    "fig, axes = plt.subplots(1, 2, figsize=(12, 3), sharey=True)\n",
    "\n",
    "axes[0].hist(stablecoin_distribution_log, bins=10, density=True, alpha=0.5, color='blue', label='Stablecoin')\n",
    "sns.kdeplot(stablecoin_distribution_log, ax=axes[0], color='blue')\n",
    "axes[0].set_title('Stablecoin')\n",
    "axes[0].set_xlabel('Gas Difference')\n",
    "axes[0].set_ylabel('Density')\n",
    "axes[0].set_xlim(0, x_max)\n",
    "\n",
    "axes[1].hist(token_distribution_log, bins=10, density=True, alpha=0.5, color='orange', label='Token (NFT)')\n",
    "sns.kdeplot(token_distribution_log, ax=axes[1], color='orange')\n",
    "axes[1].set_title('Token (NFT)')\n",
    "axes[1].set_xlabel('Gas Difference')\n",
    "axes[1].set_xlim(0, x_max)\n",
    "\n",
    "plt.tight_layout()\n",
    "plt.show()\n"
   ]
  },
  {
   "cell_type": "markdown",
   "id": "d55e65ab-9064-4b4f-b9e1-6d6cd072aae1",
   "metadata": {},
   "source": [
    "Since the log-transformed distributions did not become normal, we will use the Mann-Whitney test for the statistical analysis."
   ]
  },
  {
   "cell_type": "markdown",
   "id": "04821bd2-834c-44ba-8e6b-b84414f1300f",
   "metadata": {},
   "source": [
    "#### **13.4 Hypotheses Formulation:**\n",
    "\n",
    "**Null Hypothesis (H₀):**  \n",
    "The gas difference is the same for stablecoin and token contracts.  \n",
    "There is no statistically significant difference between the two groups.\n",
    "\n",
    "**Alternative Hypothesis (H₁):**  \n",
    "The gas difference differs between stablecoin and token contracts.  \n",
    "There may be a tendency for systematic overestimation or underestimation of gas usage depending on the contract type."
   ]
  },
  {
   "cell_type": "code",
   "execution_count": 520,
   "id": "117a1fd4-b6c2-4693-9b5a-f6ebcd58ddd6",
   "metadata": {
    "execution": {
     "iopub.execute_input": "2025-01-15T14:06:01.992827Z",
     "iopub.status.busy": "2025-01-15T14:06:01.991609Z",
     "iopub.status.idle": "2025-01-15T14:06:02.017525Z",
     "shell.execute_reply": "2025-01-15T14:06:02.015350Z",
     "shell.execute_reply.started": "2025-01-15T14:06:01.992801Z"
    }
   },
   "outputs": [
    {
     "name": "stdout",
     "output_type": "stream",
     "text": [
      "U-Statistic: 1026028.0\n",
      "P-Value: 1.1735901454647512e-09\n",
      "Reject H₀: There is a statistically significant difference between the groups.\n"
     ]
    }
   ],
   "source": [
    "stat, p_value = mannwhitneyu(stablecoin_distribution, token_distribution, alternative='two-sided')\n",
    "\n",
    "print(f\"U-Statistic: {stat}\")\n",
    "print(f\"P-Value: {p_value}\")\n",
    "\n",
    "alpha = 0.05\n",
    "if p_value < alpha:\n",
    "    print(\"Reject H₀: There is a statistically significant difference between the groups.\")\n",
    "else:\n",
    "    print(\"fFail to reject H₀: There is no statistically significant difference between the groups.\")"
   ]
  },
  {
   "cell_type": "code",
   "execution_count": 521,
   "id": "31b1684c-1c28-4fe6-88e5-86860f94bc76",
   "metadata": {
    "execution": {
     "iopub.execute_input": "2025-01-15T14:06:05.724976Z",
     "iopub.status.busy": "2025-01-15T14:06:05.724499Z",
     "iopub.status.idle": "2025-01-15T14:06:05.742936Z",
     "shell.execute_reply": "2025-01-15T14:06:05.740775Z",
     "shell.execute_reply.started": "2025-01-15T14:06:05.724937Z"
    }
   },
   "outputs": [
    {
     "data": {
      "text/plain": [
       "(np.float64(24632.57210965435), np.float64(21012.0))"
      ]
     },
     "execution_count": 521,
     "metadata": {},
     "output_type": "execute_result"
    }
   ],
   "source": [
    "stablecoin_distribution.mean(), stablecoin_distribution.median()"
   ]
  },
  {
   "cell_type": "code",
   "execution_count": 522,
   "id": "bb5860a5-e4a3-4f6b-9ac9-6846ad07f7c1",
   "metadata": {
    "execution": {
     "iopub.execute_input": "2025-01-15T14:06:09.270023Z",
     "iopub.status.busy": "2025-01-15T14:06:09.269545Z",
     "iopub.status.idle": "2025-01-15T14:06:09.279837Z",
     "shell.execute_reply": "2025-01-15T14:06:09.278814Z",
     "shell.execute_reply.started": "2025-01-15T14:06:09.269984Z"
    }
   },
   "outputs": [
    {
     "data": {
      "text/plain": [
       "(np.float64(20757.908571428572), np.float64(11759.0))"
      ]
     },
     "execution_count": 522,
     "metadata": {},
     "output_type": "execute_result"
    }
   ],
   "source": [
    "token_distribution.mean(), token_distribution.median()"
   ]
  },
  {
   "cell_type": "markdown",
   "id": "c3f29314-d89e-4fe0-bc4f-4f4bcdfd281f",
   "metadata": {},
   "source": [
    "Results indicate that token contracts evaluate gas usage more accurately compared to stablecoin contracts, based on both the mean and median values.\n",
    "\n",
    "- **Mean:** Stablecoin contracts have a higher mean gas difference (24,632) compared to token contracts (20,757). This suggests that, overall, stablecoin contracts tend to overestimate the required gas.\n",
    "\n",
    "- **Median:** Stablecoin contracts also have a significantly higher median (21,012) compared to token contracts (11,759). This indicates that the difference is systematic across most transactions, not just due to outliers.\n",
    "\n",
    "**Conclusion:** The Mann-Whitney test confirms that this difference is statistically significant. Therefore, token contracts generally provide a better estimate of gas usage, while stablecoin contracts tend to have a greater discrepancy between estimated and actual gas.\n",
    "\n",
    "\n",
    "\n",
    "\n",
    "\n",
    "\n"
   ]
  },
  {
   "cell_type": "code",
   "execution_count": null,
   "id": "9fd1e41b-511d-4259-94f2-2f7e4d46de63",
   "metadata": {},
   "outputs": [],
   "source": []
  }
 ],
 "metadata": {
  "kernelspec": {
   "display_name": "Python (myenv)",
   "language": "python",
   "name": "myenv"
  },
  "language_info": {
   "codemirror_mode": {
    "name": "ipython",
    "version": 3
   },
   "file_extension": ".py",
   "mimetype": "text/x-python",
   "name": "python",
   "nbconvert_exporter": "python",
   "pygments_lexer": "ipython3",
   "version": "3.11.1"
  }
 },
 "nbformat": 4,
 "nbformat_minor": 5
}
