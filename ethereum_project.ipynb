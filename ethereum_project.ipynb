{
 "cells": [
  {
   "cell_type": "markdown",
   "metadata": {},
   "source": [
    "**1. Import all neccessery libraries**"
   ]
  },
  {
   "cell_type": "code",
   "execution_count": 1,
   "metadata": {
    "execution": {
     "iopub.execute_input": "2024-12-28T21:25:46.825733Z",
     "iopub.status.busy": "2024-12-28T21:25:46.819807Z",
     "iopub.status.idle": "2024-12-28T21:25:59.242691Z",
     "shell.execute_reply": "2024-12-28T21:25:59.241313Z",
     "shell.execute_reply.started": "2024-12-28T21:25:46.824351Z"
    },
    "id": "lH2FdpKlDMDQ",
    "scrolled": true
   },
   "outputs": [],
   "source": [
    "from google.cloud import bigquery\n",
    "import pandas as pd\n",
    "import os\n",
    "import seaborn as sns\n",
    "import matplotlib.pyplot as plt\n",
    "import time\n",
    "import requests\n",
    "import json\n",
    "import calendar"
   ]
  },
  {
   "cell_type": "markdown",
   "metadata": {},
   "source": [
    "**2. Get data**\n",
    "\n",
    "    2.1 From GoogleCloud and create a Data Frame 'df_query'\n",
    "\n",
    "NOTE:\n",
    "\n",
    "    'new_crypto_ethereum_sample20k_new_wallets_2023' was previously created with SQL-queries on BigQuery.\n",
    "    All queries are saved in query_ethereum_project.txt"
   ]
  },
  {
   "cell_type": "markdown",
   "metadata": {
    "colab": {
     "base_uri": "https://localhost:8080/",
     "height": 73
    },
    "execution": {
     "iopub.execute_input": "2024-12-25T20:34:20.504875Z",
     "iopub.status.busy": "2024-12-25T20:34:20.504266Z",
     "iopub.status.idle": "2024-12-25T20:34:20.509219Z",
     "shell.execute_reply": "2024-12-25T20:34:20.508186Z",
     "shell.execute_reply.started": "2024-12-25T20:34:20.504845Z"
    },
    "id": "sQH-24KvVG4v",
    "outputId": "cec228bb-b971-42e5-82ce-7395853df661"
   },
   "source": [
    "key_file_path = \"my-project-444222-1be5aecf7dbb.json\"\n",
    "\n",
    "os.environ[\"GOOGLE_APPLICATION_CREDENTIALS\"] = key_file_path"
   ]
  },
  {
   "cell_type": "code",
   "execution_count": 3,
   "metadata": {
    "execution": {
     "iopub.execute_input": "2024-12-28T21:27:36.906039Z",
     "iopub.status.busy": "2024-12-28T21:27:36.905564Z",
     "iopub.status.idle": "2024-12-28T21:27:40.061921Z",
     "shell.execute_reply": "2024-12-28T21:27:40.061306Z",
     "shell.execute_reply.started": "2024-12-28T21:27:36.905999Z"
    },
    "id": "5xIB9KR20X8W"
   },
   "outputs": [],
   "source": [
    "client = bigquery.Client()\n",
    "\n",
    "query = \"\"\"\n",
    "SELECT *\n",
    "FROM `my-project-444222.wallets_2023.new_crypto_ethereum_sample20k_new_wallets_2023`\n",
    "\"\"\"\n",
    "df_query = client.query(query).to_dataframe()"
   ]
  },
  {
   "cell_type": "code",
   "execution_count": 4,
   "metadata": {
    "colab": {
     "base_uri": "https://localhost:8080/",
     "height": 226
    },
    "execution": {
     "iopub.execute_input": "2024-12-28T21:27:42.498983Z",
     "iopub.status.busy": "2024-12-28T21:27:42.498408Z",
     "iopub.status.idle": "2024-12-28T21:27:42.535082Z",
     "shell.execute_reply": "2024-12-28T21:27:42.534234Z",
     "shell.execute_reply.started": "2024-12-28T21:27:42.498936Z"
    },
    "id": "ZMp2zZ6FEtA8",
    "outputId": "0a527cbb-2e99-4051-9cee-d6efd5b1a2ea"
   },
   "outputs": [
    {
     "data": {
      "text/html": [
       "<div>\n",
       "<style scoped>\n",
       "    .dataframe tbody tr th:only-of-type {\n",
       "        vertical-align: middle;\n",
       "    }\n",
       "\n",
       "    .dataframe tbody tr th {\n",
       "        vertical-align: top;\n",
       "    }\n",
       "\n",
       "    .dataframe thead th {\n",
       "        text-align: right;\n",
       "    }\n",
       "</style>\n",
       "<table border=\"1\" class=\"dataframe\">\n",
       "  <thead>\n",
       "    <tr style=\"text-align: right;\">\n",
       "      <th></th>\n",
       "      <th>from_address</th>\n",
       "      <th>first_transaction_time</th>\n",
       "      <th>to_address</th>\n",
       "      <th>gas</th>\n",
       "      <th>gas_price</th>\n",
       "      <th>hash</th>\n",
       "      <th>transaction_type</th>\n",
       "      <th>receipt_gas_used</th>\n",
       "      <th>value</th>\n",
       "    </tr>\n",
       "  </thead>\n",
       "  <tbody>\n",
       "    <tr>\n",
       "      <th>0</th>\n",
       "      <td>0x560d6afd57691c9d73728214d7287f7ba495bfb1</td>\n",
       "      <td>2023-04-13 02:17:59+00:00</td>\n",
       "      <td>0xf48b45479ba7e121a3542626d5a5f3b07ec5b65d</td>\n",
       "      <td>197376</td>\n",
       "      <td>40731401487</td>\n",
       "      <td>0x5deb9d2adf75d687cfc95895f5fdda0c0d6ccbb37620...</td>\n",
       "      <td>2</td>\n",
       "      <td>131584</td>\n",
       "      <td>500000000000000000.000000000</td>\n",
       "    </tr>\n",
       "    <tr>\n",
       "      <th>1</th>\n",
       "      <td>0x67c35bea48140d64922aac45fab68f5f7ab30263</td>\n",
       "      <td>2023-09-12 14:03:23+00:00</td>\n",
       "      <td>0x3a23f943181408eac424116af7b7790c94cb97a5</td>\n",
       "      <td>67840</td>\n",
       "      <td>26186170128</td>\n",
       "      <td>0x1e4fd147875750578c15608b56775fc31add5cf16cf8...</td>\n",
       "      <td>2</td>\n",
       "      <td>67786</td>\n",
       "      <td>5300000000000000.000000000</td>\n",
       "    </tr>\n",
       "    <tr>\n",
       "      <th>2</th>\n",
       "      <td>0xb05490b8e0a65f14ef11245094fa847217999df9</td>\n",
       "      <td>2023-07-15 10:14:11+00:00</td>\n",
       "      <td>0x92853a460a0f25fcbea51c02c4ae167cc0a5ccc4</td>\n",
       "      <td>137216</td>\n",
       "      <td>12625542978</td>\n",
       "      <td>0x5d6ad02f3f6444089cf9750c962f18f0b53a5aa9673a...</td>\n",
       "      <td>2</td>\n",
       "      <td>133313</td>\n",
       "      <td>0E-9</td>\n",
       "    </tr>\n",
       "    <tr>\n",
       "      <th>3</th>\n",
       "      <td>0x8b613b54725d4ac4dd29876d7d1e7ac19079aa60</td>\n",
       "      <td>2023-08-17 10:22:59+00:00</td>\n",
       "      <td>0xb2089a7069861c8d90c8da3aacab8e9188c0c531</td>\n",
       "      <td>77568</td>\n",
       "      <td>15535760611</td>\n",
       "      <td>0x184f06f7f119660590cc52389f28b6dab98f179eb1cd...</td>\n",
       "      <td>2</td>\n",
       "      <td>51712</td>\n",
       "      <td>0E-9</td>\n",
       "    </tr>\n",
       "    <tr>\n",
       "      <th>4</th>\n",
       "      <td>0x740325f3ad2f2eb22ac46f70b5614ada96a0d574</td>\n",
       "      <td>2023-02-15 09:53:47+00:00</td>\n",
       "      <td>0x95ad61b0a150d79219dcf64e1e6cc01f0b64c4ce</td>\n",
       "      <td>77824</td>\n",
       "      <td>24192656923</td>\n",
       "      <td>0xc139b7ff06211765c560e03e7556eb8cd308dbc2d116...</td>\n",
       "      <td>2</td>\n",
       "      <td>51883</td>\n",
       "      <td>0E-9</td>\n",
       "    </tr>\n",
       "  </tbody>\n",
       "</table>\n",
       "</div>"
      ],
      "text/plain": [
       "                                 from_address    first_transaction_time  \\\n",
       "0  0x560d6afd57691c9d73728214d7287f7ba495bfb1 2023-04-13 02:17:59+00:00   \n",
       "1  0x67c35bea48140d64922aac45fab68f5f7ab30263 2023-09-12 14:03:23+00:00   \n",
       "2  0xb05490b8e0a65f14ef11245094fa847217999df9 2023-07-15 10:14:11+00:00   \n",
       "3  0x8b613b54725d4ac4dd29876d7d1e7ac19079aa60 2023-08-17 10:22:59+00:00   \n",
       "4  0x740325f3ad2f2eb22ac46f70b5614ada96a0d574 2023-02-15 09:53:47+00:00   \n",
       "\n",
       "                                   to_address     gas    gas_price  \\\n",
       "0  0xf48b45479ba7e121a3542626d5a5f3b07ec5b65d  197376  40731401487   \n",
       "1  0x3a23f943181408eac424116af7b7790c94cb97a5   67840  26186170128   \n",
       "2  0x92853a460a0f25fcbea51c02c4ae167cc0a5ccc4  137216  12625542978   \n",
       "3  0xb2089a7069861c8d90c8da3aacab8e9188c0c531   77568  15535760611   \n",
       "4  0x95ad61b0a150d79219dcf64e1e6cc01f0b64c4ce   77824  24192656923   \n",
       "\n",
       "                                                hash  transaction_type  \\\n",
       "0  0x5deb9d2adf75d687cfc95895f5fdda0c0d6ccbb37620...                 2   \n",
       "1  0x1e4fd147875750578c15608b56775fc31add5cf16cf8...                 2   \n",
       "2  0x5d6ad02f3f6444089cf9750c962f18f0b53a5aa9673a...                 2   \n",
       "3  0x184f06f7f119660590cc52389f28b6dab98f179eb1cd...                 2   \n",
       "4  0xc139b7ff06211765c560e03e7556eb8cd308dbc2d116...                 2   \n",
       "\n",
       "   receipt_gas_used                         value  \n",
       "0            131584  500000000000000000.000000000  \n",
       "1             67786    5300000000000000.000000000  \n",
       "2            133313                          0E-9  \n",
       "3             51712                          0E-9  \n",
       "4             51883                          0E-9  "
      ]
     },
     "execution_count": 4,
     "metadata": {},
     "output_type": "execute_result"
    }
   ],
   "source": [
    "df_query.head(5)"
   ]
  },
  {
   "cell_type": "code",
   "execution_count": 42,
   "metadata": {
    "execution": {
     "iopub.execute_input": "2024-12-28T01:14:54.476966Z",
     "iopub.status.busy": "2024-12-28T01:14:54.476673Z",
     "iopub.status.idle": "2024-12-28T01:14:54.773075Z",
     "shell.execute_reply": "2024-12-28T01:14:54.772380Z",
     "shell.execute_reply.started": "2024-12-28T01:14:54.476945Z"
    }
   },
   "outputs": [],
   "source": [
    "df_query.to_csv('bigquery_ethereum_sample20k.csv')"
   ]
  },
  {
   "cell_type": "markdown",
   "metadata": {},
   "source": [
    "    2.2 With api.etherscan and create Data Frame 'df_api'.\n",
    "    \n",
    "    When 'from_address' is known, it is possible to get all informations about address\n",
    "    with api.etherscan."
   ]
  },
  {
   "cell_type": "code",
   "execution_count": 5,
   "metadata": {
    "execution": {
     "iopub.execute_input": "2024-12-28T21:28:11.664260Z",
     "iopub.status.busy": "2024-12-28T21:28:11.663781Z",
     "iopub.status.idle": "2024-12-28T21:28:11.675816Z",
     "shell.execute_reply": "2024-12-28T21:28:11.674978Z",
     "shell.execute_reply.started": "2024-12-28T21:28:11.664220Z"
    }
   },
   "outputs": [],
   "source": [
    "etherscan_api_key = \"MY_API_KEY\"\n",
    "\n",
    "address = df_query['from_address'].tolist()"
   ]
  },
  {
   "cell_type": "code",
   "execution_count": 6,
   "metadata": {
    "execution": {
     "iopub.execute_input": "2024-12-28T21:28:13.834269Z",
     "iopub.status.busy": "2024-12-28T21:28:13.833805Z",
     "iopub.status.idle": "2024-12-28T21:28:13.846567Z",
     "shell.execute_reply": "2024-12-28T21:28:13.845397Z",
     "shell.execute_reply.started": "2024-12-28T21:28:13.834230Z"
    }
   },
   "outputs": [],
   "source": [
    "def get_api_json(addresses):\n",
    "    \"\"\"\n",
    "    Fetch the first transaction for a list of Ethereum addresses using the Etherscan API.\n",
    "\n",
    "    This function iterates over a list of Ethereum addresses, sends API requests to fetch \n",
    "    their transaction history, and saves only the first transaction (by timestamp) for each \n",
    "    address into a CSV file. If an address has no transactions, it logs this information \n",
    "    into the CSV file. If an API request fails, the error is logged in a separate log file.\n",
    "\n",
    "    Args:\n",
    "        addresses (list): A list of Ethereum addresses as strings.\n",
    "\n",
    "    Returns:\n",
    "        None: The function writes data to a CSV file and logs errors if any.\n",
    "\n",
    "    Notes:\n",
    "        - Only the first transaction (sorted by `timeStamp`) for each address is saved in \n",
    "          '20k_first_transactions.csv'.\n",
    "        - If an address has no transactions, a row with `{'address': address, 'transactions': 0}` \n",
    "          is added to the CSV.\n",
    "        - Failed responses are logged in 'api_errors.log'.\n",
    "        - Ensure that the API key (`etherscan_api_key`) is correctly configured.\n",
    "\n",
    "    Raises:\n",
    "        None: The function handles errors by logging them to 'api_errors.log'.\n",
    "    \"\"\"\n",
    "    for address in addresses:\n",
    "        response = requests.get(\n",
    "            f\"https://api.etherscan.io/api?module=account&action=txlist\"\n",
    "            f\"&address={address}&startblock=0&endblock=99999999&sort=asc\"\n",
    "            f\"&apikey={etherscan_api_key}\"\n",
    "        ) \n",
    "        if response.status_code == 200 and response.json()['status'] == '1':\n",
    "            transactions = response.json()['result']\n",
    "            if transactions:\n",
    "                first_transaction = transactions[0]\n",
    "                transactions_df = pd.DataFrame([first_transaction])\n",
    "                transactions_df.to_csv(\n",
    "                    '20k_first_transactions.csv',\n",
    "                    mode='a',\n",
    "                    header=not os.path.exists('got_from_api_first_transactions.csv'),\n",
    "                    index=False\n",
    "                )\n",
    "            else:\n",
    "                pd.DataFrame(\n",
    "                    [{'address': address, 'transactions': 0}]\n",
    "                ).to_csv(\n",
    "                    'got_from_api_first_transactions.csv',\n",
    "                    mode='a',\n",
    "                    header=False,\n",
    "                    index=False\n",
    "                )\n",
    "        else:\n",
    "            with open('api_errors.log', 'a') as log_file:\n",
    "                log_file.write(\n",
    "                    f\"Failed response for address: {address}, \"\n",
    "                    f\"status: {response.json().get('status')}\\n\"\n",
    "                )\n"
   ]
  },
  {
   "cell_type": "code",
   "execution_count": 7,
   "metadata": {
    "execution": {
     "iopub.execute_input": "2024-12-28T21:28:15.838988Z",
     "iopub.status.busy": "2024-12-28T21:28:15.838443Z",
     "iopub.status.idle": "2024-12-28T21:28:15.847739Z",
     "shell.execute_reply": "2024-12-28T21:28:15.846657Z",
     "shell.execute_reply.started": "2024-12-28T21:28:15.838949Z"
    }
   },
   "outputs": [],
   "source": [
    "def rate_limited_function(func, *args):\n",
    "    \"\"\"\n",
    "    Wrap a function to limit the number of calls to comply with API rate limits.\n",
    "\n",
    "    This decorator ensures that the decorated function respects a limit of \n",
    "    five calls per second by adding a delay when the limit is reached.\n",
    "\n",
    "    Args:\n",
    "        func (callable): The function to be rate-limited. It should accept \n",
    "        arguments passed by the caller of the wrapped function.\n",
    "\n",
    "    Returns:\n",
    "        callable: A wrapped version of the input function that enforces \n",
    "        the rate limit.\n",
    "\n",
    "    Notes:\n",
    "        - The delay is introduced using `time.sleep()` when the number of \n",
    "          calls reaches the limit within a one-second window.\n",
    "        - This implementation uses a nonlocal counter (`request_count`) \n",
    "          and a timestamp (`start_time`) to track the number of calls and \n",
    "          elapsed time.\n",
    "\n",
    "    Example:\n",
    "        ```\n",
    "        def fetch_data(param):\n",
    "            # Your function logic here\n",
    "            pass\n",
    "        \n",
    "        rate_limited_fetch_data = rate_limited_function(fetch_data)\n",
    "        rate_limited_fetch_data(arg1, arg2)\n",
    "        ```\n",
    "    \"\"\"\n",
    "    request_count = 0\n",
    "    start_time = time.time()\n",
    "\n",
    "    def wrapper(*args):\n",
    "        nonlocal request_count, start_time\n",
    "        \n",
    "        result = func(*args)\n",
    "        \n",
    "        request_count =+ 1\n",
    "        if request_count == 5:\n",
    "            elapsed_time = time.time() - start_time\n",
    "            if elapsed_time < 1:\n",
    "                time.sleep(1 - elapsed_time)\n",
    "            request_count = 0\n",
    "            start_time = time.time()\n",
    "            \n",
    "        return result \n",
    "\n",
    "    return wrapper"
   ]
  },
  {
   "cell_type": "code",
   "execution_count": 49,
   "metadata": {
    "execution": {
     "iopub.execute_input": "2024-12-25T08:53:31.763106Z",
     "iopub.status.busy": "2024-12-25T08:53:31.762625Z",
     "iopub.status.idle": "2024-12-25T10:22:31.492347Z",
     "shell.execute_reply": "2024-12-25T10:22:31.489148Z",
     "shell.execute_reply.started": "2024-12-25T08:53:31.763068Z"
    }
   },
   "outputs": [],
   "source": [
    "rate_limited_get_api_json = rate_limited_function(get_api_json)\n",
    "rate_limited_get_api_json(address)"
   ]
  },
  {
   "cell_type": "code",
   "execution_count": 35,
   "metadata": {
    "execution": {
     "iopub.execute_input": "2024-12-28T21:55:58.792577Z",
     "iopub.status.busy": "2024-12-28T21:55:58.792012Z",
     "iopub.status.idle": "2024-12-28T21:55:59.020364Z",
     "shell.execute_reply": "2024-12-28T21:55:59.019467Z",
     "shell.execute_reply.started": "2024-12-28T21:55:58.792540Z"
    }
   },
   "outputs": [],
   "source": [
    "df_api = pd.read_csv('got_from_api_first_transactions.csv') "
   ]
  },
  {
   "cell_type": "code",
   "execution_count": 36,
   "metadata": {
    "execution": {
     "iopub.execute_input": "2024-12-28T21:56:00.957590Z",
     "iopub.status.busy": "2024-12-28T21:56:00.957071Z",
     "iopub.status.idle": "2024-12-28T21:56:00.976406Z",
     "shell.execute_reply": "2024-12-28T21:56:00.975480Z",
     "shell.execute_reply.started": "2024-12-28T21:56:00.957551Z"
    }
   },
   "outputs": [
    {
     "data": {
      "text/html": [
       "<div>\n",
       "<style scoped>\n",
       "    .dataframe tbody tr th:only-of-type {\n",
       "        vertical-align: middle;\n",
       "    }\n",
       "\n",
       "    .dataframe tbody tr th {\n",
       "        vertical-align: top;\n",
       "    }\n",
       "\n",
       "    .dataframe thead th {\n",
       "        text-align: right;\n",
       "    }\n",
       "</style>\n",
       "<table border=\"1\" class=\"dataframe\">\n",
       "  <thead>\n",
       "    <tr style=\"text-align: right;\">\n",
       "      <th></th>\n",
       "      <th>blockNumber</th>\n",
       "      <th>blockHash</th>\n",
       "      <th>timeStamp</th>\n",
       "      <th>hash</th>\n",
       "      <th>nonce</th>\n",
       "      <th>transactionIndex</th>\n",
       "      <th>from</th>\n",
       "      <th>to</th>\n",
       "      <th>value</th>\n",
       "      <th>gas</th>\n",
       "      <th>gasPrice</th>\n",
       "      <th>input</th>\n",
       "      <th>methodId</th>\n",
       "      <th>functionName</th>\n",
       "      <th>contractAddress</th>\n",
       "      <th>cumulativeGasUsed</th>\n",
       "      <th>txreceipt_status</th>\n",
       "      <th>gasUsed</th>\n",
       "      <th>confirmations</th>\n",
       "      <th>isError</th>\n",
       "    </tr>\n",
       "  </thead>\n",
       "  <tbody>\n",
       "    <tr>\n",
       "      <th>0</th>\n",
       "      <td>17035845</td>\n",
       "      <td>0xf84c428f5ed89e29757242486b2957da4b6a3c3a6e3f...</td>\n",
       "      <td>1681352279</td>\n",
       "      <td>0x5deb9d2adf75d687cfc95895f5fdda0c0d6ccbb37620...</td>\n",
       "      <td>0</td>\n",
       "      <td>48</td>\n",
       "      <td>0x560d6afd57691c9d73728214d7287f7ba495bfb1</td>\n",
       "      <td>0xf48b45479ba7e121a3542626d5a5f3b07ec5b65d</td>\n",
       "      <td>500000000000000000</td>\n",
       "      <td>197376</td>\n",
       "      <td>40731401487</td>\n",
       "      <td>0xba41b0c6000000000000000000000000000000000000...</td>\n",
       "      <td>0xba41b0c6</td>\n",
       "      <td>mint(uint256 inAmount, bytes32[] merkleProof)</td>\n",
       "      <td>NaN</td>\n",
       "      <td>4277588</td>\n",
       "      <td>1.0</td>\n",
       "      <td>131584</td>\n",
       "      <td>4439701</td>\n",
       "      <td>0</td>\n",
       "    </tr>\n",
       "    <tr>\n",
       "      <th>1</th>\n",
       "      <td>18120578</td>\n",
       "      <td>1694525675</td>\n",
       "      <td>0x4a44edd542126d316e77818d57efee097dd123125f4e...</td>\n",
       "      <td>4</td>\n",
       "      <td>0xd28e9014af3ec057d1832d6ebec077adcb2341e9c0ed...</td>\n",
       "      <td>157</td>\n",
       "      <td>0x862d5e6bd23948062f6db450015a33c1f2594a6b</td>\n",
       "      <td>0x67c35bea48140d64922aac45fab68f5f7ab30263</td>\n",
       "      <td>18140823025860190</td>\n",
       "      <td>21000</td>\n",
       "      <td>23034940343</td>\n",
       "      <td>0</td>\n",
       "      <td>1</td>\n",
       "      <td>0x</td>\n",
       "      <td>NaN</td>\n",
       "      <td>13638466</td>\n",
       "      <td>21000.0</td>\n",
       "      <td>3354969</td>\n",
       "      <td>0x</td>\n",
       "      <td>NaN</td>\n",
       "    </tr>\n",
       "    <tr>\n",
       "      <th>2</th>\n",
       "      <td>17693093</td>\n",
       "      <td>0xb812f2de16131b2b7beb907f2f3b7a990d5b889bf9ad...</td>\n",
       "      <td>1689354659</td>\n",
       "      <td>0x5bba8aeb4621b62ebfbb2cc986a40fe7b540d8240668...</td>\n",
       "      <td>1188513</td>\n",
       "      <td>32</td>\n",
       "      <td>0xa7efae728d2936e78bda97dc267687568dd593f3</td>\n",
       "      <td>0xb05490b8e0a65f14ef11245094fa847217999df9</td>\n",
       "      <td>33714000000000000</td>\n",
       "      <td>210000</td>\n",
       "      <td>49339994961</td>\n",
       "      <td>0x</td>\n",
       "      <td>0x</td>\n",
       "      <td>NaN</td>\n",
       "      <td>NaN</td>\n",
       "      <td>4077094</td>\n",
       "      <td>1.0</td>\n",
       "      <td>21000</td>\n",
       "      <td>3782455</td>\n",
       "      <td>0</td>\n",
       "    </tr>\n",
       "    <tr>\n",
       "      <th>3</th>\n",
       "      <td>17931606</td>\n",
       "      <td>0x2c6e5b3bbb544cdb9c5e3ee292ecffabd2911c918b07...</td>\n",
       "      <td>1692239831</td>\n",
       "      <td>0xa7650fb970a3c640f95011922486ee8ac8ce86ad534e...</td>\n",
       "      <td>64</td>\n",
       "      <td>120</td>\n",
       "      <td>0xc661a914110a7b9c745e0da352bf79627f88efbe</td>\n",
       "      <td>0x8b613b54725d4ac4dd29876d7d1e7ac19079aa60</td>\n",
       "      <td>1500000000000000</td>\n",
       "      <td>21000</td>\n",
       "      <td>22378654725</td>\n",
       "      <td>0x</td>\n",
       "      <td>0x</td>\n",
       "      <td>NaN</td>\n",
       "      <td>NaN</td>\n",
       "      <td>12520353</td>\n",
       "      <td>1.0</td>\n",
       "      <td>21000</td>\n",
       "      <td>3543942</td>\n",
       "      <td>0</td>\n",
       "    </tr>\n",
       "    <tr>\n",
       "      <th>4</th>\n",
       "      <td>16633362</td>\n",
       "      <td>0x8eed2605e1168c11224468667ed1cb7378a241992cc1...</td>\n",
       "      <td>1676454659</td>\n",
       "      <td>0x4943ce8316acc275cd1105a86dcf90dc581b810a28c6...</td>\n",
       "      <td>190852</td>\n",
       "      <td>21</td>\n",
       "      <td>0x8d56f551b44a6da6072a9608d63d664ce67681a5</td>\n",
       "      <td>0x740325f3ad2f2eb22ac46f70b5614ada96a0d574</td>\n",
       "      <td>8666620000000000</td>\n",
       "      <td>50000</td>\n",
       "      <td>27468989502</td>\n",
       "      <td>0x</td>\n",
       "      <td>0x</td>\n",
       "      <td>NaN</td>\n",
       "      <td>NaN</td>\n",
       "      <td>1064344</td>\n",
       "      <td>1.0</td>\n",
       "      <td>21000</td>\n",
       "      <td>4842186</td>\n",
       "      <td>0</td>\n",
       "    </tr>\n",
       "  </tbody>\n",
       "</table>\n",
       "</div>"
      ],
      "text/plain": [
       "   blockNumber                                          blockHash  \\\n",
       "0     17035845  0xf84c428f5ed89e29757242486b2957da4b6a3c3a6e3f...   \n",
       "1     18120578                                         1694525675   \n",
       "2     17693093  0xb812f2de16131b2b7beb907f2f3b7a990d5b889bf9ad...   \n",
       "3     17931606  0x2c6e5b3bbb544cdb9c5e3ee292ecffabd2911c918b07...   \n",
       "4     16633362  0x8eed2605e1168c11224468667ed1cb7378a241992cc1...   \n",
       "\n",
       "                                           timeStamp  \\\n",
       "0                                         1681352279   \n",
       "1  0x4a44edd542126d316e77818d57efee097dd123125f4e...   \n",
       "2                                         1689354659   \n",
       "3                                         1692239831   \n",
       "4                                         1676454659   \n",
       "\n",
       "                                                hash  \\\n",
       "0  0x5deb9d2adf75d687cfc95895f5fdda0c0d6ccbb37620...   \n",
       "1                                                  4   \n",
       "2  0x5bba8aeb4621b62ebfbb2cc986a40fe7b540d8240668...   \n",
       "3  0xa7650fb970a3c640f95011922486ee8ac8ce86ad534e...   \n",
       "4  0x4943ce8316acc275cd1105a86dcf90dc581b810a28c6...   \n",
       "\n",
       "                                               nonce  transactionIndex  \\\n",
       "0                                                  0                48   \n",
       "1  0xd28e9014af3ec057d1832d6ebec077adcb2341e9c0ed...               157   \n",
       "2                                            1188513                32   \n",
       "3                                                 64               120   \n",
       "4                                             190852                21   \n",
       "\n",
       "                                         from  \\\n",
       "0  0x560d6afd57691c9d73728214d7287f7ba495bfb1   \n",
       "1  0x862d5e6bd23948062f6db450015a33c1f2594a6b   \n",
       "2  0xa7efae728d2936e78bda97dc267687568dd593f3   \n",
       "3  0xc661a914110a7b9c745e0da352bf79627f88efbe   \n",
       "4  0x8d56f551b44a6da6072a9608d63d664ce67681a5   \n",
       "\n",
       "                                           to               value     gas  \\\n",
       "0  0xf48b45479ba7e121a3542626d5a5f3b07ec5b65d  500000000000000000  197376   \n",
       "1  0x67c35bea48140d64922aac45fab68f5f7ab30263   18140823025860190   21000   \n",
       "2  0xb05490b8e0a65f14ef11245094fa847217999df9   33714000000000000  210000   \n",
       "3  0x8b613b54725d4ac4dd29876d7d1e7ac19079aa60    1500000000000000   21000   \n",
       "4  0x740325f3ad2f2eb22ac46f70b5614ada96a0d574    8666620000000000   50000   \n",
       "\n",
       "      gasPrice                                              input    methodId  \\\n",
       "0  40731401487  0xba41b0c6000000000000000000000000000000000000...  0xba41b0c6   \n",
       "1  23034940343                                                  0           1   \n",
       "2  49339994961                                                 0x          0x   \n",
       "3  22378654725                                                 0x          0x   \n",
       "4  27468989502                                                 0x          0x   \n",
       "\n",
       "                                    functionName contractAddress  \\\n",
       "0  mint(uint256 inAmount, bytes32[] merkleProof)             NaN   \n",
       "1                                             0x             NaN   \n",
       "2                                            NaN             NaN   \n",
       "3                                            NaN             NaN   \n",
       "4                                            NaN             NaN   \n",
       "\n",
       "   cumulativeGasUsed  txreceipt_status  gasUsed confirmations isError  \n",
       "0            4277588               1.0   131584       4439701       0  \n",
       "1           13638466           21000.0  3354969            0x     NaN  \n",
       "2            4077094               1.0    21000       3782455       0  \n",
       "3           12520353               1.0    21000       3543942       0  \n",
       "4            1064344               1.0    21000       4842186       0  "
      ]
     },
     "execution_count": 36,
     "metadata": {},
     "output_type": "execute_result"
    }
   ],
   "source": [
    "df_api.head(5)"
   ]
  },
  {
   "cell_type": "markdown",
   "metadata": {},
   "source": [
    "\n",
    "\n",
    "It's interesting to understand the difference between the tables. The 'address' list was selected from BigQuery, and the table 'new_crypto_ethereum_sample20k_new_wallets_2023' contains the first outgoing transactions of new wallets (address), meaning the from_address.\n",
    "\n",
    "Meanwhile, the table obtained through API filtering for 'address' includes the first transactions where the 'address' is in the 'to' field, meaning these are their incoming transactions.\n",
    "\n"
   ]
  },
  {
   "cell_type": "markdown",
   "metadata": {},
   "source": [
    "**Because the API returned JSON with varying key sequences, some data was unpacked incorrectly into the table. Let's fix this:**"
   ]
  },
  {
   "cell_type": "code",
   "execution_count": 37,
   "metadata": {
    "execution": {
     "iopub.execute_input": "2024-12-28T21:56:09.583162Z",
     "iopub.status.busy": "2024-12-28T21:56:09.582610Z",
     "iopub.status.idle": "2024-12-28T21:56:09.593514Z",
     "shell.execute_reply": "2024-12-28T21:56:09.592458Z",
     "shell.execute_reply.started": "2024-12-28T21:56:09.583124Z"
    }
   },
   "outputs": [],
   "source": [
    "def fix_row(row):\n",
    "    \"\"\"\n",
    "    Fixes row values based on the length of the 'timeStamp' column.\n",
    "    If 'timeStamp' length is greater than 10, reassign the values as per the given logic.\n",
    "    \"\"\"\n",
    "    if len(str(row['timeStamp'])) > 10:\n",
    "        temp_blockHash = row['blockHash']\n",
    "        temp_nonce = row['nonce']\n",
    "        temp_hash = row['hash']\n",
    "        temp_timestamp = row['timeStamp']\n",
    "\n",
    "        row['blockHash'] = temp_nonce\n",
    "        row['timeStamp'] = temp_blockHash\n",
    "        row['hash'] = temp_timestamp\n",
    "        row['nonce'] = temp_hash\n",
    "    return row"
   ]
  },
  {
   "cell_type": "code",
   "execution_count": 38,
   "metadata": {
    "execution": {
     "iopub.execute_input": "2024-12-28T21:56:11.004617Z",
     "iopub.status.busy": "2024-12-28T21:56:11.003994Z",
     "iopub.status.idle": "2024-12-28T21:56:12.563331Z",
     "shell.execute_reply": "2024-12-28T21:56:12.562604Z",
     "shell.execute_reply.started": "2024-12-28T21:56:11.004580Z"
    }
   },
   "outputs": [],
   "source": [
    "df_api = df_api.apply(fix_row, axis=1)"
   ]
  },
  {
   "cell_type": "code",
   "execution_count": 39,
   "metadata": {
    "execution": {
     "iopub.execute_input": "2024-12-28T21:56:13.478437Z",
     "iopub.status.busy": "2024-12-28T21:56:13.477998Z",
     "iopub.status.idle": "2024-12-28T21:56:13.495631Z",
     "shell.execute_reply": "2024-12-28T21:56:13.495009Z",
     "shell.execute_reply.started": "2024-12-28T21:56:13.478406Z"
    }
   },
   "outputs": [
    {
     "data": {
      "text/html": [
       "<div>\n",
       "<style scoped>\n",
       "    .dataframe tbody tr th:only-of-type {\n",
       "        vertical-align: middle;\n",
       "    }\n",
       "\n",
       "    .dataframe tbody tr th {\n",
       "        vertical-align: top;\n",
       "    }\n",
       "\n",
       "    .dataframe thead th {\n",
       "        text-align: right;\n",
       "    }\n",
       "</style>\n",
       "<table border=\"1\" class=\"dataframe\">\n",
       "  <thead>\n",
       "    <tr style=\"text-align: right;\">\n",
       "      <th></th>\n",
       "      <th>blockNumber</th>\n",
       "      <th>blockHash</th>\n",
       "      <th>timeStamp</th>\n",
       "      <th>hash</th>\n",
       "      <th>nonce</th>\n",
       "      <th>transactionIndex</th>\n",
       "      <th>from</th>\n",
       "      <th>to</th>\n",
       "      <th>value</th>\n",
       "      <th>gas</th>\n",
       "      <th>gasPrice</th>\n",
       "      <th>input</th>\n",
       "      <th>methodId</th>\n",
       "      <th>functionName</th>\n",
       "      <th>contractAddress</th>\n",
       "      <th>cumulativeGasUsed</th>\n",
       "      <th>txreceipt_status</th>\n",
       "      <th>gasUsed</th>\n",
       "      <th>confirmations</th>\n",
       "      <th>isError</th>\n",
       "    </tr>\n",
       "  </thead>\n",
       "  <tbody>\n",
       "    <tr>\n",
       "      <th>0</th>\n",
       "      <td>17035845</td>\n",
       "      <td>0xf84c428f5ed89e29757242486b2957da4b6a3c3a6e3f...</td>\n",
       "      <td>1681352279</td>\n",
       "      <td>0x5deb9d2adf75d687cfc95895f5fdda0c0d6ccbb37620...</td>\n",
       "      <td>0</td>\n",
       "      <td>48</td>\n",
       "      <td>0x560d6afd57691c9d73728214d7287f7ba495bfb1</td>\n",
       "      <td>0xf48b45479ba7e121a3542626d5a5f3b07ec5b65d</td>\n",
       "      <td>500000000000000000</td>\n",
       "      <td>197376</td>\n",
       "      <td>40731401487</td>\n",
       "      <td>0xba41b0c6000000000000000000000000000000000000...</td>\n",
       "      <td>0xba41b0c6</td>\n",
       "      <td>mint(uint256 inAmount, bytes32[] merkleProof)</td>\n",
       "      <td>NaN</td>\n",
       "      <td>4277588</td>\n",
       "      <td>1.0</td>\n",
       "      <td>131584</td>\n",
       "      <td>4439701</td>\n",
       "      <td>0</td>\n",
       "    </tr>\n",
       "    <tr>\n",
       "      <th>1</th>\n",
       "      <td>18120578</td>\n",
       "      <td>0xd28e9014af3ec057d1832d6ebec077adcb2341e9c0ed...</td>\n",
       "      <td>1694525675</td>\n",
       "      <td>0x4a44edd542126d316e77818d57efee097dd123125f4e...</td>\n",
       "      <td>4</td>\n",
       "      <td>157</td>\n",
       "      <td>0x862d5e6bd23948062f6db450015a33c1f2594a6b</td>\n",
       "      <td>0x67c35bea48140d64922aac45fab68f5f7ab30263</td>\n",
       "      <td>18140823025860190</td>\n",
       "      <td>21000</td>\n",
       "      <td>23034940343</td>\n",
       "      <td>0</td>\n",
       "      <td>1</td>\n",
       "      <td>0x</td>\n",
       "      <td>NaN</td>\n",
       "      <td>13638466</td>\n",
       "      <td>21000.0</td>\n",
       "      <td>3354969</td>\n",
       "      <td>0x</td>\n",
       "      <td>NaN</td>\n",
       "    </tr>\n",
       "    <tr>\n",
       "      <th>2</th>\n",
       "      <td>17693093</td>\n",
       "      <td>0xb812f2de16131b2b7beb907f2f3b7a990d5b889bf9ad...</td>\n",
       "      <td>1689354659</td>\n",
       "      <td>0x5bba8aeb4621b62ebfbb2cc986a40fe7b540d8240668...</td>\n",
       "      <td>1188513</td>\n",
       "      <td>32</td>\n",
       "      <td>0xa7efae728d2936e78bda97dc267687568dd593f3</td>\n",
       "      <td>0xb05490b8e0a65f14ef11245094fa847217999df9</td>\n",
       "      <td>33714000000000000</td>\n",
       "      <td>210000</td>\n",
       "      <td>49339994961</td>\n",
       "      <td>0x</td>\n",
       "      <td>0x</td>\n",
       "      <td>NaN</td>\n",
       "      <td>NaN</td>\n",
       "      <td>4077094</td>\n",
       "      <td>1.0</td>\n",
       "      <td>21000</td>\n",
       "      <td>3782455</td>\n",
       "      <td>0</td>\n",
       "    </tr>\n",
       "    <tr>\n",
       "      <th>3</th>\n",
       "      <td>17931606</td>\n",
       "      <td>0x2c6e5b3bbb544cdb9c5e3ee292ecffabd2911c918b07...</td>\n",
       "      <td>1692239831</td>\n",
       "      <td>0xa7650fb970a3c640f95011922486ee8ac8ce86ad534e...</td>\n",
       "      <td>64</td>\n",
       "      <td>120</td>\n",
       "      <td>0xc661a914110a7b9c745e0da352bf79627f88efbe</td>\n",
       "      <td>0x8b613b54725d4ac4dd29876d7d1e7ac19079aa60</td>\n",
       "      <td>1500000000000000</td>\n",
       "      <td>21000</td>\n",
       "      <td>22378654725</td>\n",
       "      <td>0x</td>\n",
       "      <td>0x</td>\n",
       "      <td>NaN</td>\n",
       "      <td>NaN</td>\n",
       "      <td>12520353</td>\n",
       "      <td>1.0</td>\n",
       "      <td>21000</td>\n",
       "      <td>3543942</td>\n",
       "      <td>0</td>\n",
       "    </tr>\n",
       "    <tr>\n",
       "      <th>4</th>\n",
       "      <td>16633362</td>\n",
       "      <td>0x8eed2605e1168c11224468667ed1cb7378a241992cc1...</td>\n",
       "      <td>1676454659</td>\n",
       "      <td>0x4943ce8316acc275cd1105a86dcf90dc581b810a28c6...</td>\n",
       "      <td>190852</td>\n",
       "      <td>21</td>\n",
       "      <td>0x8d56f551b44a6da6072a9608d63d664ce67681a5</td>\n",
       "      <td>0x740325f3ad2f2eb22ac46f70b5614ada96a0d574</td>\n",
       "      <td>8666620000000000</td>\n",
       "      <td>50000</td>\n",
       "      <td>27468989502</td>\n",
       "      <td>0x</td>\n",
       "      <td>0x</td>\n",
       "      <td>NaN</td>\n",
       "      <td>NaN</td>\n",
       "      <td>1064344</td>\n",
       "      <td>1.0</td>\n",
       "      <td>21000</td>\n",
       "      <td>4842186</td>\n",
       "      <td>0</td>\n",
       "    </tr>\n",
       "  </tbody>\n",
       "</table>\n",
       "</div>"
      ],
      "text/plain": [
       "   blockNumber                                          blockHash   timeStamp  \\\n",
       "0     17035845  0xf84c428f5ed89e29757242486b2957da4b6a3c3a6e3f...  1681352279   \n",
       "1     18120578  0xd28e9014af3ec057d1832d6ebec077adcb2341e9c0ed...  1694525675   \n",
       "2     17693093  0xb812f2de16131b2b7beb907f2f3b7a990d5b889bf9ad...  1689354659   \n",
       "3     17931606  0x2c6e5b3bbb544cdb9c5e3ee292ecffabd2911c918b07...  1692239831   \n",
       "4     16633362  0x8eed2605e1168c11224468667ed1cb7378a241992cc1...  1676454659   \n",
       "\n",
       "                                                hash    nonce  \\\n",
       "0  0x5deb9d2adf75d687cfc95895f5fdda0c0d6ccbb37620...        0   \n",
       "1  0x4a44edd542126d316e77818d57efee097dd123125f4e...        4   \n",
       "2  0x5bba8aeb4621b62ebfbb2cc986a40fe7b540d8240668...  1188513   \n",
       "3  0xa7650fb970a3c640f95011922486ee8ac8ce86ad534e...       64   \n",
       "4  0x4943ce8316acc275cd1105a86dcf90dc581b810a28c6...   190852   \n",
       "\n",
       "   transactionIndex                                        from  \\\n",
       "0                48  0x560d6afd57691c9d73728214d7287f7ba495bfb1   \n",
       "1               157  0x862d5e6bd23948062f6db450015a33c1f2594a6b   \n",
       "2                32  0xa7efae728d2936e78bda97dc267687568dd593f3   \n",
       "3               120  0xc661a914110a7b9c745e0da352bf79627f88efbe   \n",
       "4                21  0x8d56f551b44a6da6072a9608d63d664ce67681a5   \n",
       "\n",
       "                                           to               value     gas  \\\n",
       "0  0xf48b45479ba7e121a3542626d5a5f3b07ec5b65d  500000000000000000  197376   \n",
       "1  0x67c35bea48140d64922aac45fab68f5f7ab30263   18140823025860190   21000   \n",
       "2  0xb05490b8e0a65f14ef11245094fa847217999df9   33714000000000000  210000   \n",
       "3  0x8b613b54725d4ac4dd29876d7d1e7ac19079aa60    1500000000000000   21000   \n",
       "4  0x740325f3ad2f2eb22ac46f70b5614ada96a0d574    8666620000000000   50000   \n",
       "\n",
       "      gasPrice                                              input    methodId  \\\n",
       "0  40731401487  0xba41b0c6000000000000000000000000000000000000...  0xba41b0c6   \n",
       "1  23034940343                                                  0           1   \n",
       "2  49339994961                                                 0x          0x   \n",
       "3  22378654725                                                 0x          0x   \n",
       "4  27468989502                                                 0x          0x   \n",
       "\n",
       "                                    functionName contractAddress  \\\n",
       "0  mint(uint256 inAmount, bytes32[] merkleProof)             NaN   \n",
       "1                                             0x             NaN   \n",
       "2                                            NaN             NaN   \n",
       "3                                            NaN             NaN   \n",
       "4                                            NaN             NaN   \n",
       "\n",
       "   cumulativeGasUsed  txreceipt_status  gasUsed confirmations isError  \n",
       "0            4277588               1.0   131584       4439701       0  \n",
       "1           13638466           21000.0  3354969            0x     NaN  \n",
       "2            4077094               1.0    21000       3782455       0  \n",
       "3           12520353               1.0    21000       3543942       0  \n",
       "4            1064344               1.0    21000       4842186       0  "
      ]
     },
     "execution_count": 39,
     "metadata": {},
     "output_type": "execute_result"
    }
   ],
   "source": [
    "df_api.head(5)"
   ]
  },
  {
   "cell_type": "markdown",
   "metadata": {},
   "source": [
    "Сhecking if everything has been fixed:"
   ]
  },
  {
   "cell_type": "code",
   "execution_count": 40,
   "metadata": {
    "execution": {
     "iopub.execute_input": "2024-12-28T21:56:16.670053Z",
     "iopub.status.busy": "2024-12-28T21:56:16.668987Z",
     "iopub.status.idle": "2024-12-28T21:56:16.686557Z",
     "shell.execute_reply": "2024-12-28T21:56:16.685673Z",
     "shell.execute_reply.started": "2024-12-28T21:56:16.670011Z"
    }
   },
   "outputs": [
    {
     "name": "stdout",
     "output_type": "stream",
     "text": [
      "Empty DataFrame\n",
      "Columns: [blockNumber, blockHash, timeStamp, hash, nonce, transactionIndex, from, to, value, gas, gasPrice, input, methodId, functionName, contractAddress, cumulativeGasUsed, txreceipt_status, gasUsed, confirmations, isError]\n",
      "Index: []\n"
     ]
    }
   ],
   "source": [
    "print(df_api[df_api['timeStamp'].apply(lambda x: len(str(x)) > 10)])"
   ]
  },
  {
   "cell_type": "markdown",
   "metadata": {},
   "source": [
    "**Converting the timestamp column into a readable format:**"
   ]
  },
  {
   "cell_type": "code",
   "execution_count": 41,
   "metadata": {
    "execution": {
     "iopub.execute_input": "2024-12-28T21:56:20.549611Z",
     "iopub.status.busy": "2024-12-28T21:56:20.549025Z",
     "iopub.status.idle": "2024-12-28T21:56:20.594173Z",
     "shell.execute_reply": "2024-12-28T21:56:20.593458Z",
     "shell.execute_reply.started": "2024-12-28T21:56:20.549572Z"
    }
   },
   "outputs": [],
   "source": [
    "df_api['timeStamp'] = pd.to_numeric(df_api['timeStamp'], errors='coerce')\n",
    "df_api['timeStamp'] = df_api['timeStamp'].apply(lambda x: x / 1e9 if x > 1e10 else x)\n",
    "df_api['timeStamp'] = pd.to_datetime(df_api['timeStamp'], unit='s', errors='coerce')"
   ]
  },
  {
   "cell_type": "code",
   "execution_count": 42,
   "metadata": {
    "execution": {
     "iopub.execute_input": "2024-12-28T21:56:22.074762Z",
     "iopub.status.busy": "2024-12-28T21:56:22.074269Z",
     "iopub.status.idle": "2024-12-28T21:56:22.092299Z",
     "shell.execute_reply": "2024-12-28T21:56:22.091401Z",
     "shell.execute_reply.started": "2024-12-28T21:56:22.074725Z"
    }
   },
   "outputs": [
    {
     "data": {
      "text/html": [
       "<div>\n",
       "<style scoped>\n",
       "    .dataframe tbody tr th:only-of-type {\n",
       "        vertical-align: middle;\n",
       "    }\n",
       "\n",
       "    .dataframe tbody tr th {\n",
       "        vertical-align: top;\n",
       "    }\n",
       "\n",
       "    .dataframe thead th {\n",
       "        text-align: right;\n",
       "    }\n",
       "</style>\n",
       "<table border=\"1\" class=\"dataframe\">\n",
       "  <thead>\n",
       "    <tr style=\"text-align: right;\">\n",
       "      <th></th>\n",
       "      <th>blockNumber</th>\n",
       "      <th>blockHash</th>\n",
       "      <th>timeStamp</th>\n",
       "      <th>hash</th>\n",
       "      <th>nonce</th>\n",
       "      <th>transactionIndex</th>\n",
       "      <th>from</th>\n",
       "      <th>to</th>\n",
       "      <th>value</th>\n",
       "      <th>gas</th>\n",
       "      <th>gasPrice</th>\n",
       "      <th>input</th>\n",
       "      <th>methodId</th>\n",
       "      <th>functionName</th>\n",
       "      <th>contractAddress</th>\n",
       "      <th>cumulativeGasUsed</th>\n",
       "      <th>txreceipt_status</th>\n",
       "      <th>gasUsed</th>\n",
       "      <th>confirmations</th>\n",
       "      <th>isError</th>\n",
       "    </tr>\n",
       "  </thead>\n",
       "  <tbody>\n",
       "    <tr>\n",
       "      <th>0</th>\n",
       "      <td>17035845</td>\n",
       "      <td>0xf84c428f5ed89e29757242486b2957da4b6a3c3a6e3f...</td>\n",
       "      <td>2023-04-13 02:17:59</td>\n",
       "      <td>0x5deb9d2adf75d687cfc95895f5fdda0c0d6ccbb37620...</td>\n",
       "      <td>0</td>\n",
       "      <td>48</td>\n",
       "      <td>0x560d6afd57691c9d73728214d7287f7ba495bfb1</td>\n",
       "      <td>0xf48b45479ba7e121a3542626d5a5f3b07ec5b65d</td>\n",
       "      <td>500000000000000000</td>\n",
       "      <td>197376</td>\n",
       "      <td>40731401487</td>\n",
       "      <td>0xba41b0c6000000000000000000000000000000000000...</td>\n",
       "      <td>0xba41b0c6</td>\n",
       "      <td>mint(uint256 inAmount, bytes32[] merkleProof)</td>\n",
       "      <td>NaN</td>\n",
       "      <td>4277588</td>\n",
       "      <td>1.0</td>\n",
       "      <td>131584</td>\n",
       "      <td>4439701</td>\n",
       "      <td>0</td>\n",
       "    </tr>\n",
       "    <tr>\n",
       "      <th>1</th>\n",
       "      <td>18120578</td>\n",
       "      <td>0xd28e9014af3ec057d1832d6ebec077adcb2341e9c0ed...</td>\n",
       "      <td>2023-09-12 13:34:35</td>\n",
       "      <td>0x4a44edd542126d316e77818d57efee097dd123125f4e...</td>\n",
       "      <td>4</td>\n",
       "      <td>157</td>\n",
       "      <td>0x862d5e6bd23948062f6db450015a33c1f2594a6b</td>\n",
       "      <td>0x67c35bea48140d64922aac45fab68f5f7ab30263</td>\n",
       "      <td>18140823025860190</td>\n",
       "      <td>21000</td>\n",
       "      <td>23034940343</td>\n",
       "      <td>0</td>\n",
       "      <td>1</td>\n",
       "      <td>0x</td>\n",
       "      <td>NaN</td>\n",
       "      <td>13638466</td>\n",
       "      <td>21000.0</td>\n",
       "      <td>3354969</td>\n",
       "      <td>0x</td>\n",
       "      <td>NaN</td>\n",
       "    </tr>\n",
       "    <tr>\n",
       "      <th>2</th>\n",
       "      <td>17693093</td>\n",
       "      <td>0xb812f2de16131b2b7beb907f2f3b7a990d5b889bf9ad...</td>\n",
       "      <td>2023-07-14 17:10:59</td>\n",
       "      <td>0x5bba8aeb4621b62ebfbb2cc986a40fe7b540d8240668...</td>\n",
       "      <td>1188513</td>\n",
       "      <td>32</td>\n",
       "      <td>0xa7efae728d2936e78bda97dc267687568dd593f3</td>\n",
       "      <td>0xb05490b8e0a65f14ef11245094fa847217999df9</td>\n",
       "      <td>33714000000000000</td>\n",
       "      <td>210000</td>\n",
       "      <td>49339994961</td>\n",
       "      <td>0x</td>\n",
       "      <td>0x</td>\n",
       "      <td>NaN</td>\n",
       "      <td>NaN</td>\n",
       "      <td>4077094</td>\n",
       "      <td>1.0</td>\n",
       "      <td>21000</td>\n",
       "      <td>3782455</td>\n",
       "      <td>0</td>\n",
       "    </tr>\n",
       "    <tr>\n",
       "      <th>3</th>\n",
       "      <td>17931606</td>\n",
       "      <td>0x2c6e5b3bbb544cdb9c5e3ee292ecffabd2911c918b07...</td>\n",
       "      <td>2023-08-17 02:37:11</td>\n",
       "      <td>0xa7650fb970a3c640f95011922486ee8ac8ce86ad534e...</td>\n",
       "      <td>64</td>\n",
       "      <td>120</td>\n",
       "      <td>0xc661a914110a7b9c745e0da352bf79627f88efbe</td>\n",
       "      <td>0x8b613b54725d4ac4dd29876d7d1e7ac19079aa60</td>\n",
       "      <td>1500000000000000</td>\n",
       "      <td>21000</td>\n",
       "      <td>22378654725</td>\n",
       "      <td>0x</td>\n",
       "      <td>0x</td>\n",
       "      <td>NaN</td>\n",
       "      <td>NaN</td>\n",
       "      <td>12520353</td>\n",
       "      <td>1.0</td>\n",
       "      <td>21000</td>\n",
       "      <td>3543942</td>\n",
       "      <td>0</td>\n",
       "    </tr>\n",
       "    <tr>\n",
       "      <th>4</th>\n",
       "      <td>16633362</td>\n",
       "      <td>0x8eed2605e1168c11224468667ed1cb7378a241992cc1...</td>\n",
       "      <td>2023-02-15 09:50:59</td>\n",
       "      <td>0x4943ce8316acc275cd1105a86dcf90dc581b810a28c6...</td>\n",
       "      <td>190852</td>\n",
       "      <td>21</td>\n",
       "      <td>0x8d56f551b44a6da6072a9608d63d664ce67681a5</td>\n",
       "      <td>0x740325f3ad2f2eb22ac46f70b5614ada96a0d574</td>\n",
       "      <td>8666620000000000</td>\n",
       "      <td>50000</td>\n",
       "      <td>27468989502</td>\n",
       "      <td>0x</td>\n",
       "      <td>0x</td>\n",
       "      <td>NaN</td>\n",
       "      <td>NaN</td>\n",
       "      <td>1064344</td>\n",
       "      <td>1.0</td>\n",
       "      <td>21000</td>\n",
       "      <td>4842186</td>\n",
       "      <td>0</td>\n",
       "    </tr>\n",
       "  </tbody>\n",
       "</table>\n",
       "</div>"
      ],
      "text/plain": [
       "   blockNumber                                          blockHash  \\\n",
       "0     17035845  0xf84c428f5ed89e29757242486b2957da4b6a3c3a6e3f...   \n",
       "1     18120578  0xd28e9014af3ec057d1832d6ebec077adcb2341e9c0ed...   \n",
       "2     17693093  0xb812f2de16131b2b7beb907f2f3b7a990d5b889bf9ad...   \n",
       "3     17931606  0x2c6e5b3bbb544cdb9c5e3ee292ecffabd2911c918b07...   \n",
       "4     16633362  0x8eed2605e1168c11224468667ed1cb7378a241992cc1...   \n",
       "\n",
       "            timeStamp                                               hash  \\\n",
       "0 2023-04-13 02:17:59  0x5deb9d2adf75d687cfc95895f5fdda0c0d6ccbb37620...   \n",
       "1 2023-09-12 13:34:35  0x4a44edd542126d316e77818d57efee097dd123125f4e...   \n",
       "2 2023-07-14 17:10:59  0x5bba8aeb4621b62ebfbb2cc986a40fe7b540d8240668...   \n",
       "3 2023-08-17 02:37:11  0xa7650fb970a3c640f95011922486ee8ac8ce86ad534e...   \n",
       "4 2023-02-15 09:50:59  0x4943ce8316acc275cd1105a86dcf90dc581b810a28c6...   \n",
       "\n",
       "     nonce  transactionIndex                                        from  \\\n",
       "0        0                48  0x560d6afd57691c9d73728214d7287f7ba495bfb1   \n",
       "1        4               157  0x862d5e6bd23948062f6db450015a33c1f2594a6b   \n",
       "2  1188513                32  0xa7efae728d2936e78bda97dc267687568dd593f3   \n",
       "3       64               120  0xc661a914110a7b9c745e0da352bf79627f88efbe   \n",
       "4   190852                21  0x8d56f551b44a6da6072a9608d63d664ce67681a5   \n",
       "\n",
       "                                           to               value     gas  \\\n",
       "0  0xf48b45479ba7e121a3542626d5a5f3b07ec5b65d  500000000000000000  197376   \n",
       "1  0x67c35bea48140d64922aac45fab68f5f7ab30263   18140823025860190   21000   \n",
       "2  0xb05490b8e0a65f14ef11245094fa847217999df9   33714000000000000  210000   \n",
       "3  0x8b613b54725d4ac4dd29876d7d1e7ac19079aa60    1500000000000000   21000   \n",
       "4  0x740325f3ad2f2eb22ac46f70b5614ada96a0d574    8666620000000000   50000   \n",
       "\n",
       "      gasPrice                                              input    methodId  \\\n",
       "0  40731401487  0xba41b0c6000000000000000000000000000000000000...  0xba41b0c6   \n",
       "1  23034940343                                                  0           1   \n",
       "2  49339994961                                                 0x          0x   \n",
       "3  22378654725                                                 0x          0x   \n",
       "4  27468989502                                                 0x          0x   \n",
       "\n",
       "                                    functionName contractAddress  \\\n",
       "0  mint(uint256 inAmount, bytes32[] merkleProof)             NaN   \n",
       "1                                             0x             NaN   \n",
       "2                                            NaN             NaN   \n",
       "3                                            NaN             NaN   \n",
       "4                                            NaN             NaN   \n",
       "\n",
       "   cumulativeGasUsed  txreceipt_status  gasUsed confirmations isError  \n",
       "0            4277588               1.0   131584       4439701       0  \n",
       "1           13638466           21000.0  3354969            0x     NaN  \n",
       "2            4077094               1.0    21000       3782455       0  \n",
       "3           12520353               1.0    21000       3543942       0  \n",
       "4            1064344               1.0    21000       4842186       0  "
      ]
     },
     "execution_count": 42,
     "metadata": {},
     "output_type": "execute_result"
    }
   ],
   "source": [
    "df_api.head(5)"
   ]
  },
  {
   "cell_type": "markdown",
   "metadata": {},
   "source": [
    "**3. Analysis of the User's First Transactions Direction\"**"
   ]
  },
  {
   "cell_type": "code",
   "execution_count": 43,
   "metadata": {
    "execution": {
     "iopub.execute_input": "2024-12-28T21:56:25.054566Z",
     "iopub.status.busy": "2024-12-28T21:56:25.054081Z",
     "iopub.status.idle": "2024-12-28T21:56:25.082579Z",
     "shell.execute_reply": "2024-12-28T21:56:25.080686Z",
     "shell.execute_reply.started": "2024-12-28T21:56:25.054528Z"
    }
   },
   "outputs": [],
   "source": [
    "df_api[\"trans_direction\"] = \"Unknown\"\n",
    "df_api.loc[df_api[\"from\"].isin(address), \"trans_direction\"] = \"Outgoing\"\n",
    "df_api.loc[df_api[\"to\"].isin(address), \"trans_direction\"] = \"Incoming\""
   ]
  },
  {
   "cell_type": "code",
   "execution_count": 44,
   "metadata": {
    "execution": {
     "iopub.execute_input": "2024-12-28T21:56:27.416380Z",
     "iopub.status.busy": "2024-12-28T21:56:27.415893Z",
     "iopub.status.idle": "2024-12-28T21:56:27.530473Z",
     "shell.execute_reply": "2024-12-28T21:56:27.529944Z",
     "shell.execute_reply.started": "2024-12-28T21:56:27.416342Z"
    }
   },
   "outputs": [
    {
     "data": {
      "image/png": "[encoded data removed]",
      "text/plain": [
       "<Figure size 600x600 with 1 Axes>"
      ]
     },
     "metadata": {},
     "output_type": "display_data"
    }
   ],
   "source": [
    "transaction_counts = df_api[\"trans_direction\"].value_counts(normalize=True) * 100\n",
    "\n",
    "plt.figure(figsize=(6, 6))\n",
    "transaction_counts.plot(kind=\"pie\", autopct=\"%.2f%%\", startangle=90, labels=transaction_counts.index)\n",
    "plt.title(\"Transaction Distribution by Transaction Direction\")\n",
    "plt.ylabel(\"\")\n",
    "plt.show()"
   ]
  },
  {
   "cell_type": "markdown",
   "metadata": {},
   "source": [
    "***Although 95.13% of the first transactions were incoming,  \n",
    "this does not necessarily mean that funding the wallet was the sole reason for its creation.  \n",
    "This result may indicate various user motivations,  \n",
    "such as receiving rewards, preparing for future transactions, or personalizing their finances.***  \n",
    "\n",
    "  \n"
   ]
  },
  {
   "cell_type": "markdown",
   "metadata": {},
   "source": [
    "**4. Categorising and Analisis transactions by their type**"
   ]
  },
  {
   "cell_type": "code",
   "execution_count": 116,
   "metadata": {
    "execution": {
     "iopub.execute_input": "2024-12-30T15:39:27.324823Z",
     "iopub.status.busy": "2024-12-30T15:39:27.324450Z",
     "iopub.status.idle": "2024-12-30T15:39:27.331944Z",
     "shell.execute_reply": "2024-12-30T15:39:27.330873Z",
     "shell.execute_reply.started": "2024-12-30T15:39:27.324796Z"
    }
   },
   "outputs": [],
   "source": [
    "function_categories = {\n",
    "    'transfer': 'Token Transfer',\n",
    "    'approve': 'Token Approval',\n",
    "    'mint': 'Token Minting',\n",
    "    'burn': 'Token Burning',\n",
    "    'swap': 'Token Swap',\n",
    "    'execute': 'Contract Execution',\n",
    "    'bridge': 'Cross-Chain Bridge',\n",
    "    'init': 'Initialization'\n",
    "}\n",
    "\n",
    "\n",
    "def categorize_transaction(function_name):\n",
    "    if not isinstance(function_name, str):\n",
    "        return 'Unknown'\n",
    "    for keyword, category in function_categories.items():\n",
    "        if keyword in function_name:\n",
    "            return category\n",
    "    return 'Unknown'\n",
    "\n",
    "def categorize_row(row):\n",
    "    if (row['input'] == '0x' or row['input'] == '0') and row['methodId'] == '0x':\n",
    "        return 'ETH transfer'\n",
    "    elif (row['input'] != '0x' and row['methodId'] != '0x'):\n",
    "        return categorize_transaction(row['functionName'])\n",
    "    else:\n",
    "        return 'Unknown'"
   ]
  },
  {
   "cell_type": "code",
   "execution_count": 117,
   "metadata": {
    "execution": {
     "iopub.execute_input": "2024-12-30T15:39:28.676544Z",
     "iopub.status.busy": "2024-12-30T15:39:28.675966Z",
     "iopub.status.idle": "2024-12-30T15:39:29.200569Z",
     "shell.execute_reply": "2024-12-30T15:39:29.199395Z",
     "shell.execute_reply.started": "2024-12-30T15:39:28.676505Z"
    }
   },
   "outputs": [],
   "source": [
    "df_api['transaction_type'] = df_api.apply(categorize_row, axis=1)"
   ]
  },
  {
   "cell_type": "code",
   "execution_count": 118,
   "metadata": {
    "execution": {
     "iopub.execute_input": "2024-12-30T15:39:29.866003Z",
     "iopub.status.busy": "2024-12-30T15:39:29.865504Z",
     "iopub.status.idle": "2024-12-30T15:39:30.165662Z",
     "shell.execute_reply": "2024-12-30T15:39:30.164671Z",
     "shell.execute_reply.started": "2024-12-30T15:39:29.865975Z"
    }
   },
   "outputs": [
    {
     "data": {
      "image/png": "[encoded data removed]",
      "text/plain": [
       "<Figure size 200x300 with 1 Axes>"
      ]
     },
     "metadata": {},
     "output_type": "display_data"
    }
   ],
   "source": [
    "import seaborn as sns\n",
    "\n",
    "transaction_type_counts = df_api['transaction_type'].value_counts(normalize=True) * 100\n",
    "transaction_type_counts = transaction_type_counts.sort_values(ascending=False)\n",
    "\n",
    "transaction_df = pd.DataFrame(transaction_type_counts).reset_index()\n",
    "transaction_df.columns = ['Transaction Type', 'Percentage']\n",
    "\n",
    "plt.figure(figsize=(2, 3))\n",
    "sns.heatmap(transaction_df.set_index('Transaction Type'), annot=True, fmt='.2f', cmap='cividis', cbar=False)\n",
    "plt.title('Transaction Types Distribution (%)')\n",
    "plt.xlabel(' ')\n",
    "plt.ylabel(' ');"
   ]
  },
  {
   "cell_type": "markdown",
   "metadata": {},
   "source": [
    "***Unknown transactions require additional analysis.  \n",
    "It is likely that function_categories needs to be expanded to better understand the underlying activities.  \n",
    "These transactions may include activities not yet categorized or involve complex smart contract interactions.  \n",
    "Expanding the function_categories could help reduce the 'Unknown' share and provide deeper insights.***"
   ]
  },
  {
   "cell_type": "markdown",
   "metadata": {},
   "source": [
    "**5. Monthly Distribution of New Wallets**"
   ]
  },
  {
   "cell_type": "code",
   "execution_count": 48,
   "metadata": {
    "execution": {
     "iopub.execute_input": "2024-12-28T21:56:45.422685Z",
     "iopub.status.busy": "2024-12-28T21:56:45.422193Z",
     "iopub.status.idle": "2024-12-28T21:56:45.437617Z",
     "shell.execute_reply": "2024-12-28T21:56:45.436985Z",
     "shell.execute_reply.started": "2024-12-28T21:56:45.422646Z"
    },
    "id": "GO21vGomZNGs"
   },
   "outputs": [],
   "source": [
    "transactions_per_month = df_api.groupby(df_api.timeStamp.dt.month)['from'].count().reset_index()\n",
    "transactions_per_month = transactions_per_month.sort_values(by='timeStamp')"
   ]
  },
  {
   "cell_type": "code",
   "execution_count": 49,
   "metadata": {
    "execution": {
     "iopub.execute_input": "2024-12-28T21:56:47.082730Z",
     "iopub.status.busy": "2024-12-28T21:56:47.082311Z",
     "iopub.status.idle": "2024-12-28T21:56:47.089165Z",
     "shell.execute_reply": "2024-12-28T21:56:47.087807Z",
     "shell.execute_reply.started": "2024-12-28T21:56:47.082702Z"
    },
    "id": "SCVHcBXvm0aD"
   },
   "outputs": [],
   "source": [
    "transactions_per_month['timeStamp'] = transactions_per_month['timeStamp'].apply(lambda x: calendar.month_abbr[x])"
   ]
  },
  {
   "cell_type": "code",
   "execution_count": 50,
   "metadata": {
    "colab": {
     "base_uri": "https://localhost:8080/",
     "height": 593
    },
    "execution": {
     "iopub.execute_input": "2024-12-28T21:56:48.715036Z",
     "iopub.status.busy": "2024-12-28T21:56:48.714535Z",
     "iopub.status.idle": "2024-12-28T21:56:48.936223Z",
     "shell.execute_reply": "2024-12-28T21:56:48.935562Z",
     "shell.execute_reply.started": "2024-12-28T21:56:48.714996Z"
    },
    "id": "Iu2Mn9Anp5Yv",
    "outputId": "61a315e3-5fbe-49e9-f0b5-0e47694fc601"
   },
   "outputs": [
    {
     "data": {
      "image/png": "[encoded data removed]",
      "text/plain": [
       "<Figure size 900x300 with 1 Axes>"
      ]
     },
     "metadata": {},
     "output_type": "display_data"
    }
   ],
   "source": [
    "sns.set(style=\"whitegrid\", palette=\"muted\", font_scale=1.2)\n",
    "\n",
    "plt.figure(figsize=(9, 3))\n",
    "sns.lineplot(\n",
    "    data=transactions_per_month,\n",
    "    x='timeStamp',\n",
    "    y='from',\n",
    "    linewidth=2\n",
    ")\n",
    "\n",
    "plt.title('Number of Transactions per Month', fontsize=16, fontweight='bold')\n",
    "plt.xlabel(' ', fontsize=14)\n",
    "plt.ylabel(' ', fontsize=14)\n",
    "\n",
    "plt.tight_layout()\n",
    "plt.show()"
   ]
  },
  {
   "cell_type": "markdown",
   "metadata": {},
   "source": [
    "***There are certain fluctuations observed, but a deeper analysis, such as comparing data over multiple years,  \n",
    "is needed to draw conclusions about seasonality.***"
   ]
  },
  {
   "cell_type": "markdown",
   "metadata": {},
   "source": [
    "**6. Analysis of Transaction Amounts by Category**\n",
    "\n",
    "\n",
    "    - \"Zero\": Transactions with 0 (e.g., = 0.0 ETH)\n",
    "    - \"Micro\": Transactions with very small amounts (e.g., < 0.001 ETH).\n",
    "    - \"Small\": Transactions with small amounts (e.g., 0.001 to 0.1 ETH).\n",
    "    - \"Medium\": Transactions with medium amounts (e.g., 0.1 to 1 ETH).\n",
    "    - \"Large\": Transactions with large amounts (e.g., 1 to 10 ETH).\n",
    "    - \"Whale\": Transactions with very large amounts (e.g., > 10 ETH)."
   ]
  },
  {
   "cell_type": "code",
   "execution_count": 51,
   "metadata": {
    "execution": {
     "iopub.execute_input": "2024-12-28T21:56:56.456906Z",
     "iopub.status.busy": "2024-12-28T21:56:56.455655Z",
     "iopub.status.idle": "2024-12-28T21:56:56.472907Z",
     "shell.execute_reply": "2024-12-28T21:56:56.471871Z",
     "shell.execute_reply.started": "2024-12-28T21:56:56.456864Z"
    }
   },
   "outputs": [],
   "source": [
    "df_api['value'] = df_api['value'].apply(float)\n",
    "df_api['eth_value'] = df_api['value'] / 1e18"
   ]
  },
  {
   "cell_type": "code",
   "execution_count": 52,
   "metadata": {
    "colab": {
     "base_uri": "https://localhost:8080/"
    },
    "execution": {
     "iopub.execute_input": "2024-12-28T21:56:58.830922Z",
     "iopub.status.busy": "2024-12-28T21:56:58.830442Z",
     "iopub.status.idle": "2024-12-28T21:56:58.847393Z",
     "shell.execute_reply": "2024-12-28T21:56:58.846495Z",
     "shell.execute_reply.started": "2024-12-28T21:56:58.830887Z"
    },
    "id": "BfOff90-ya72",
    "outputId": "9785c07f-dd4b-425e-8520-1ed667aa32c9"
   },
   "outputs": [
    {
     "name": "stdout",
     "output_type": "stream",
     "text": [
      "value_category\n",
      "Medium        41.520\n",
      "Small         25.895\n",
      "Large         19.965\n",
      "Whale          5.525\n",
      "Micro          3.930\n",
      "Zero           2.090\n",
      "Mega Whale     1.075\n",
      "Name: proportion, dtype: float64\n"
     ]
    }
   ],
   "source": [
    "df_api['value_category'] = 'Zero'\n",
    "\n",
    "bins = [0, 0.001, 0.01, 0.1, 1, 10, float('inf')]\n",
    "labels = ['Micro', 'Small', 'Medium', 'Large', 'Whale', 'Mega Whale']\n",
    "\n",
    "df_api.loc[df_api['eth_value'] > 0, 'value_category'] = pd.cut(\n",
    "    df_api['eth_value'], bins=bins, labels=labels\n",
    ")\n",
    "\n",
    "print(df_api['value_category'].value_counts(normalize=True) * 100)"
   ]
  },
  {
   "cell_type": "code",
   "execution_count": 53,
   "metadata": {
    "execution": {
     "iopub.execute_input": "2024-12-28T21:57:38.248250Z",
     "iopub.status.busy": "2024-12-28T21:57:38.247777Z",
     "iopub.status.idle": "2024-12-28T21:57:38.534916Z",
     "shell.execute_reply": "2024-12-28T21:57:38.534262Z",
     "shell.execute_reply.started": "2024-12-28T21:57:38.248214Z"
    }
   },
   "outputs": [
    {
     "data": {
      "image/png": "[encoded data removed]",
      "text/plain": [
       "<Figure size 640x480 with 1 Axes>"
      ]
     },
     "metadata": {},
     "output_type": "display_data"
    }
   ],
   "source": [
    "df_api['value_category'].value_counts().plot(kind='barh', color='skyblue', edgecolor='black')\n",
    "plt.title('Transaction Value Categories')\n",
    "plt.xlabel('Count')\n",
    "plt.ylabel('Value Category')\n",
    "plt.show()\n"
   ]
  },
  {
   "cell_type": "markdown",
   "metadata": {},
   "source": [
    "The data shows the following conclusions:\n",
    "\n",
    "- **Medium-sized transactions (41.52%) make up the largest share, indicating their dominant popularity.**\n",
    "- **Small transactions (25.895%) are also common, suggesting high activity among smaller users or microtransactions.**\n",
    "- **Large and Whale transactions together account for 25.49%, highlighting significant economic activity from bigger players.**\n",
    "- **Micro and Zero transactions represent a smaller portion (around 6%), likely reflecting technical or specialized purposes.**\n",
    "- **Mega Whale transactions (1.075%) are the rarest, showing their exclusive nature.**\n",
    "\n",
    "Overall, the distribution of transactions demonstrates a balance between regular users and large players, reflecting a diverse ecosystem.\n"
   ]
  },
  {
   "cell_type": "markdown",
   "metadata": {},
   "source": [
    "**7. Analysis of the Difference Between Estimated and Used Gas.**"
   ]
  },
  {
   "cell_type": "code",
   "execution_count": 119,
   "metadata": {
    "execution": {
     "iopub.execute_input": "2024-12-30T15:40:51.483239Z",
     "iopub.status.busy": "2024-12-30T15:40:51.481024Z",
     "iopub.status.idle": "2024-12-30T15:40:51.493984Z",
     "shell.execute_reply": "2024-12-30T15:40:51.492726Z",
     "shell.execute_reply.started": "2024-12-30T15:40:51.483195Z"
    }
   },
   "outputs": [],
   "source": [
    "df_api['gas_difference'] = df_api['gas'] - df_api['gasUsed']"
   ]
  },
  {
   "cell_type": "code",
   "execution_count": 120,
   "metadata": {
    "execution": {
     "iopub.execute_input": "2024-12-30T15:40:52.212652Z",
     "iopub.status.busy": "2024-12-30T15:40:52.212011Z",
     "iopub.status.idle": "2024-12-30T15:40:52.237893Z",
     "shell.execute_reply": "2024-12-30T15:40:52.234964Z",
     "shell.execute_reply.started": "2024-12-30T15:40:52.212604Z"
    }
   },
   "outputs": [
    {
     "data": {
      "text/plain": [
       "0       65792\n",
       "1    -3333969\n",
       "2      189000\n",
       "3           0\n",
       "4       29000\n",
       "5      189000\n",
       "6           0\n",
       "7           0\n",
       "8      186128\n",
       "9      186128\n",
       "10   -3989303\n",
       "11          0\n",
       "12          0\n",
       "13   -3201373\n",
       "14          0\n",
       "15          0\n",
       "16     189000\n",
       "17          0\n",
       "18     479000\n",
       "19   -4083601\n",
       "Name: gas_difference, dtype: int64"
      ]
     },
     "execution_count": 120,
     "metadata": {},
     "output_type": "execute_result"
    }
   ],
   "source": [
    "df_api.gas_difference.head(20)"
   ]
  },
  {
   "cell_type": "markdown",
   "metadata": {},
   "source": [
    "*How many transactions in fact used more gas than estimated gas amount:*"
   ]
  },
  {
   "cell_type": "code",
   "execution_count": 121,
   "metadata": {
    "execution": {
     "iopub.execute_input": "2024-12-30T15:40:58.018032Z",
     "iopub.status.busy": "2024-12-30T15:40:58.017644Z",
     "iopub.status.idle": "2024-12-30T15:40:58.054235Z",
     "shell.execute_reply": "2024-12-30T15:40:58.052865Z",
     "shell.execute_reply.started": "2024-12-30T15:40:58.018003Z"
    }
   },
   "outputs": [
    {
     "data": {
      "text/plain": [
       "5369"
      ]
     },
     "execution_count": 121,
     "metadata": {},
     "output_type": "execute_result"
    }
   ],
   "source": [
    "negative_gas_df = negative_gas_df = df_api[df_api['gas_difference'] < 0]\n",
    "negative_gas_df.shape[0]"
   ]
  },
  {
   "cell_type": "markdown",
   "metadata": {},
   "source": [
    "Is there something in common, like hash or transaction type:"
   ]
  },
  {
   "cell_type": "markdown",
   "metadata": {},
   "source": [
    "**7.1** Is hash unique?"
   ]
  },
  {
   "cell_type": "code",
   "execution_count": 132,
   "metadata": {
    "execution": {
     "iopub.execute_input": "2024-12-30T15:52:26.218437Z",
     "iopub.status.busy": "2024-12-30T15:52:26.215389Z",
     "iopub.status.idle": "2024-12-30T15:52:26.242810Z",
     "shell.execute_reply": "2024-12-30T15:52:26.240589Z",
     "shell.execute_reply.started": "2024-12-30T15:52:26.218379Z"
    }
   },
   "outputs": [
    {
     "data": {
      "text/plain": [
       "5369"
      ]
     },
     "execution_count": 132,
     "metadata": {},
     "output_type": "execute_result"
    }
   ],
   "source": [
    "len(negative_gas_df['hash'].unique())"
   ]
  },
  {
   "cell_type": "markdown",
   "metadata": {},
   "source": [
    "*The hash are unique, so there are no relatedness with them*"
   ]
  },
  {
   "cell_type": "markdown",
   "metadata": {},
   "source": [
    "**7.2** Is transaction type unique?"
   ]
  },
  {
   "cell_type": "code",
   "execution_count": 133,
   "metadata": {
    "execution": {
     "iopub.execute_input": "2024-12-30T15:53:10.706278Z",
     "iopub.status.busy": "2024-12-30T15:53:10.705799Z",
     "iopub.status.idle": "2024-12-30T15:53:10.724251Z",
     "shell.execute_reply": "2024-12-30T15:53:10.723410Z",
     "shell.execute_reply.started": "2024-12-30T15:53:10.706242Z"
    }
   },
   "outputs": [
    {
     "data": {
      "text/plain": [
       "transaction_type\n",
       "Unknown    5369\n",
       "Name: count, dtype: int64"
      ]
     },
     "execution_count": 133,
     "metadata": {},
     "output_type": "execute_result"
    }
   ],
   "source": [
    "negative_gas_df['transaction_type'].value_counts()"
   ]
  },
  {
   "cell_type": "markdown",
   "metadata": {},
   "source": [
    "*All transactions are Unknown. It means categorize_row function conditions don't work for them.*"
   ]
  },
  {
   "cell_type": "markdown",
   "metadata": {},
   "source": [
    "**7.3** What is the methodId for transactions? Were they ETH transfers or smart-contracts?"
   ]
  },
  {
   "cell_type": "code",
   "execution_count": 131,
   "metadata": {
    "execution": {
     "iopub.execute_input": "2024-12-30T15:45:16.473962Z",
     "iopub.status.busy": "2024-12-30T15:45:16.473450Z",
     "iopub.status.idle": "2024-12-30T15:45:16.485686Z",
     "shell.execute_reply": "2024-12-30T15:45:16.484547Z",
     "shell.execute_reply.started": "2024-12-30T15:45:16.473932Z"
    }
   },
   "outputs": [
    {
     "data": {
      "text/plain": [
       "methodId\n",
       "1    5366\n",
       "0       3\n",
       "Name: count, dtype: int64"
      ]
     },
     "execution_count": 131,
     "metadata": {},
     "output_type": "execute_result"
    }
   ],
   "source": [
    "negative_gas_df['methodId'].value_counts()"
   ]
  },
  {
   "cell_type": "code",
   "execution_count": 135,
   "metadata": {
    "execution": {
     "iopub.execute_input": "2024-12-30T16:37:10.781905Z",
     "iopub.status.busy": "2024-12-30T16:37:10.775486Z",
     "iopub.status.idle": "2024-12-30T16:37:10.849744Z",
     "shell.execute_reply": "2024-12-30T16:37:10.847056Z",
     "shell.execute_reply.started": "2024-12-30T16:37:10.781783Z"
    }
   },
   "outputs": [
    {
     "data": {
      "text/plain": [
       "201"
      ]
     },
     "execution_count": 135,
     "metadata": {},
     "output_type": "execute_result"
    }
   ],
   "source": [
    "len(negative_gas_df['functionName'].unique())"
   ]
  },
  {
   "cell_type": "code",
   "execution_count": 139,
   "metadata": {
    "execution": {
     "iopub.execute_input": "2024-12-30T16:38:50.622393Z",
     "iopub.status.busy": "2024-12-30T16:38:50.621803Z",
     "iopub.status.idle": "2024-12-30T16:38:50.636128Z",
     "shell.execute_reply": "2024-12-30T16:38:50.635307Z",
     "shell.execute_reply.started": "2024-12-30T16:38:50.622352Z"
    },
    "scrolled": true
   },
   "outputs": [
    {
     "data": {
      "text/plain": [
       "5145"
      ]
     },
     "execution_count": 139,
     "metadata": {},
     "output_type": "execute_result"
    }
   ],
   "source": [
    "negative_gas_df[negative_gas_df['functionName'] == '0x'].shape[0]"
   ]
  },
  {
   "cell_type": "markdown",
   "metadata": {},
   "source": [
    "*For 99,9% transactions methodId is 1 and 95,88% of functionName is 0x - what means ETH transfers,*  \n",
    "*and 4,12% of functionName is NOT 0x - what means smart-contracts*"
   ]
  },
  {
   "cell_type": "markdown",
   "metadata": {},
   "source": [
    "**7.4** Is there any anomalias in gas columns?"
   ]
  },
  {
   "cell_type": "code",
   "execution_count": 124,
   "metadata": {
    "execution": {
     "iopub.execute_input": "2024-12-30T15:41:38.940827Z",
     "iopub.status.busy": "2024-12-30T15:41:38.940285Z",
     "iopub.status.idle": "2024-12-30T15:41:38.960871Z",
     "shell.execute_reply": "2024-12-30T15:41:38.960170Z",
     "shell.execute_reply.started": "2024-12-30T15:41:38.940750Z"
    },
    "scrolled": true
   },
   "outputs": [
    {
     "data": {
      "text/html": [
       "<div>\n",
       "<style scoped>\n",
       "    .dataframe tbody tr th:only-of-type {\n",
       "        vertical-align: middle;\n",
       "    }\n",
       "\n",
       "    .dataframe tbody tr th {\n",
       "        vertical-align: top;\n",
       "    }\n",
       "\n",
       "    .dataframe thead th {\n",
       "        text-align: right;\n",
       "    }\n",
       "</style>\n",
       "<table border=\"1\" class=\"dataframe\">\n",
       "  <thead>\n",
       "    <tr style=\"text-align: right;\">\n",
       "      <th></th>\n",
       "      <th>gas</th>\n",
       "      <th>gasPrice</th>\n",
       "      <th>gasUsed</th>\n",
       "    </tr>\n",
       "  </thead>\n",
       "  <tbody>\n",
       "    <tr>\n",
       "      <th>count</th>\n",
       "      <td>5.369000e+03</td>\n",
       "      <td>5.369000e+03</td>\n",
       "      <td>5.369000e+03</td>\n",
       "    </tr>\n",
       "    <tr>\n",
       "      <th>mean</th>\n",
       "      <td>7.639242e+04</td>\n",
       "      <td>3.255315e+10</td>\n",
       "      <td>4.142835e+06</td>\n",
       "    </tr>\n",
       "    <tr>\n",
       "      <th>std</th>\n",
       "      <td>1.088677e+05</td>\n",
       "      <td>3.135601e+10</td>\n",
       "      <td>1.533797e+06</td>\n",
       "    </tr>\n",
       "    <tr>\n",
       "      <th>min</th>\n",
       "      <td>2.100000e+04</td>\n",
       "      <td>0.000000e+00</td>\n",
       "      <td>2.567558e+06</td>\n",
       "    </tr>\n",
       "    <tr>\n",
       "      <th>25%</th>\n",
       "      <td>2.100000e+04</td>\n",
       "      <td>1.698127e+10</td>\n",
       "      <td>3.274194e+06</td>\n",
       "    </tr>\n",
       "    <tr>\n",
       "      <th>50%</th>\n",
       "      <td>2.100000e+04</td>\n",
       "      <td>2.474069e+10</td>\n",
       "      <td>3.967638e+06</td>\n",
       "    </tr>\n",
       "    <tr>\n",
       "      <th>75%</th>\n",
       "      <td>1.000000e+05</td>\n",
       "      <td>3.744887e+10</td>\n",
       "      <td>4.602365e+06</td>\n",
       "    </tr>\n",
       "    <tr>\n",
       "      <th>max</th>\n",
       "      <td>2.500000e+06</td>\n",
       "      <td>8.880000e+11</td>\n",
       "      <td>1.676772e+07</td>\n",
       "    </tr>\n",
       "  </tbody>\n",
       "</table>\n",
       "</div>"
      ],
      "text/plain": [
       "                gas      gasPrice       gasUsed\n",
       "count  5.369000e+03  5.369000e+03  5.369000e+03\n",
       "mean   7.639242e+04  3.255315e+10  4.142835e+06\n",
       "std    1.088677e+05  3.135601e+10  1.533797e+06\n",
       "min    2.100000e+04  0.000000e+00  2.567558e+06\n",
       "25%    2.100000e+04  1.698127e+10  3.274194e+06\n",
       "50%    2.100000e+04  2.474069e+10  3.967638e+06\n",
       "75%    1.000000e+05  3.744887e+10  4.602365e+06\n",
       "max    2.500000e+06  8.880000e+11  1.676772e+07"
      ]
     },
     "execution_count": 124,
     "metadata": {},
     "output_type": "execute_result"
    }
   ],
   "source": [
    "negative_gas_df[['gas', 'gasPrice', 'gasUsed']].describe()"
   ]
  },
  {
   "cell_type": "markdown",
   "metadata": {},
   "source": [
    "***This section analyzed the difference between estimated and actual gas usage.  \n",
    "It was found that 5,369 transactions used more gas than estimated, with most of them classified as Unknown.  \n",
    "Additionally, 99.9% of these transactions are ETH transfers, while 4.12% involve smart contracts.  \n",
    "The gas analysis revealed significant standard deviation, indicating potential anomalies.  \n",
    "To gain deeper insights, further aspects will be explored in the next sections,  \n",
    "such as gas distribution across different transaction types and time-based dynamics.***"
   ]
  },
  {
   "cell_type": "markdown",
   "metadata": {},
   "source": [
    "**8. Distribution across Different Transaction Types**"
   ]
  },
  {
   "cell_type": "markdown",
   "metadata": {},
   "source": [
    "**8.1** Gas Used Distribution for All Transactions"
   ]
  },
  {
   "cell_type": "code",
   "execution_count": 142,
   "metadata": {
    "execution": {
     "iopub.execute_input": "2024-12-30T17:33:26.229906Z",
     "iopub.status.busy": "2024-12-30T17:33:26.226190Z",
     "iopub.status.idle": "2024-12-30T17:33:26.777935Z",
     "shell.execute_reply": "2024-12-30T17:33:26.777151Z",
     "shell.execute_reply.started": "2024-12-30T17:33:26.229782Z"
    }
   },
   "outputs": [
    {
     "data": {
      "image/png": "[encoded data removed]",
      "text/plain": [
       "<Figure size 1200x600 with 1 Axes>"
      ]
     },
     "metadata": {},
     "output_type": "display_data"
    }
   ],
   "source": [
    "plt.figure(figsize=(12, 6))\n",
    "sns.histplot(df_api['gasUsed'], bins=50, kde=True, color='green', label='Gas Used')\n",
    "plt.xlabel('Gas Used')\n",
    "plt.ylabel('Frequency')\n",
    "plt.title('Gas Used Distribution for All Transactions')\n",
    "plt.legend()\n",
    "plt.show()"
   ]
  },
  {
   "cell_type": "markdown",
   "metadata": {},
   "source": [
    "***- Most transactions consume very little gas (close to 0), which is expected for simple ETH transfers.*** \n",
    "\n",
    "***- There is a long tail indicating fewer transactions with significantly higher gas consumption, likely related to complex smart contracts.***"
   ]
  },
  {
   "cell_type": "markdown",
   "metadata": {},
   "source": [
    "**8.2** Gas Used Distribution for Transactions with Negative Gas Difference"
   ]
  },
  {
   "cell_type": "code",
   "execution_count": 143,
   "metadata": {
    "execution": {
     "iopub.execute_input": "2024-12-30T17:33:37.156815Z",
     "iopub.status.busy": "2024-12-30T17:33:37.156062Z",
     "iopub.status.idle": "2024-12-30T17:33:37.569191Z",
     "shell.execute_reply": "2024-12-30T17:33:37.568536Z",
     "shell.execute_reply.started": "2024-12-30T17:33:37.156767Z"
    }
   },
   "outputs": [
    {
     "data": {
      "image/png": "[encoded data removed]",
      "text/plain": [
       "<Figure size 1200x600 with 1 Axes>"
      ]
     },
     "metadata": {},
     "output_type": "display_data"
    }
   ],
   "source": [
    "plt.figure(figsize=(12, 6))\n",
    "sns.histplot(negative_gas_df['gasUsed'], bins=50, kde=True, color='orange', label='Gas Used (Negative Difference)')\n",
    "plt.xlabel('Gas Used')\n",
    "plt.ylabel('Frequency')\n",
    "plt.title('Gas Used Distribution for Transactions with Negative Difference')\n",
    "plt.legend()\n",
    "plt.show()"
   ]
  },
  {
   "cell_type": "markdown",
   "metadata": {},
   "source": [
    "***- The majority of these transactions consume a medium amount of gas (0.4–0.5 million), suggesting a systematic characteristic or category of these transactions.***  \n",
    "\n",
    "***- There are almost no simple operations with low gas usage, which is unusual for ETH transfers.***  \n",
    "\n",
    "***- The long tail shows some complex transactions, but they are less common compared to the overall dataset.***\n",
    "\n",
    "\n",
    "\n",
    "*Despite 95% of anomalous transactions being labeled as 0x (ETH transfers), their gas usage is far higher than the standard 21,000 for simple transfers.  \n",
    "This may indicate additional actions, such as proxy contracts, internal transactions, or network anomalies.*"
   ]
  },
  {
   "cell_type": "code",
   "execution_count": null,
   "metadata": {},
   "outputs": [],
   "source": []
  }
 ],
 "metadata": {
  "colab": {
   "provenance": []
  },
  "kernelspec": {
   "display_name": "Python (myenv)",
   "language": "python",
   "name": "myenv"
  },
  "language_info": {
   "codemirror_mode": {
    "name": "ipython",
    "version": 3
   },
   "file_extension": ".py",
   "mimetype": "text/x-python",
   "name": "python",
   "nbconvert_exporter": "python",
   "pygments_lexer": "ipython3",
   "version": "3.11.1"
  }
 },
 "nbformat": 4,
 "nbformat_minor": 4
}
